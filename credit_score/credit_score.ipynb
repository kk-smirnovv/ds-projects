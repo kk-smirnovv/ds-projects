{
 "cells": [
  {
   "cell_type": "markdown",
   "id": "a14fc08d",
   "metadata": {},
   "source": [
    "# Исследование надежности заемщиков."
   ]
  },
  {
   "cell_type": "markdown",
   "id": "bf2dab4f",
   "metadata": {},
   "source": [
    "**Цель проекта** — проверить две гипотезы:\n",
    "\n",
    "* Семейное положение заемщика влияет на факт погашения погашения кредита\n",
    "* Количество детей у заемщика влияет на факт погашения погашения кредита\n",
    "\n",
    "Сначала проверим данные на ошибки, пропуски и дубликаты. Проведем предобработку, затем проверим гипотезы и ответим на вопросы."
   ]
  },
  {
   "cell_type": "markdown",
   "id": "28aa5395",
   "metadata": {},
   "source": [
    "## Шаг 1. Обзор данных"
   ]
  },
  {
   "cell_type": "code",
   "execution_count": 1,
   "id": "2ecdb529",
   "metadata": {},
   "outputs": [],
   "source": [
    "# импорт необходимых для работы библиотек\n",
    "import pandas as pd\n",
    "import os \n",
    "from nltk.stem import SnowballStemmer\n",
    "stemmer = SnowballStemmer('russian')"
   ]
  },
  {
   "cell_type": "code",
   "execution_count": 2,
   "id": "88cf716c",
   "metadata": {
    "scrolled": false
   },
   "outputs": [
    {
     "data": {
      "text/html": [
       "<div>\n",
       "<style scoped>\n",
       "    .dataframe tbody tr th:only-of-type {\n",
       "        vertical-align: middle;\n",
       "    }\n",
       "\n",
       "    .dataframe tbody tr th {\n",
       "        vertical-align: top;\n",
       "    }\n",
       "\n",
       "    .dataframe thead th {\n",
       "        text-align: right;\n",
       "    }\n",
       "</style>\n",
       "<table border=\"1\" class=\"dataframe\">\n",
       "  <thead>\n",
       "    <tr style=\"text-align: right;\">\n",
       "      <th></th>\n",
       "      <th>children</th>\n",
       "      <th>days_employed</th>\n",
       "      <th>dob_years</th>\n",
       "      <th>education</th>\n",
       "      <th>education_id</th>\n",
       "      <th>family_status</th>\n",
       "      <th>family_status_id</th>\n",
       "      <th>gender</th>\n",
       "      <th>income_type</th>\n",
       "      <th>debt</th>\n",
       "      <th>total_income</th>\n",
       "      <th>purpose</th>\n",
       "    </tr>\n",
       "  </thead>\n",
       "  <tbody>\n",
       "    <tr>\n",
       "      <th>0</th>\n",
       "      <td>1</td>\n",
       "      <td>-8437.673028</td>\n",
       "      <td>42</td>\n",
       "      <td>высшее</td>\n",
       "      <td>0</td>\n",
       "      <td>женат / замужем</td>\n",
       "      <td>0</td>\n",
       "      <td>F</td>\n",
       "      <td>сотрудник</td>\n",
       "      <td>0</td>\n",
       "      <td>253875.639453</td>\n",
       "      <td>покупка жилья</td>\n",
       "    </tr>\n",
       "    <tr>\n",
       "      <th>1</th>\n",
       "      <td>1</td>\n",
       "      <td>-4024.803754</td>\n",
       "      <td>36</td>\n",
       "      <td>среднее</td>\n",
       "      <td>1</td>\n",
       "      <td>женат / замужем</td>\n",
       "      <td>0</td>\n",
       "      <td>F</td>\n",
       "      <td>сотрудник</td>\n",
       "      <td>0</td>\n",
       "      <td>112080.014102</td>\n",
       "      <td>приобретение автомобиля</td>\n",
       "    </tr>\n",
       "    <tr>\n",
       "      <th>2</th>\n",
       "      <td>0</td>\n",
       "      <td>-5623.422610</td>\n",
       "      <td>33</td>\n",
       "      <td>Среднее</td>\n",
       "      <td>1</td>\n",
       "      <td>женат / замужем</td>\n",
       "      <td>0</td>\n",
       "      <td>M</td>\n",
       "      <td>сотрудник</td>\n",
       "      <td>0</td>\n",
       "      <td>145885.952297</td>\n",
       "      <td>покупка жилья</td>\n",
       "    </tr>\n",
       "    <tr>\n",
       "      <th>3</th>\n",
       "      <td>3</td>\n",
       "      <td>-4124.747207</td>\n",
       "      <td>32</td>\n",
       "      <td>среднее</td>\n",
       "      <td>1</td>\n",
       "      <td>женат / замужем</td>\n",
       "      <td>0</td>\n",
       "      <td>M</td>\n",
       "      <td>сотрудник</td>\n",
       "      <td>0</td>\n",
       "      <td>267628.550329</td>\n",
       "      <td>дополнительное образование</td>\n",
       "    </tr>\n",
       "    <tr>\n",
       "      <th>4</th>\n",
       "      <td>0</td>\n",
       "      <td>340266.072047</td>\n",
       "      <td>53</td>\n",
       "      <td>среднее</td>\n",
       "      <td>1</td>\n",
       "      <td>гражданский брак</td>\n",
       "      <td>1</td>\n",
       "      <td>F</td>\n",
       "      <td>пенсионер</td>\n",
       "      <td>0</td>\n",
       "      <td>158616.077870</td>\n",
       "      <td>сыграть свадьбу</td>\n",
       "    </tr>\n",
       "    <tr>\n",
       "      <th>5</th>\n",
       "      <td>0</td>\n",
       "      <td>-926.185831</td>\n",
       "      <td>27</td>\n",
       "      <td>высшее</td>\n",
       "      <td>0</td>\n",
       "      <td>гражданский брак</td>\n",
       "      <td>1</td>\n",
       "      <td>M</td>\n",
       "      <td>компаньон</td>\n",
       "      <td>0</td>\n",
       "      <td>255763.565419</td>\n",
       "      <td>покупка жилья</td>\n",
       "    </tr>\n",
       "    <tr>\n",
       "      <th>6</th>\n",
       "      <td>0</td>\n",
       "      <td>-2879.202052</td>\n",
       "      <td>43</td>\n",
       "      <td>высшее</td>\n",
       "      <td>0</td>\n",
       "      <td>женат / замужем</td>\n",
       "      <td>0</td>\n",
       "      <td>F</td>\n",
       "      <td>компаньон</td>\n",
       "      <td>0</td>\n",
       "      <td>240525.971920</td>\n",
       "      <td>операции с жильем</td>\n",
       "    </tr>\n",
       "    <tr>\n",
       "      <th>7</th>\n",
       "      <td>0</td>\n",
       "      <td>-152.779569</td>\n",
       "      <td>50</td>\n",
       "      <td>СРЕДНЕЕ</td>\n",
       "      <td>1</td>\n",
       "      <td>женат / замужем</td>\n",
       "      <td>0</td>\n",
       "      <td>M</td>\n",
       "      <td>сотрудник</td>\n",
       "      <td>0</td>\n",
       "      <td>135823.934197</td>\n",
       "      <td>образование</td>\n",
       "    </tr>\n",
       "    <tr>\n",
       "      <th>8</th>\n",
       "      <td>2</td>\n",
       "      <td>-6929.865299</td>\n",
       "      <td>35</td>\n",
       "      <td>ВЫСШЕЕ</td>\n",
       "      <td>0</td>\n",
       "      <td>гражданский брак</td>\n",
       "      <td>1</td>\n",
       "      <td>F</td>\n",
       "      <td>сотрудник</td>\n",
       "      <td>0</td>\n",
       "      <td>95856.832424</td>\n",
       "      <td>на проведение свадьбы</td>\n",
       "    </tr>\n",
       "    <tr>\n",
       "      <th>9</th>\n",
       "      <td>0</td>\n",
       "      <td>-2188.756445</td>\n",
       "      <td>41</td>\n",
       "      <td>среднее</td>\n",
       "      <td>1</td>\n",
       "      <td>женат / замужем</td>\n",
       "      <td>0</td>\n",
       "      <td>M</td>\n",
       "      <td>сотрудник</td>\n",
       "      <td>0</td>\n",
       "      <td>144425.938277</td>\n",
       "      <td>покупка жилья для семьи</td>\n",
       "    </tr>\n",
       "  </tbody>\n",
       "</table>\n",
       "</div>"
      ],
      "text/plain": [
       "   children  days_employed  dob_years education  education_id  \\\n",
       "0         1   -8437.673028         42    высшее             0   \n",
       "1         1   -4024.803754         36   среднее             1   \n",
       "2         0   -5623.422610         33   Среднее             1   \n",
       "3         3   -4124.747207         32   среднее             1   \n",
       "4         0  340266.072047         53   среднее             1   \n",
       "5         0    -926.185831         27    высшее             0   \n",
       "6         0   -2879.202052         43    высшее             0   \n",
       "7         0    -152.779569         50   СРЕДНЕЕ             1   \n",
       "8         2   -6929.865299         35    ВЫСШЕЕ             0   \n",
       "9         0   -2188.756445         41   среднее             1   \n",
       "\n",
       "      family_status  family_status_id gender income_type  debt   total_income  \\\n",
       "0   женат / замужем                 0      F   сотрудник     0  253875.639453   \n",
       "1   женат / замужем                 0      F   сотрудник     0  112080.014102   \n",
       "2   женат / замужем                 0      M   сотрудник     0  145885.952297   \n",
       "3   женат / замужем                 0      M   сотрудник     0  267628.550329   \n",
       "4  гражданский брак                 1      F   пенсионер     0  158616.077870   \n",
       "5  гражданский брак                 1      M   компаньон     0  255763.565419   \n",
       "6   женат / замужем                 0      F   компаньон     0  240525.971920   \n",
       "7   женат / замужем                 0      M   сотрудник     0  135823.934197   \n",
       "8  гражданский брак                 1      F   сотрудник     0   95856.832424   \n",
       "9   женат / замужем                 0      M   сотрудник     0  144425.938277   \n",
       "\n",
       "                      purpose  \n",
       "0               покупка жилья  \n",
       "1     приобретение автомобиля  \n",
       "2               покупка жилья  \n",
       "3  дополнительное образование  \n",
       "4             сыграть свадьбу  \n",
       "5               покупка жилья  \n",
       "6           операции с жильем  \n",
       "7                 образование  \n",
       "8       на проведение свадьбы  \n",
       "9     покупка жилья для семьи  "
      ]
     },
     "execution_count": 2,
     "metadata": {},
     "output_type": "execute_result"
    }
   ],
   "source": [
    "if os.path.exists('datasets/data.csv'):\n",
    "    df = pd.read_csv('datasets/data.csv')\n",
    "else:\n",
    "    df = pd.read_csv('./datasets/data.csv')\n",
    "# читаем данные\n",
    "df.head(10) # выводим первые 10 строк"
   ]
  },
  {
   "cell_type": "code",
   "execution_count": 3,
   "id": "558130ab",
   "metadata": {
    "scrolled": true
   },
   "outputs": [
    {
     "name": "stdout",
     "output_type": "stream",
     "text": [
      "<class 'pandas.core.frame.DataFrame'>\n",
      "RangeIndex: 21525 entries, 0 to 21524\n",
      "Data columns (total 12 columns):\n",
      " #   Column            Non-Null Count  Dtype  \n",
      "---  ------            --------------  -----  \n",
      " 0   children          21525 non-null  int64  \n",
      " 1   days_employed     19351 non-null  float64\n",
      " 2   dob_years         21525 non-null  int64  \n",
      " 3   education         21525 non-null  object \n",
      " 4   education_id      21525 non-null  int64  \n",
      " 5   family_status     21525 non-null  object \n",
      " 6   family_status_id  21525 non-null  int64  \n",
      " 7   gender            21525 non-null  object \n",
      " 8   income_type       21525 non-null  object \n",
      " 9   debt              21525 non-null  int64  \n",
      " 10  total_income      19351 non-null  float64\n",
      " 11  purpose           21525 non-null  object \n",
      "dtypes: float64(2), int64(5), object(5)\n",
      "memory usage: 2.0+ MB\n"
     ]
    }
   ],
   "source": [
    "df.info() # общая информация по данным"
   ]
  },
  {
   "cell_type": "markdown",
   "id": "2a9e26f2",
   "metadata": {},
   "source": [
    "#### Описание данных\n",
    "* `children` — количество детей в семье\n",
    "* `days_employed` — общий трудовой стаж в днях\n",
    "* `dob_years` — возраст клиента в годах\n",
    "* `education` — уровень образования клиента\n",
    "* `education_id` — идентификатор уровня образования\n",
    "* `family_status` — семейное положение\n",
    "* `family_status_id` — идентификатор семейного положения\n",
    "* `gender` — пол клиента\n",
    "* `income_type` — тип занятости\n",
    "* `debt` — имел ли задолженность по возврату кредитов\n",
    "* `total_income` — ежемесячный доход\n",
    "* `purpose` — цель получения кредита\n",
    "\n",
    "Названия колонок соответствуют стилю."
   ]
  },
  {
   "cell_type": "markdown",
   "id": "d1b2df3b",
   "metadata": {},
   "source": [
    "Видно, что есть явные пропуски в столбцах `days_employed`, `total_income`. Количество пропусков в этих столбцах одинаковое.\n",
    "\n",
    "Также видно, что в столбце `education` записи в разном регистре."
   ]
  },
  {
   "cell_type": "markdown",
   "id": "c9991e44",
   "metadata": {},
   "source": [
    "**Вывод:**\n",
    "\n",
    "Чтобы продолжить исследование, нужно подготовить данные. В них есть проблемы:\n",
    "\n",
    "* В двух столбцах датафрейма есть пропущенные значения. Их нужно как то заполнить или удалить.\n",
    "* Столбцы типа `object` нужно проверить на явные и неявные дубликаты, привести к нормальному виду."
   ]
  },
  {
   "cell_type": "markdown",
   "id": "84b69179",
   "metadata": {},
   "source": [
    "## Шаг 2.1 Заполнение пропусков"
   ]
  },
  {
   "cell_type": "markdown",
   "id": "190061fb",
   "metadata": {},
   "source": [
    "Заполним пропуски в колонке `total_income`."
   ]
  },
  {
   "cell_type": "code",
   "execution_count": 4,
   "id": "ce52b840",
   "metadata": {},
   "outputs": [
    {
     "data": {
      "text/html": [
       "<div>\n",
       "<style scoped>\n",
       "    .dataframe tbody tr th:only-of-type {\n",
       "        vertical-align: middle;\n",
       "    }\n",
       "\n",
       "    .dataframe tbody tr th {\n",
       "        vertical-align: top;\n",
       "    }\n",
       "\n",
       "    .dataframe thead th {\n",
       "        text-align: right;\n",
       "    }\n",
       "</style>\n",
       "<table border=\"1\" class=\"dataframe\">\n",
       "  <thead>\n",
       "    <tr style=\"text-align: right;\">\n",
       "      <th></th>\n",
       "      <th>children</th>\n",
       "      <th>days_employed</th>\n",
       "      <th>dob_years</th>\n",
       "      <th>education</th>\n",
       "      <th>education_id</th>\n",
       "      <th>family_status</th>\n",
       "      <th>family_status_id</th>\n",
       "      <th>gender</th>\n",
       "      <th>income_type</th>\n",
       "      <th>debt</th>\n",
       "      <th>total_income</th>\n",
       "      <th>purpose</th>\n",
       "    </tr>\n",
       "  </thead>\n",
       "  <tbody>\n",
       "    <tr>\n",
       "      <th>12</th>\n",
       "      <td>0</td>\n",
       "      <td>NaN</td>\n",
       "      <td>65</td>\n",
       "      <td>среднее</td>\n",
       "      <td>1</td>\n",
       "      <td>гражданский брак</td>\n",
       "      <td>1</td>\n",
       "      <td>M</td>\n",
       "      <td>пенсионер</td>\n",
       "      <td>0</td>\n",
       "      <td>NaN</td>\n",
       "      <td>сыграть свадьбу</td>\n",
       "    </tr>\n",
       "    <tr>\n",
       "      <th>26</th>\n",
       "      <td>0</td>\n",
       "      <td>NaN</td>\n",
       "      <td>41</td>\n",
       "      <td>среднее</td>\n",
       "      <td>1</td>\n",
       "      <td>женат / замужем</td>\n",
       "      <td>0</td>\n",
       "      <td>M</td>\n",
       "      <td>госслужащий</td>\n",
       "      <td>0</td>\n",
       "      <td>NaN</td>\n",
       "      <td>образование</td>\n",
       "    </tr>\n",
       "    <tr>\n",
       "      <th>29</th>\n",
       "      <td>0</td>\n",
       "      <td>NaN</td>\n",
       "      <td>63</td>\n",
       "      <td>среднее</td>\n",
       "      <td>1</td>\n",
       "      <td>Не женат / не замужем</td>\n",
       "      <td>4</td>\n",
       "      <td>F</td>\n",
       "      <td>пенсионер</td>\n",
       "      <td>0</td>\n",
       "      <td>NaN</td>\n",
       "      <td>строительство жилой недвижимости</td>\n",
       "    </tr>\n",
       "    <tr>\n",
       "      <th>41</th>\n",
       "      <td>0</td>\n",
       "      <td>NaN</td>\n",
       "      <td>50</td>\n",
       "      <td>среднее</td>\n",
       "      <td>1</td>\n",
       "      <td>женат / замужем</td>\n",
       "      <td>0</td>\n",
       "      <td>F</td>\n",
       "      <td>госслужащий</td>\n",
       "      <td>0</td>\n",
       "      <td>NaN</td>\n",
       "      <td>сделка с подержанным автомобилем</td>\n",
       "    </tr>\n",
       "    <tr>\n",
       "      <th>55</th>\n",
       "      <td>0</td>\n",
       "      <td>NaN</td>\n",
       "      <td>54</td>\n",
       "      <td>среднее</td>\n",
       "      <td>1</td>\n",
       "      <td>гражданский брак</td>\n",
       "      <td>1</td>\n",
       "      <td>F</td>\n",
       "      <td>пенсионер</td>\n",
       "      <td>1</td>\n",
       "      <td>NaN</td>\n",
       "      <td>сыграть свадьбу</td>\n",
       "    </tr>\n",
       "    <tr>\n",
       "      <th>...</th>\n",
       "      <td>...</td>\n",
       "      <td>...</td>\n",
       "      <td>...</td>\n",
       "      <td>...</td>\n",
       "      <td>...</td>\n",
       "      <td>...</td>\n",
       "      <td>...</td>\n",
       "      <td>...</td>\n",
       "      <td>...</td>\n",
       "      <td>...</td>\n",
       "      <td>...</td>\n",
       "      <td>...</td>\n",
       "    </tr>\n",
       "    <tr>\n",
       "      <th>21489</th>\n",
       "      <td>2</td>\n",
       "      <td>NaN</td>\n",
       "      <td>47</td>\n",
       "      <td>Среднее</td>\n",
       "      <td>1</td>\n",
       "      <td>женат / замужем</td>\n",
       "      <td>0</td>\n",
       "      <td>M</td>\n",
       "      <td>компаньон</td>\n",
       "      <td>0</td>\n",
       "      <td>NaN</td>\n",
       "      <td>сделка с автомобилем</td>\n",
       "    </tr>\n",
       "    <tr>\n",
       "      <th>21495</th>\n",
       "      <td>1</td>\n",
       "      <td>NaN</td>\n",
       "      <td>50</td>\n",
       "      <td>среднее</td>\n",
       "      <td>1</td>\n",
       "      <td>гражданский брак</td>\n",
       "      <td>1</td>\n",
       "      <td>F</td>\n",
       "      <td>сотрудник</td>\n",
       "      <td>0</td>\n",
       "      <td>NaN</td>\n",
       "      <td>свадьба</td>\n",
       "    </tr>\n",
       "    <tr>\n",
       "      <th>21497</th>\n",
       "      <td>0</td>\n",
       "      <td>NaN</td>\n",
       "      <td>48</td>\n",
       "      <td>ВЫСШЕЕ</td>\n",
       "      <td>0</td>\n",
       "      <td>женат / замужем</td>\n",
       "      <td>0</td>\n",
       "      <td>F</td>\n",
       "      <td>компаньон</td>\n",
       "      <td>0</td>\n",
       "      <td>NaN</td>\n",
       "      <td>строительство недвижимости</td>\n",
       "    </tr>\n",
       "    <tr>\n",
       "      <th>21502</th>\n",
       "      <td>1</td>\n",
       "      <td>NaN</td>\n",
       "      <td>42</td>\n",
       "      <td>среднее</td>\n",
       "      <td>1</td>\n",
       "      <td>женат / замужем</td>\n",
       "      <td>0</td>\n",
       "      <td>F</td>\n",
       "      <td>сотрудник</td>\n",
       "      <td>0</td>\n",
       "      <td>NaN</td>\n",
       "      <td>строительство жилой недвижимости</td>\n",
       "    </tr>\n",
       "    <tr>\n",
       "      <th>21510</th>\n",
       "      <td>2</td>\n",
       "      <td>NaN</td>\n",
       "      <td>28</td>\n",
       "      <td>среднее</td>\n",
       "      <td>1</td>\n",
       "      <td>женат / замужем</td>\n",
       "      <td>0</td>\n",
       "      <td>F</td>\n",
       "      <td>сотрудник</td>\n",
       "      <td>0</td>\n",
       "      <td>NaN</td>\n",
       "      <td>приобретение автомобиля</td>\n",
       "    </tr>\n",
       "  </tbody>\n",
       "</table>\n",
       "<p>2174 rows × 12 columns</p>\n",
       "</div>"
      ],
      "text/plain": [
       "       children  days_employed  dob_years education  education_id  \\\n",
       "12            0            NaN         65   среднее             1   \n",
       "26            0            NaN         41   среднее             1   \n",
       "29            0            NaN         63   среднее             1   \n",
       "41            0            NaN         50   среднее             1   \n",
       "55            0            NaN         54   среднее             1   \n",
       "...         ...            ...        ...       ...           ...   \n",
       "21489         2            NaN         47   Среднее             1   \n",
       "21495         1            NaN         50   среднее             1   \n",
       "21497         0            NaN         48    ВЫСШЕЕ             0   \n",
       "21502         1            NaN         42   среднее             1   \n",
       "21510         2            NaN         28   среднее             1   \n",
       "\n",
       "               family_status  family_status_id gender  income_type  debt  \\\n",
       "12          гражданский брак                 1      M    пенсионер     0   \n",
       "26           женат / замужем                 0      M  госслужащий     0   \n",
       "29     Не женат / не замужем                 4      F    пенсионер     0   \n",
       "41           женат / замужем                 0      F  госслужащий     0   \n",
       "55          гражданский брак                 1      F    пенсионер     1   \n",
       "...                      ...               ...    ...          ...   ...   \n",
       "21489        женат / замужем                 0      M    компаньон     0   \n",
       "21495       гражданский брак                 1      F    сотрудник     0   \n",
       "21497        женат / замужем                 0      F    компаньон     0   \n",
       "21502        женат / замужем                 0      F    сотрудник     0   \n",
       "21510        женат / замужем                 0      F    сотрудник     0   \n",
       "\n",
       "       total_income                           purpose  \n",
       "12              NaN                   сыграть свадьбу  \n",
       "26              NaN                       образование  \n",
       "29              NaN  строительство жилой недвижимости  \n",
       "41              NaN  сделка с подержанным автомобилем  \n",
       "55              NaN                   сыграть свадьбу  \n",
       "...             ...                               ...  \n",
       "21489           NaN              сделка с автомобилем  \n",
       "21495           NaN                           свадьба  \n",
       "21497           NaN        строительство недвижимости  \n",
       "21502           NaN  строительство жилой недвижимости  \n",
       "21510           NaN           приобретение автомобиля  \n",
       "\n",
       "[2174 rows x 12 columns]"
      ]
     },
     "execution_count": 4,
     "metadata": {},
     "output_type": "execute_result"
    }
   ],
   "source": [
    "df[df['total_income'].isna()]"
   ]
  },
  {
   "cell_type": "markdown",
   "id": "ad03de76",
   "metadata": {},
   "source": [
    "Видим, что во всех видимых строчках, где `total_income` равен `NaN`, `days_employed` тоже равен `NaN`. Проверим, везде ли так."
   ]
  },
  {
   "cell_type": "code",
   "execution_count": 5,
   "id": "a06b7ee3",
   "metadata": {},
   "outputs": [
    {
     "data": {
      "text/plain": [
       "Series([], Name: days_employed, dtype: int64)"
      ]
     },
     "execution_count": 5,
     "metadata": {},
     "output_type": "execute_result"
    }
   ],
   "source": [
    "# Смотрим на уникальные значения столбца days_emploed, где total_income равен NaN\n",
    "df[df['total_income'].isna()]['days_employed'].value_counts()"
   ]
  },
  {
   "cell_type": "markdown",
   "id": "b14b893a",
   "metadata": {},
   "source": [
    "Действительно, это так. У людей, с пропущенным суммарным доходом отсутствуют значения отработанных дней."
   ]
  },
  {
   "cell_type": "markdown",
   "id": "7c6fdb9c",
   "metadata": {},
   "source": [
    "Теперь проверим долю пропущенных значений в колонке `total_income` от всех значений."
   ]
  },
  {
   "cell_type": "code",
   "execution_count": 6,
   "id": "7ef0a70a",
   "metadata": {},
   "outputs": [
    {
     "data": {
      "text/plain": [
       "0.10099883855981417"
      ]
     },
     "execution_count": 6,
     "metadata": {},
     "output_type": "execute_result"
    }
   ],
   "source": [
    "# количество пропущенных значений делим на общее количество значений\n",
    "df[df['total_income'].isna()].shape[0] / df['total_income'].shape[0]"
   ]
  },
  {
   "cell_type": "markdown",
   "id": "8306a2a2",
   "metadata": {},
   "source": [
    "Примерно 10% данных в `total_income` - пропуски"
   ]
  },
  {
   "cell_type": "markdown",
   "id": "b7303a03",
   "metadata": {},
   "source": [
    "Возможные причины пропуска могут быть связаны с тем, что человек не имел задекларированного дохода, работал неофициально. Причина пропуска не напоминает технический характер. Пропуск в этом столбце можно охарактеризовать как **случайный**."
   ]
  },
  {
   "cell_type": "markdown",
   "id": "4b65ce1c",
   "metadata": {},
   "source": [
    "**Заполним пропуски в `total_income` медианой, пропуски в `days_employed` нулями.**\n",
    "\n",
    "Заполнять будем именно медианным значением, так как оно описывает данные более объективно и меньше подвержено выбросам, чем среднее значение."
   ]
  },
  {
   "cell_type": "code",
   "execution_count": 7,
   "id": "a6b7dd11",
   "metadata": {},
   "outputs": [
    {
     "data": {
      "text/plain": [
       "145017.93753253992"
      ]
     },
     "execution_count": 7,
     "metadata": {},
     "output_type": "execute_result"
    }
   ],
   "source": [
    "df['total_income'].median() # медиана"
   ]
  },
  {
   "cell_type": "code",
   "execution_count": 8,
   "id": "f67b2e51",
   "metadata": {},
   "outputs": [],
   "source": [
    "# заменяем медианой пропущенные значения 'total_income'\n",
    "df['total_income'] = df['total_income'].fillna(df['total_income'].median())"
   ]
  },
  {
   "cell_type": "code",
   "execution_count": 9,
   "id": "98577746",
   "metadata": {},
   "outputs": [],
   "source": [
    "# заменяем 0 пропущенные значения 'days_employed'\n",
    "df['days_employed'] = df['days_employed'].fillna(df['days_employed'].median())"
   ]
  },
  {
   "cell_type": "markdown",
   "id": "b3f54317",
   "metadata": {},
   "source": [
    "Проверим, остались ли пропуски:"
   ]
  },
  {
   "cell_type": "code",
   "execution_count": 10,
   "id": "4953e233",
   "metadata": {},
   "outputs": [
    {
     "name": "stdout",
     "output_type": "stream",
     "text": [
      "<class 'pandas.core.frame.DataFrame'>\n",
      "RangeIndex: 21525 entries, 0 to 21524\n",
      "Data columns (total 12 columns):\n",
      " #   Column            Non-Null Count  Dtype  \n",
      "---  ------            --------------  -----  \n",
      " 0   children          21525 non-null  int64  \n",
      " 1   days_employed     21525 non-null  float64\n",
      " 2   dob_years         21525 non-null  int64  \n",
      " 3   education         21525 non-null  object \n",
      " 4   education_id      21525 non-null  int64  \n",
      " 5   family_status     21525 non-null  object \n",
      " 6   family_status_id  21525 non-null  int64  \n",
      " 7   gender            21525 non-null  object \n",
      " 8   income_type       21525 non-null  object \n",
      " 9   debt              21525 non-null  int64  \n",
      " 10  total_income      21525 non-null  float64\n",
      " 11  purpose           21525 non-null  object \n",
      "dtypes: float64(2), int64(5), object(5)\n",
      "memory usage: 2.0+ MB\n"
     ]
    }
   ],
   "source": [
    "df.info()"
   ]
  },
  {
   "cell_type": "markdown",
   "id": "74da3b9f",
   "metadata": {},
   "source": [
    "## Шаг 2.2 Проверка данных на аномалии и исправления."
   ]
  },
  {
   "cell_type": "markdown",
   "id": "749a1c8c",
   "metadata": {},
   "source": [
    "Посмотрим на общие статистики, чтобы понять, какие есть аномалии"
   ]
  },
  {
   "cell_type": "code",
   "execution_count": 11,
   "id": "e17d7bb3",
   "metadata": {},
   "outputs": [
    {
     "data": {
      "text/html": [
       "<div>\n",
       "<style scoped>\n",
       "    .dataframe tbody tr th:only-of-type {\n",
       "        vertical-align: middle;\n",
       "    }\n",
       "\n",
       "    .dataframe tbody tr th {\n",
       "        vertical-align: top;\n",
       "    }\n",
       "\n",
       "    .dataframe thead th {\n",
       "        text-align: right;\n",
       "    }\n",
       "</style>\n",
       "<table border=\"1\" class=\"dataframe\">\n",
       "  <thead>\n",
       "    <tr style=\"text-align: right;\">\n",
       "      <th></th>\n",
       "      <th>children</th>\n",
       "      <th>days_employed</th>\n",
       "      <th>dob_years</th>\n",
       "      <th>education_id</th>\n",
       "      <th>family_status_id</th>\n",
       "      <th>debt</th>\n",
       "      <th>total_income</th>\n",
       "    </tr>\n",
       "  </thead>\n",
       "  <tbody>\n",
       "    <tr>\n",
       "      <th>count</th>\n",
       "      <td>21525.000000</td>\n",
       "      <td>21525.000000</td>\n",
       "      <td>21525.000000</td>\n",
       "      <td>21525.000000</td>\n",
       "      <td>21525.000000</td>\n",
       "      <td>21525.000000</td>\n",
       "      <td>2.152500e+04</td>\n",
       "    </tr>\n",
       "    <tr>\n",
       "      <th>mean</th>\n",
       "      <td>0.538908</td>\n",
       "      <td>56557.335698</td>\n",
       "      <td>43.293380</td>\n",
       "      <td>0.817236</td>\n",
       "      <td>0.972544</td>\n",
       "      <td>0.080883</td>\n",
       "      <td>1.651595e+05</td>\n",
       "    </tr>\n",
       "    <tr>\n",
       "      <th>std</th>\n",
       "      <td>1.381587</td>\n",
       "      <td>134922.319298</td>\n",
       "      <td>12.574584</td>\n",
       "      <td>0.548138</td>\n",
       "      <td>1.420324</td>\n",
       "      <td>0.272661</td>\n",
       "      <td>9.786607e+04</td>\n",
       "    </tr>\n",
       "    <tr>\n",
       "      <th>min</th>\n",
       "      <td>-1.000000</td>\n",
       "      <td>-18388.949901</td>\n",
       "      <td>0.000000</td>\n",
       "      <td>0.000000</td>\n",
       "      <td>0.000000</td>\n",
       "      <td>0.000000</td>\n",
       "      <td>2.066726e+04</td>\n",
       "    </tr>\n",
       "    <tr>\n",
       "      <th>25%</th>\n",
       "      <td>0.000000</td>\n",
       "      <td>-2518.168900</td>\n",
       "      <td>33.000000</td>\n",
       "      <td>1.000000</td>\n",
       "      <td>0.000000</td>\n",
       "      <td>0.000000</td>\n",
       "      <td>1.077982e+05</td>\n",
       "    </tr>\n",
       "    <tr>\n",
       "      <th>50%</th>\n",
       "      <td>0.000000</td>\n",
       "      <td>-1203.369529</td>\n",
       "      <td>42.000000</td>\n",
       "      <td>1.000000</td>\n",
       "      <td>0.000000</td>\n",
       "      <td>0.000000</td>\n",
       "      <td>1.450179e+05</td>\n",
       "    </tr>\n",
       "    <tr>\n",
       "      <th>75%</th>\n",
       "      <td>1.000000</td>\n",
       "      <td>-385.106616</td>\n",
       "      <td>53.000000</td>\n",
       "      <td>1.000000</td>\n",
       "      <td>1.000000</td>\n",
       "      <td>0.000000</td>\n",
       "      <td>1.955436e+05</td>\n",
       "    </tr>\n",
       "    <tr>\n",
       "      <th>max</th>\n",
       "      <td>20.000000</td>\n",
       "      <td>401755.400475</td>\n",
       "      <td>75.000000</td>\n",
       "      <td>4.000000</td>\n",
       "      <td>4.000000</td>\n",
       "      <td>1.000000</td>\n",
       "      <td>2.265604e+06</td>\n",
       "    </tr>\n",
       "  </tbody>\n",
       "</table>\n",
       "</div>"
      ],
      "text/plain": [
       "           children  days_employed     dob_years  education_id  \\\n",
       "count  21525.000000   21525.000000  21525.000000  21525.000000   \n",
       "mean       0.538908   56557.335698     43.293380      0.817236   \n",
       "std        1.381587  134922.319298     12.574584      0.548138   \n",
       "min       -1.000000  -18388.949901      0.000000      0.000000   \n",
       "25%        0.000000   -2518.168900     33.000000      1.000000   \n",
       "50%        0.000000   -1203.369529     42.000000      1.000000   \n",
       "75%        1.000000    -385.106616     53.000000      1.000000   \n",
       "max       20.000000  401755.400475     75.000000      4.000000   \n",
       "\n",
       "       family_status_id          debt  total_income  \n",
       "count      21525.000000  21525.000000  2.152500e+04  \n",
       "mean           0.972544      0.080883  1.651595e+05  \n",
       "std            1.420324      0.272661  9.786607e+04  \n",
       "min            0.000000      0.000000  2.066726e+04  \n",
       "25%            0.000000      0.000000  1.077982e+05  \n",
       "50%            0.000000      0.000000  1.450179e+05  \n",
       "75%            1.000000      0.000000  1.955436e+05  \n",
       "max            4.000000      1.000000  2.265604e+06  "
      ]
     },
     "execution_count": 11,
     "metadata": {},
     "output_type": "execute_result"
    }
   ],
   "source": [
    "df.describe()"
   ]
  },
  {
   "cell_type": "markdown",
   "id": "3bb7cc47",
   "metadata": {},
   "source": [
    "**Сразу бросается в глаза две проблемы:**\n",
    "\n",
    "* минимальное значение `children` равно -1 (максимальное 20, что тоже вызывает подозрения.)\n",
    "* показатели `days_employed` отрицательные, а максимальное значение равно ~1100 годам\n",
    "\n",
    "И еще стоит проверить значения `dob_years`, которые равны 0"
   ]
  },
  {
   "cell_type": "markdown",
   "id": "8632d4b9",
   "metadata": {},
   "source": [
    "### 2.2.1 days_employed\n",
    "\n",
    "В колонке `days_employed` аномалия. Трудовой стаж не может быть отрицательным. Посмотрим на значения, которые больше нуля."
   ]
  },
  {
   "cell_type": "code",
   "execution_count": 12,
   "id": "2428216a",
   "metadata": {
    "scrolled": true
   },
   "outputs": [
    {
     "data": {
      "text/html": [
       "<div>\n",
       "<style scoped>\n",
       "    .dataframe tbody tr th:only-of-type {\n",
       "        vertical-align: middle;\n",
       "    }\n",
       "\n",
       "    .dataframe tbody tr th {\n",
       "        vertical-align: top;\n",
       "    }\n",
       "\n",
       "    .dataframe thead th {\n",
       "        text-align: right;\n",
       "    }\n",
       "</style>\n",
       "<table border=\"1\" class=\"dataframe\">\n",
       "  <thead>\n",
       "    <tr style=\"text-align: right;\">\n",
       "      <th></th>\n",
       "      <th>children</th>\n",
       "      <th>days_employed</th>\n",
       "      <th>dob_years</th>\n",
       "      <th>education</th>\n",
       "      <th>education_id</th>\n",
       "      <th>family_status</th>\n",
       "      <th>family_status_id</th>\n",
       "      <th>gender</th>\n",
       "      <th>income_type</th>\n",
       "      <th>debt</th>\n",
       "      <th>total_income</th>\n",
       "      <th>purpose</th>\n",
       "    </tr>\n",
       "  </thead>\n",
       "  <tbody>\n",
       "    <tr>\n",
       "      <th>4</th>\n",
       "      <td>0</td>\n",
       "      <td>340266.072047</td>\n",
       "      <td>53</td>\n",
       "      <td>среднее</td>\n",
       "      <td>1</td>\n",
       "      <td>гражданский брак</td>\n",
       "      <td>1</td>\n",
       "      <td>F</td>\n",
       "      <td>пенсионер</td>\n",
       "      <td>0</td>\n",
       "      <td>158616.077870</td>\n",
       "      <td>сыграть свадьбу</td>\n",
       "    </tr>\n",
       "    <tr>\n",
       "      <th>18</th>\n",
       "      <td>0</td>\n",
       "      <td>400281.136913</td>\n",
       "      <td>53</td>\n",
       "      <td>среднее</td>\n",
       "      <td>1</td>\n",
       "      <td>вдовец / вдова</td>\n",
       "      <td>2</td>\n",
       "      <td>F</td>\n",
       "      <td>пенсионер</td>\n",
       "      <td>0</td>\n",
       "      <td>56823.777243</td>\n",
       "      <td>на покупку подержанного автомобиля</td>\n",
       "    </tr>\n",
       "    <tr>\n",
       "      <th>24</th>\n",
       "      <td>1</td>\n",
       "      <td>338551.952911</td>\n",
       "      <td>57</td>\n",
       "      <td>среднее</td>\n",
       "      <td>1</td>\n",
       "      <td>Не женат / не замужем</td>\n",
       "      <td>4</td>\n",
       "      <td>F</td>\n",
       "      <td>пенсионер</td>\n",
       "      <td>0</td>\n",
       "      <td>290547.235997</td>\n",
       "      <td>операции с коммерческой недвижимостью</td>\n",
       "    </tr>\n",
       "    <tr>\n",
       "      <th>25</th>\n",
       "      <td>0</td>\n",
       "      <td>363548.489348</td>\n",
       "      <td>67</td>\n",
       "      <td>среднее</td>\n",
       "      <td>1</td>\n",
       "      <td>женат / замужем</td>\n",
       "      <td>0</td>\n",
       "      <td>M</td>\n",
       "      <td>пенсионер</td>\n",
       "      <td>0</td>\n",
       "      <td>55112.757732</td>\n",
       "      <td>покупка недвижимости</td>\n",
       "    </tr>\n",
       "    <tr>\n",
       "      <th>30</th>\n",
       "      <td>1</td>\n",
       "      <td>335581.668515</td>\n",
       "      <td>62</td>\n",
       "      <td>среднее</td>\n",
       "      <td>1</td>\n",
       "      <td>женат / замужем</td>\n",
       "      <td>0</td>\n",
       "      <td>F</td>\n",
       "      <td>пенсионер</td>\n",
       "      <td>0</td>\n",
       "      <td>171456.067993</td>\n",
       "      <td>операции с коммерческой недвижимостью</td>\n",
       "    </tr>\n",
       "  </tbody>\n",
       "</table>\n",
       "</div>"
      ],
      "text/plain": [
       "    children  days_employed  dob_years education  education_id  \\\n",
       "4          0  340266.072047         53   среднее             1   \n",
       "18         0  400281.136913         53   среднее             1   \n",
       "24         1  338551.952911         57   среднее             1   \n",
       "25         0  363548.489348         67   среднее             1   \n",
       "30         1  335581.668515         62   среднее             1   \n",
       "\n",
       "            family_status  family_status_id gender income_type  debt  \\\n",
       "4        гражданский брак                 1      F   пенсионер     0   \n",
       "18         вдовец / вдова                 2      F   пенсионер     0   \n",
       "24  Не женат / не замужем                 4      F   пенсионер     0   \n",
       "25        женат / замужем                 0      M   пенсионер     0   \n",
       "30        женат / замужем                 0      F   пенсионер     0   \n",
       "\n",
       "     total_income                                purpose  \n",
       "4   158616.077870                        сыграть свадьбу  \n",
       "18   56823.777243     на покупку подержанного автомобиля  \n",
       "24  290547.235997  операции с коммерческой недвижимостью  \n",
       "25   55112.757732                   покупка недвижимости  \n",
       "30  171456.067993  операции с коммерческой недвижимостью  "
      ]
     },
     "execution_count": 12,
     "metadata": {},
     "output_type": "execute_result"
    }
   ],
   "source": [
    "df[df['days_employed'] > 0].head()"
   ]
  },
  {
   "cell_type": "code",
   "execution_count": 13,
   "id": "54e8cbd9",
   "metadata": {},
   "outputs": [
    {
     "data": {
      "text/plain": [
       "пенсионер      3443\n",
       "безработный       2\n",
       "Name: income_type, dtype: int64"
      ]
     },
     "execution_count": 13,
     "metadata": {},
     "output_type": "execute_result"
    }
   ],
   "source": [
    "df[df['days_employed'] > 0]['income_type'].value_counts()"
   ]
  },
  {
   "cell_type": "code",
   "execution_count": 14,
   "id": "caebcbce",
   "metadata": {
    "scrolled": true
   },
   "outputs": [
    {
     "data": {
      "text/html": [
       "<div>\n",
       "<style scoped>\n",
       "    .dataframe tbody tr th:only-of-type {\n",
       "        vertical-align: middle;\n",
       "    }\n",
       "\n",
       "    .dataframe tbody tr th {\n",
       "        vertical-align: top;\n",
       "    }\n",
       "\n",
       "    .dataframe thead th {\n",
       "        text-align: right;\n",
       "    }\n",
       "</style>\n",
       "<table border=\"1\" class=\"dataframe\">\n",
       "  <thead>\n",
       "    <tr style=\"text-align: right;\">\n",
       "      <th></th>\n",
       "      <th>children</th>\n",
       "      <th>days_employed</th>\n",
       "      <th>dob_years</th>\n",
       "      <th>education</th>\n",
       "      <th>education_id</th>\n",
       "      <th>family_status</th>\n",
       "      <th>family_status_id</th>\n",
       "      <th>gender</th>\n",
       "      <th>income_type</th>\n",
       "      <th>debt</th>\n",
       "      <th>total_income</th>\n",
       "      <th>purpose</th>\n",
       "    </tr>\n",
       "  </thead>\n",
       "  <tbody>\n",
       "    <tr>\n",
       "      <th>3133</th>\n",
       "      <td>1</td>\n",
       "      <td>337524.466835</td>\n",
       "      <td>31</td>\n",
       "      <td>среднее</td>\n",
       "      <td>1</td>\n",
       "      <td>женат / замужем</td>\n",
       "      <td>0</td>\n",
       "      <td>M</td>\n",
       "      <td>безработный</td>\n",
       "      <td>1</td>\n",
       "      <td>59956.991984</td>\n",
       "      <td>покупка жилья для сдачи</td>\n",
       "    </tr>\n",
       "    <tr>\n",
       "      <th>14798</th>\n",
       "      <td>0</td>\n",
       "      <td>395302.838654</td>\n",
       "      <td>45</td>\n",
       "      <td>Высшее</td>\n",
       "      <td>0</td>\n",
       "      <td>гражданский брак</td>\n",
       "      <td>1</td>\n",
       "      <td>F</td>\n",
       "      <td>безработный</td>\n",
       "      <td>0</td>\n",
       "      <td>202722.511368</td>\n",
       "      <td>ремонт жилью</td>\n",
       "    </tr>\n",
       "  </tbody>\n",
       "</table>\n",
       "</div>"
      ],
      "text/plain": [
       "       children  days_employed  dob_years education  education_id  \\\n",
       "3133          1  337524.466835         31   среднее             1   \n",
       "14798         0  395302.838654         45    Высшее             0   \n",
       "\n",
       "          family_status  family_status_id gender  income_type  debt  \\\n",
       "3133    женат / замужем                 0      M  безработный     1   \n",
       "14798  гражданский брак                 1      F  безработный     0   \n",
       "\n",
       "        total_income                  purpose  \n",
       "3133    59956.991984  покупка жилья для сдачи  \n",
       "14798  202722.511368             ремонт жилью  "
      ]
     },
     "execution_count": 14,
     "metadata": {},
     "output_type": "execute_result"
    }
   ],
   "source": [
    "df[(df['days_employed'] > 0) & (df['income_type'] != 'пенсионер')]"
   ]
  },
  {
   "cell_type": "markdown",
   "id": "d5d630bd",
   "metadata": {},
   "source": [
    "Видим, что все, кто работал положительное число дней являются пенсионерами, кроме двух безработных людей."
   ]
  },
  {
   "cell_type": "code",
   "execution_count": 15,
   "id": "ebfa1a97",
   "metadata": {},
   "outputs": [
    {
     "data": {
      "text/html": [
       "<div>\n",
       "<style scoped>\n",
       "    .dataframe tbody tr th:only-of-type {\n",
       "        vertical-align: middle;\n",
       "    }\n",
       "\n",
       "    .dataframe tbody tr th {\n",
       "        vertical-align: top;\n",
       "    }\n",
       "\n",
       "    .dataframe thead th {\n",
       "        text-align: right;\n",
       "    }\n",
       "</style>\n",
       "<table border=\"1\" class=\"dataframe\">\n",
       "  <thead>\n",
       "    <tr style=\"text-align: right;\">\n",
       "      <th></th>\n",
       "      <th>children</th>\n",
       "      <th>days_employed</th>\n",
       "      <th>dob_years</th>\n",
       "      <th>education_id</th>\n",
       "      <th>family_status_id</th>\n",
       "      <th>debt</th>\n",
       "      <th>total_income</th>\n",
       "    </tr>\n",
       "  </thead>\n",
       "  <tbody>\n",
       "    <tr>\n",
       "      <th>count</th>\n",
       "      <td>3445.000000</td>\n",
       "      <td>3445.000000</td>\n",
       "      <td>3445.000000</td>\n",
       "      <td>3445.000000</td>\n",
       "      <td>3445.000000</td>\n",
       "      <td>3445.000000</td>\n",
       "      <td>3445.000000</td>\n",
       "    </tr>\n",
       "    <tr>\n",
       "      <th>mean</th>\n",
       "      <td>0.128302</td>\n",
       "      <td>365004.309916</td>\n",
       "      <td>59.124819</td>\n",
       "      <td>0.914659</td>\n",
       "      <td>0.984325</td>\n",
       "      <td>0.052830</td>\n",
       "      <td>137124.105624</td>\n",
       "    </tr>\n",
       "    <tr>\n",
       "      <th>std</th>\n",
       "      <td>0.955042</td>\n",
       "      <td>21075.016396</td>\n",
       "      <td>7.580584</td>\n",
       "      <td>0.517103</td>\n",
       "      <td>1.316071</td>\n",
       "      <td>0.223727</td>\n",
       "      <td>80242.210917</td>\n",
       "    </tr>\n",
       "    <tr>\n",
       "      <th>min</th>\n",
       "      <td>-1.000000</td>\n",
       "      <td>328728.720605</td>\n",
       "      <td>0.000000</td>\n",
       "      <td>0.000000</td>\n",
       "      <td>0.000000</td>\n",
       "      <td>0.000000</td>\n",
       "      <td>20667.263793</td>\n",
       "    </tr>\n",
       "    <tr>\n",
       "      <th>25%</th>\n",
       "      <td>0.000000</td>\n",
       "      <td>346639.413916</td>\n",
       "      <td>56.000000</td>\n",
       "      <td>1.000000</td>\n",
       "      <td>0.000000</td>\n",
       "      <td>0.000000</td>\n",
       "      <td>82876.335652</td>\n",
       "    </tr>\n",
       "    <tr>\n",
       "      <th>50%</th>\n",
       "      <td>0.000000</td>\n",
       "      <td>365213.306266</td>\n",
       "      <td>60.000000</td>\n",
       "      <td>1.000000</td>\n",
       "      <td>0.000000</td>\n",
       "      <td>0.000000</td>\n",
       "      <td>118514.486412</td>\n",
       "    </tr>\n",
       "    <tr>\n",
       "      <th>75%</th>\n",
       "      <td>0.000000</td>\n",
       "      <td>383246.444219</td>\n",
       "      <td>64.000000</td>\n",
       "      <td>1.000000</td>\n",
       "      <td>2.000000</td>\n",
       "      <td>0.000000</td>\n",
       "      <td>169746.263276</td>\n",
       "    </tr>\n",
       "    <tr>\n",
       "      <th>max</th>\n",
       "      <td>20.000000</td>\n",
       "      <td>401755.400475</td>\n",
       "      <td>74.000000</td>\n",
       "      <td>4.000000</td>\n",
       "      <td>4.000000</td>\n",
       "      <td>1.000000</td>\n",
       "      <td>735103.270167</td>\n",
       "    </tr>\n",
       "  </tbody>\n",
       "</table>\n",
       "</div>"
      ],
      "text/plain": [
       "          children  days_employed    dob_years  education_id  \\\n",
       "count  3445.000000    3445.000000  3445.000000   3445.000000   \n",
       "mean      0.128302  365004.309916    59.124819      0.914659   \n",
       "std       0.955042   21075.016396     7.580584      0.517103   \n",
       "min      -1.000000  328728.720605     0.000000      0.000000   \n",
       "25%       0.000000  346639.413916    56.000000      1.000000   \n",
       "50%       0.000000  365213.306266    60.000000      1.000000   \n",
       "75%       0.000000  383246.444219    64.000000      1.000000   \n",
       "max      20.000000  401755.400475    74.000000      4.000000   \n",
       "\n",
       "       family_status_id         debt   total_income  \n",
       "count       3445.000000  3445.000000    3445.000000  \n",
       "mean           0.984325     0.052830  137124.105624  \n",
       "std            1.316071     0.223727   80242.210917  \n",
       "min            0.000000     0.000000   20667.263793  \n",
       "25%            0.000000     0.000000   82876.335652  \n",
       "50%            0.000000     0.000000  118514.486412  \n",
       "75%            2.000000     0.000000  169746.263276  \n",
       "max            4.000000     1.000000  735103.270167  "
      ]
     },
     "execution_count": 15,
     "metadata": {},
     "output_type": "execute_result"
    }
   ],
   "source": [
    "df[df['days_employed'] > 0].describe()"
   ]
  },
  {
   "cell_type": "markdown",
   "id": "5759757f",
   "metadata": {},
   "source": [
    "Смотря на интервал минимальных и максимальных значений по данной выборке можно предположить, что людям, которые находятся на пенсии, присваивали большое число отработанных дней. Двое безработных, которые попали в этот список не могли столько отработать. Их будем считать за выбросы."
   ]
  },
  {
   "cell_type": "code",
   "execution_count": 16,
   "id": "12ac5fc8",
   "metadata": {
    "scrolled": true
   },
   "outputs": [
    {
     "data": {
      "text/html": [
       "<div>\n",
       "<style scoped>\n",
       "    .dataframe tbody tr th:only-of-type {\n",
       "        vertical-align: middle;\n",
       "    }\n",
       "\n",
       "    .dataframe tbody tr th {\n",
       "        vertical-align: top;\n",
       "    }\n",
       "\n",
       "    .dataframe thead th {\n",
       "        text-align: right;\n",
       "    }\n",
       "</style>\n",
       "<table border=\"1\" class=\"dataframe\">\n",
       "  <thead>\n",
       "    <tr style=\"text-align: right;\">\n",
       "      <th></th>\n",
       "      <th>children</th>\n",
       "      <th>days_employed</th>\n",
       "      <th>dob_years</th>\n",
       "      <th>education_id</th>\n",
       "      <th>family_status_id</th>\n",
       "      <th>debt</th>\n",
       "      <th>total_income</th>\n",
       "    </tr>\n",
       "  </thead>\n",
       "  <tbody>\n",
       "    <tr>\n",
       "      <th>count</th>\n",
       "      <td>18080.000000</td>\n",
       "      <td>18080.000000</td>\n",
       "      <td>18080.000000</td>\n",
       "      <td>18080.000000</td>\n",
       "      <td>18080.000000</td>\n",
       "      <td>18080.000000</td>\n",
       "      <td>1.808000e+04</td>\n",
       "    </tr>\n",
       "    <tr>\n",
       "      <th>mean</th>\n",
       "      <td>0.617146</td>\n",
       "      <td>-2214.778582</td>\n",
       "      <td>40.276825</td>\n",
       "      <td>0.798673</td>\n",
       "      <td>0.970299</td>\n",
       "      <td>0.086228</td>\n",
       "      <td>1.705014e+05</td>\n",
       "    </tr>\n",
       "    <tr>\n",
       "      <th>std</th>\n",
       "      <td>1.435446</td>\n",
       "      <td>2193.374054</td>\n",
       "      <td>10.974709</td>\n",
       "      <td>0.551921</td>\n",
       "      <td>1.439355</td>\n",
       "      <td>0.280708</td>\n",
       "      <td>9.998975e+04</td>\n",
       "    </tr>\n",
       "    <tr>\n",
       "      <th>min</th>\n",
       "      <td>-1.000000</td>\n",
       "      <td>-18388.949901</td>\n",
       "      <td>0.000000</td>\n",
       "      <td>0.000000</td>\n",
       "      <td>0.000000</td>\n",
       "      <td>0.000000</td>\n",
       "      <td>2.136765e+04</td>\n",
       "    </tr>\n",
       "    <tr>\n",
       "      <th>25%</th>\n",
       "      <td>0.000000</td>\n",
       "      <td>-2895.867863</td>\n",
       "      <td>32.000000</td>\n",
       "      <td>0.000000</td>\n",
       "      <td>0.000000</td>\n",
       "      <td>0.000000</td>\n",
       "      <td>1.135424e+05</td>\n",
       "    </tr>\n",
       "    <tr>\n",
       "      <th>50%</th>\n",
       "      <td>0.000000</td>\n",
       "      <td>-1347.906788</td>\n",
       "      <td>40.000000</td>\n",
       "      <td>1.000000</td>\n",
       "      <td>0.000000</td>\n",
       "      <td>0.000000</td>\n",
       "      <td>1.450179e+05</td>\n",
       "    </tr>\n",
       "    <tr>\n",
       "      <th>75%</th>\n",
       "      <td>1.000000</td>\n",
       "      <td>-868.137150</td>\n",
       "      <td>48.000000</td>\n",
       "      <td>1.000000</td>\n",
       "      <td>1.000000</td>\n",
       "      <td>0.000000</td>\n",
       "      <td>1.998261e+05</td>\n",
       "    </tr>\n",
       "    <tr>\n",
       "      <th>max</th>\n",
       "      <td>20.000000</td>\n",
       "      <td>-24.141633</td>\n",
       "      <td>75.000000</td>\n",
       "      <td>4.000000</td>\n",
       "      <td>4.000000</td>\n",
       "      <td>1.000000</td>\n",
       "      <td>2.265604e+06</td>\n",
       "    </tr>\n",
       "  </tbody>\n",
       "</table>\n",
       "</div>"
      ],
      "text/plain": [
       "           children  days_employed     dob_years  education_id  \\\n",
       "count  18080.000000   18080.000000  18080.000000  18080.000000   \n",
       "mean       0.617146   -2214.778582     40.276825      0.798673   \n",
       "std        1.435446    2193.374054     10.974709      0.551921   \n",
       "min       -1.000000  -18388.949901      0.000000      0.000000   \n",
       "25%        0.000000   -2895.867863     32.000000      0.000000   \n",
       "50%        0.000000   -1347.906788     40.000000      1.000000   \n",
       "75%        1.000000    -868.137150     48.000000      1.000000   \n",
       "max       20.000000     -24.141633     75.000000      4.000000   \n",
       "\n",
       "       family_status_id          debt  total_income  \n",
       "count      18080.000000  18080.000000  1.808000e+04  \n",
       "mean           0.970299      0.086228  1.705014e+05  \n",
       "std            1.439355      0.280708  9.998975e+04  \n",
       "min            0.000000      0.000000  2.136765e+04  \n",
       "25%            0.000000      0.000000  1.135424e+05  \n",
       "50%            0.000000      0.000000  1.450179e+05  \n",
       "75%            1.000000      0.000000  1.998261e+05  \n",
       "max            4.000000      1.000000  2.265604e+06  "
      ]
     },
     "execution_count": 16,
     "metadata": {},
     "output_type": "execute_result"
    }
   ],
   "source": [
    "df[df.days_employed < 0].describe()"
   ]
  },
  {
   "cell_type": "markdown",
   "id": "c6e1bf5f",
   "metadata": {},
   "source": [
    "У людей с отрицательными значениями всё выглядит приемлимо. Минимальное значение взятое по модулю 18388 дня примерно равно 50 годам. А максимальное по модулю 24 дня."
   ]
  },
  {
   "cell_type": "code",
   "execution_count": 17,
   "id": "952b93e7",
   "metadata": {},
   "outputs": [
    {
     "data": {
      "text/html": [
       "<div>\n",
       "<style scoped>\n",
       "    .dataframe tbody tr th:only-of-type {\n",
       "        vertical-align: middle;\n",
       "    }\n",
       "\n",
       "    .dataframe tbody tr th {\n",
       "        vertical-align: top;\n",
       "    }\n",
       "\n",
       "    .dataframe thead th {\n",
       "        text-align: right;\n",
       "    }\n",
       "</style>\n",
       "<table border=\"1\" class=\"dataframe\">\n",
       "  <thead>\n",
       "    <tr style=\"text-align: right;\">\n",
       "      <th></th>\n",
       "      <th>children</th>\n",
       "      <th>days_employed</th>\n",
       "      <th>dob_years</th>\n",
       "      <th>education</th>\n",
       "      <th>education_id</th>\n",
       "      <th>family_status</th>\n",
       "      <th>family_status_id</th>\n",
       "      <th>gender</th>\n",
       "      <th>income_type</th>\n",
       "      <th>debt</th>\n",
       "      <th>total_income</th>\n",
       "      <th>purpose</th>\n",
       "    </tr>\n",
       "  </thead>\n",
       "  <tbody>\n",
       "    <tr>\n",
       "      <th>16335</th>\n",
       "      <td>1</td>\n",
       "      <td>-18388.949901</td>\n",
       "      <td>61</td>\n",
       "      <td>среднее</td>\n",
       "      <td>1</td>\n",
       "      <td>женат / замужем</td>\n",
       "      <td>0</td>\n",
       "      <td>F</td>\n",
       "      <td>сотрудник</td>\n",
       "      <td>0</td>\n",
       "      <td>186178.934089</td>\n",
       "      <td>операции с недвижимостью</td>\n",
       "    </tr>\n",
       "    <tr>\n",
       "      <th>4299</th>\n",
       "      <td>0</td>\n",
       "      <td>-17615.563266</td>\n",
       "      <td>61</td>\n",
       "      <td>среднее</td>\n",
       "      <td>1</td>\n",
       "      <td>женат / замужем</td>\n",
       "      <td>0</td>\n",
       "      <td>F</td>\n",
       "      <td>компаньон</td>\n",
       "      <td>0</td>\n",
       "      <td>122560.741753</td>\n",
       "      <td>покупка жилья</td>\n",
       "    </tr>\n",
       "    <tr>\n",
       "      <th>7329</th>\n",
       "      <td>0</td>\n",
       "      <td>-16593.472817</td>\n",
       "      <td>60</td>\n",
       "      <td>высшее</td>\n",
       "      <td>0</td>\n",
       "      <td>женат / замужем</td>\n",
       "      <td>0</td>\n",
       "      <td>F</td>\n",
       "      <td>сотрудник</td>\n",
       "      <td>0</td>\n",
       "      <td>124697.846781</td>\n",
       "      <td>заняться высшим образованием</td>\n",
       "    </tr>\n",
       "    <tr>\n",
       "      <th>17838</th>\n",
       "      <td>0</td>\n",
       "      <td>-16264.699501</td>\n",
       "      <td>59</td>\n",
       "      <td>среднее</td>\n",
       "      <td>1</td>\n",
       "      <td>женат / замужем</td>\n",
       "      <td>0</td>\n",
       "      <td>F</td>\n",
       "      <td>сотрудник</td>\n",
       "      <td>0</td>\n",
       "      <td>51238.967133</td>\n",
       "      <td>на покупку автомобиля</td>\n",
       "    </tr>\n",
       "    <tr>\n",
       "      <th>16825</th>\n",
       "      <td>0</td>\n",
       "      <td>-16119.687737</td>\n",
       "      <td>64</td>\n",
       "      <td>среднее</td>\n",
       "      <td>1</td>\n",
       "      <td>женат / замужем</td>\n",
       "      <td>0</td>\n",
       "      <td>F</td>\n",
       "      <td>сотрудник</td>\n",
       "      <td>0</td>\n",
       "      <td>91527.685995</td>\n",
       "      <td>покупка жилой недвижимости</td>\n",
       "    </tr>\n",
       "    <tr>\n",
       "      <th>3974</th>\n",
       "      <td>0</td>\n",
       "      <td>-15835.725775</td>\n",
       "      <td>64</td>\n",
       "      <td>среднее</td>\n",
       "      <td>1</td>\n",
       "      <td>гражданский брак</td>\n",
       "      <td>1</td>\n",
       "      <td>F</td>\n",
       "      <td>компаньон</td>\n",
       "      <td>0</td>\n",
       "      <td>96858.531436</td>\n",
       "      <td>сыграть свадьбу</td>\n",
       "    </tr>\n",
       "    <tr>\n",
       "      <th>1539</th>\n",
       "      <td>0</td>\n",
       "      <td>-15785.678893</td>\n",
       "      <td>59</td>\n",
       "      <td>высшее</td>\n",
       "      <td>0</td>\n",
       "      <td>Не женат / не замужем</td>\n",
       "      <td>4</td>\n",
       "      <td>F</td>\n",
       "      <td>сотрудник</td>\n",
       "      <td>0</td>\n",
       "      <td>119563.851852</td>\n",
       "      <td>операции с коммерческой недвижимостью</td>\n",
       "    </tr>\n",
       "    <tr>\n",
       "      <th>4321</th>\n",
       "      <td>0</td>\n",
       "      <td>-15773.061335</td>\n",
       "      <td>61</td>\n",
       "      <td>среднее</td>\n",
       "      <td>1</td>\n",
       "      <td>гражданский брак</td>\n",
       "      <td>1</td>\n",
       "      <td>F</td>\n",
       "      <td>сотрудник</td>\n",
       "      <td>0</td>\n",
       "      <td>205868.585780</td>\n",
       "      <td>свадьба</td>\n",
       "    </tr>\n",
       "    <tr>\n",
       "      <th>7731</th>\n",
       "      <td>0</td>\n",
       "      <td>-15618.063786</td>\n",
       "      <td>64</td>\n",
       "      <td>среднее</td>\n",
       "      <td>1</td>\n",
       "      <td>женат / замужем</td>\n",
       "      <td>0</td>\n",
       "      <td>F</td>\n",
       "      <td>компаньон</td>\n",
       "      <td>0</td>\n",
       "      <td>296525.358574</td>\n",
       "      <td>высшее образование</td>\n",
       "    </tr>\n",
       "    <tr>\n",
       "      <th>15675</th>\n",
       "      <td>0</td>\n",
       "      <td>-15410.040779</td>\n",
       "      <td>65</td>\n",
       "      <td>высшее</td>\n",
       "      <td>0</td>\n",
       "      <td>женат / замужем</td>\n",
       "      <td>0</td>\n",
       "      <td>F</td>\n",
       "      <td>сотрудник</td>\n",
       "      <td>0</td>\n",
       "      <td>188800.068859</td>\n",
       "      <td>покупка жилой недвижимости</td>\n",
       "    </tr>\n",
       "  </tbody>\n",
       "</table>\n",
       "</div>"
      ],
      "text/plain": [
       "       children  days_employed  dob_years education  education_id  \\\n",
       "16335         1  -18388.949901         61   среднее             1   \n",
       "4299          0  -17615.563266         61   среднее             1   \n",
       "7329          0  -16593.472817         60    высшее             0   \n",
       "17838         0  -16264.699501         59   среднее             1   \n",
       "16825         0  -16119.687737         64   среднее             1   \n",
       "3974          0  -15835.725775         64   среднее             1   \n",
       "1539          0  -15785.678893         59    высшее             0   \n",
       "4321          0  -15773.061335         61   среднее             1   \n",
       "7731          0  -15618.063786         64   среднее             1   \n",
       "15675         0  -15410.040779         65    высшее             0   \n",
       "\n",
       "               family_status  family_status_id gender income_type  debt  \\\n",
       "16335        женат / замужем                 0      F   сотрудник     0   \n",
       "4299         женат / замужем                 0      F   компаньон     0   \n",
       "7329         женат / замужем                 0      F   сотрудник     0   \n",
       "17838        женат / замужем                 0      F   сотрудник     0   \n",
       "16825        женат / замужем                 0      F   сотрудник     0   \n",
       "3974        гражданский брак                 1      F   компаньон     0   \n",
       "1539   Не женат / не замужем                 4      F   сотрудник     0   \n",
       "4321        гражданский брак                 1      F   сотрудник     0   \n",
       "7731         женат / замужем                 0      F   компаньон     0   \n",
       "15675        женат / замужем                 0      F   сотрудник     0   \n",
       "\n",
       "        total_income                                purpose  \n",
       "16335  186178.934089               операции с недвижимостью  \n",
       "4299   122560.741753                          покупка жилья  \n",
       "7329   124697.846781           заняться высшим образованием  \n",
       "17838   51238.967133                  на покупку автомобиля  \n",
       "16825   91527.685995             покупка жилой недвижимости  \n",
       "3974    96858.531436                        сыграть свадьбу  \n",
       "1539   119563.851852  операции с коммерческой недвижимостью  \n",
       "4321   205868.585780                                свадьба  \n",
       "7731   296525.358574                     высшее образование  \n",
       "15675  188800.068859             покупка жилой недвижимости  "
      ]
     },
     "execution_count": 17,
     "metadata": {},
     "output_type": "execute_result"
    }
   ],
   "source": [
    "df[df.days_employed < 0].sort_values('days_employed').head(10)"
   ]
  },
  {
   "cell_type": "markdown",
   "id": "9c3624a4",
   "metadata": {},
   "source": [
    "Люди, которые отработали больше всего времени из возрастной категории 55+. Ещё раз убеждаемся в том, что данные похожи на реальные."
   ]
  },
  {
   "cell_type": "markdown",
   "id": "24dd8b6e",
   "metadata": {},
   "source": [
    "**Аномалию устраним так:**\n",
    "\n",
    "* Людям, которые в положительном диапазоне, заполним нулями. Это явные выбросы, они нам будут мешать.\n",
    "* Людям, кто отработал отрицательное количество времени, присвоим положительный знак."
   ]
  },
  {
   "cell_type": "code",
   "execution_count": 18,
   "id": "6d69eedb",
   "metadata": {},
   "outputs": [],
   "source": [
    "# заполняем нулями аномальные значения\n",
    "df.loc[df['days_employed'] > 0, 'days_employed'] = 0"
   ]
  },
  {
   "cell_type": "code",
   "execution_count": 19,
   "id": "0b840fa1",
   "metadata": {},
   "outputs": [
    {
     "data": {
      "text/plain": [
       "Series([], dtype: int64)"
      ]
     },
     "execution_count": 19,
     "metadata": {},
     "output_type": "execute_result"
    }
   ],
   "source": [
    "# проверяем\n",
    "df[df.days_employed > 0].value_counts()"
   ]
  },
  {
   "cell_type": "code",
   "execution_count": 20,
   "id": "c6072415",
   "metadata": {},
   "outputs": [],
   "source": [
    "# заменяем знак минус на знак плюс - переписываем число, взяв его по модулю\n",
    "df.loc[df['days_employed'] < 0, 'days_employed'] = df.loc[df['days_employed'] < 0, 'days_employed'].apply(lambda num : abs(num))\n"
   ]
  },
  {
   "cell_type": "code",
   "execution_count": 21,
   "id": "50735e7e",
   "metadata": {
    "scrolled": false
   },
   "outputs": [
    {
     "data": {
      "text/plain": [
       "count    21525.000000\n",
       "mean      1860.311116\n",
       "std       2168.026409\n",
       "min          0.000000\n",
       "25%        385.106616\n",
       "50%       1203.369529\n",
       "75%       2518.168900\n",
       "max      18388.949901\n",
       "Name: days_employed, dtype: float64"
      ]
     },
     "execution_count": 21,
     "metadata": {},
     "output_type": "execute_result"
    }
   ],
   "source": [
    "#проверяем\n",
    "df.days_employed.describe()"
   ]
  },
  {
   "cell_type": "markdown",
   "id": "78c99c97",
   "metadata": {},
   "source": [
    "### 2.2.2 children"
   ]
  },
  {
   "cell_type": "markdown",
   "id": "4f0a4cef",
   "metadata": {},
   "source": [
    "Минимальное значение children равно -1 (максимальное 20, что тоже вызывает подозрения.)"
   ]
  },
  {
   "cell_type": "code",
   "execution_count": 22,
   "id": "65505902",
   "metadata": {
    "scrolled": false
   },
   "outputs": [
    {
     "data": {
      "text/plain": [
       " 0     14149\n",
       " 1      4818\n",
       " 2      2055\n",
       " 3       330\n",
       " 20       76\n",
       "-1        47\n",
       " 4        41\n",
       " 5         9\n",
       "Name: children, dtype: int64"
      ]
     },
     "execution_count": 22,
     "metadata": {},
     "output_type": "execute_result"
    }
   ],
   "source": [
    "# список уникальных значений колонки children\n",
    "df['children'].value_counts()"
   ]
  },
  {
   "cell_type": "markdown",
   "id": "180e784d",
   "metadata": {},
   "source": [
    "Видим, что есть определенный ряд количества детей: 0, 1, 2, 3, 4, 5. Значения -1, 20 из этого ряда явно выделяются.\n",
    "\n",
    "20 детей - выбросы, либо это ошибка с вводом данных, где случайно добавили 0. Данные о доходах тоже никак не позволяют судить о том, что это не выбросы."
   ]
  },
  {
   "cell_type": "markdown",
   "id": "141d72c0",
   "metadata": {},
   "source": [
    "Сравнение статистик, где 20 и 2 детей соответственно."
   ]
  },
  {
   "cell_type": "code",
   "execution_count": 23,
   "id": "54fdb0b2",
   "metadata": {
    "scrolled": false
   },
   "outputs": [
    {
     "data": {
      "text/html": [
       "<div>\n",
       "<style scoped>\n",
       "    .dataframe tbody tr th:only-of-type {\n",
       "        vertical-align: middle;\n",
       "    }\n",
       "\n",
       "    .dataframe tbody tr th {\n",
       "        vertical-align: top;\n",
       "    }\n",
       "\n",
       "    .dataframe thead th {\n",
       "        text-align: right;\n",
       "    }\n",
       "</style>\n",
       "<table border=\"1\" class=\"dataframe\">\n",
       "  <thead>\n",
       "    <tr style=\"text-align: right;\">\n",
       "      <th></th>\n",
       "      <th>children</th>\n",
       "      <th>days_employed</th>\n",
       "      <th>dob_years</th>\n",
       "      <th>education_id</th>\n",
       "      <th>family_status_id</th>\n",
       "      <th>debt</th>\n",
       "      <th>total_income</th>\n",
       "    </tr>\n",
       "  </thead>\n",
       "  <tbody>\n",
       "    <tr>\n",
       "      <th>count</th>\n",
       "      <td>76.0</td>\n",
       "      <td>76.000000</td>\n",
       "      <td>76.000000</td>\n",
       "      <td>76.000000</td>\n",
       "      <td>76.000000</td>\n",
       "      <td>76.000000</td>\n",
       "      <td>76.000000</td>\n",
       "    </tr>\n",
       "    <tr>\n",
       "      <th>mean</th>\n",
       "      <td>20.0</td>\n",
       "      <td>1836.917156</td>\n",
       "      <td>41.815789</td>\n",
       "      <td>0.842105</td>\n",
       "      <td>0.815789</td>\n",
       "      <td>0.105263</td>\n",
       "      <td>165913.640682</td>\n",
       "    </tr>\n",
       "    <tr>\n",
       "      <th>std</th>\n",
       "      <td>0.0</td>\n",
       "      <td>2174.894370</td>\n",
       "      <td>12.065058</td>\n",
       "      <td>0.433671</td>\n",
       "      <td>1.363432</td>\n",
       "      <td>0.308931</td>\n",
       "      <td>76236.454726</td>\n",
       "    </tr>\n",
       "    <tr>\n",
       "      <th>min</th>\n",
       "      <td>20.0</td>\n",
       "      <td>0.000000</td>\n",
       "      <td>0.000000</td>\n",
       "      <td>0.000000</td>\n",
       "      <td>0.000000</td>\n",
       "      <td>0.000000</td>\n",
       "      <td>53971.576721</td>\n",
       "    </tr>\n",
       "    <tr>\n",
       "      <th>25%</th>\n",
       "      <td>20.0</td>\n",
       "      <td>516.518947</td>\n",
       "      <td>33.750000</td>\n",
       "      <td>1.000000</td>\n",
       "      <td>0.000000</td>\n",
       "      <td>0.000000</td>\n",
       "      <td>120986.388504</td>\n",
       "    </tr>\n",
       "    <tr>\n",
       "      <th>50%</th>\n",
       "      <td>20.0</td>\n",
       "      <td>1202.884531</td>\n",
       "      <td>41.500000</td>\n",
       "      <td>1.000000</td>\n",
       "      <td>0.000000</td>\n",
       "      <td>0.000000</td>\n",
       "      <td>145017.937533</td>\n",
       "    </tr>\n",
       "    <tr>\n",
       "      <th>75%</th>\n",
       "      <td>20.0</td>\n",
       "      <td>2383.652717</td>\n",
       "      <td>50.000000</td>\n",
       "      <td>1.000000</td>\n",
       "      <td>1.000000</td>\n",
       "      <td>0.000000</td>\n",
       "      <td>203490.401462</td>\n",
       "    </tr>\n",
       "    <tr>\n",
       "      <th>max</th>\n",
       "      <td>20.0</td>\n",
       "      <td>11937.171389</td>\n",
       "      <td>69.000000</td>\n",
       "      <td>2.000000</td>\n",
       "      <td>4.000000</td>\n",
       "      <td>1.000000</td>\n",
       "      <td>441721.334145</td>\n",
       "    </tr>\n",
       "  </tbody>\n",
       "</table>\n",
       "</div>"
      ],
      "text/plain": [
       "       children  days_employed  dob_years  education_id  family_status_id  \\\n",
       "count      76.0      76.000000  76.000000     76.000000         76.000000   \n",
       "mean       20.0    1836.917156  41.815789      0.842105          0.815789   \n",
       "std         0.0    2174.894370  12.065058      0.433671          1.363432   \n",
       "min        20.0       0.000000   0.000000      0.000000          0.000000   \n",
       "25%        20.0     516.518947  33.750000      1.000000          0.000000   \n",
       "50%        20.0    1202.884531  41.500000      1.000000          0.000000   \n",
       "75%        20.0    2383.652717  50.000000      1.000000          1.000000   \n",
       "max        20.0   11937.171389  69.000000      2.000000          4.000000   \n",
       "\n",
       "            debt   total_income  \n",
       "count  76.000000      76.000000  \n",
       "mean    0.105263  165913.640682  \n",
       "std     0.308931   76236.454726  \n",
       "min     0.000000   53971.576721  \n",
       "25%     0.000000  120986.388504  \n",
       "50%     0.000000  145017.937533  \n",
       "75%     0.000000  203490.401462  \n",
       "max     1.000000  441721.334145  "
      ]
     },
     "execution_count": 23,
     "metadata": {},
     "output_type": "execute_result"
    }
   ],
   "source": [
    "df[df.children == 20].describe()"
   ]
  },
  {
   "cell_type": "code",
   "execution_count": 24,
   "id": "64b103ff",
   "metadata": {
    "scrolled": false
   },
   "outputs": [
    {
     "data": {
      "text/html": [
       "<div>\n",
       "<style scoped>\n",
       "    .dataframe tbody tr th:only-of-type {\n",
       "        vertical-align: middle;\n",
       "    }\n",
       "\n",
       "    .dataframe tbody tr th {\n",
       "        vertical-align: top;\n",
       "    }\n",
       "\n",
       "    .dataframe thead th {\n",
       "        text-align: right;\n",
       "    }\n",
       "</style>\n",
       "<table border=\"1\" class=\"dataframe\">\n",
       "  <thead>\n",
       "    <tr style=\"text-align: right;\">\n",
       "      <th></th>\n",
       "      <th>children</th>\n",
       "      <th>days_employed</th>\n",
       "      <th>dob_years</th>\n",
       "      <th>education_id</th>\n",
       "      <th>family_status_id</th>\n",
       "      <th>debt</th>\n",
       "      <th>total_income</th>\n",
       "    </tr>\n",
       "  </thead>\n",
       "  <tbody>\n",
       "    <tr>\n",
       "      <th>count</th>\n",
       "      <td>2055.0</td>\n",
       "      <td>2055.000000</td>\n",
       "      <td>2055.000000</td>\n",
       "      <td>2055.000000</td>\n",
       "      <td>2055.000000</td>\n",
       "      <td>2055.000000</td>\n",
       "      <td>2.055000e+03</td>\n",
       "    </tr>\n",
       "    <tr>\n",
       "      <th>mean</th>\n",
       "      <td>2.0</td>\n",
       "      <td>2020.072429</td>\n",
       "      <td>35.770316</td>\n",
       "      <td>0.788808</td>\n",
       "      <td>0.451095</td>\n",
       "      <td>0.094404</td>\n",
       "      <td>1.691884e+05</td>\n",
       "    </tr>\n",
       "    <tr>\n",
       "      <th>std</th>\n",
       "      <td>0.0</td>\n",
       "      <td>1739.787240</td>\n",
       "      <td>7.221411</td>\n",
       "      <td>0.556603</td>\n",
       "      <td>0.970559</td>\n",
       "      <td>0.292461</td>\n",
       "      <td>1.020834e+05</td>\n",
       "    </tr>\n",
       "    <tr>\n",
       "      <th>min</th>\n",
       "      <td>2.0</td>\n",
       "      <td>0.000000</td>\n",
       "      <td>0.000000</td>\n",
       "      <td>0.000000</td>\n",
       "      <td>0.000000</td>\n",
       "      <td>0.000000</td>\n",
       "      <td>2.809288e+04</td>\n",
       "    </tr>\n",
       "    <tr>\n",
       "      <th>25%</th>\n",
       "      <td>2.0</td>\n",
       "      <td>850.792503</td>\n",
       "      <td>31.000000</td>\n",
       "      <td>0.000000</td>\n",
       "      <td>0.000000</td>\n",
       "      <td>0.000000</td>\n",
       "      <td>1.069220e+05</td>\n",
       "    </tr>\n",
       "    <tr>\n",
       "      <th>50%</th>\n",
       "      <td>2.0</td>\n",
       "      <td>1407.831353</td>\n",
       "      <td>35.000000</td>\n",
       "      <td>1.000000</td>\n",
       "      <td>0.000000</td>\n",
       "      <td>0.000000</td>\n",
       "      <td>1.450179e+05</td>\n",
       "    </tr>\n",
       "    <tr>\n",
       "      <th>75%</th>\n",
       "      <td>2.0</td>\n",
       "      <td>2717.388523</td>\n",
       "      <td>40.000000</td>\n",
       "      <td>1.000000</td>\n",
       "      <td>1.000000</td>\n",
       "      <td>0.000000</td>\n",
       "      <td>1.979646e+05</td>\n",
       "    </tr>\n",
       "    <tr>\n",
       "      <th>max</th>\n",
       "      <td>2.0</td>\n",
       "      <td>13039.072024</td>\n",
       "      <td>64.000000</td>\n",
       "      <td>3.000000</td>\n",
       "      <td>4.000000</td>\n",
       "      <td>1.000000</td>\n",
       "      <td>1.103455e+06</td>\n",
       "    </tr>\n",
       "  </tbody>\n",
       "</table>\n",
       "</div>"
      ],
      "text/plain": [
       "       children  days_employed    dob_years  education_id  family_status_id  \\\n",
       "count    2055.0    2055.000000  2055.000000   2055.000000       2055.000000   \n",
       "mean        2.0    2020.072429    35.770316      0.788808          0.451095   \n",
       "std         0.0    1739.787240     7.221411      0.556603          0.970559   \n",
       "min         2.0       0.000000     0.000000      0.000000          0.000000   \n",
       "25%         2.0     850.792503    31.000000      0.000000          0.000000   \n",
       "50%         2.0    1407.831353    35.000000      1.000000          0.000000   \n",
       "75%         2.0    2717.388523    40.000000      1.000000          1.000000   \n",
       "max         2.0   13039.072024    64.000000      3.000000          4.000000   \n",
       "\n",
       "              debt  total_income  \n",
       "count  2055.000000  2.055000e+03  \n",
       "mean      0.094404  1.691884e+05  \n",
       "std       0.292461  1.020834e+05  \n",
       "min       0.000000  2.809288e+04  \n",
       "25%       0.000000  1.069220e+05  \n",
       "50%       0.000000  1.450179e+05  \n",
       "75%       0.000000  1.979646e+05  \n",
       "max       1.000000  1.103455e+06  "
      ]
     },
     "execution_count": 24,
     "metadata": {},
     "output_type": "execute_result"
    }
   ],
   "source": [
    "df[df.children == 2].describe()"
   ]
  },
  {
   "cell_type": "code",
   "execution_count": 25,
   "id": "6a5a6d79",
   "metadata": {},
   "outputs": [
    {
     "data": {
      "text/plain": [
       "3.5664007508212108"
      ]
     },
     "execution_count": 25,
     "metadata": {},
     "output_type": "execute_result"
    }
   ],
   "source": [
    "(76 / (2055 + 76)) * 100"
   ]
  },
  {
   "cell_type": "markdown",
   "id": "fead2b3f",
   "metadata": {},
   "source": [
    "Показатели примерно похожи. Количество таких значений составляет 3.6% от всех данных с детьми равными 2 + 20.\n",
    "\n",
    "Изменим количество детей с 20 на 2."
   ]
  },
  {
   "cell_type": "code",
   "execution_count": 26,
   "id": "62bb7971",
   "metadata": {},
   "outputs": [],
   "source": [
    "df.loc[df.children == 20, 'children'] = 2"
   ]
  },
  {
   "cell_type": "markdown",
   "id": "c36f4f8a",
   "metadata": {},
   "source": [
    "Теперь разберемся со строками, где значение равно -1"
   ]
  },
  {
   "cell_type": "code",
   "execution_count": 27,
   "id": "84305484",
   "metadata": {
    "scrolled": true
   },
   "outputs": [
    {
     "data": {
      "text/html": [
       "<div>\n",
       "<style scoped>\n",
       "    .dataframe tbody tr th:only-of-type {\n",
       "        vertical-align: middle;\n",
       "    }\n",
       "\n",
       "    .dataframe tbody tr th {\n",
       "        vertical-align: top;\n",
       "    }\n",
       "\n",
       "    .dataframe thead th {\n",
       "        text-align: right;\n",
       "    }\n",
       "</style>\n",
       "<table border=\"1\" class=\"dataframe\">\n",
       "  <thead>\n",
       "    <tr style=\"text-align: right;\">\n",
       "      <th></th>\n",
       "      <th>children</th>\n",
       "      <th>days_employed</th>\n",
       "      <th>dob_years</th>\n",
       "      <th>education_id</th>\n",
       "      <th>family_status_id</th>\n",
       "      <th>debt</th>\n",
       "      <th>total_income</th>\n",
       "    </tr>\n",
       "  </thead>\n",
       "  <tbody>\n",
       "    <tr>\n",
       "      <th>count</th>\n",
       "      <td>47.0</td>\n",
       "      <td>47.000000</td>\n",
       "      <td>47.000000</td>\n",
       "      <td>47.000000</td>\n",
       "      <td>47.000000</td>\n",
       "      <td>47.000000</td>\n",
       "      <td>47.000000</td>\n",
       "    </tr>\n",
       "    <tr>\n",
       "      <th>mean</th>\n",
       "      <td>-1.0</td>\n",
       "      <td>1978.514580</td>\n",
       "      <td>42.574468</td>\n",
       "      <td>0.829787</td>\n",
       "      <td>0.957447</td>\n",
       "      <td>0.021277</td>\n",
       "      <td>153298.588506</td>\n",
       "    </tr>\n",
       "    <tr>\n",
       "      <th>std</th>\n",
       "      <td>0.0</td>\n",
       "      <td>2104.738732</td>\n",
       "      <td>11.357328</td>\n",
       "      <td>0.433346</td>\n",
       "      <td>1.428856</td>\n",
       "      <td>0.145865</td>\n",
       "      <td>67243.248222</td>\n",
       "    </tr>\n",
       "    <tr>\n",
       "      <th>min</th>\n",
       "      <td>-1.0</td>\n",
       "      <td>0.000000</td>\n",
       "      <td>23.000000</td>\n",
       "      <td>0.000000</td>\n",
       "      <td>0.000000</td>\n",
       "      <td>0.000000</td>\n",
       "      <td>36052.447435</td>\n",
       "    </tr>\n",
       "    <tr>\n",
       "      <th>25%</th>\n",
       "      <td>-1.0</td>\n",
       "      <td>492.090106</td>\n",
       "      <td>33.500000</td>\n",
       "      <td>1.000000</td>\n",
       "      <td>0.000000</td>\n",
       "      <td>0.000000</td>\n",
       "      <td>114252.758940</td>\n",
       "    </tr>\n",
       "    <tr>\n",
       "      <th>50%</th>\n",
       "      <td>-1.0</td>\n",
       "      <td>1203.369529</td>\n",
       "      <td>41.000000</td>\n",
       "      <td>1.000000</td>\n",
       "      <td>0.000000</td>\n",
       "      <td>0.000000</td>\n",
       "      <td>145017.937533</td>\n",
       "    </tr>\n",
       "    <tr>\n",
       "      <th>75%</th>\n",
       "      <td>-1.0</td>\n",
       "      <td>2970.960064</td>\n",
       "      <td>50.500000</td>\n",
       "      <td>1.000000</td>\n",
       "      <td>2.000000</td>\n",
       "      <td>0.000000</td>\n",
       "      <td>170162.421662</td>\n",
       "    </tr>\n",
       "    <tr>\n",
       "      <th>max</th>\n",
       "      <td>-1.0</td>\n",
       "      <td>9851.184337</td>\n",
       "      <td>69.000000</td>\n",
       "      <td>2.000000</td>\n",
       "      <td>4.000000</td>\n",
       "      <td>1.000000</td>\n",
       "      <td>321603.700207</td>\n",
       "    </tr>\n",
       "  </tbody>\n",
       "</table>\n",
       "</div>"
      ],
      "text/plain": [
       "       children  days_employed  dob_years  education_id  family_status_id  \\\n",
       "count      47.0      47.000000  47.000000     47.000000         47.000000   \n",
       "mean       -1.0    1978.514580  42.574468      0.829787          0.957447   \n",
       "std         0.0    2104.738732  11.357328      0.433346          1.428856   \n",
       "min        -1.0       0.000000  23.000000      0.000000          0.000000   \n",
       "25%        -1.0     492.090106  33.500000      1.000000          0.000000   \n",
       "50%        -1.0    1203.369529  41.000000      1.000000          0.000000   \n",
       "75%        -1.0    2970.960064  50.500000      1.000000          2.000000   \n",
       "max        -1.0    9851.184337  69.000000      2.000000          4.000000   \n",
       "\n",
       "            debt   total_income  \n",
       "count  47.000000      47.000000  \n",
       "mean    0.021277  153298.588506  \n",
       "std     0.145865   67243.248222  \n",
       "min     0.000000   36052.447435  \n",
       "25%     0.000000  114252.758940  \n",
       "50%     0.000000  145017.937533  \n",
       "75%     0.000000  170162.421662  \n",
       "max     1.000000  321603.700207  "
      ]
     },
     "execution_count": 27,
     "metadata": {},
     "output_type": "execute_result"
    }
   ],
   "source": [
    "df[df.children == -1].describe()"
   ]
  },
  {
   "cell_type": "code",
   "execution_count": 28,
   "id": "2bfb12d0",
   "metadata": {},
   "outputs": [
    {
     "data": {
      "text/plain": [
       "0.9660842754367934"
      ]
     },
     "execution_count": 28,
     "metadata": {},
     "output_type": "execute_result"
    }
   ],
   "source": [
    "(47 / (4818 + 47)) * 100"
   ]
  },
  {
   "cell_type": "markdown",
   "id": "e1fe7a8b",
   "metadata": {},
   "source": [
    "Тоже напоминает техническую ошибку. Добавили - к 1 и получилось -1.\n",
    "\n",
    "Так как количество таких значений составляет меньше 1% от всех данных с детьми равными 1 + (-1), присвоим 1 вместо -1."
   ]
  },
  {
   "cell_type": "code",
   "execution_count": 29,
   "id": "f3f63198",
   "metadata": {},
   "outputs": [],
   "source": [
    "df.loc[df.children == -1, 'children'] = 1"
   ]
  },
  {
   "cell_type": "markdown",
   "id": "c1b2ae9e",
   "metadata": {},
   "source": [
    "Проверим уникальные значения"
   ]
  },
  {
   "cell_type": "code",
   "execution_count": 30,
   "id": "81c51ef7",
   "metadata": {},
   "outputs": [
    {
     "data": {
      "text/plain": [
       "0    14149\n",
       "1     4865\n",
       "2     2131\n",
       "3      330\n",
       "4       41\n",
       "5        9\n",
       "Name: children, dtype: int64"
      ]
     },
     "execution_count": 30,
     "metadata": {},
     "output_type": "execute_result"
    }
   ],
   "source": [
    "df.children.value_counts()"
   ]
  },
  {
   "cell_type": "markdown",
   "id": "6999b447",
   "metadata": {},
   "source": [
    "### 2.2.3 dob_years == 0"
   ]
  },
  {
   "cell_type": "code",
   "execution_count": 31,
   "id": "bf54fc3c",
   "metadata": {
    "scrolled": false
   },
   "outputs": [
    {
     "data": {
      "text/plain": [
       "dob_years\n",
       "0            101\n",
       "dtype: int64"
      ]
     },
     "execution_count": 31,
     "metadata": {},
     "output_type": "execute_result"
    }
   ],
   "source": [
    "df.loc[df['dob_years'] <= 18, ['dob_years']].value_counts()"
   ]
  },
  {
   "cell_type": "markdown",
   "id": "1ed61ff6",
   "metadata": {},
   "source": [
    "В промежутке от 0 до 18 лет встречаются только значения 0 лет. Заполним их медианным значением возраста."
   ]
  },
  {
   "cell_type": "code",
   "execution_count": 32,
   "id": "91183552",
   "metadata": {},
   "outputs": [
    {
     "data": {
      "text/plain": [
       "43.0"
      ]
     },
     "execution_count": 32,
     "metadata": {},
     "output_type": "execute_result"
    }
   ],
   "source": [
    "df[df['dob_years'] != 0]['dob_years'].median() # медиана не учитывая 0"
   ]
  },
  {
   "cell_type": "code",
   "execution_count": 33,
   "id": "e5f4cfa5",
   "metadata": {},
   "outputs": [],
   "source": [
    "# заменяем значения\n",
    "df.loc[df['dob_years'] == 0, 'dob_years'] = df[df['dob_years'] != 0]['dob_years'].median()"
   ]
  },
  {
   "cell_type": "code",
   "execution_count": 34,
   "id": "4180f8a8",
   "metadata": {},
   "outputs": [
    {
     "data": {
      "text/plain": [
       "Series([], dtype: int64)"
      ]
     },
     "execution_count": 34,
     "metadata": {},
     "output_type": "execute_result"
    }
   ],
   "source": [
    "# проверяем что нули ушли\n",
    "df.loc[df['dob_years'] < 18, ['dob_years']].value_counts()"
   ]
  },
  {
   "cell_type": "markdown",
   "id": "38b4c0c2",
   "metadata": {},
   "source": [
    "## Шаг 2.3. Изменение типов данных."
   ]
  },
  {
   "cell_type": "code",
   "execution_count": 35,
   "id": "57b5383c",
   "metadata": {
    "scrolled": true
   },
   "outputs": [
    {
     "name": "stdout",
     "output_type": "stream",
     "text": [
      "<class 'pandas.core.frame.DataFrame'>\n",
      "RangeIndex: 21525 entries, 0 to 21524\n",
      "Data columns (total 12 columns):\n",
      " #   Column            Non-Null Count  Dtype  \n",
      "---  ------            --------------  -----  \n",
      " 0   children          21525 non-null  int64  \n",
      " 1   days_employed     21525 non-null  float64\n",
      " 2   dob_years         21525 non-null  int64  \n",
      " 3   education         21525 non-null  object \n",
      " 4   education_id      21525 non-null  int64  \n",
      " 5   family_status     21525 non-null  object \n",
      " 6   family_status_id  21525 non-null  int64  \n",
      " 7   gender            21525 non-null  object \n",
      " 8   income_type       21525 non-null  object \n",
      " 9   debt              21525 non-null  int64  \n",
      " 10  total_income      21525 non-null  float64\n",
      " 11  purpose           21525 non-null  object \n",
      "dtypes: float64(2), int64(5), object(5)\n",
      "memory usage: 2.0+ MB\n"
     ]
    }
   ],
   "source": [
    "df.info()"
   ]
  },
  {
   "cell_type": "markdown",
   "id": "b7663e51",
   "metadata": {},
   "source": [
    "Заменим тип данных `float64` колонки `total_income` на `int`."
   ]
  },
  {
   "cell_type": "code",
   "execution_count": 36,
   "id": "03b920eb",
   "metadata": {},
   "outputs": [],
   "source": [
    "df['total_income'] = df['total_income'].astype('int')"
   ]
  },
  {
   "cell_type": "code",
   "execution_count": 37,
   "id": "f7fe57d9",
   "metadata": {},
   "outputs": [
    {
     "name": "stdout",
     "output_type": "stream",
     "text": [
      "<class 'pandas.core.frame.DataFrame'>\n",
      "RangeIndex: 21525 entries, 0 to 21524\n",
      "Data columns (total 12 columns):\n",
      " #   Column            Non-Null Count  Dtype  \n",
      "---  ------            --------------  -----  \n",
      " 0   children          21525 non-null  int64  \n",
      " 1   days_employed     21525 non-null  float64\n",
      " 2   dob_years         21525 non-null  int64  \n",
      " 3   education         21525 non-null  object \n",
      " 4   education_id      21525 non-null  int64  \n",
      " 5   family_status     21525 non-null  object \n",
      " 6   family_status_id  21525 non-null  int64  \n",
      " 7   gender            21525 non-null  object \n",
      " 8   income_type       21525 non-null  object \n",
      " 9   debt              21525 non-null  int64  \n",
      " 10  total_income      21525 non-null  int64  \n",
      " 11  purpose           21525 non-null  object \n",
      "dtypes: float64(1), int64(6), object(5)\n",
      "memory usage: 2.0+ MB\n"
     ]
    }
   ],
   "source": [
    "# проверим изменения\n",
    "df.info()"
   ]
  },
  {
   "cell_type": "markdown",
   "id": "507833c0",
   "metadata": {},
   "source": [
    "## Шаг 2.4. Удаление дубликатов."
   ]
  },
  {
   "cell_type": "markdown",
   "id": "54a875a9",
   "metadata": {},
   "source": [
    "Сначала удалим явные дубликаты. Так как у нас нет колонки `id` мы не сможем судить точно дубликаты ли это или нет. Но предлагаю всё равно их удалить, так как они занимают маленькую часть данных и их отсутствие не сильно скажется на анализе."
   ]
  },
  {
   "cell_type": "code",
   "execution_count": 38,
   "id": "648e975e",
   "metadata": {
    "scrolled": true
   },
   "outputs": [
    {
     "data": {
      "text/plain": [
       "54"
      ]
     },
     "execution_count": 38,
     "metadata": {},
     "output_type": "execute_result"
    }
   ],
   "source": [
    "# количество дубликатов\n",
    "df.duplicated().sum()"
   ]
  },
  {
   "cell_type": "code",
   "execution_count": 39,
   "id": "7228168d",
   "metadata": {},
   "outputs": [],
   "source": [
    "# удалим дубликаты\n",
    "df = df.drop_duplicates().reset_index(drop=True)"
   ]
  },
  {
   "cell_type": "code",
   "execution_count": 40,
   "id": "3dc5ec68",
   "metadata": {},
   "outputs": [
    {
     "data": {
      "text/plain": [
       "0"
      ]
     },
     "execution_count": 40,
     "metadata": {},
     "output_type": "execute_result"
    }
   ],
   "source": [
    "# проверяем\n",
    "df.duplicated().sum()"
   ]
  },
  {
   "cell_type": "markdown",
   "id": "f5a9b114",
   "metadata": {},
   "source": [
    "Теперь проверим неявные"
   ]
  },
  {
   "cell_type": "code",
   "execution_count": 41,
   "id": "76a077d9",
   "metadata": {},
   "outputs": [
    {
     "name": "stdout",
     "output_type": "stream",
     "text": [
      "<class 'pandas.core.frame.DataFrame'>\n",
      "RangeIndex: 21471 entries, 0 to 21470\n",
      "Data columns (total 12 columns):\n",
      " #   Column            Non-Null Count  Dtype  \n",
      "---  ------            --------------  -----  \n",
      " 0   children          21471 non-null  int64  \n",
      " 1   days_employed     21471 non-null  float64\n",
      " 2   dob_years         21471 non-null  int64  \n",
      " 3   education         21471 non-null  object \n",
      " 4   education_id      21471 non-null  int64  \n",
      " 5   family_status     21471 non-null  object \n",
      " 6   family_status_id  21471 non-null  int64  \n",
      " 7   gender            21471 non-null  object \n",
      " 8   income_type       21471 non-null  object \n",
      " 9   debt              21471 non-null  int64  \n",
      " 10  total_income      21471 non-null  int64  \n",
      " 11  purpose           21471 non-null  object \n",
      "dtypes: float64(1), int64(6), object(5)\n",
      "memory usage: 2.0+ MB\n"
     ]
    }
   ],
   "source": [
    "df.info()"
   ]
  },
  {
   "cell_type": "markdown",
   "id": "2c914ac1",
   "metadata": {},
   "source": [
    "Неявные дубликаты могут быть в колонках `education`, `family_status`, `gender`, `income_type`, `purpose`"
   ]
  },
  {
   "cell_type": "code",
   "execution_count": 42,
   "id": "ec0e2512",
   "metadata": {},
   "outputs": [
    {
     "data": {
      "text/plain": [
       "среднее                13705\n",
       "высшее                  4710\n",
       "СРЕДНЕЕ                  772\n",
       "Среднее                  711\n",
       "неоконченное высшее      668\n",
       "ВЫСШЕЕ                   273\n",
       "Высшее                   268\n",
       "начальное                250\n",
       "Неоконченное высшее       47\n",
       "НЕОКОНЧЕННОЕ ВЫСШЕЕ       29\n",
       "НАЧАЛЬНОЕ                 17\n",
       "Начальное                 15\n",
       "ученая степень             4\n",
       "Ученая степень             1\n",
       "УЧЕНАЯ СТЕПЕНЬ             1\n",
       "Name: education, dtype: int64"
      ]
     },
     "execution_count": 42,
     "metadata": {},
     "output_type": "execute_result"
    }
   ],
   "source": [
    "# смотрим на уникальные значения\n",
    "df['education'].value_counts()"
   ]
  },
  {
   "cell_type": "code",
   "execution_count": 43,
   "id": "2aca85b6",
   "metadata": {},
   "outputs": [],
   "source": [
    "# исправляем, сведя все к маленьким буквам\n",
    "df['education'] = df['education'].str.lower()"
   ]
  },
  {
   "cell_type": "code",
   "execution_count": 44,
   "id": "a6b60b17",
   "metadata": {},
   "outputs": [
    {
     "data": {
      "text/plain": [
       "среднее                15188\n",
       "высшее                  5251\n",
       "неоконченное высшее      744\n",
       "начальное                282\n",
       "ученая степень             6\n",
       "Name: education, dtype: int64"
      ]
     },
     "execution_count": 44,
     "metadata": {},
     "output_type": "execute_result"
    }
   ],
   "source": [
    "# проверяем\n",
    "df['education'].value_counts()"
   ]
  },
  {
   "cell_type": "code",
   "execution_count": 45,
   "id": "18bb9398",
   "metadata": {},
   "outputs": [
    {
     "data": {
      "text/plain": [
       "женат / замужем          12344\n",
       "гражданский брак          4163\n",
       "Не женат / не замужем     2810\n",
       "в разводе                 1195\n",
       "вдовец / вдова             959\n",
       "Name: family_status, dtype: int64"
      ]
     },
     "execution_count": 45,
     "metadata": {},
     "output_type": "execute_result"
    }
   ],
   "source": [
    "df['family_status'].value_counts()"
   ]
  },
  {
   "cell_type": "markdown",
   "id": "2887f522",
   "metadata": {},
   "source": [
    "В колонке `family_status` всё хорошо. Исправление не требуется"
   ]
  },
  {
   "cell_type": "code",
   "execution_count": 46,
   "id": "fc0599c9",
   "metadata": {},
   "outputs": [
    {
     "data": {
      "text/plain": [
       "F      14189\n",
       "M       7281\n",
       "XNA        1\n",
       "Name: gender, dtype: int64"
      ]
     },
     "execution_count": 46,
     "metadata": {},
     "output_type": "execute_result"
    }
   ],
   "source": [
    "df['gender'].value_counts()"
   ]
  },
  {
   "cell_type": "markdown",
   "id": "15b96e5c",
   "metadata": {},
   "source": [
    " Тут тоже все хорошо. `XNA` - intersex гендер."
   ]
  },
  {
   "cell_type": "code",
   "execution_count": 47,
   "id": "b12f3313",
   "metadata": {},
   "outputs": [
    {
     "data": {
      "text/plain": [
       "сотрудник          11091\n",
       "компаньон           5080\n",
       "пенсионер           3837\n",
       "госслужащий         1457\n",
       "безработный            2\n",
       "предприниматель        2\n",
       "студент                1\n",
       "в декрете              1\n",
       "Name: income_type, dtype: int64"
      ]
     },
     "execution_count": 47,
     "metadata": {},
     "output_type": "execute_result"
    }
   ],
   "source": [
    "df['income_type'].value_counts()"
   ]
  },
  {
   "cell_type": "markdown",
   "id": "90b5c8e2",
   "metadata": {},
   "source": [
    "Тут тоже всё оки."
   ]
  },
  {
   "cell_type": "code",
   "execution_count": 48,
   "id": "19345b76",
   "metadata": {},
   "outputs": [
    {
     "data": {
      "text/plain": [
       "свадьба                                   793\n",
       "на проведение свадьбы                     773\n",
       "сыграть свадьбу                           769\n",
       "операции с недвижимостью                  675\n",
       "покупка коммерческой недвижимости         662\n",
       "покупка жилья для сдачи                   652\n",
       "операции с жильем                         652\n",
       "операции с коммерческой недвижимостью     650\n",
       "покупка жилья                             646\n",
       "жилье                                     646\n",
       "покупка жилья для семьи                   638\n",
       "строительство собственной недвижимости    635\n",
       "недвижимость                              633\n",
       "операции со своей недвижимостью           627\n",
       "строительство жилой недвижимости          625\n",
       "покупка недвижимости                      621\n",
       "покупка своего жилья                      620\n",
       "строительство недвижимости                619\n",
       "ремонт жилью                              607\n",
       "покупка жилой недвижимости                606\n",
       "на покупку своего автомобиля              505\n",
       "заняться высшим образованием              496\n",
       "автомобиль                                494\n",
       "сделка с подержанным автомобилем          486\n",
       "свой автомобиль                           479\n",
       "на покупку подержанного автомобиля        478\n",
       "автомобили                                478\n",
       "на покупку автомобиля                     472\n",
       "приобретение автомобиля                   461\n",
       "дополнительное образование                460\n",
       "сделка с автомобилем                      455\n",
       "высшее образование                        452\n",
       "образование                               447\n",
       "получение дополнительного образования     447\n",
       "получение образования                     442\n",
       "профильное образование                    436\n",
       "получение высшего образования             426\n",
       "заняться образованием                     408\n",
       "Name: purpose, dtype: int64"
      ]
     },
     "execution_count": 48,
     "metadata": {},
     "output_type": "execute_result"
    }
   ],
   "source": [
    "df['purpose'].value_counts()"
   ]
  },
  {
   "cell_type": "markdown",
   "id": "6176760e",
   "metadata": {},
   "source": [
    "Выделим основные группы колонки `purpose`:\n",
    "* Свадьба\n",
    "* Жилье, недвижимость\n",
    "* Автомобиль\n",
    "* Образование\n",
    "\n",
    "Это пригодится нам в [шаге 2.7](#step2_7)"
   ]
  },
  {
   "cell_type": "code",
   "execution_count": 49,
   "id": "7c75d92f",
   "metadata": {
    "scrolled": false
   },
   "outputs": [],
   "source": [
    "# функция, которая разделит все значения колонки `purpose` на 4\n",
    "def categorize_by_keywords(arg):\n",
    "    stemmed_query = stemmer.stem(arg)\n",
    "    for word in stemmed_query.split(' '):\n",
    "        if word == 'жил' or word == 'недвижим' or word == 'жилья':\n",
    "            return 'операции с недвижимостью'\n",
    "        elif word == 'автомобил' or word == 'авто' or word == 'автомобили' or word == 'автомоб':\n",
    "            return 'операции с автомобилем'\n",
    "        elif word == 'образован':\n",
    "            return 'получение образования'\n",
    "        elif word == 'свадьб':\n",
    "            return 'проведение свадьбы'"
   ]
  },
  {
   "cell_type": "code",
   "execution_count": 50,
   "id": "d2077cde",
   "metadata": {},
   "outputs": [],
   "source": [
    "# заменим все значения на определенные\n",
    "df['purpose'] = df['purpose'].apply(categorize_by_keywords)"
   ]
  },
  {
   "cell_type": "code",
   "execution_count": 51,
   "id": "bd8752da",
   "metadata": {
    "scrolled": true
   },
   "outputs": [
    {
     "data": {
      "text/plain": [
       "0"
      ]
     },
     "execution_count": 51,
     "metadata": {},
     "output_type": "execute_result"
    }
   ],
   "source": [
    "df['purpose'].isna().sum()"
   ]
  },
  {
   "cell_type": "code",
   "execution_count": 52,
   "id": "f58625d9",
   "metadata": {},
   "outputs": [
    {
     "data": {
      "text/plain": [
       "операции с недвижимостью    10814\n",
       "операции с автомобилем       4308\n",
       "получение образования        4014\n",
       "проведение свадьбы           2335\n",
       "Name: purpose, dtype: int64"
      ]
     },
     "execution_count": 52,
     "metadata": {},
     "output_type": "execute_result"
    }
   ],
   "source": [
    "# проверим\n",
    "df['purpose'].value_counts()"
   ]
  },
  {
   "cell_type": "markdown",
   "id": "3f40c05c",
   "metadata": {},
   "source": [
    "**Вывод:**\n",
    "В колонке `education` все значения уже были одинаковые, нужно было только привести их к единому регистру. Возможные причины этому могли быть неаккуратность введения данных. Кто то пишет с большой буквы, кто то с маленькой, кто то капсом.\n",
    "\n",
    "В колонке `purpose` пришлось применить стемминг, чтобы выделить корни слов и по ключевым словам категоризировать цели взятия кредита. Такое происходит из-за того, что люди, которые заполняют колонку делают это разными словами, как придется."
   ]
  },
  {
   "cell_type": "markdown",
   "id": "f38a54aa",
   "metadata": {},
   "source": [
    "## Шаг 2.5. Формирование дополнительных датафреймов словарей, декомпозиция исходного датафрейма."
   ]
  },
  {
   "cell_type": "markdown",
   "id": "044838a7",
   "metadata": {},
   "source": [
    "Создадим два новых датафрейма с уникальными значениями по `education, education_id` и `family_status, family_status_id`"
   ]
  },
  {
   "cell_type": "code",
   "execution_count": 53,
   "id": "c6f59ec1",
   "metadata": {
    "scrolled": true
   },
   "outputs": [],
   "source": [
    "education_df = pd.DataFrame(df.loc[:, 'education':'education_id']).drop_duplicates().set_index('education_id')\n",
    "family_status_df = pd.DataFrame(df.loc[:, 'family_status':'family_status_id']).drop_duplicates().set_index('family_status_id')\n"
   ]
  },
  {
   "cell_type": "markdown",
   "id": "c75a866b",
   "metadata": {},
   "source": [
    "Проверим"
   ]
  },
  {
   "cell_type": "code",
   "execution_count": 54,
   "id": "3294b9f7",
   "metadata": {
    "scrolled": true
   },
   "outputs": [
    {
     "data": {
      "text/html": [
       "<div>\n",
       "<style scoped>\n",
       "    .dataframe tbody tr th:only-of-type {\n",
       "        vertical-align: middle;\n",
       "    }\n",
       "\n",
       "    .dataframe tbody tr th {\n",
       "        vertical-align: top;\n",
       "    }\n",
       "\n",
       "    .dataframe thead th {\n",
       "        text-align: right;\n",
       "    }\n",
       "</style>\n",
       "<table border=\"1\" class=\"dataframe\">\n",
       "  <thead>\n",
       "    <tr style=\"text-align: right;\">\n",
       "      <th></th>\n",
       "      <th>education</th>\n",
       "    </tr>\n",
       "    <tr>\n",
       "      <th>education_id</th>\n",
       "      <th></th>\n",
       "    </tr>\n",
       "  </thead>\n",
       "  <tbody>\n",
       "    <tr>\n",
       "      <th>0</th>\n",
       "      <td>высшее</td>\n",
       "    </tr>\n",
       "    <tr>\n",
       "      <th>1</th>\n",
       "      <td>среднее</td>\n",
       "    </tr>\n",
       "    <tr>\n",
       "      <th>2</th>\n",
       "      <td>неоконченное высшее</td>\n",
       "    </tr>\n",
       "    <tr>\n",
       "      <th>3</th>\n",
       "      <td>начальное</td>\n",
       "    </tr>\n",
       "    <tr>\n",
       "      <th>4</th>\n",
       "      <td>ученая степень</td>\n",
       "    </tr>\n",
       "  </tbody>\n",
       "</table>\n",
       "</div>"
      ],
      "text/plain": [
       "                        education\n",
       "education_id                     \n",
       "0                          высшее\n",
       "1                         среднее\n",
       "2             неоконченное высшее\n",
       "3                       начальное\n",
       "4                  ученая степень"
      ]
     },
     "execution_count": 54,
     "metadata": {},
     "output_type": "execute_result"
    }
   ],
   "source": [
    "education_df"
   ]
  },
  {
   "cell_type": "code",
   "execution_count": 55,
   "id": "275e2aa6",
   "metadata": {
    "scrolled": true
   },
   "outputs": [
    {
     "data": {
      "text/html": [
       "<div>\n",
       "<style scoped>\n",
       "    .dataframe tbody tr th:only-of-type {\n",
       "        vertical-align: middle;\n",
       "    }\n",
       "\n",
       "    .dataframe tbody tr th {\n",
       "        vertical-align: top;\n",
       "    }\n",
       "\n",
       "    .dataframe thead th {\n",
       "        text-align: right;\n",
       "    }\n",
       "</style>\n",
       "<table border=\"1\" class=\"dataframe\">\n",
       "  <thead>\n",
       "    <tr style=\"text-align: right;\">\n",
       "      <th></th>\n",
       "      <th>family_status</th>\n",
       "    </tr>\n",
       "    <tr>\n",
       "      <th>family_status_id</th>\n",
       "      <th></th>\n",
       "    </tr>\n",
       "  </thead>\n",
       "  <tbody>\n",
       "    <tr>\n",
       "      <th>0</th>\n",
       "      <td>женат / замужем</td>\n",
       "    </tr>\n",
       "    <tr>\n",
       "      <th>1</th>\n",
       "      <td>гражданский брак</td>\n",
       "    </tr>\n",
       "    <tr>\n",
       "      <th>2</th>\n",
       "      <td>вдовец / вдова</td>\n",
       "    </tr>\n",
       "    <tr>\n",
       "      <th>3</th>\n",
       "      <td>в разводе</td>\n",
       "    </tr>\n",
       "    <tr>\n",
       "      <th>4</th>\n",
       "      <td>Не женат / не замужем</td>\n",
       "    </tr>\n",
       "  </tbody>\n",
       "</table>\n",
       "</div>"
      ],
      "text/plain": [
       "                          family_status\n",
       "family_status_id                       \n",
       "0                       женат / замужем\n",
       "1                      гражданский брак\n",
       "2                        вдовец / вдова\n",
       "3                             в разводе\n",
       "4                 Не женат / не замужем"
      ]
     },
     "execution_count": 55,
     "metadata": {},
     "output_type": "execute_result"
    }
   ],
   "source": [
    "family_status_df"
   ]
  },
  {
   "cell_type": "markdown",
   "id": "469f15c8",
   "metadata": {},
   "source": [
    "Теперь удалим колонки `education` и `family_status` из основного датафрейма"
   ]
  },
  {
   "cell_type": "code",
   "execution_count": 56,
   "id": "fc5f5599",
   "metadata": {},
   "outputs": [],
   "source": [
    "# удаляем\n",
    "df = df.drop(['education', 'family_status'], axis=1)"
   ]
  },
  {
   "cell_type": "code",
   "execution_count": 57,
   "id": "fc5fa1f6",
   "metadata": {
    "scrolled": true
   },
   "outputs": [
    {
     "data": {
      "text/plain": [
       "Index(['children', 'days_employed', 'dob_years', 'education_id',\n",
       "       'family_status_id', 'gender', 'income_type', 'debt', 'total_income',\n",
       "       'purpose'],\n",
       "      dtype='object')"
      ]
     },
     "execution_count": 57,
     "metadata": {},
     "output_type": "execute_result"
    }
   ],
   "source": [
    "# проверяем\n",
    "df.columns"
   ]
  },
  {
   "cell_type": "markdown",
   "id": "6f67cea3",
   "metadata": {},
   "source": [
    "## Шаг 2.6. Категоризация дохода."
   ]
  },
  {
   "cell_type": "markdown",
   "id": "6040b931",
   "metadata": {},
   "source": [
    "Создадим новый столбец `total_income_category` на основании столбца `total_income` следующим образом:\n",
    "\n",
    "* 0–30000 — `E`;\n",
    "* 30001–50000 — `D`;\n",
    "* 50001–200000 — `C`;\n",
    "* 200001–1000000 — `B`;\n",
    "* 1000001 и выше — `A`."
   ]
  },
  {
   "cell_type": "code",
   "execution_count": 58,
   "id": "a1f7a91a",
   "metadata": {
    "scrolled": true
   },
   "outputs": [
    {
     "data": {
      "text/plain": [
       "count    2.147100e+04\n",
       "mean     1.652096e+05\n",
       "std      9.798386e+04\n",
       "min      2.066700e+04\n",
       "25%      1.076545e+05\n",
       "50%      1.450170e+05\n",
       "75%      1.957515e+05\n",
       "max      2.265604e+06\n",
       "Name: total_income, dtype: float64"
      ]
     },
     "execution_count": 58,
     "metadata": {},
     "output_type": "execute_result"
    }
   ],
   "source": [
    "df.total_income.describe()"
   ]
  },
  {
   "cell_type": "markdown",
   "id": "ebc29178",
   "metadata": {},
   "source": [
    "Все значения больше 0."
   ]
  },
  {
   "cell_type": "markdown",
   "id": "6b4df431",
   "metadata": {},
   "source": [
    "Напишем функцию, которая будет принимать число и возвращать строчку в зависимости от категории, в которое число попало."
   ]
  },
  {
   "cell_type": "code",
   "execution_count": 59,
   "id": "4d42e4ba",
   "metadata": {},
   "outputs": [],
   "source": [
    "def total_income_categoriser(arg):\n",
    "    if arg > 0 and arg <= 30000:\n",
    "        return 'E'\n",
    "    elif arg >= 30001 and arg <= 50000:\n",
    "        return 'D'\n",
    "    elif arg >= 50001 and arg <= 200000:\n",
    "        return 'C'\n",
    "    elif arg >= 200001and arg <= 1000000:\n",
    "        return 'B'\n",
    "    else:\n",
    "        return 'A'"
   ]
  },
  {
   "cell_type": "code",
   "execution_count": 60,
   "id": "9efd0fcd",
   "metadata": {},
   "outputs": [],
   "source": [
    "# создадим новый столбец, применив функцию total_income_categoriser\n",
    "df['total_income_category'] = df['total_income'].apply(total_income_categoriser)"
   ]
  },
  {
   "cell_type": "code",
   "execution_count": 61,
   "id": "219891f5",
   "metadata": {},
   "outputs": [
    {
     "data": {
      "text/html": [
       "<div>\n",
       "<style scoped>\n",
       "    .dataframe tbody tr th:only-of-type {\n",
       "        vertical-align: middle;\n",
       "    }\n",
       "\n",
       "    .dataframe tbody tr th {\n",
       "        vertical-align: top;\n",
       "    }\n",
       "\n",
       "    .dataframe thead th {\n",
       "        text-align: right;\n",
       "    }\n",
       "</style>\n",
       "<table border=\"1\" class=\"dataframe\">\n",
       "  <thead>\n",
       "    <tr style=\"text-align: right;\">\n",
       "      <th></th>\n",
       "      <th>children</th>\n",
       "      <th>days_employed</th>\n",
       "      <th>dob_years</th>\n",
       "      <th>education_id</th>\n",
       "      <th>family_status_id</th>\n",
       "      <th>gender</th>\n",
       "      <th>income_type</th>\n",
       "      <th>debt</th>\n",
       "      <th>total_income</th>\n",
       "      <th>purpose</th>\n",
       "      <th>total_income_category</th>\n",
       "    </tr>\n",
       "  </thead>\n",
       "  <tbody>\n",
       "    <tr>\n",
       "      <th>0</th>\n",
       "      <td>1</td>\n",
       "      <td>8437.673028</td>\n",
       "      <td>42</td>\n",
       "      <td>0</td>\n",
       "      <td>0</td>\n",
       "      <td>F</td>\n",
       "      <td>сотрудник</td>\n",
       "      <td>0</td>\n",
       "      <td>253875</td>\n",
       "      <td>операции с недвижимостью</td>\n",
       "      <td>B</td>\n",
       "    </tr>\n",
       "    <tr>\n",
       "      <th>1</th>\n",
       "      <td>1</td>\n",
       "      <td>4024.803754</td>\n",
       "      <td>36</td>\n",
       "      <td>1</td>\n",
       "      <td>0</td>\n",
       "      <td>F</td>\n",
       "      <td>сотрудник</td>\n",
       "      <td>0</td>\n",
       "      <td>112080</td>\n",
       "      <td>операции с автомобилем</td>\n",
       "      <td>C</td>\n",
       "    </tr>\n",
       "    <tr>\n",
       "      <th>2</th>\n",
       "      <td>0</td>\n",
       "      <td>5623.422610</td>\n",
       "      <td>33</td>\n",
       "      <td>1</td>\n",
       "      <td>0</td>\n",
       "      <td>M</td>\n",
       "      <td>сотрудник</td>\n",
       "      <td>0</td>\n",
       "      <td>145885</td>\n",
       "      <td>операции с недвижимостью</td>\n",
       "      <td>C</td>\n",
       "    </tr>\n",
       "    <tr>\n",
       "      <th>3</th>\n",
       "      <td>3</td>\n",
       "      <td>4124.747207</td>\n",
       "      <td>32</td>\n",
       "      <td>1</td>\n",
       "      <td>0</td>\n",
       "      <td>M</td>\n",
       "      <td>сотрудник</td>\n",
       "      <td>0</td>\n",
       "      <td>267628</td>\n",
       "      <td>получение образования</td>\n",
       "      <td>B</td>\n",
       "    </tr>\n",
       "    <tr>\n",
       "      <th>4</th>\n",
       "      <td>0</td>\n",
       "      <td>0.000000</td>\n",
       "      <td>53</td>\n",
       "      <td>1</td>\n",
       "      <td>1</td>\n",
       "      <td>F</td>\n",
       "      <td>пенсионер</td>\n",
       "      <td>0</td>\n",
       "      <td>158616</td>\n",
       "      <td>проведение свадьбы</td>\n",
       "      <td>C</td>\n",
       "    </tr>\n",
       "  </tbody>\n",
       "</table>\n",
       "</div>"
      ],
      "text/plain": [
       "   children  days_employed  dob_years  education_id  family_status_id gender  \\\n",
       "0         1    8437.673028         42             0                 0      F   \n",
       "1         1    4024.803754         36             1                 0      F   \n",
       "2         0    5623.422610         33             1                 0      M   \n",
       "3         3    4124.747207         32             1                 0      M   \n",
       "4         0       0.000000         53             1                 1      F   \n",
       "\n",
       "  income_type  debt  total_income                   purpose  \\\n",
       "0   сотрудник     0        253875  операции с недвижимостью   \n",
       "1   сотрудник     0        112080    операции с автомобилем   \n",
       "2   сотрудник     0        145885  операции с недвижимостью   \n",
       "3   сотрудник     0        267628     получение образования   \n",
       "4   пенсионер     0        158616        проведение свадьбы   \n",
       "\n",
       "  total_income_category  \n",
       "0                     B  \n",
       "1                     C  \n",
       "2                     C  \n",
       "3                     B  \n",
       "4                     C  "
      ]
     },
     "execution_count": 61,
     "metadata": {},
     "output_type": "execute_result"
    }
   ],
   "source": [
    "# проверяем\n",
    "df.head()"
   ]
  },
  {
   "cell_type": "markdown",
   "id": "77a2d44b",
   "metadata": {},
   "source": [
    "## Шаг 2.7. Категоризация целей кредита. <a id='step2_7'></a>"
   ]
  },
  {
   "cell_type": "markdown",
   "id": "921c04f5",
   "metadata": {},
   "source": [
    "Так как мы уже категоризировали колонку `purpose` ранее в значения:\n",
    "* операции с автомобилем,\n",
    "* операции с недвижимостью,\n",
    "* проведение свадьбы,\n",
    "* получение образования.\n",
    "\n",
    "Просто изменим название колонки `purpose` на `purpose_category`."
   ]
  },
  {
   "cell_type": "code",
   "execution_count": 62,
   "id": "17885f41",
   "metadata": {},
   "outputs": [],
   "source": [
    "df = df.rename(columns={'purpose': 'purpose_category'}, errors='raise')"
   ]
  },
  {
   "cell_type": "code",
   "execution_count": 63,
   "id": "81f1efa6",
   "metadata": {},
   "outputs": [
    {
     "data": {
      "text/html": [
       "<div>\n",
       "<style scoped>\n",
       "    .dataframe tbody tr th:only-of-type {\n",
       "        vertical-align: middle;\n",
       "    }\n",
       "\n",
       "    .dataframe tbody tr th {\n",
       "        vertical-align: top;\n",
       "    }\n",
       "\n",
       "    .dataframe thead th {\n",
       "        text-align: right;\n",
       "    }\n",
       "</style>\n",
       "<table border=\"1\" class=\"dataframe\">\n",
       "  <thead>\n",
       "    <tr style=\"text-align: right;\">\n",
       "      <th></th>\n",
       "      <th>children</th>\n",
       "      <th>days_employed</th>\n",
       "      <th>dob_years</th>\n",
       "      <th>education_id</th>\n",
       "      <th>family_status_id</th>\n",
       "      <th>gender</th>\n",
       "      <th>income_type</th>\n",
       "      <th>debt</th>\n",
       "      <th>total_income</th>\n",
       "      <th>purpose_category</th>\n",
       "      <th>total_income_category</th>\n",
       "    </tr>\n",
       "  </thead>\n",
       "  <tbody>\n",
       "    <tr>\n",
       "      <th>0</th>\n",
       "      <td>1</td>\n",
       "      <td>8437.673028</td>\n",
       "      <td>42</td>\n",
       "      <td>0</td>\n",
       "      <td>0</td>\n",
       "      <td>F</td>\n",
       "      <td>сотрудник</td>\n",
       "      <td>0</td>\n",
       "      <td>253875</td>\n",
       "      <td>операции с недвижимостью</td>\n",
       "      <td>B</td>\n",
       "    </tr>\n",
       "    <tr>\n",
       "      <th>1</th>\n",
       "      <td>1</td>\n",
       "      <td>4024.803754</td>\n",
       "      <td>36</td>\n",
       "      <td>1</td>\n",
       "      <td>0</td>\n",
       "      <td>F</td>\n",
       "      <td>сотрудник</td>\n",
       "      <td>0</td>\n",
       "      <td>112080</td>\n",
       "      <td>операции с автомобилем</td>\n",
       "      <td>C</td>\n",
       "    </tr>\n",
       "    <tr>\n",
       "      <th>2</th>\n",
       "      <td>0</td>\n",
       "      <td>5623.422610</td>\n",
       "      <td>33</td>\n",
       "      <td>1</td>\n",
       "      <td>0</td>\n",
       "      <td>M</td>\n",
       "      <td>сотрудник</td>\n",
       "      <td>0</td>\n",
       "      <td>145885</td>\n",
       "      <td>операции с недвижимостью</td>\n",
       "      <td>C</td>\n",
       "    </tr>\n",
       "    <tr>\n",
       "      <th>3</th>\n",
       "      <td>3</td>\n",
       "      <td>4124.747207</td>\n",
       "      <td>32</td>\n",
       "      <td>1</td>\n",
       "      <td>0</td>\n",
       "      <td>M</td>\n",
       "      <td>сотрудник</td>\n",
       "      <td>0</td>\n",
       "      <td>267628</td>\n",
       "      <td>получение образования</td>\n",
       "      <td>B</td>\n",
       "    </tr>\n",
       "    <tr>\n",
       "      <th>4</th>\n",
       "      <td>0</td>\n",
       "      <td>0.000000</td>\n",
       "      <td>53</td>\n",
       "      <td>1</td>\n",
       "      <td>1</td>\n",
       "      <td>F</td>\n",
       "      <td>пенсионер</td>\n",
       "      <td>0</td>\n",
       "      <td>158616</td>\n",
       "      <td>проведение свадьбы</td>\n",
       "      <td>C</td>\n",
       "    </tr>\n",
       "  </tbody>\n",
       "</table>\n",
       "</div>"
      ],
      "text/plain": [
       "   children  days_employed  dob_years  education_id  family_status_id gender  \\\n",
       "0         1    8437.673028         42             0                 0      F   \n",
       "1         1    4024.803754         36             1                 0      F   \n",
       "2         0    5623.422610         33             1                 0      M   \n",
       "3         3    4124.747207         32             1                 0      M   \n",
       "4         0       0.000000         53             1                 1      F   \n",
       "\n",
       "  income_type  debt  total_income          purpose_category  \\\n",
       "0   сотрудник     0        253875  операции с недвижимостью   \n",
       "1   сотрудник     0        112080    операции с автомобилем   \n",
       "2   сотрудник     0        145885  операции с недвижимостью   \n",
       "3   сотрудник     0        267628     получение образования   \n",
       "4   пенсионер     0        158616        проведение свадьбы   \n",
       "\n",
       "  total_income_category  \n",
       "0                     B  \n",
       "1                     C  \n",
       "2                     C  \n",
       "3                     B  \n",
       "4                     C  "
      ]
     },
     "execution_count": 63,
     "metadata": {},
     "output_type": "execute_result"
    }
   ],
   "source": [
    "df.head()"
   ]
  },
  {
   "cell_type": "markdown",
   "id": "8669d88a",
   "metadata": {},
   "source": [
    "## Ответы на вопросы."
   ]
  },
  {
   "cell_type": "markdown",
   "id": "bdef8ec3",
   "metadata": {},
   "source": [
    "#### Вопрос 1:\n",
    "Есть ли зависимость между количеством детей и возвратом кредита в срок?\n",
    "\n",
    "`debt` — имел ли задолженность по возврату кредитов"
   ]
  },
  {
   "cell_type": "code",
   "execution_count": 64,
   "id": "239b139c",
   "metadata": {},
   "outputs": [
    {
     "data": {
      "text/html": [
       "<div>\n",
       "<style scoped>\n",
       "    .dataframe tbody tr th:only-of-type {\n",
       "        vertical-align: middle;\n",
       "    }\n",
       "\n",
       "    .dataframe tbody tr th {\n",
       "        vertical-align: top;\n",
       "    }\n",
       "\n",
       "    .dataframe thead th {\n",
       "        text-align: right;\n",
       "    }\n",
       "</style>\n",
       "<table border=\"1\" class=\"dataframe\">\n",
       "  <thead>\n",
       "    <tr style=\"text-align: right;\">\n",
       "      <th>debt</th>\n",
       "      <th>0</th>\n",
       "      <th>1</th>\n",
       "      <th>ratio_%</th>\n",
       "    </tr>\n",
       "    <tr>\n",
       "      <th>children</th>\n",
       "      <th></th>\n",
       "      <th></th>\n",
       "      <th></th>\n",
       "    </tr>\n",
       "  </thead>\n",
       "  <tbody>\n",
       "    <tr>\n",
       "      <th>0</th>\n",
       "      <td>13044.0</td>\n",
       "      <td>1063.0</td>\n",
       "      <td>7.535266</td>\n",
       "    </tr>\n",
       "    <tr>\n",
       "      <th>1</th>\n",
       "      <td>4411.0</td>\n",
       "      <td>445.0</td>\n",
       "      <td>9.163921</td>\n",
       "    </tr>\n",
       "    <tr>\n",
       "      <th>2</th>\n",
       "      <td>1926.0</td>\n",
       "      <td>202.0</td>\n",
       "      <td>9.492481</td>\n",
       "    </tr>\n",
       "    <tr>\n",
       "      <th>3</th>\n",
       "      <td>303.0</td>\n",
       "      <td>27.0</td>\n",
       "      <td>8.181818</td>\n",
       "    </tr>\n",
       "    <tr>\n",
       "      <th>4</th>\n",
       "      <td>37.0</td>\n",
       "      <td>4.0</td>\n",
       "      <td>9.756098</td>\n",
       "    </tr>\n",
       "    <tr>\n",
       "      <th>5</th>\n",
       "      <td>9.0</td>\n",
       "      <td>NaN</td>\n",
       "      <td>NaN</td>\n",
       "    </tr>\n",
       "  </tbody>\n",
       "</table>\n",
       "</div>"
      ],
      "text/plain": [
       "debt            0       1   ratio_%\n",
       "children                           \n",
       "0         13044.0  1063.0  7.535266\n",
       "1          4411.0   445.0  9.163921\n",
       "2          1926.0   202.0  9.492481\n",
       "3           303.0    27.0  8.181818\n",
       "4            37.0     4.0  9.756098\n",
       "5             9.0     NaN       NaN"
      ]
     },
     "execution_count": 64,
     "metadata": {},
     "output_type": "execute_result"
    }
   ],
   "source": [
    "debt_children = df.pivot_table(index='children', columns= 'debt', values='days_employed', aggfunc='count')\n",
    "\n",
    "debt_children['ratio_%'] = (debt_children[1] / (debt_children[0] + debt_children[1])) * 100\n",
    "debt_children"
   ]
  },
  {
   "cell_type": "markdown",
   "id": "d9b60a21",
   "metadata": {},
   "source": [
    "#### Вывод 1:"
   ]
  },
  {
   "cell_type": "markdown",
   "id": "62ba9771",
   "metadata": {},
   "source": [
    "Если у ребенка 0 детей, то он наиболее вероятно вернет кредит. Если у ребенка 4 ребенка, то он наименее вероятно вернет кредит.\n",
    "\n",
    "Данные не позволяют четко утверждать о зависимости возврата кредита и детей, но можно предположить, что чем больше в семье детей, тем менее вероятен возврат кредита."
   ]
  },
  {
   "cell_type": "markdown",
   "id": "d2946755",
   "metadata": {},
   "source": [
    "#### Вопрос 2:\n",
    "Есть ли зависимость между семейным положением и возвратом кредита в срок?"
   ]
  },
  {
   "cell_type": "code",
   "execution_count": 65,
   "id": "1986f167",
   "metadata": {},
   "outputs": [],
   "source": [
    "family_status_debt = df.join(family_status_df, on='family_status_id', how='left') \\\n",
    "                       .pivot_table(index='family_status', columns='debt', values='gender', aggfunc='count')\n",
    "family_status_debt['ratio_%'] = (family_status_debt[1] / (family_status_debt[1] + family_status_debt[0])) * 100"
   ]
  },
  {
   "cell_type": "code",
   "execution_count": 66,
   "id": "41eca883",
   "metadata": {},
   "outputs": [
    {
     "data": {
      "text/html": [
       "<div>\n",
       "<style scoped>\n",
       "    .dataframe tbody tr th:only-of-type {\n",
       "        vertical-align: middle;\n",
       "    }\n",
       "\n",
       "    .dataframe tbody tr th {\n",
       "        vertical-align: top;\n",
       "    }\n",
       "\n",
       "    .dataframe thead th {\n",
       "        text-align: right;\n",
       "    }\n",
       "</style>\n",
       "<table border=\"1\" class=\"dataframe\">\n",
       "  <thead>\n",
       "    <tr style=\"text-align: right;\">\n",
       "      <th>debt</th>\n",
       "      <th>0</th>\n",
       "      <th>1</th>\n",
       "      <th>ratio_%</th>\n",
       "    </tr>\n",
       "    <tr>\n",
       "      <th>family_status</th>\n",
       "      <th></th>\n",
       "      <th></th>\n",
       "      <th></th>\n",
       "    </tr>\n",
       "  </thead>\n",
       "  <tbody>\n",
       "    <tr>\n",
       "      <th>Не женат / не замужем</th>\n",
       "      <td>2536</td>\n",
       "      <td>274</td>\n",
       "      <td>9.750890</td>\n",
       "    </tr>\n",
       "    <tr>\n",
       "      <th>в разводе</th>\n",
       "      <td>1110</td>\n",
       "      <td>85</td>\n",
       "      <td>7.112971</td>\n",
       "    </tr>\n",
       "    <tr>\n",
       "      <th>вдовец / вдова</th>\n",
       "      <td>896</td>\n",
       "      <td>63</td>\n",
       "      <td>6.569343</td>\n",
       "    </tr>\n",
       "    <tr>\n",
       "      <th>гражданский брак</th>\n",
       "      <td>3775</td>\n",
       "      <td>388</td>\n",
       "      <td>9.320202</td>\n",
       "    </tr>\n",
       "    <tr>\n",
       "      <th>женат / замужем</th>\n",
       "      <td>11413</td>\n",
       "      <td>931</td>\n",
       "      <td>7.542126</td>\n",
       "    </tr>\n",
       "  </tbody>\n",
       "</table>\n",
       "</div>"
      ],
      "text/plain": [
       "debt                       0    1   ratio_%\n",
       "family_status                              \n",
       "Не женат / не замужем   2536  274  9.750890\n",
       "в разводе               1110   85  7.112971\n",
       "вдовец / вдова           896   63  6.569343\n",
       "гражданский брак        3775  388  9.320202\n",
       "женат / замужем        11413  931  7.542126"
      ]
     },
     "execution_count": 66,
     "metadata": {},
     "output_type": "execute_result"
    }
   ],
   "source": [
    "family_status_debt"
   ]
  },
  {
   "cell_type": "markdown",
   "id": "5f3c5f45",
   "metadata": {},
   "source": [
    "#### Вывод 2:"
   ]
  },
  {
   "cell_type": "markdown",
   "id": "0ce8c052",
   "metadata": {},
   "source": [
    "Люди со статусами `Не женат / не замужем`, `гражданский брак` наименее вероятно возвращали кредиты. Люди со статусом `женат / замужем`, `вдовец / вдова`, `в разводе` наиболее вероятно возвращали кредиты.\n",
    "\n",
    "Делая такой вывод, следует помнить о том, что количество данных в группах довольно сильно различаются и такой прогноз может быть не точным."
   ]
  },
  {
   "cell_type": "markdown",
   "id": "a955a92d",
   "metadata": {},
   "source": [
    "#### Вопрос 3:\n",
    "Есть ли зависимость между уровнем дохода и возвратом кредита в срок?"
   ]
  },
  {
   "cell_type": "code",
   "execution_count": 67,
   "id": "4b41a31c",
   "metadata": {},
   "outputs": [],
   "source": [
    "total_income_debt = df.pivot_table(index='total_income_category', columns='debt', values='gender', aggfunc='count')\n",
    "total_income_debt['ratio_%'] = (total_income_debt[1] / (total_income_debt[1] + total_income_debt[0])) * 100"
   ]
  },
  {
   "cell_type": "code",
   "execution_count": 68,
   "id": "03c38246",
   "metadata": {
    "scrolled": true
   },
   "outputs": [
    {
     "data": {
      "text/html": [
       "<div>\n",
       "<style scoped>\n",
       "    .dataframe tbody tr th:only-of-type {\n",
       "        vertical-align: middle;\n",
       "    }\n",
       "\n",
       "    .dataframe tbody tr th {\n",
       "        vertical-align: top;\n",
       "    }\n",
       "\n",
       "    .dataframe thead th {\n",
       "        text-align: right;\n",
       "    }\n",
       "</style>\n",
       "<table border=\"1\" class=\"dataframe\">\n",
       "  <thead>\n",
       "    <tr style=\"text-align: right;\">\n",
       "      <th>debt</th>\n",
       "      <th>0</th>\n",
       "      <th>1</th>\n",
       "      <th>ratio_%</th>\n",
       "    </tr>\n",
       "    <tr>\n",
       "      <th>total_income_category</th>\n",
       "      <th></th>\n",
       "      <th></th>\n",
       "      <th></th>\n",
       "    </tr>\n",
       "  </thead>\n",
       "  <tbody>\n",
       "    <tr>\n",
       "      <th>A</th>\n",
       "      <td>23</td>\n",
       "      <td>2</td>\n",
       "      <td>8.000000</td>\n",
       "    </tr>\n",
       "    <tr>\n",
       "      <th>B</th>\n",
       "      <td>4685</td>\n",
       "      <td>356</td>\n",
       "      <td>7.062091</td>\n",
       "    </tr>\n",
       "    <tr>\n",
       "      <th>C</th>\n",
       "      <td>14673</td>\n",
       "      <td>1360</td>\n",
       "      <td>8.482505</td>\n",
       "    </tr>\n",
       "    <tr>\n",
       "      <th>D</th>\n",
       "      <td>329</td>\n",
       "      <td>21</td>\n",
       "      <td>6.000000</td>\n",
       "    </tr>\n",
       "    <tr>\n",
       "      <th>E</th>\n",
       "      <td>20</td>\n",
       "      <td>2</td>\n",
       "      <td>9.090909</td>\n",
       "    </tr>\n",
       "  </tbody>\n",
       "</table>\n",
       "</div>"
      ],
      "text/plain": [
       "debt                       0     1   ratio_%\n",
       "total_income_category                       \n",
       "A                         23     2  8.000000\n",
       "B                       4685   356  7.062091\n",
       "C                      14673  1360  8.482505\n",
       "D                        329    21  6.000000\n",
       "E                         20     2  9.090909"
      ]
     },
     "execution_count": 68,
     "metadata": {},
     "output_type": "execute_result"
    }
   ],
   "source": [
    "total_income_debt"
   ]
  },
  {
   "cell_type": "markdown",
   "id": "c6cfa5a0",
   "metadata": {},
   "source": [
    "#### Вывод 3:"
   ]
  },
  {
   "cell_type": "markdown",
   "id": "ba7e33e4",
   "metadata": {},
   "source": [
    "Заработок напоминает нормальное распределение. Больше всего людей со средним заработком, меньше всего тех, кто зарабатывает очень много или совсем не зарабатывает.\n",
    "\n",
    "Судить о том, кто наиболее вероятно вернет кредит сложно, но можно отметить, что наименьшая доля тех, кто не вернул кредит отмечается у людей с категориями зароботка `D` и `B`."
   ]
  },
  {
   "cell_type": "markdown",
   "id": "5a34e01a",
   "metadata": {},
   "source": [
    "#### Вопрос 4:\n",
    "Как разные цели кредита влияют на его возврат в срок?\n"
   ]
  },
  {
   "cell_type": "code",
   "execution_count": 69,
   "id": "017e65b4",
   "metadata": {},
   "outputs": [],
   "source": [
    "purpose_category_debt = df.pivot_table(index='purpose_category', columns='debt', values='gender', aggfunc='count')\n",
    "purpose_category_debt['ratio_%'] = (purpose_category_debt[1] / (purpose_category_debt[1] + purpose_category_debt[0])) * 100"
   ]
  },
  {
   "cell_type": "code",
   "execution_count": 70,
   "id": "966708f7",
   "metadata": {},
   "outputs": [
    {
     "data": {
      "text/html": [
       "<div>\n",
       "<style scoped>\n",
       "    .dataframe tbody tr th:only-of-type {\n",
       "        vertical-align: middle;\n",
       "    }\n",
       "\n",
       "    .dataframe tbody tr th {\n",
       "        vertical-align: top;\n",
       "    }\n",
       "\n",
       "    .dataframe thead th {\n",
       "        text-align: right;\n",
       "    }\n",
       "</style>\n",
       "<table border=\"1\" class=\"dataframe\">\n",
       "  <thead>\n",
       "    <tr style=\"text-align: right;\">\n",
       "      <th>debt</th>\n",
       "      <th>0</th>\n",
       "      <th>1</th>\n",
       "      <th>ratio_%</th>\n",
       "    </tr>\n",
       "    <tr>\n",
       "      <th>purpose_category</th>\n",
       "      <th></th>\n",
       "      <th></th>\n",
       "      <th></th>\n",
       "    </tr>\n",
       "  </thead>\n",
       "  <tbody>\n",
       "    <tr>\n",
       "      <th>операции с автомобилем</th>\n",
       "      <td>3905</td>\n",
       "      <td>403</td>\n",
       "      <td>9.354689</td>\n",
       "    </tr>\n",
       "    <tr>\n",
       "      <th>операции с недвижимостью</th>\n",
       "      <td>10032</td>\n",
       "      <td>782</td>\n",
       "      <td>7.231367</td>\n",
       "    </tr>\n",
       "    <tr>\n",
       "      <th>получение образования</th>\n",
       "      <td>3644</td>\n",
       "      <td>370</td>\n",
       "      <td>9.217738</td>\n",
       "    </tr>\n",
       "    <tr>\n",
       "      <th>проведение свадьбы</th>\n",
       "      <td>2149</td>\n",
       "      <td>186</td>\n",
       "      <td>7.965739</td>\n",
       "    </tr>\n",
       "  </tbody>\n",
       "</table>\n",
       "</div>"
      ],
      "text/plain": [
       "debt                          0    1   ratio_%\n",
       "purpose_category                              \n",
       "операции с автомобилем     3905  403  9.354689\n",
       "операции с недвижимостью  10032  782  7.231367\n",
       "получение образования      3644  370  9.217738\n",
       "проведение свадьбы         2149  186  7.965739"
      ]
     },
     "execution_count": 70,
     "metadata": {},
     "output_type": "execute_result"
    }
   ],
   "source": [
    "purpose_category_debt"
   ]
  },
  {
   "cell_type": "markdown",
   "id": "adadf4db",
   "metadata": {},
   "source": [
    "#### Вывод 4"
   ]
  },
  {
   "cell_type": "markdown",
   "id": "4294b5f2",
   "metadata": {},
   "source": [
    "Люди которые берут кредит на `операции с недвижимостью` и `проведение свадьбы` наиболее вероятно вернут кредит, чем те, кто берет кредит на `операции с автомобилем` и `получение образования`. "
   ]
  },
  {
   "cell_type": "markdown",
   "id": "5ccadd88",
   "metadata": {},
   "source": [
    "# Общий вывод:"
   ]
  },
  {
   "cell_type": "markdown",
   "id": "8c5d4ebe",
   "metadata": {},
   "source": [
    "Было обнаружено много ошибок в данных. Все они были исправлены и очищены. \n",
    "\n",
    "Предобработанные данные можно интерпретировать так:\n",
    "Если у человека нет детей, он женат / замужем, вдовец / вдова, в разводе, и он берет кредит на недвижимость или свадьбу, то вероятность того, что он вернет кредит - наибольшая."
   ]
  }
 ],
 "metadata": {
  "ExecuteTimeLog": [
   {
    "duration": 7381,
    "start_time": "2022-04-18T17:15:39.982Z"
   },
   {
    "duration": 698,
    "start_time": "2022-04-18T17:15:47.452Z"
   },
   {
    "duration": 102,
    "start_time": "2022-04-18T17:15:48.159Z"
   },
   {
    "duration": 286,
    "start_time": "2022-04-18T17:15:48.262Z"
   },
   {
    "duration": 8,
    "start_time": "2022-04-18T17:15:48.554Z"
   },
   {
    "duration": 187,
    "start_time": "2022-04-18T17:15:48.564Z"
   },
   {
    "duration": 96,
    "start_time": "2022-04-18T17:15:48.752Z"
   },
   {
    "duration": 101,
    "start_time": "2022-04-18T17:15:48.850Z"
   },
   {
    "duration": 113,
    "start_time": "2022-04-18T17:15:48.952Z"
   },
   {
    "duration": 209,
    "start_time": "2022-04-18T17:15:49.148Z"
   },
   {
    "duration": 199,
    "start_time": "2022-04-18T17:15:49.453Z"
   },
   {
    "duration": 101,
    "start_time": "2022-04-18T17:15:49.654Z"
   },
   {
    "duration": 92,
    "start_time": "2022-04-18T17:15:49.757Z"
   },
   {
    "duration": 99,
    "start_time": "2022-04-18T17:15:49.853Z"
   },
   {
    "duration": 208,
    "start_time": "2022-04-18T17:15:49.953Z"
   },
   {
    "duration": 197,
    "start_time": "2022-04-18T17:15:50.252Z"
   },
   {
    "duration": 194,
    "start_time": "2022-04-18T17:15:50.454Z"
   },
   {
    "duration": 7,
    "start_time": "2022-04-18T17:15:50.650Z"
   },
   {
    "duration": 197,
    "start_time": "2022-04-18T17:15:50.658Z"
   },
   {
    "duration": 198,
    "start_time": "2022-04-18T17:15:50.857Z"
   },
   {
    "duration": 103,
    "start_time": "2022-04-18T17:15:51.057Z"
   },
   {
    "duration": 92,
    "start_time": "2022-04-18T17:15:51.161Z"
   },
   {
    "duration": 293,
    "start_time": "2022-04-18T17:15:51.256Z"
   },
   {
    "duration": 195,
    "start_time": "2022-04-18T17:15:51.554Z"
   },
   {
    "duration": 5,
    "start_time": "2022-04-18T17:15:51.751Z"
   },
   {
    "duration": 98,
    "start_time": "2022-04-18T17:15:51.757Z"
   },
   {
    "duration": 298,
    "start_time": "2022-04-18T17:15:51.857Z"
   },
   {
    "duration": 90,
    "start_time": "2022-04-18T17:15:52.158Z"
   },
   {
    "duration": 112,
    "start_time": "2022-04-18T17:15:52.250Z"
   },
   {
    "duration": 106,
    "start_time": "2022-04-18T17:15:52.447Z"
   },
   {
    "duration": 100,
    "start_time": "2022-04-18T17:15:52.556Z"
   },
   {
    "duration": 89,
    "start_time": "2022-04-18T17:15:52.665Z"
   },
   {
    "duration": 194,
    "start_time": "2022-04-18T17:15:52.756Z"
   },
   {
    "duration": 200,
    "start_time": "2022-04-18T17:15:52.956Z"
   },
   {
    "duration": 106,
    "start_time": "2022-04-18T17:15:53.159Z"
   },
   {
    "duration": 86,
    "start_time": "2022-04-18T17:15:53.267Z"
   },
   {
    "duration": 102,
    "start_time": "2022-04-18T17:15:53.360Z"
   },
   {
    "duration": 96,
    "start_time": "2022-04-18T17:15:53.558Z"
   },
   {
    "duration": 110,
    "start_time": "2022-04-18T17:15:53.657Z"
   },
   {
    "duration": 179,
    "start_time": "2022-04-18T17:15:53.769Z"
   },
   {
    "duration": 100,
    "start_time": "2022-04-18T17:15:53.953Z"
   },
   {
    "duration": 93,
    "start_time": "2022-04-18T17:15:54.055Z"
   },
   {
    "duration": 13,
    "start_time": "2022-04-18T17:15:54.150Z"
   },
   {
    "duration": 195,
    "start_time": "2022-04-18T17:15:54.165Z"
   },
   {
    "duration": 97,
    "start_time": "2022-04-18T17:15:54.363Z"
   },
   {
    "duration": 193,
    "start_time": "2022-04-18T17:15:54.462Z"
   },
   {
    "duration": 93,
    "start_time": "2022-04-18T17:15:54.657Z"
   },
   {
    "duration": 107,
    "start_time": "2022-04-18T17:15:54.754Z"
   },
   {
    "duration": 196,
    "start_time": "2022-04-18T17:15:54.953Z"
   },
   {
    "duration": 20,
    "start_time": "2022-04-18T17:15:55.150Z"
   },
   {
    "duration": 7800,
    "start_time": "2022-04-18T17:15:55.248Z"
   },
   {
    "duration": 105,
    "start_time": "2022-04-18T17:16:03.051Z"
   },
   {
    "duration": 204,
    "start_time": "2022-04-18T17:16:03.159Z"
   },
   {
    "duration": 89,
    "start_time": "2022-04-18T17:16:03.365Z"
   },
   {
    "duration": 193,
    "start_time": "2022-04-18T17:16:03.456Z"
   },
   {
    "duration": 205,
    "start_time": "2022-04-18T17:16:03.651Z"
   },
   {
    "duration": 93,
    "start_time": "2022-04-18T17:16:03.858Z"
   },
   {
    "duration": 201,
    "start_time": "2022-04-18T17:16:03.953Z"
   },
   {
    "duration": 89,
    "start_time": "2022-04-18T17:16:04.160Z"
   },
   {
    "duration": 111,
    "start_time": "2022-04-18T17:16:04.250Z"
   },
   {
    "duration": 285,
    "start_time": "2022-04-18T17:16:04.362Z"
   },
   {
    "duration": 204,
    "start_time": "2022-04-18T17:16:04.651Z"
   },
   {
    "duration": 208,
    "start_time": "2022-04-18T17:16:04.856Z"
   },
   {
    "duration": 209,
    "start_time": "2022-04-18T17:16:05.153Z"
   },
   {
    "duration": 203,
    "start_time": "2022-04-18T17:16:05.453Z"
   },
   {
    "duration": 90,
    "start_time": "2022-04-18T17:16:05.664Z"
   },
   {
    "duration": 288,
    "start_time": "2022-04-18T17:16:05.759Z"
   },
   {
    "duration": 98,
    "start_time": "2022-04-18T17:16:06.053Z"
   },
   {
    "duration": 119,
    "start_time": "2022-04-18T17:16:06.153Z"
   },
   {
    "duration": 75,
    "start_time": "2022-04-18T17:16:06.276Z"
   },
   {
    "duration": 99,
    "start_time": "2022-04-18T17:39:10.449Z"
   },
   {
    "duration": 104,
    "start_time": "2022-04-18T17:40:32.647Z"
   },
   {
    "duration": 101,
    "start_time": "2022-04-18T17:41:00.048Z"
   },
   {
    "duration": 1004,
    "start_time": "2022-04-18T17:41:26.848Z"
   },
   {
    "duration": 200,
    "start_time": "2022-04-18T17:41:29.547Z"
   },
   {
    "duration": 71,
    "start_time": "2022-04-19T06:47:20.508Z"
   },
   {
    "duration": 1765,
    "start_time": "2022-04-19T07:57:07.255Z"
   },
   {
    "duration": 99,
    "start_time": "2022-04-19T07:57:09.022Z"
   },
   {
    "duration": 31,
    "start_time": "2022-04-19T07:57:09.123Z"
   },
   {
    "duration": 32,
    "start_time": "2022-04-19T07:57:09.158Z"
   },
   {
    "duration": 13,
    "start_time": "2022-04-19T07:57:09.193Z"
   },
   {
    "duration": 45,
    "start_time": "2022-04-19T07:57:09.208Z"
   },
   {
    "duration": 8,
    "start_time": "2022-04-19T07:57:09.255Z"
   },
   {
    "duration": 16,
    "start_time": "2022-04-19T07:57:09.265Z"
   },
   {
    "duration": 116,
    "start_time": "2022-04-19T07:57:10.760Z"
   },
   {
    "duration": 6,
    "start_time": "2022-04-19T07:57:28.224Z"
   },
   {
    "duration": 21,
    "start_time": "2022-04-19T07:57:31.983Z"
   },
   {
    "duration": 20,
    "start_time": "2022-04-19T07:57:56.335Z"
   },
   {
    "duration": 42,
    "start_time": "2022-04-19T07:57:59.681Z"
   },
   {
    "duration": 23,
    "start_time": "2022-04-19T07:58:02.834Z"
   },
   {
    "duration": 10,
    "start_time": "2022-04-19T07:58:06.267Z"
   },
   {
    "duration": 20,
    "start_time": "2022-04-19T07:58:07.067Z"
   },
   {
    "duration": 41,
    "start_time": "2022-04-19T07:58:09.302Z"
   },
   {
    "duration": 46,
    "start_time": "2022-04-19T07:58:10.517Z"
   },
   {
    "duration": 28,
    "start_time": "2022-04-19T07:58:11.886Z"
   },
   {
    "duration": 4,
    "start_time": "2022-04-19T07:59:16.815Z"
   },
   {
    "duration": 94,
    "start_time": "2022-04-19T07:59:16.821Z"
   },
   {
    "duration": 47,
    "start_time": "2022-04-19T07:59:16.917Z"
   },
   {
    "duration": 35,
    "start_time": "2022-04-19T07:59:16.967Z"
   },
   {
    "duration": 48,
    "start_time": "2022-04-19T07:59:17.006Z"
   },
   {
    "duration": 9,
    "start_time": "2022-04-19T07:59:17.057Z"
   },
   {
    "duration": 12,
    "start_time": "2022-04-19T07:59:17.068Z"
   },
   {
    "duration": 7,
    "start_time": "2022-04-19T07:59:17.082Z"
   },
   {
    "duration": 6,
    "start_time": "2022-04-19T07:59:17.091Z"
   },
   {
    "duration": 68,
    "start_time": "2022-04-19T07:59:17.099Z"
   },
   {
    "duration": 41,
    "start_time": "2022-04-19T07:59:17.171Z"
   },
   {
    "duration": 39,
    "start_time": "2022-04-19T07:59:17.214Z"
   },
   {
    "duration": 10,
    "start_time": "2022-04-19T07:59:17.255Z"
   },
   {
    "duration": 19,
    "start_time": "2022-04-19T07:59:17.268Z"
   },
   {
    "duration": 70,
    "start_time": "2022-04-19T07:59:17.290Z"
   },
   {
    "duration": 47,
    "start_time": "2022-04-19T07:59:17.362Z"
   },
   {
    "duration": 48,
    "start_time": "2022-04-19T07:59:17.411Z"
   },
   {
    "duration": 6,
    "start_time": "2022-04-19T07:59:17.461Z"
   },
   {
    "duration": 16,
    "start_time": "2022-04-19T07:59:17.469Z"
   },
   {
    "duration": 13,
    "start_time": "2022-04-19T07:59:17.487Z"
   },
   {
    "duration": 12,
    "start_time": "2022-04-19T07:59:17.502Z"
   },
   {
    "duration": 10,
    "start_time": "2022-04-19T07:59:17.553Z"
   },
   {
    "duration": 43,
    "start_time": "2022-04-19T07:59:17.564Z"
   },
   {
    "duration": 67,
    "start_time": "2022-04-19T07:59:17.609Z"
   },
   {
    "duration": 5,
    "start_time": "2022-04-19T07:59:17.678Z"
   },
   {
    "duration": 7,
    "start_time": "2022-04-19T07:59:17.685Z"
   },
   {
    "duration": 64,
    "start_time": "2022-04-19T07:59:17.694Z"
   },
   {
    "duration": 5,
    "start_time": "2022-04-19T07:59:17.760Z"
   },
   {
    "duration": 6,
    "start_time": "2022-04-19T07:59:17.772Z"
   },
   {
    "duration": 9,
    "start_time": "2022-04-19T07:59:17.781Z"
   },
   {
    "duration": 14,
    "start_time": "2022-04-19T07:59:17.792Z"
   },
   {
    "duration": 13,
    "start_time": "2022-04-19T07:59:17.853Z"
   },
   {
    "duration": 12,
    "start_time": "2022-04-19T07:59:17.868Z"
   },
   {
    "duration": 12,
    "start_time": "2022-04-19T07:59:17.882Z"
   },
   {
    "duration": 66,
    "start_time": "2022-04-19T07:59:17.896Z"
   },
   {
    "duration": 6,
    "start_time": "2022-04-19T07:59:17.965Z"
   },
   {
    "duration": 24,
    "start_time": "2022-04-19T07:59:17.974Z"
   },
   {
    "duration": 61,
    "start_time": "2022-04-19T07:59:18.001Z"
   },
   {
    "duration": 31,
    "start_time": "2022-04-19T07:59:18.064Z"
   },
   {
    "duration": 28,
    "start_time": "2022-04-19T07:59:18.097Z"
   },
   {
    "duration": 22,
    "start_time": "2022-04-19T07:59:18.153Z"
   },
   {
    "duration": 10,
    "start_time": "2022-04-19T07:59:18.178Z"
   },
   {
    "duration": 19,
    "start_time": "2022-04-19T07:59:18.191Z"
   },
   {
    "duration": 50,
    "start_time": "2022-04-19T07:59:18.212Z"
   },
   {
    "duration": 12,
    "start_time": "2022-04-19T07:59:18.265Z"
   },
   {
    "duration": 10,
    "start_time": "2022-04-19T07:59:18.280Z"
   },
   {
    "duration": 12,
    "start_time": "2022-04-19T07:59:18.293Z"
   },
   {
    "duration": 46,
    "start_time": "2022-04-19T07:59:18.307Z"
   },
   {
    "duration": 8,
    "start_time": "2022-04-19T08:02:43.894Z"
   },
   {
    "duration": 6,
    "start_time": "2022-04-19T08:02:44.796Z"
   },
   {
    "duration": 1602,
    "start_time": "2022-04-19T08:02:47.653Z"
   },
   {
    "duration": 9,
    "start_time": "2022-04-19T08:02:50.996Z"
   },
   {
    "duration": 5,
    "start_time": "2022-04-19T08:07:07.266Z"
   },
   {
    "duration": 19,
    "start_time": "2022-04-19T08:07:48.819Z"
   },
   {
    "duration": 3,
    "start_time": "2022-04-19T08:07:57.579Z"
   },
   {
    "duration": 99,
    "start_time": "2022-04-19T08:07:57.584Z"
   },
   {
    "duration": 21,
    "start_time": "2022-04-19T08:07:57.685Z"
   },
   {
    "duration": 79,
    "start_time": "2022-04-19T08:07:57.708Z"
   },
   {
    "duration": 9,
    "start_time": "2022-04-19T08:07:57.789Z"
   },
   {
    "duration": 10,
    "start_time": "2022-04-19T08:07:57.801Z"
   },
   {
    "duration": 40,
    "start_time": "2022-04-19T08:07:57.813Z"
   },
   {
    "duration": 6,
    "start_time": "2022-04-19T08:07:57.855Z"
   },
   {
    "duration": 6,
    "start_time": "2022-04-19T08:07:57.865Z"
   },
   {
    "duration": 28,
    "start_time": "2022-04-19T08:07:57.874Z"
   },
   {
    "duration": 72,
    "start_time": "2022-04-19T08:07:57.904Z"
   },
   {
    "duration": 20,
    "start_time": "2022-04-19T08:07:57.978Z"
   },
   {
    "duration": 11,
    "start_time": "2022-04-19T08:07:58.000Z"
   },
   {
    "duration": 50,
    "start_time": "2022-04-19T08:07:58.014Z"
   },
   {
    "duration": 68,
    "start_time": "2022-04-19T08:07:58.067Z"
   },
   {
    "duration": 72,
    "start_time": "2022-04-19T08:07:58.138Z"
   },
   {
    "duration": 55,
    "start_time": "2022-04-19T08:07:58.213Z"
   },
   {
    "duration": 6,
    "start_time": "2022-04-19T08:07:58.271Z"
   },
   {
    "duration": 29,
    "start_time": "2022-04-19T08:07:58.280Z"
   },
   {
    "duration": 19,
    "start_time": "2022-04-19T08:07:58.312Z"
   },
   {
    "duration": 30,
    "start_time": "2022-04-19T08:07:58.334Z"
   },
   {
    "duration": 9,
    "start_time": "2022-04-19T08:07:58.366Z"
   },
   {
    "duration": 82,
    "start_time": "2022-04-19T08:07:58.378Z"
   },
   {
    "duration": 42,
    "start_time": "2022-04-19T08:07:58.465Z"
   },
   {
    "duration": 5,
    "start_time": "2022-04-19T08:07:58.509Z"
   },
   {
    "duration": 7,
    "start_time": "2022-04-19T08:07:58.516Z"
   },
   {
    "duration": 42,
    "start_time": "2022-04-19T08:07:58.553Z"
   },
   {
    "duration": 6,
    "start_time": "2022-04-19T08:07:58.597Z"
   },
   {
    "duration": 6,
    "start_time": "2022-04-19T08:07:58.605Z"
   },
   {
    "duration": 39,
    "start_time": "2022-04-19T08:07:58.614Z"
   },
   {
    "duration": 11,
    "start_time": "2022-04-19T08:07:58.656Z"
   },
   {
    "duration": 26,
    "start_time": "2022-04-19T08:07:58.669Z"
   },
   {
    "duration": 15,
    "start_time": "2022-04-19T08:07:58.697Z"
   },
   {
    "duration": 13,
    "start_time": "2022-04-19T08:07:58.714Z"
   },
   {
    "duration": 38,
    "start_time": "2022-04-19T08:07:58.729Z"
   },
   {
    "duration": 6,
    "start_time": "2022-04-19T08:07:58.770Z"
   },
   {
    "duration": 23,
    "start_time": "2022-04-19T08:07:58.778Z"
   },
   {
    "duration": 62,
    "start_time": "2022-04-19T08:07:58.805Z"
   },
   {
    "duration": 31,
    "start_time": "2022-04-19T08:07:58.870Z"
   },
   {
    "duration": 51,
    "start_time": "2022-04-19T08:07:58.903Z"
   },
   {
    "duration": 21,
    "start_time": "2022-04-19T08:07:58.956Z"
   },
   {
    "duration": 9,
    "start_time": "2022-04-19T08:07:58.979Z"
   },
   {
    "duration": 18,
    "start_time": "2022-04-19T08:07:58.990Z"
   },
   {
    "duration": 44,
    "start_time": "2022-04-19T08:07:59.010Z"
   },
   {
    "duration": 24,
    "start_time": "2022-04-19T08:07:59.056Z"
   },
   {
    "duration": 12,
    "start_time": "2022-04-19T08:07:59.082Z"
   },
   {
    "duration": 19,
    "start_time": "2022-04-19T08:07:59.096Z"
   },
   {
    "duration": 36,
    "start_time": "2022-04-19T08:07:59.117Z"
   },
   {
    "duration": 7,
    "start_time": "2022-04-19T08:07:59.155Z"
   },
   {
    "duration": 21,
    "start_time": "2022-04-19T08:07:59.164Z"
   },
   {
    "duration": 1582,
    "start_time": "2022-04-19T08:07:59.187Z"
   },
   {
    "duration": 13,
    "start_time": "2022-04-19T08:08:04.673Z"
   },
   {
    "duration": 7,
    "start_time": "2022-04-19T08:08:45.015Z"
   },
   {
    "duration": 4,
    "start_time": "2022-04-19T08:08:59.769Z"
   },
   {
    "duration": 99,
    "start_time": "2022-04-19T08:08:59.775Z"
   },
   {
    "duration": 22,
    "start_time": "2022-04-19T08:08:59.876Z"
   },
   {
    "duration": 74,
    "start_time": "2022-04-19T08:08:59.900Z"
   },
   {
    "duration": 9,
    "start_time": "2022-04-19T08:08:59.977Z"
   },
   {
    "duration": 10,
    "start_time": "2022-04-19T08:08:59.988Z"
   },
   {
    "duration": 12,
    "start_time": "2022-04-19T08:09:00.001Z"
   },
   {
    "duration": 39,
    "start_time": "2022-04-19T08:09:00.016Z"
   },
   {
    "duration": 12,
    "start_time": "2022-04-19T08:09:00.059Z"
   },
   {
    "duration": 28,
    "start_time": "2022-04-19T08:09:00.073Z"
   },
   {
    "duration": 68,
    "start_time": "2022-04-19T08:09:00.103Z"
   },
   {
    "duration": 20,
    "start_time": "2022-04-19T08:09:00.173Z"
   },
   {
    "duration": 20,
    "start_time": "2022-04-19T08:09:00.195Z"
   },
   {
    "duration": 49,
    "start_time": "2022-04-19T08:09:00.218Z"
   },
   {
    "duration": 58,
    "start_time": "2022-04-19T08:09:00.269Z"
   },
   {
    "duration": 57,
    "start_time": "2022-04-19T08:09:00.330Z"
   },
   {
    "duration": 29,
    "start_time": "2022-04-19T08:09:00.389Z"
   },
   {
    "duration": 32,
    "start_time": "2022-04-19T08:09:00.420Z"
   },
   {
    "duration": 20,
    "start_time": "2022-04-19T08:09:00.455Z"
   },
   {
    "duration": 23,
    "start_time": "2022-04-19T08:09:00.477Z"
   },
   {
    "duration": 21,
    "start_time": "2022-04-19T08:09:00.503Z"
   },
   {
    "duration": 26,
    "start_time": "2022-04-19T08:09:00.527Z"
   },
   {
    "duration": 56,
    "start_time": "2022-04-19T08:09:00.556Z"
   },
   {
    "duration": 68,
    "start_time": "2022-04-19T08:09:00.617Z"
   },
   {
    "duration": 5,
    "start_time": "2022-04-19T08:09:00.687Z"
   },
   {
    "duration": 14,
    "start_time": "2022-04-19T08:09:00.694Z"
   },
   {
    "duration": 70,
    "start_time": "2022-04-19T08:09:00.710Z"
   },
   {
    "duration": 5,
    "start_time": "2022-04-19T08:09:00.782Z"
   },
   {
    "duration": 19,
    "start_time": "2022-04-19T08:09:00.789Z"
   },
   {
    "duration": 24,
    "start_time": "2022-04-19T08:09:00.810Z"
   },
   {
    "duration": 24,
    "start_time": "2022-04-19T08:09:00.836Z"
   },
   {
    "duration": 25,
    "start_time": "2022-04-19T08:09:00.863Z"
   },
   {
    "duration": 14,
    "start_time": "2022-04-19T08:09:00.890Z"
   },
   {
    "duration": 15,
    "start_time": "2022-04-19T08:09:00.907Z"
   },
   {
    "duration": 39,
    "start_time": "2022-04-19T08:09:00.924Z"
   },
   {
    "duration": 6,
    "start_time": "2022-04-19T08:09:00.965Z"
   },
   {
    "duration": 39,
    "start_time": "2022-04-19T08:09:00.973Z"
   },
   {
    "duration": 48,
    "start_time": "2022-04-19T08:09:01.014Z"
   },
   {
    "duration": 32,
    "start_time": "2022-04-19T08:09:01.065Z"
   },
   {
    "duration": 51,
    "start_time": "2022-04-19T08:09:01.100Z"
   },
   {
    "duration": 22,
    "start_time": "2022-04-19T08:09:01.154Z"
   },
   {
    "duration": 27,
    "start_time": "2022-04-19T08:09:01.178Z"
   },
   {
    "duration": 34,
    "start_time": "2022-04-19T08:09:01.207Z"
   },
   {
    "duration": 15,
    "start_time": "2022-04-19T08:09:01.244Z"
   },
   {
    "duration": 12,
    "start_time": "2022-04-19T08:09:01.262Z"
   },
   {
    "duration": 22,
    "start_time": "2022-04-19T08:09:01.276Z"
   },
   {
    "duration": 31,
    "start_time": "2022-04-19T08:09:01.301Z"
   },
   {
    "duration": 24,
    "start_time": "2022-04-19T08:09:01.335Z"
   },
   {
    "duration": 11,
    "start_time": "2022-04-19T08:09:01.361Z"
   },
   {
    "duration": 7,
    "start_time": "2022-04-19T08:09:03.414Z"
   },
   {
    "duration": 8,
    "start_time": "2022-04-19T08:09:22.870Z"
   },
   {
    "duration": 5,
    "start_time": "2022-04-19T08:09:38.783Z"
   },
   {
    "duration": 7,
    "start_time": "2022-04-19T08:09:39.197Z"
   },
   {
    "duration": 1833,
    "start_time": "2022-04-19T08:09:40.310Z"
   },
   {
    "duration": 18,
    "start_time": "2022-04-19T08:09:42.145Z"
   },
   {
    "duration": 7,
    "start_time": "2022-04-19T08:09:46.510Z"
   },
   {
    "duration": 4,
    "start_time": "2022-04-19T08:10:02.689Z"
   },
   {
    "duration": 102,
    "start_time": "2022-04-19T08:10:02.696Z"
   },
   {
    "duration": 62,
    "start_time": "2022-04-19T08:10:02.800Z"
   },
   {
    "duration": 30,
    "start_time": "2022-04-19T08:10:02.865Z"
   },
   {
    "duration": 10,
    "start_time": "2022-04-19T08:10:02.898Z"
   },
   {
    "duration": 42,
    "start_time": "2022-04-19T08:10:02.910Z"
   },
   {
    "duration": 17,
    "start_time": "2022-04-19T08:10:02.954Z"
   },
   {
    "duration": 29,
    "start_time": "2022-04-19T08:10:02.974Z"
   },
   {
    "duration": 22,
    "start_time": "2022-04-19T08:10:03.007Z"
   },
   {
    "duration": 43,
    "start_time": "2022-04-19T08:10:03.031Z"
   },
   {
    "duration": 46,
    "start_time": "2022-04-19T08:10:03.076Z"
   },
   {
    "duration": 35,
    "start_time": "2022-04-19T08:10:03.125Z"
   },
   {
    "duration": 40,
    "start_time": "2022-04-19T08:10:03.162Z"
   },
   {
    "duration": 31,
    "start_time": "2022-04-19T08:10:03.204Z"
   },
   {
    "duration": 64,
    "start_time": "2022-04-19T08:10:03.237Z"
   },
   {
    "duration": 45,
    "start_time": "2022-04-19T08:10:03.303Z"
   },
   {
    "duration": 28,
    "start_time": "2022-04-19T08:10:03.351Z"
   },
   {
    "duration": 9,
    "start_time": "2022-04-19T08:10:03.381Z"
   },
   {
    "duration": 19,
    "start_time": "2022-04-19T08:10:03.393Z"
   },
   {
    "duration": 38,
    "start_time": "2022-04-19T08:10:03.414Z"
   },
   {
    "duration": 12,
    "start_time": "2022-04-19T08:10:03.454Z"
   },
   {
    "duration": 16,
    "start_time": "2022-04-19T08:10:03.468Z"
   },
   {
    "duration": 67,
    "start_time": "2022-04-19T08:10:03.487Z"
   },
   {
    "duration": 44,
    "start_time": "2022-04-19T08:10:03.560Z"
   },
   {
    "duration": 5,
    "start_time": "2022-04-19T08:10:03.607Z"
   },
   {
    "duration": 39,
    "start_time": "2022-04-19T08:10:03.614Z"
   },
   {
    "duration": 42,
    "start_time": "2022-04-19T08:10:03.655Z"
   },
   {
    "duration": 5,
    "start_time": "2022-04-19T08:10:03.700Z"
   },
   {
    "duration": 9,
    "start_time": "2022-04-19T08:10:03.707Z"
   },
   {
    "duration": 38,
    "start_time": "2022-04-19T08:10:03.718Z"
   },
   {
    "duration": 15,
    "start_time": "2022-04-19T08:10:03.758Z"
   },
   {
    "duration": 14,
    "start_time": "2022-04-19T08:10:03.775Z"
   },
   {
    "duration": 10,
    "start_time": "2022-04-19T08:10:03.791Z"
   },
   {
    "duration": 10,
    "start_time": "2022-04-19T08:10:03.804Z"
   },
   {
    "duration": 21,
    "start_time": "2022-04-19T08:10:03.853Z"
   },
   {
    "duration": 5,
    "start_time": "2022-04-19T08:10:03.877Z"
   },
   {
    "duration": 27,
    "start_time": "2022-04-19T08:10:03.885Z"
   },
   {
    "duration": 60,
    "start_time": "2022-04-19T08:10:03.914Z"
   },
   {
    "duration": 31,
    "start_time": "2022-04-19T08:10:03.976Z"
   },
   {
    "duration": 49,
    "start_time": "2022-04-19T08:10:04.010Z"
   },
   {
    "duration": 21,
    "start_time": "2022-04-19T08:10:04.062Z"
   },
   {
    "duration": 11,
    "start_time": "2022-04-19T08:10:04.086Z"
   },
   {
    "duration": 21,
    "start_time": "2022-04-19T08:10:04.099Z"
   },
   {
    "duration": 37,
    "start_time": "2022-04-19T08:10:04.123Z"
   },
   {
    "duration": 15,
    "start_time": "2022-04-19T08:10:04.162Z"
   },
   {
    "duration": 14,
    "start_time": "2022-04-19T08:10:04.179Z"
   },
   {
    "duration": 13,
    "start_time": "2022-04-19T08:10:04.196Z"
   },
   {
    "duration": 45,
    "start_time": "2022-04-19T08:10:04.211Z"
   },
   {
    "duration": 6,
    "start_time": "2022-04-19T08:10:06.396Z"
   },
   {
    "duration": 8,
    "start_time": "2022-04-19T08:10:08.917Z"
   },
   {
    "duration": 171,
    "start_time": "2022-04-19T08:11:11.452Z"
   },
   {
    "duration": 129,
    "start_time": "2022-04-19T08:11:22.090Z"
   },
   {
    "duration": 120,
    "start_time": "2022-04-19T08:11:37.085Z"
   },
   {
    "duration": 24,
    "start_time": "2022-04-19T08:11:41.818Z"
   },
   {
    "duration": 20,
    "start_time": "2022-04-19T08:11:52.242Z"
   },
   {
    "duration": 6,
    "start_time": "2022-04-19T08:12:07.225Z"
   },
   {
    "duration": 5,
    "start_time": "2022-04-19T08:12:40.377Z"
   },
   {
    "duration": 8,
    "start_time": "2022-04-19T08:12:44.745Z"
   },
   {
    "duration": 1559,
    "start_time": "2022-04-19T08:12:47.936Z"
   },
   {
    "duration": 7,
    "start_time": "2022-04-19T08:12:50.008Z"
   },
   {
    "duration": 9,
    "start_time": "2022-04-19T08:12:56.384Z"
   },
   {
    "duration": 7,
    "start_time": "2022-04-19T08:13:12.399Z"
   },
   {
    "duration": 10,
    "start_time": "2022-04-19T08:13:50.778Z"
   },
   {
    "duration": 2125,
    "start_time": "2022-04-19T08:14:08.622Z"
   },
   {
    "duration": 5,
    "start_time": "2022-04-19T08:14:23.915Z"
   },
   {
    "duration": 91,
    "start_time": "2022-04-19T08:14:23.923Z"
   },
   {
    "duration": 53,
    "start_time": "2022-04-19T08:14:24.016Z"
   },
   {
    "duration": 33,
    "start_time": "2022-04-19T08:14:24.071Z"
   },
   {
    "duration": 51,
    "start_time": "2022-04-19T08:14:24.106Z"
   },
   {
    "duration": 8,
    "start_time": "2022-04-19T08:14:24.160Z"
   },
   {
    "duration": 9,
    "start_time": "2022-04-19T08:14:24.171Z"
   },
   {
    "duration": 5,
    "start_time": "2022-04-19T08:14:24.183Z"
   },
   {
    "duration": 7,
    "start_time": "2022-04-19T08:14:24.193Z"
   },
   {
    "duration": 67,
    "start_time": "2022-04-19T08:14:24.203Z"
   },
   {
    "duration": 50,
    "start_time": "2022-04-19T08:14:24.273Z"
   },
   {
    "duration": 44,
    "start_time": "2022-04-19T08:14:24.325Z"
   },
   {
    "duration": 13,
    "start_time": "2022-04-19T08:14:24.372Z"
   },
   {
    "duration": 22,
    "start_time": "2022-04-19T08:14:24.387Z"
   },
   {
    "duration": 87,
    "start_time": "2022-04-19T08:14:24.412Z"
   },
   {
    "duration": 51,
    "start_time": "2022-04-19T08:14:24.502Z"
   },
   {
    "duration": 30,
    "start_time": "2022-04-19T08:14:24.555Z"
   },
   {
    "duration": 5,
    "start_time": "2022-04-19T08:14:24.588Z"
   },
   {
    "duration": 18,
    "start_time": "2022-04-19T08:14:24.595Z"
   },
   {
    "duration": 16,
    "start_time": "2022-04-19T08:14:24.651Z"
   },
   {
    "duration": 11,
    "start_time": "2022-04-19T08:14:24.670Z"
   },
   {
    "duration": 8,
    "start_time": "2022-04-19T08:14:24.684Z"
   },
   {
    "duration": 86,
    "start_time": "2022-04-19T08:14:24.694Z"
   },
   {
    "duration": 42,
    "start_time": "2022-04-19T08:14:24.785Z"
   },
   {
    "duration": 26,
    "start_time": "2022-04-19T08:14:24.829Z"
   },
   {
    "duration": 6,
    "start_time": "2022-04-19T08:14:24.857Z"
   },
   {
    "duration": 41,
    "start_time": "2022-04-19T08:14:24.865Z"
   },
   {
    "duration": 6,
    "start_time": "2022-04-19T08:14:24.908Z"
   },
   {
    "duration": 40,
    "start_time": "2022-04-19T08:14:24.916Z"
   },
   {
    "duration": 16,
    "start_time": "2022-04-19T08:14:24.958Z"
   },
   {
    "duration": 17,
    "start_time": "2022-04-19T08:14:24.976Z"
   },
   {
    "duration": 21,
    "start_time": "2022-04-19T08:14:24.995Z"
   },
   {
    "duration": 12,
    "start_time": "2022-04-19T08:14:25.051Z"
   },
   {
    "duration": 12,
    "start_time": "2022-04-19T08:14:25.067Z"
   },
   {
    "duration": 32,
    "start_time": "2022-04-19T08:14:25.081Z"
   },
   {
    "duration": 36,
    "start_time": "2022-04-19T08:14:25.116Z"
   },
   {
    "duration": 25,
    "start_time": "2022-04-19T08:14:25.155Z"
   },
   {
    "duration": 35,
    "start_time": "2022-04-19T08:14:25.182Z"
   },
   {
    "duration": 67,
    "start_time": "2022-04-19T08:14:25.220Z"
   },
   {
    "duration": 37,
    "start_time": "2022-04-19T08:14:25.290Z"
   },
   {
    "duration": 48,
    "start_time": "2022-04-19T08:14:25.329Z"
   },
   {
    "duration": 11,
    "start_time": "2022-04-19T08:14:25.379Z"
   },
   {
    "duration": 16,
    "start_time": "2022-04-19T08:14:25.393Z"
   },
   {
    "duration": 44,
    "start_time": "2022-04-19T08:14:25.412Z"
   },
   {
    "duration": 14,
    "start_time": "2022-04-19T08:14:25.459Z"
   },
   {
    "duration": 15,
    "start_time": "2022-04-19T08:14:25.476Z"
   },
   {
    "duration": 20,
    "start_time": "2022-04-19T08:14:25.494Z"
   },
   {
    "duration": 40,
    "start_time": "2022-04-19T08:14:25.517Z"
   },
   {
    "duration": 12,
    "start_time": "2022-04-19T08:14:25.560Z"
   },
   {
    "duration": 6,
    "start_time": "2022-04-19T08:14:29.622Z"
   },
   {
    "duration": 5,
    "start_time": "2022-04-19T08:14:55.356Z"
   },
   {
    "duration": 5,
    "start_time": "2022-04-19T08:14:59.653Z"
   },
   {
    "duration": 5,
    "start_time": "2022-04-19T08:15:03.098Z"
   },
   {
    "duration": 8,
    "start_time": "2022-04-19T08:15:11.699Z"
   },
   {
    "duration": 5,
    "start_time": "2022-04-19T08:15:12.634Z"
   },
   {
    "duration": 5,
    "start_time": "2022-04-19T08:15:28.112Z"
   },
   {
    "duration": 4,
    "start_time": "2022-04-19T08:15:36.626Z"
   },
   {
    "duration": 5,
    "start_time": "2022-04-19T08:15:51.802Z"
   },
   {
    "duration": 5,
    "start_time": "2022-04-19T08:15:53.353Z"
   },
   {
    "duration": 5,
    "start_time": "2022-04-19T08:16:18.698Z"
   },
   {
    "duration": 7,
    "start_time": "2022-04-19T08:16:23.314Z"
   },
   {
    "duration": 7,
    "start_time": "2022-04-19T08:16:28.360Z"
   },
   {
    "duration": 2741,
    "start_time": "2022-04-19T08:16:31.330Z"
   },
   {
    "duration": 12,
    "start_time": "2022-04-19T08:16:35.608Z"
   },
   {
    "duration": 11,
    "start_time": "2022-04-19T08:16:38.154Z"
   },
   {
    "duration": 10,
    "start_time": "2022-04-19T08:17:05.535Z"
   },
   {
    "duration": 2598,
    "start_time": "2022-04-19T08:17:08.695Z"
   },
   {
    "duration": 5,
    "start_time": "2022-04-19T08:17:18.066Z"
   },
   {
    "duration": 133,
    "start_time": "2022-04-19T08:17:18.075Z"
   },
   {
    "duration": 53,
    "start_time": "2022-04-19T08:17:18.211Z"
   },
   {
    "duration": 34,
    "start_time": "2022-04-19T08:17:18.266Z"
   },
   {
    "duration": 19,
    "start_time": "2022-04-19T08:17:18.303Z"
   },
   {
    "duration": 42,
    "start_time": "2022-04-19T08:17:18.325Z"
   },
   {
    "duration": 13,
    "start_time": "2022-04-19T08:17:18.370Z"
   },
   {
    "duration": 14,
    "start_time": "2022-04-19T08:17:18.386Z"
   },
   {
    "duration": 19,
    "start_time": "2022-04-19T08:17:18.402Z"
   },
   {
    "duration": 35,
    "start_time": "2022-04-19T08:17:18.423Z"
   },
   {
    "duration": 46,
    "start_time": "2022-04-19T08:17:18.460Z"
   },
   {
    "duration": 21,
    "start_time": "2022-04-19T08:17:18.508Z"
   },
   {
    "duration": 10,
    "start_time": "2022-04-19T08:17:18.551Z"
   },
   {
    "duration": 24,
    "start_time": "2022-04-19T08:17:18.563Z"
   },
   {
    "duration": 71,
    "start_time": "2022-04-19T08:17:18.590Z"
   },
   {
    "duration": 46,
    "start_time": "2022-04-19T08:17:18.663Z"
   },
   {
    "duration": 50,
    "start_time": "2022-04-19T08:17:18.711Z"
   },
   {
    "duration": 5,
    "start_time": "2022-04-19T08:17:18.763Z"
   },
   {
    "duration": 17,
    "start_time": "2022-04-19T08:17:18.771Z"
   },
   {
    "duration": 27,
    "start_time": "2022-04-19T08:17:18.790Z"
   },
   {
    "duration": 32,
    "start_time": "2022-04-19T08:17:18.820Z"
   },
   {
    "duration": 8,
    "start_time": "2022-04-19T08:17:18.854Z"
   },
   {
    "duration": 49,
    "start_time": "2022-04-19T08:17:18.865Z"
   },
   {
    "duration": 66,
    "start_time": "2022-04-19T08:17:18.916Z"
   },
   {
    "duration": 5,
    "start_time": "2022-04-19T08:17:18.984Z"
   },
   {
    "duration": 13,
    "start_time": "2022-04-19T08:17:18.991Z"
   },
   {
    "duration": 62,
    "start_time": "2022-04-19T08:17:19.006Z"
   },
   {
    "duration": 5,
    "start_time": "2022-04-19T08:17:19.071Z"
   },
   {
    "duration": 13,
    "start_time": "2022-04-19T08:17:19.079Z"
   },
   {
    "duration": 24,
    "start_time": "2022-04-19T08:17:19.095Z"
   },
   {
    "duration": 32,
    "start_time": "2022-04-19T08:17:19.122Z"
   },
   {
    "duration": 14,
    "start_time": "2022-04-19T08:17:19.157Z"
   },
   {
    "duration": 11,
    "start_time": "2022-04-19T08:17:19.173Z"
   },
   {
    "duration": 12,
    "start_time": "2022-04-19T08:17:19.186Z"
   },
   {
    "duration": 57,
    "start_time": "2022-04-19T08:17:19.200Z"
   },
   {
    "duration": 5,
    "start_time": "2022-04-19T08:17:19.259Z"
   },
   {
    "duration": 28,
    "start_time": "2022-04-19T08:17:19.273Z"
   },
   {
    "duration": 67,
    "start_time": "2022-04-19T08:17:19.304Z"
   },
   {
    "duration": 38,
    "start_time": "2022-04-19T08:17:19.374Z"
   },
   {
    "duration": 51,
    "start_time": "2022-04-19T08:17:19.415Z"
   },
   {
    "duration": 27,
    "start_time": "2022-04-19T08:17:19.469Z"
   },
   {
    "duration": 13,
    "start_time": "2022-04-19T08:17:19.499Z"
   },
   {
    "duration": 51,
    "start_time": "2022-04-19T08:17:19.515Z"
   },
   {
    "duration": 16,
    "start_time": "2022-04-19T08:17:19.568Z"
   },
   {
    "duration": 19,
    "start_time": "2022-04-19T08:17:19.586Z"
   },
   {
    "duration": 21,
    "start_time": "2022-04-19T08:17:19.608Z"
   },
   {
    "duration": 12,
    "start_time": "2022-04-19T08:17:19.651Z"
   },
   {
    "duration": 20,
    "start_time": "2022-04-19T08:17:19.666Z"
   },
   {
    "duration": 8,
    "start_time": "2022-04-19T08:17:23.989Z"
   },
   {
    "duration": 1604,
    "start_time": "2022-04-19T08:17:24.523Z"
   },
   {
    "duration": 7,
    "start_time": "2022-04-19T08:17:26.131Z"
   },
   {
    "duration": 9,
    "start_time": "2022-04-19T08:17:27.206Z"
   },
   {
    "duration": 19,
    "start_time": "2022-04-19T08:17:59.732Z"
   },
   {
    "duration": 10,
    "start_time": "2022-04-19T08:18:00.419Z"
   },
   {
    "duration": 9,
    "start_time": "2022-04-19T08:18:00.903Z"
   },
   {
    "duration": 6,
    "start_time": "2022-04-19T08:18:01.700Z"
   },
   {
    "duration": 6,
    "start_time": "2022-04-19T08:18:01.997Z"
   },
   {
    "duration": 13,
    "start_time": "2022-04-19T08:18:03.141Z"
   },
   {
    "duration": 4,
    "start_time": "2022-04-19T08:18:03.862Z"
   },
   {
    "duration": 16,
    "start_time": "2022-04-19T08:18:04.061Z"
   },
   {
    "duration": 17,
    "start_time": "2022-04-19T08:18:04.309Z"
   },
   {
    "duration": 5,
    "start_time": "2022-04-19T08:18:06.285Z"
   },
   {
    "duration": 17,
    "start_time": "2022-04-19T08:18:06.630Z"
   },
   {
    "duration": 29,
    "start_time": "2022-04-19T08:18:07.516Z"
   },
   {
    "duration": 33,
    "start_time": "2022-04-19T08:18:08.509Z"
   },
   {
    "duration": 11,
    "start_time": "2022-04-19T08:18:08.683Z"
   },
   {
    "duration": 24,
    "start_time": "2022-04-19T08:18:09.724Z"
   },
   {
    "duration": 10,
    "start_time": "2022-04-19T08:18:09.947Z"
   },
   {
    "duration": 22,
    "start_time": "2022-04-19T08:18:11.277Z"
   },
   {
    "duration": 10,
    "start_time": "2022-04-19T08:18:11.589Z"
   },
   {
    "duration": 5,
    "start_time": "2022-04-19T08:31:52.791Z"
   },
   {
    "duration": 285,
    "start_time": "2022-04-19T08:31:52.799Z"
   },
   {
    "duration": 31,
    "start_time": "2022-04-19T08:31:53.086Z"
   },
   {
    "duration": 63,
    "start_time": "2022-04-19T08:31:53.121Z"
   },
   {
    "duration": 12,
    "start_time": "2022-04-19T08:31:53.187Z"
   },
   {
    "duration": 9,
    "start_time": "2022-04-19T08:31:53.202Z"
   },
   {
    "duration": 41,
    "start_time": "2022-04-19T08:31:53.214Z"
   },
   {
    "duration": 7,
    "start_time": "2022-04-19T08:31:53.258Z"
   },
   {
    "duration": 6,
    "start_time": "2022-04-19T08:31:53.270Z"
   },
   {
    "duration": 21,
    "start_time": "2022-04-19T08:31:53.279Z"
   },
   {
    "duration": 76,
    "start_time": "2022-04-19T08:31:53.303Z"
   },
   {
    "duration": 20,
    "start_time": "2022-04-19T08:31:53.381Z"
   },
   {
    "duration": 11,
    "start_time": "2022-04-19T08:31:53.403Z"
   },
   {
    "duration": 49,
    "start_time": "2022-04-19T08:31:53.416Z"
   },
   {
    "duration": 46,
    "start_time": "2022-04-19T08:31:53.467Z"
   },
   {
    "duration": 63,
    "start_time": "2022-04-19T08:31:53.515Z"
   },
   {
    "duration": 31,
    "start_time": "2022-04-19T08:31:53.580Z"
   },
   {
    "duration": 6,
    "start_time": "2022-04-19T08:31:53.613Z"
   },
   {
    "duration": 15,
    "start_time": "2022-04-19T08:31:53.651Z"
   },
   {
    "duration": 16,
    "start_time": "2022-04-19T08:31:53.668Z"
   },
   {
    "duration": 13,
    "start_time": "2022-04-19T08:31:53.686Z"
   },
   {
    "duration": 7,
    "start_time": "2022-04-19T08:31:53.702Z"
   },
   {
    "duration": 40,
    "start_time": "2022-04-19T08:31:53.753Z"
   },
   {
    "duration": 69,
    "start_time": "2022-04-19T08:31:53.800Z"
   },
   {
    "duration": 7,
    "start_time": "2022-04-19T08:31:53.872Z"
   },
   {
    "duration": 8,
    "start_time": "2022-04-19T08:31:53.882Z"
   },
   {
    "duration": 69,
    "start_time": "2022-04-19T08:31:53.893Z"
   },
   {
    "duration": 6,
    "start_time": "2022-04-19T08:31:53.965Z"
   },
   {
    "duration": 7,
    "start_time": "2022-04-19T08:31:53.974Z"
   },
   {
    "duration": 9,
    "start_time": "2022-04-19T08:31:53.984Z"
   },
   {
    "duration": 14,
    "start_time": "2022-04-19T08:31:53.995Z"
   },
   {
    "duration": 11,
    "start_time": "2022-04-19T08:31:54.053Z"
   },
   {
    "duration": 10,
    "start_time": "2022-04-19T08:31:54.066Z"
   },
   {
    "duration": 11,
    "start_time": "2022-04-19T08:31:54.079Z"
   },
   {
    "duration": 60,
    "start_time": "2022-04-19T08:31:54.092Z"
   },
   {
    "duration": 5,
    "start_time": "2022-04-19T08:31:54.155Z"
   },
   {
    "duration": 28,
    "start_time": "2022-04-19T08:31:54.162Z"
   },
   {
    "duration": 27,
    "start_time": "2022-04-19T08:31:54.192Z"
   },
   {
    "duration": 55,
    "start_time": "2022-04-19T08:31:54.221Z"
   },
   {
    "duration": 28,
    "start_time": "2022-04-19T08:31:54.278Z"
   },
   {
    "duration": 47,
    "start_time": "2022-04-19T08:31:54.308Z"
   },
   {
    "duration": 10,
    "start_time": "2022-04-19T08:31:54.357Z"
   },
   {
    "duration": 17,
    "start_time": "2022-04-19T08:31:54.369Z"
   },
   {
    "duration": 11,
    "start_time": "2022-04-19T08:31:54.389Z"
   },
   {
    "duration": 14,
    "start_time": "2022-04-19T08:31:54.402Z"
   },
   {
    "duration": 10,
    "start_time": "2022-04-19T08:31:54.452Z"
   },
   {
    "duration": 11,
    "start_time": "2022-04-19T08:31:54.464Z"
   },
   {
    "duration": 15,
    "start_time": "2022-04-19T08:31:54.478Z"
   },
   {
    "duration": 6,
    "start_time": "2022-04-19T08:31:54.495Z"
   },
   {
    "duration": 1612,
    "start_time": "2022-04-19T08:31:54.504Z"
   },
   {
    "duration": 7,
    "start_time": "2022-04-19T08:31:56.118Z"
   },
   {
    "duration": 29,
    "start_time": "2022-04-19T08:31:56.127Z"
   },
   {
    "duration": 22,
    "start_time": "2022-04-19T08:31:56.158Z"
   },
   {
    "duration": 11,
    "start_time": "2022-04-19T08:31:56.182Z"
   },
   {
    "duration": 11,
    "start_time": "2022-04-19T08:31:56.196Z"
   },
   {
    "duration": 48,
    "start_time": "2022-04-19T08:31:56.210Z"
   },
   {
    "duration": 9,
    "start_time": "2022-04-19T08:31:56.260Z"
   },
   {
    "duration": 13,
    "start_time": "2022-04-19T08:31:56.271Z"
   },
   {
    "duration": 4,
    "start_time": "2022-04-19T08:31:56.287Z"
   },
   {
    "duration": 58,
    "start_time": "2022-04-19T08:31:56.294Z"
   },
   {
    "duration": 17,
    "start_time": "2022-04-19T08:31:56.354Z"
   },
   {
    "duration": 8,
    "start_time": "2022-04-19T08:31:56.373Z"
   },
   {
    "duration": 16,
    "start_time": "2022-04-19T08:31:56.384Z"
   },
   {
    "duration": 73,
    "start_time": "2022-04-19T08:31:56.402Z"
   },
   {
    "duration": 35,
    "start_time": "2022-04-19T08:31:56.477Z"
   },
   {
    "duration": 37,
    "start_time": "2022-04-19T08:31:56.514Z"
   },
   {
    "duration": 23,
    "start_time": "2022-04-19T08:31:56.554Z"
   },
   {
    "duration": 10,
    "start_time": "2022-04-19T08:31:56.579Z"
   },
   {
    "duration": 60,
    "start_time": "2022-04-19T08:31:56.596Z"
   },
   {
    "duration": 9,
    "start_time": "2022-04-19T08:31:56.658Z"
   },
   {
    "duration": 84793,
    "start_time": "2022-04-19T19:35:04.351Z"
   },
   {
    "duration": 99,
    "start_time": "2022-04-19T19:36:29.151Z"
   },
   {
    "duration": 15,
    "start_time": "2022-04-19T19:36:29.251Z"
   },
   {
    "duration": 18,
    "start_time": "2022-04-19T19:36:29.268Z"
   },
   {
    "duration": 6,
    "start_time": "2022-04-19T19:36:29.299Z"
   },
   {
    "duration": 6,
    "start_time": "2022-04-19T19:36:29.306Z"
   },
   {
    "duration": 5,
    "start_time": "2022-04-19T19:36:29.313Z"
   },
   {
    "duration": 6,
    "start_time": "2022-04-19T19:36:29.319Z"
   },
   {
    "duration": 4,
    "start_time": "2022-04-19T19:36:29.327Z"
   },
   {
    "duration": 15,
    "start_time": "2022-04-19T19:36:29.332Z"
   },
   {
    "duration": 52,
    "start_time": "2022-04-19T19:36:29.348Z"
   },
   {
    "duration": 12,
    "start_time": "2022-04-19T19:36:29.402Z"
   },
   {
    "duration": 6,
    "start_time": "2022-04-19T19:36:29.415Z"
   },
   {
    "duration": 11,
    "start_time": "2022-04-19T19:36:29.424Z"
   },
   {
    "duration": 23,
    "start_time": "2022-04-19T19:36:29.436Z"
   },
   {
    "duration": 51,
    "start_time": "2022-04-19T19:36:29.461Z"
   },
   {
    "duration": 17,
    "start_time": "2022-04-19T19:36:29.514Z"
   },
   {
    "duration": 3,
    "start_time": "2022-04-19T19:36:29.532Z"
   },
   {
    "duration": 10,
    "start_time": "2022-04-19T19:36:29.537Z"
   },
   {
    "duration": 8,
    "start_time": "2022-04-19T19:36:29.549Z"
   },
   {
    "duration": 7,
    "start_time": "2022-04-19T19:36:29.559Z"
   },
   {
    "duration": 34,
    "start_time": "2022-04-19T19:36:29.567Z"
   },
   {
    "duration": 25,
    "start_time": "2022-04-19T19:36:29.602Z"
   },
   {
    "duration": 22,
    "start_time": "2022-04-19T19:36:29.628Z"
   },
   {
    "duration": 3,
    "start_time": "2022-04-19T19:36:29.651Z"
   },
   {
    "duration": 5,
    "start_time": "2022-04-19T19:36:29.655Z"
   },
   {
    "duration": 40,
    "start_time": "2022-04-19T19:36:29.661Z"
   },
   {
    "duration": 4,
    "start_time": "2022-04-19T19:36:29.702Z"
   },
   {
    "duration": 4,
    "start_time": "2022-04-19T19:36:29.707Z"
   },
   {
    "duration": 6,
    "start_time": "2022-04-19T19:36:29.713Z"
   },
   {
    "duration": 8,
    "start_time": "2022-04-19T19:36:29.720Z"
   },
   {
    "duration": 7,
    "start_time": "2022-04-19T19:36:29.730Z"
   },
   {
    "duration": 6,
    "start_time": "2022-04-19T19:36:29.738Z"
   },
   {
    "duration": 7,
    "start_time": "2022-04-19T19:36:29.745Z"
   },
   {
    "duration": 12,
    "start_time": "2022-04-19T19:36:29.753Z"
   },
   {
    "duration": 4,
    "start_time": "2022-04-19T19:36:29.799Z"
   },
   {
    "duration": 14,
    "start_time": "2022-04-19T19:36:29.805Z"
   },
   {
    "duration": 14,
    "start_time": "2022-04-19T19:36:29.821Z"
   },
   {
    "duration": 17,
    "start_time": "2022-04-19T19:36:29.837Z"
   },
   {
    "duration": 16,
    "start_time": "2022-04-19T19:36:29.855Z"
   },
   {
    "duration": 14,
    "start_time": "2022-04-19T19:36:29.899Z"
   },
   {
    "duration": 6,
    "start_time": "2022-04-19T19:36:29.914Z"
   },
   {
    "duration": 13,
    "start_time": "2022-04-19T19:36:29.921Z"
   },
   {
    "duration": 6,
    "start_time": "2022-04-19T19:36:29.935Z"
   },
   {
    "duration": 8,
    "start_time": "2022-04-19T19:36:29.942Z"
   },
   {
    "duration": 8,
    "start_time": "2022-04-19T19:36:29.951Z"
   },
   {
    "duration": 7,
    "start_time": "2022-04-19T19:36:29.960Z"
   },
   {
    "duration": 36,
    "start_time": "2022-04-19T19:36:29.968Z"
   },
   {
    "duration": 7,
    "start_time": "2022-04-19T19:36:30.006Z"
   },
   {
    "duration": 837,
    "start_time": "2022-04-19T19:36:30.015Z"
   },
   {
    "duration": 5,
    "start_time": "2022-04-19T19:36:30.853Z"
   },
   {
    "duration": 26,
    "start_time": "2022-04-19T19:36:30.859Z"
   },
   {
    "duration": 26,
    "start_time": "2022-04-19T19:36:30.886Z"
   },
   {
    "duration": 10,
    "start_time": "2022-04-19T19:36:30.913Z"
   },
   {
    "duration": 13,
    "start_time": "2022-04-19T19:36:30.924Z"
   },
   {
    "duration": 15,
    "start_time": "2022-04-19T19:36:30.938Z"
   },
   {
    "duration": 9,
    "start_time": "2022-04-19T19:36:30.954Z"
   },
   {
    "duration": 22,
    "start_time": "2022-04-19T19:36:30.964Z"
   },
   {
    "duration": 13,
    "start_time": "2022-04-19T19:36:30.987Z"
   },
   {
    "duration": 14,
    "start_time": "2022-04-19T19:36:31.001Z"
   },
   {
    "duration": 18,
    "start_time": "2022-04-19T19:36:31.017Z"
   },
   {
    "duration": 9,
    "start_time": "2022-04-19T19:36:31.036Z"
   },
   {
    "duration": 11,
    "start_time": "2022-04-19T19:36:31.047Z"
   },
   {
    "duration": 24,
    "start_time": "2022-04-19T19:36:31.059Z"
   },
   {
    "duration": 24,
    "start_time": "2022-04-19T19:36:31.084Z"
   },
   {
    "duration": 6,
    "start_time": "2022-04-19T19:36:31.109Z"
   },
   {
    "duration": 17,
    "start_time": "2022-04-19T19:36:31.116Z"
   },
   {
    "duration": 5,
    "start_time": "2022-04-19T19:36:31.135Z"
   },
   {
    "duration": 19,
    "start_time": "2022-04-19T19:36:31.142Z"
   },
   {
    "duration": 10,
    "start_time": "2022-04-19T19:36:31.163Z"
   },
   {
    "duration": 7,
    "start_time": "2022-04-19T19:37:23.139Z"
   },
   {
    "duration": 6,
    "start_time": "2022-04-19T19:37:36.325Z"
   },
   {
    "duration": 13,
    "start_time": "2022-04-19T19:38:09.893Z"
   }
  ],
  "kernelspec": {
   "display_name": "Python 3 (ipykernel)",
   "language": "python",
   "name": "python3"
  },
  "language_info": {
   "codemirror_mode": {
    "name": "ipython",
    "version": 3
   },
   "file_extension": ".py",
   "mimetype": "text/x-python",
   "name": "python",
   "nbconvert_exporter": "python",
   "pygments_lexer": "ipython3",
   "version": "3.9.7"
  },
  "toc": {
   "base_numbering": 1,
   "nav_menu": {
    "height": "379px",
    "width": "252px"
   },
   "number_sections": true,
   "sideBar": true,
   "skip_h1_title": true,
   "title_cell": "Table of Contents",
   "title_sidebar": "Contents",
   "toc_cell": false,
   "toc_position": {
    "height": "calc(100% - 180px)",
    "left": "10px",
    "top": "150px",
    "width": "209.391px"
   },
   "toc_section_display": true,
   "toc_window_display": true
  },
  "varInspector": {
   "cols": {
    "lenName": 16,
    "lenType": 16,
    "lenVar": 40
   },
   "kernels_config": {
    "python": {
     "delete_cmd_postfix": "",
     "delete_cmd_prefix": "del ",
     "library": "var_list.py",
     "varRefreshCmd": "print(var_dic_list())"
    },
    "r": {
     "delete_cmd_postfix": ") ",
     "delete_cmd_prefix": "rm(",
     "library": "var_list.r",
     "varRefreshCmd": "cat(var_dic_list()) "
    }
   },
   "types_to_exclude": [
    "module",
    "function",
    "builtin_function_or_method",
    "instance",
    "_Feature"
   ],
   "window_display": false
  }
 },
 "nbformat": 4,
 "nbformat_minor": 5
}
