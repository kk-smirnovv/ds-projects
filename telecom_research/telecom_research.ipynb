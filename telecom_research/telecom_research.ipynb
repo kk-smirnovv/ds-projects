{
 "cells": [
  {
   "cell_type": "markdown",
   "metadata": {},
   "source": [
    "# Определение перспективного тарифа для телеком-компании"
   ]
  },
  {
   "cell_type": "markdown",
   "metadata": {},
   "source": [
    "## Описание проекта:\n",
    "\n",
    "Имеются данные федерального оператора сотовой связи. Клиентам предлагают два тарифных плана: «Смарт» и «Ультра». Чтобы скорректировать рекламный бюджет, коммерческий департамент хочет понять, какой тариф приносит больше денег.\n",
    "\n",
    "Предстоит сделать предварительный анализ тарифов на небольшой выборке клиентов. В моем распоряжении данные 500 пользователей компании: кто они, откуда, каким тарифом пользуются, сколько звонков и сообщений каждый отправил за 2018 год. Нужно проанализировать поведение клиентов и сделать вывод — какой тариф лучше."
   ]
  },
  {
   "cell_type": "markdown",
   "metadata": {},
   "source": [
    "**Описание тарифов** "
   ]
  },
  {
   "cell_type": "markdown",
   "metadata": {},
   "source": [
    "* **Тариф «Смарт»**\n",
    "  * Ежемесячная плата: 550 рублей\n",
    "  * Включено 500 минут разговора, 50 сообщений и 15 Гб интернет-трафика\n",
    "  * Стоимость услуг сверх тарифного пакета:\n",
    "  * минута разговора: 3 рубля\n",
    "  * сообщение: 3 рубля\n",
    "  * 1 Гб интернет-трафика: 200 рублей\n",
    "  \n",
    "* **Тариф «Ультра»**\n",
    "  * Ежемесячная плата: 1950 рублей\n",
    "  * Включено 3000 минут разговора, 1000 сообщений и 30 Гб интернет-трафика\n",
    "  * Стоимость услуг сверх тарифного пакета:\n",
    "  * минута разговора: 1 рубль\n",
    "  * сообщение: 1 рубль\n",
    "  * 1 Гб интернет-трафика: 150 рублей"
   ]
  },
  {
   "cell_type": "markdown",
   "metadata": {},
   "source": [
    "*Примечание*\n",
    "\n",
    "«Мегалайн» всегда округляет секунды до минут, а мегабайты — до гигабайт. Каждый звонок округляется отдельно: даже если он длился всего 1 секунду, будет засчитан как 1 минута.\n",
    "\n",
    "Для веб-трафика отдельные сессии не считаются. Вместо этого общая сумма за месяц округляется в бо́льшую сторону. Если абонент использует 1025 мегабайт в этом месяце, с него возьмут плату за 2 гигабайта. Примите, что неиспользованные за предыдущий месяц звонки, смс, интернет на следующий месяц не переносятся."
   ]
  },
  {
   "cell_type": "markdown",
   "metadata": {},
   "source": [
    "## Обзор данных"
   ]
  },
  {
   "cell_type": "code",
   "execution_count": 1,
   "metadata": {},
   "outputs": [],
   "source": [
    "import pandas as pd\n",
    "import numpy as np\n",
    "import matplotlib.pyplot as plt\n",
    "import seaborn as sns\n",
    "from scipy import stats as st\n",
    "import os\n",
    "\n",
    "# импорт необходимых библиотек\n",
    "sns.set_theme(style=\"white\", palette='pastel')"
   ]
  },
  {
   "cell_type": "code",
   "execution_count": 2,
   "metadata": {},
   "outputs": [],
   "source": [
    "if os.path.exists('/datasets/calls.csv'):\n",
    "    calls = pd.read_csv('/datasets/calls.csv')\n",
    "    internet = pd.read_csv('/datasets/internet.csv', index_col=0)\n",
    "    messages = pd.read_csv('/datasets/messages.csv')\n",
    "    tariffs = pd.read_csv('/datasets/tariffs.csv')\n",
    "    users = pd.read_csv('/datasets/users.csv')\n",
    "elif os.path.exists('./datasets/users.csv'):\n",
    "    calls = pd.read_csv('./datasets/calls.csv')\n",
    "    internet = pd.read_csv('./datasets/internet.csv', index_col=0)\n",
    "    messages = pd.read_csv('./datasets/messages.csv')\n",
    "    tariffs = pd.read_csv('./datasets/tariffs.csv')\n",
    "    users = pd.read_csv('./datasets/users.csv')\n",
    "# загружаем данные"
   ]
  },
  {
   "cell_type": "code",
   "execution_count": 3,
   "metadata": {
    "scrolled": false
   },
   "outputs": [
    {
     "data": {
      "text/html": [
       "<div>\n",
       "<style scoped>\n",
       "    .dataframe tbody tr th:only-of-type {\n",
       "        vertical-align: middle;\n",
       "    }\n",
       "\n",
       "    .dataframe tbody tr th {\n",
       "        vertical-align: top;\n",
       "    }\n",
       "\n",
       "    .dataframe thead th {\n",
       "        text-align: right;\n",
       "    }\n",
       "</style>\n",
       "<table border=\"1\" class=\"dataframe\">\n",
       "  <thead>\n",
       "    <tr style=\"text-align: right;\">\n",
       "      <th></th>\n",
       "      <th>id</th>\n",
       "      <th>call_date</th>\n",
       "      <th>duration</th>\n",
       "      <th>user_id</th>\n",
       "    </tr>\n",
       "  </thead>\n",
       "  <tbody>\n",
       "    <tr>\n",
       "      <th>0</th>\n",
       "      <td>1000_0</td>\n",
       "      <td>2018-07-25</td>\n",
       "      <td>0.00</td>\n",
       "      <td>1000</td>\n",
       "    </tr>\n",
       "    <tr>\n",
       "      <th>1</th>\n",
       "      <td>1000_1</td>\n",
       "      <td>2018-08-17</td>\n",
       "      <td>0.00</td>\n",
       "      <td>1000</td>\n",
       "    </tr>\n",
       "    <tr>\n",
       "      <th>2</th>\n",
       "      <td>1000_2</td>\n",
       "      <td>2018-06-11</td>\n",
       "      <td>2.85</td>\n",
       "      <td>1000</td>\n",
       "    </tr>\n",
       "    <tr>\n",
       "      <th>3</th>\n",
       "      <td>1000_3</td>\n",
       "      <td>2018-09-21</td>\n",
       "      <td>13.80</td>\n",
       "      <td>1000</td>\n",
       "    </tr>\n",
       "    <tr>\n",
       "      <th>4</th>\n",
       "      <td>1000_4</td>\n",
       "      <td>2018-12-15</td>\n",
       "      <td>5.18</td>\n",
       "      <td>1000</td>\n",
       "    </tr>\n",
       "    <tr>\n",
       "      <th>...</th>\n",
       "      <td>...</td>\n",
       "      <td>...</td>\n",
       "      <td>...</td>\n",
       "      <td>...</td>\n",
       "    </tr>\n",
       "    <tr>\n",
       "      <th>202602</th>\n",
       "      <td>1499_215</td>\n",
       "      <td>2018-12-26</td>\n",
       "      <td>0.76</td>\n",
       "      <td>1499</td>\n",
       "    </tr>\n",
       "    <tr>\n",
       "      <th>202603</th>\n",
       "      <td>1499_216</td>\n",
       "      <td>2018-10-18</td>\n",
       "      <td>18.83</td>\n",
       "      <td>1499</td>\n",
       "    </tr>\n",
       "    <tr>\n",
       "      <th>202604</th>\n",
       "      <td>1499_217</td>\n",
       "      <td>2018-11-10</td>\n",
       "      <td>10.81</td>\n",
       "      <td>1499</td>\n",
       "    </tr>\n",
       "    <tr>\n",
       "      <th>202605</th>\n",
       "      <td>1499_218</td>\n",
       "      <td>2018-10-06</td>\n",
       "      <td>4.27</td>\n",
       "      <td>1499</td>\n",
       "    </tr>\n",
       "    <tr>\n",
       "      <th>202606</th>\n",
       "      <td>1499_219</td>\n",
       "      <td>2018-12-14</td>\n",
       "      <td>19.62</td>\n",
       "      <td>1499</td>\n",
       "    </tr>\n",
       "  </tbody>\n",
       "</table>\n",
       "<p>202607 rows × 4 columns</p>\n",
       "</div>"
      ],
      "text/plain": [
       "              id   call_date  duration  user_id\n",
       "0         1000_0  2018-07-25      0.00     1000\n",
       "1         1000_1  2018-08-17      0.00     1000\n",
       "2         1000_2  2018-06-11      2.85     1000\n",
       "3         1000_3  2018-09-21     13.80     1000\n",
       "4         1000_4  2018-12-15      5.18     1000\n",
       "...          ...         ...       ...      ...\n",
       "202602  1499_215  2018-12-26      0.76     1499\n",
       "202603  1499_216  2018-10-18     18.83     1499\n",
       "202604  1499_217  2018-11-10     10.81     1499\n",
       "202605  1499_218  2018-10-06      4.27     1499\n",
       "202606  1499_219  2018-12-14     19.62     1499\n",
       "\n",
       "[202607 rows x 4 columns]"
      ]
     },
     "execution_count": 3,
     "metadata": {},
     "output_type": "execute_result"
    }
   ],
   "source": [
    "calls"
   ]
  },
  {
   "cell_type": "code",
   "execution_count": 4,
   "metadata": {
    "scrolled": true
   },
   "outputs": [
    {
     "name": "stdout",
     "output_type": "stream",
     "text": [
      "<class 'pandas.core.frame.DataFrame'>\n",
      "RangeIndex: 202607 entries, 0 to 202606\n",
      "Data columns (total 4 columns):\n",
      " #   Column     Non-Null Count   Dtype  \n",
      "---  ------     --------------   -----  \n",
      " 0   id         202607 non-null  object \n",
      " 1   call_date  202607 non-null  object \n",
      " 2   duration   202607 non-null  float64\n",
      " 3   user_id    202607 non-null  int64  \n",
      "dtypes: float64(1), int64(1), object(2)\n",
      "memory usage: 6.2+ MB\n"
     ]
    }
   ],
   "source": [
    "calls.info()"
   ]
  },
  {
   "cell_type": "code",
   "execution_count": 5,
   "metadata": {
    "scrolled": false
   },
   "outputs": [
    {
     "data": {
      "text/html": [
       "<div>\n",
       "<style scoped>\n",
       "    .dataframe tbody tr th:only-of-type {\n",
       "        vertical-align: middle;\n",
       "    }\n",
       "\n",
       "    .dataframe tbody tr th {\n",
       "        vertical-align: top;\n",
       "    }\n",
       "\n",
       "    .dataframe thead th {\n",
       "        text-align: right;\n",
       "    }\n",
       "</style>\n",
       "<table border=\"1\" class=\"dataframe\">\n",
       "  <thead>\n",
       "    <tr style=\"text-align: right;\">\n",
       "      <th></th>\n",
       "      <th>id</th>\n",
       "      <th>mb_used</th>\n",
       "      <th>session_date</th>\n",
       "      <th>user_id</th>\n",
       "    </tr>\n",
       "  </thead>\n",
       "  <tbody>\n",
       "    <tr>\n",
       "      <th>0</th>\n",
       "      <td>1000_0</td>\n",
       "      <td>112.95</td>\n",
       "      <td>2018-11-25</td>\n",
       "      <td>1000</td>\n",
       "    </tr>\n",
       "    <tr>\n",
       "      <th>1</th>\n",
       "      <td>1000_1</td>\n",
       "      <td>1052.81</td>\n",
       "      <td>2018-09-07</td>\n",
       "      <td>1000</td>\n",
       "    </tr>\n",
       "    <tr>\n",
       "      <th>2</th>\n",
       "      <td>1000_2</td>\n",
       "      <td>1197.26</td>\n",
       "      <td>2018-06-25</td>\n",
       "      <td>1000</td>\n",
       "    </tr>\n",
       "    <tr>\n",
       "      <th>3</th>\n",
       "      <td>1000_3</td>\n",
       "      <td>550.27</td>\n",
       "      <td>2018-08-22</td>\n",
       "      <td>1000</td>\n",
       "    </tr>\n",
       "    <tr>\n",
       "      <th>4</th>\n",
       "      <td>1000_4</td>\n",
       "      <td>302.56</td>\n",
       "      <td>2018-09-24</td>\n",
       "      <td>1000</td>\n",
       "    </tr>\n",
       "    <tr>\n",
       "      <th>...</th>\n",
       "      <td>...</td>\n",
       "      <td>...</td>\n",
       "      <td>...</td>\n",
       "      <td>...</td>\n",
       "    </tr>\n",
       "    <tr>\n",
       "      <th>149391</th>\n",
       "      <td>1499_152</td>\n",
       "      <td>318.90</td>\n",
       "      <td>2018-10-03</td>\n",
       "      <td>1499</td>\n",
       "    </tr>\n",
       "    <tr>\n",
       "      <th>149392</th>\n",
       "      <td>1499_153</td>\n",
       "      <td>490.13</td>\n",
       "      <td>2018-12-14</td>\n",
       "      <td>1499</td>\n",
       "    </tr>\n",
       "    <tr>\n",
       "      <th>149393</th>\n",
       "      <td>1499_154</td>\n",
       "      <td>0.00</td>\n",
       "      <td>2018-10-27</td>\n",
       "      <td>1499</td>\n",
       "    </tr>\n",
       "    <tr>\n",
       "      <th>149394</th>\n",
       "      <td>1499_155</td>\n",
       "      <td>1246.32</td>\n",
       "      <td>2018-11-26</td>\n",
       "      <td>1499</td>\n",
       "    </tr>\n",
       "    <tr>\n",
       "      <th>149395</th>\n",
       "      <td>1499_156</td>\n",
       "      <td>544.37</td>\n",
       "      <td>2018-10-26</td>\n",
       "      <td>1499</td>\n",
       "    </tr>\n",
       "  </tbody>\n",
       "</table>\n",
       "<p>149396 rows × 4 columns</p>\n",
       "</div>"
      ],
      "text/plain": [
       "              id  mb_used session_date  user_id\n",
       "0         1000_0   112.95   2018-11-25     1000\n",
       "1         1000_1  1052.81   2018-09-07     1000\n",
       "2         1000_2  1197.26   2018-06-25     1000\n",
       "3         1000_3   550.27   2018-08-22     1000\n",
       "4         1000_4   302.56   2018-09-24     1000\n",
       "...          ...      ...          ...      ...\n",
       "149391  1499_152   318.90   2018-10-03     1499\n",
       "149392  1499_153   490.13   2018-12-14     1499\n",
       "149393  1499_154     0.00   2018-10-27     1499\n",
       "149394  1499_155  1246.32   2018-11-26     1499\n",
       "149395  1499_156   544.37   2018-10-26     1499\n",
       "\n",
       "[149396 rows x 4 columns]"
      ]
     },
     "execution_count": 5,
     "metadata": {},
     "output_type": "execute_result"
    }
   ],
   "source": [
    "internet"
   ]
  },
  {
   "cell_type": "code",
   "execution_count": 6,
   "metadata": {},
   "outputs": [
    {
     "name": "stdout",
     "output_type": "stream",
     "text": [
      "<class 'pandas.core.frame.DataFrame'>\n",
      "Int64Index: 149396 entries, 0 to 149395\n",
      "Data columns (total 4 columns):\n",
      " #   Column        Non-Null Count   Dtype  \n",
      "---  ------        --------------   -----  \n",
      " 0   id            149396 non-null  object \n",
      " 1   mb_used       149396 non-null  float64\n",
      " 2   session_date  149396 non-null  object \n",
      " 3   user_id       149396 non-null  int64  \n",
      "dtypes: float64(1), int64(1), object(2)\n",
      "memory usage: 5.7+ MB\n"
     ]
    }
   ],
   "source": [
    "internet.info()"
   ]
  },
  {
   "cell_type": "code",
   "execution_count": 7,
   "metadata": {
    "scrolled": false
   },
   "outputs": [
    {
     "data": {
      "text/html": [
       "<div>\n",
       "<style scoped>\n",
       "    .dataframe tbody tr th:only-of-type {\n",
       "        vertical-align: middle;\n",
       "    }\n",
       "\n",
       "    .dataframe tbody tr th {\n",
       "        vertical-align: top;\n",
       "    }\n",
       "\n",
       "    .dataframe thead th {\n",
       "        text-align: right;\n",
       "    }\n",
       "</style>\n",
       "<table border=\"1\" class=\"dataframe\">\n",
       "  <thead>\n",
       "    <tr style=\"text-align: right;\">\n",
       "      <th></th>\n",
       "      <th>id</th>\n",
       "      <th>message_date</th>\n",
       "      <th>user_id</th>\n",
       "    </tr>\n",
       "  </thead>\n",
       "  <tbody>\n",
       "    <tr>\n",
       "      <th>0</th>\n",
       "      <td>1000_0</td>\n",
       "      <td>2018-06-27</td>\n",
       "      <td>1000</td>\n",
       "    </tr>\n",
       "    <tr>\n",
       "      <th>1</th>\n",
       "      <td>1000_1</td>\n",
       "      <td>2018-10-08</td>\n",
       "      <td>1000</td>\n",
       "    </tr>\n",
       "    <tr>\n",
       "      <th>2</th>\n",
       "      <td>1000_2</td>\n",
       "      <td>2018-08-04</td>\n",
       "      <td>1000</td>\n",
       "    </tr>\n",
       "    <tr>\n",
       "      <th>3</th>\n",
       "      <td>1000_3</td>\n",
       "      <td>2018-06-16</td>\n",
       "      <td>1000</td>\n",
       "    </tr>\n",
       "    <tr>\n",
       "      <th>4</th>\n",
       "      <td>1000_4</td>\n",
       "      <td>2018-12-05</td>\n",
       "      <td>1000</td>\n",
       "    </tr>\n",
       "    <tr>\n",
       "      <th>...</th>\n",
       "      <td>...</td>\n",
       "      <td>...</td>\n",
       "      <td>...</td>\n",
       "    </tr>\n",
       "    <tr>\n",
       "      <th>123031</th>\n",
       "      <td>1499_179</td>\n",
       "      <td>2018-12-12</td>\n",
       "      <td>1499</td>\n",
       "    </tr>\n",
       "    <tr>\n",
       "      <th>123032</th>\n",
       "      <td>1499_180</td>\n",
       "      <td>2018-09-28</td>\n",
       "      <td>1499</td>\n",
       "    </tr>\n",
       "    <tr>\n",
       "      <th>123033</th>\n",
       "      <td>1499_181</td>\n",
       "      <td>2018-09-27</td>\n",
       "      <td>1499</td>\n",
       "    </tr>\n",
       "    <tr>\n",
       "      <th>123034</th>\n",
       "      <td>1499_182</td>\n",
       "      <td>2018-11-15</td>\n",
       "      <td>1499</td>\n",
       "    </tr>\n",
       "    <tr>\n",
       "      <th>123035</th>\n",
       "      <td>1499_183</td>\n",
       "      <td>2018-11-16</td>\n",
       "      <td>1499</td>\n",
       "    </tr>\n",
       "  </tbody>\n",
       "</table>\n",
       "<p>123036 rows × 3 columns</p>\n",
       "</div>"
      ],
      "text/plain": [
       "              id message_date  user_id\n",
       "0         1000_0   2018-06-27     1000\n",
       "1         1000_1   2018-10-08     1000\n",
       "2         1000_2   2018-08-04     1000\n",
       "3         1000_3   2018-06-16     1000\n",
       "4         1000_4   2018-12-05     1000\n",
       "...          ...          ...      ...\n",
       "123031  1499_179   2018-12-12     1499\n",
       "123032  1499_180   2018-09-28     1499\n",
       "123033  1499_181   2018-09-27     1499\n",
       "123034  1499_182   2018-11-15     1499\n",
       "123035  1499_183   2018-11-16     1499\n",
       "\n",
       "[123036 rows x 3 columns]"
      ]
     },
     "execution_count": 7,
     "metadata": {},
     "output_type": "execute_result"
    }
   ],
   "source": [
    "messages"
   ]
  },
  {
   "cell_type": "code",
   "execution_count": 8,
   "metadata": {},
   "outputs": [
    {
     "name": "stdout",
     "output_type": "stream",
     "text": [
      "<class 'pandas.core.frame.DataFrame'>\n",
      "RangeIndex: 123036 entries, 0 to 123035\n",
      "Data columns (total 3 columns):\n",
      " #   Column        Non-Null Count   Dtype \n",
      "---  ------        --------------   ----- \n",
      " 0   id            123036 non-null  object\n",
      " 1   message_date  123036 non-null  object\n",
      " 2   user_id       123036 non-null  int64 \n",
      "dtypes: int64(1), object(2)\n",
      "memory usage: 2.8+ MB\n"
     ]
    }
   ],
   "source": [
    "messages.info()"
   ]
  },
  {
   "cell_type": "code",
   "execution_count": 9,
   "metadata": {
    "scrolled": true
   },
   "outputs": [
    {
     "data": {
      "text/html": [
       "<div>\n",
       "<style scoped>\n",
       "    .dataframe tbody tr th:only-of-type {\n",
       "        vertical-align: middle;\n",
       "    }\n",
       "\n",
       "    .dataframe tbody tr th {\n",
       "        vertical-align: top;\n",
       "    }\n",
       "\n",
       "    .dataframe thead th {\n",
       "        text-align: right;\n",
       "    }\n",
       "</style>\n",
       "<table border=\"1\" class=\"dataframe\">\n",
       "  <thead>\n",
       "    <tr style=\"text-align: right;\">\n",
       "      <th></th>\n",
       "      <th>messages_included</th>\n",
       "      <th>mb_per_month_included</th>\n",
       "      <th>minutes_included</th>\n",
       "      <th>rub_monthly_fee</th>\n",
       "      <th>rub_per_gb</th>\n",
       "      <th>rub_per_message</th>\n",
       "      <th>rub_per_minute</th>\n",
       "      <th>tariff_name</th>\n",
       "    </tr>\n",
       "  </thead>\n",
       "  <tbody>\n",
       "    <tr>\n",
       "      <th>0</th>\n",
       "      <td>50</td>\n",
       "      <td>15360</td>\n",
       "      <td>500</td>\n",
       "      <td>550</td>\n",
       "      <td>200</td>\n",
       "      <td>3</td>\n",
       "      <td>3</td>\n",
       "      <td>smart</td>\n",
       "    </tr>\n",
       "    <tr>\n",
       "      <th>1</th>\n",
       "      <td>1000</td>\n",
       "      <td>30720</td>\n",
       "      <td>3000</td>\n",
       "      <td>1950</td>\n",
       "      <td>150</td>\n",
       "      <td>1</td>\n",
       "      <td>1</td>\n",
       "      <td>ultra</td>\n",
       "    </tr>\n",
       "  </tbody>\n",
       "</table>\n",
       "</div>"
      ],
      "text/plain": [
       "   messages_included  mb_per_month_included  minutes_included  \\\n",
       "0                 50                  15360               500   \n",
       "1               1000                  30720              3000   \n",
       "\n",
       "   rub_monthly_fee  rub_per_gb  rub_per_message  rub_per_minute tariff_name  \n",
       "0              550         200                3               3       smart  \n",
       "1             1950         150                1               1       ultra  "
      ]
     },
     "execution_count": 9,
     "metadata": {},
     "output_type": "execute_result"
    }
   ],
   "source": [
    "tariffs"
   ]
  },
  {
   "cell_type": "code",
   "execution_count": 10,
   "metadata": {},
   "outputs": [
    {
     "name": "stdout",
     "output_type": "stream",
     "text": [
      "<class 'pandas.core.frame.DataFrame'>\n",
      "RangeIndex: 2 entries, 0 to 1\n",
      "Data columns (total 8 columns):\n",
      " #   Column                 Non-Null Count  Dtype \n",
      "---  ------                 --------------  ----- \n",
      " 0   messages_included      2 non-null      int64 \n",
      " 1   mb_per_month_included  2 non-null      int64 \n",
      " 2   minutes_included       2 non-null      int64 \n",
      " 3   rub_monthly_fee        2 non-null      int64 \n",
      " 4   rub_per_gb             2 non-null      int64 \n",
      " 5   rub_per_message        2 non-null      int64 \n",
      " 6   rub_per_minute         2 non-null      int64 \n",
      " 7   tariff_name            2 non-null      object\n",
      "dtypes: int64(7), object(1)\n",
      "memory usage: 256.0+ bytes\n"
     ]
    }
   ],
   "source": [
    "tariffs.info()"
   ]
  },
  {
   "cell_type": "code",
   "execution_count": 11,
   "metadata": {
    "scrolled": false
   },
   "outputs": [
    {
     "data": {
      "text/html": [
       "<div>\n",
       "<style scoped>\n",
       "    .dataframe tbody tr th:only-of-type {\n",
       "        vertical-align: middle;\n",
       "    }\n",
       "\n",
       "    .dataframe tbody tr th {\n",
       "        vertical-align: top;\n",
       "    }\n",
       "\n",
       "    .dataframe thead th {\n",
       "        text-align: right;\n",
       "    }\n",
       "</style>\n",
       "<table border=\"1\" class=\"dataframe\">\n",
       "  <thead>\n",
       "    <tr style=\"text-align: right;\">\n",
       "      <th></th>\n",
       "      <th>user_id</th>\n",
       "      <th>age</th>\n",
       "      <th>churn_date</th>\n",
       "      <th>city</th>\n",
       "      <th>first_name</th>\n",
       "      <th>last_name</th>\n",
       "      <th>reg_date</th>\n",
       "      <th>tariff</th>\n",
       "    </tr>\n",
       "  </thead>\n",
       "  <tbody>\n",
       "    <tr>\n",
       "      <th>0</th>\n",
       "      <td>1000</td>\n",
       "      <td>52</td>\n",
       "      <td>NaN</td>\n",
       "      <td>Краснодар</td>\n",
       "      <td>Рафаил</td>\n",
       "      <td>Верещагин</td>\n",
       "      <td>2018-05-25</td>\n",
       "      <td>ultra</td>\n",
       "    </tr>\n",
       "    <tr>\n",
       "      <th>1</th>\n",
       "      <td>1001</td>\n",
       "      <td>41</td>\n",
       "      <td>NaN</td>\n",
       "      <td>Москва</td>\n",
       "      <td>Иван</td>\n",
       "      <td>Ежов</td>\n",
       "      <td>2018-11-01</td>\n",
       "      <td>smart</td>\n",
       "    </tr>\n",
       "    <tr>\n",
       "      <th>2</th>\n",
       "      <td>1002</td>\n",
       "      <td>59</td>\n",
       "      <td>NaN</td>\n",
       "      <td>Стерлитамак</td>\n",
       "      <td>Евгений</td>\n",
       "      <td>Абрамович</td>\n",
       "      <td>2018-06-17</td>\n",
       "      <td>smart</td>\n",
       "    </tr>\n",
       "    <tr>\n",
       "      <th>3</th>\n",
       "      <td>1003</td>\n",
       "      <td>23</td>\n",
       "      <td>NaN</td>\n",
       "      <td>Москва</td>\n",
       "      <td>Белла</td>\n",
       "      <td>Белякова</td>\n",
       "      <td>2018-08-17</td>\n",
       "      <td>ultra</td>\n",
       "    </tr>\n",
       "    <tr>\n",
       "      <th>4</th>\n",
       "      <td>1004</td>\n",
       "      <td>68</td>\n",
       "      <td>NaN</td>\n",
       "      <td>Новокузнецк</td>\n",
       "      <td>Татьяна</td>\n",
       "      <td>Авдеенко</td>\n",
       "      <td>2018-05-14</td>\n",
       "      <td>ultra</td>\n",
       "    </tr>\n",
       "    <tr>\n",
       "      <th>...</th>\n",
       "      <td>...</td>\n",
       "      <td>...</td>\n",
       "      <td>...</td>\n",
       "      <td>...</td>\n",
       "      <td>...</td>\n",
       "      <td>...</td>\n",
       "      <td>...</td>\n",
       "      <td>...</td>\n",
       "    </tr>\n",
       "    <tr>\n",
       "      <th>495</th>\n",
       "      <td>1495</td>\n",
       "      <td>65</td>\n",
       "      <td>NaN</td>\n",
       "      <td>Иркутск</td>\n",
       "      <td>Авксентий</td>\n",
       "      <td>Фокин</td>\n",
       "      <td>2018-08-28</td>\n",
       "      <td>ultra</td>\n",
       "    </tr>\n",
       "    <tr>\n",
       "      <th>496</th>\n",
       "      <td>1496</td>\n",
       "      <td>36</td>\n",
       "      <td>NaN</td>\n",
       "      <td>Вологда</td>\n",
       "      <td>Трифон</td>\n",
       "      <td>Блохин</td>\n",
       "      <td>2018-01-27</td>\n",
       "      <td>smart</td>\n",
       "    </tr>\n",
       "    <tr>\n",
       "      <th>497</th>\n",
       "      <td>1497</td>\n",
       "      <td>32</td>\n",
       "      <td>NaN</td>\n",
       "      <td>Челябинск</td>\n",
       "      <td>Каролина</td>\n",
       "      <td>Агеева</td>\n",
       "      <td>2018-10-09</td>\n",
       "      <td>smart</td>\n",
       "    </tr>\n",
       "    <tr>\n",
       "      <th>498</th>\n",
       "      <td>1498</td>\n",
       "      <td>68</td>\n",
       "      <td>2018-10-25</td>\n",
       "      <td>Владикавказ</td>\n",
       "      <td>Всеволод</td>\n",
       "      <td>Акимчин</td>\n",
       "      <td>2018-07-19</td>\n",
       "      <td>smart</td>\n",
       "    </tr>\n",
       "    <tr>\n",
       "      <th>499</th>\n",
       "      <td>1499</td>\n",
       "      <td>35</td>\n",
       "      <td>NaN</td>\n",
       "      <td>Пермь</td>\n",
       "      <td>Гектор</td>\n",
       "      <td>Корнилов</td>\n",
       "      <td>2018-09-27</td>\n",
       "      <td>smart</td>\n",
       "    </tr>\n",
       "  </tbody>\n",
       "</table>\n",
       "<p>500 rows × 8 columns</p>\n",
       "</div>"
      ],
      "text/plain": [
       "     user_id  age  churn_date         city first_name  last_name    reg_date  \\\n",
       "0       1000   52         NaN    Краснодар     Рафаил  Верещагин  2018-05-25   \n",
       "1       1001   41         NaN       Москва       Иван       Ежов  2018-11-01   \n",
       "2       1002   59         NaN  Стерлитамак    Евгений  Абрамович  2018-06-17   \n",
       "3       1003   23         NaN       Москва      Белла   Белякова  2018-08-17   \n",
       "4       1004   68         NaN  Новокузнецк    Татьяна   Авдеенко  2018-05-14   \n",
       "..       ...  ...         ...          ...        ...        ...         ...   \n",
       "495     1495   65         NaN      Иркутск  Авксентий      Фокин  2018-08-28   \n",
       "496     1496   36         NaN      Вологда     Трифон     Блохин  2018-01-27   \n",
       "497     1497   32         NaN    Челябинск   Каролина     Агеева  2018-10-09   \n",
       "498     1498   68  2018-10-25  Владикавказ   Всеволод    Акимчин  2018-07-19   \n",
       "499     1499   35         NaN        Пермь     Гектор   Корнилов  2018-09-27   \n",
       "\n",
       "    tariff  \n",
       "0    ultra  \n",
       "1    smart  \n",
       "2    smart  \n",
       "3    ultra  \n",
       "4    ultra  \n",
       "..     ...  \n",
       "495  ultra  \n",
       "496  smart  \n",
       "497  smart  \n",
       "498  smart  \n",
       "499  smart  \n",
       "\n",
       "[500 rows x 8 columns]"
      ]
     },
     "execution_count": 11,
     "metadata": {},
     "output_type": "execute_result"
    }
   ],
   "source": [
    "users"
   ]
  },
  {
   "cell_type": "code",
   "execution_count": 12,
   "metadata": {},
   "outputs": [
    {
     "name": "stdout",
     "output_type": "stream",
     "text": [
      "<class 'pandas.core.frame.DataFrame'>\n",
      "RangeIndex: 500 entries, 0 to 499\n",
      "Data columns (total 8 columns):\n",
      " #   Column      Non-Null Count  Dtype \n",
      "---  ------      --------------  ----- \n",
      " 0   user_id     500 non-null    int64 \n",
      " 1   age         500 non-null    int64 \n",
      " 2   churn_date  38 non-null     object\n",
      " 3   city        500 non-null    object\n",
      " 4   first_name  500 non-null    object\n",
      " 5   last_name   500 non-null    object\n",
      " 6   reg_date    500 non-null    object\n",
      " 7   tariff      500 non-null    object\n",
      "dtypes: int64(2), object(6)\n",
      "memory usage: 31.4+ KB\n"
     ]
    }
   ],
   "source": [
    "users.info()"
   ]
  },
  {
   "cell_type": "markdown",
   "metadata": {},
   "source": [
    "**Вывод:**\n",
    "\n",
    "* `calls`\n",
    "  * Пропусков нет\n",
    "  * Колонку `call_date` привести к `datetime`\n",
    "* `internet`\n",
    "  * Пропусков нет\n",
    "  * `session_date` к `datetime`\n",
    "  * Ненужную колонку без названия удалить (Исправил при чтении файла)\n",
    "* `messages`\n",
    "  * Пропусков нет\n",
    "  * `message_date` к `datetime`\n",
    "* `tariffs`\n",
    "  * Тут всё ок\n",
    "* `users`\n",
    "  * Есть пропуски в `churn_date`, но похоже, это нормально, потому что это абоненты, отключившие тарифы \n",
    "  * `churn_date`, `reg_date` привести к `datetime`\n",
    "\n",
    "В данных есть звонки с 0-ой продолжительностью и количество потраченных mb 0. В первом случае это отклоненный звонок, во втором человек не включал интернет."
   ]
  },
  {
   "cell_type": "markdown",
   "metadata": {},
   "source": [
    "## Подготовка данных"
   ]
  },
  {
   "cell_type": "code",
   "execution_count": 13,
   "metadata": {},
   "outputs": [],
   "source": [
    "# меняем типы данных\n",
    "calls['call_date'] = pd.to_datetime(calls['call_date'], errors='ignore')\n",
    "internet['session_date'] = pd.to_datetime(internet['session_date'])\n",
    "messages['message_date'] = pd.to_datetime(messages['message_date'])\n",
    "users['churn_date'] = pd.to_datetime(users['churn_date'])\n",
    "users['reg_date'] = pd.to_datetime(users['reg_date'])"
   ]
  },
  {
   "cell_type": "code",
   "execution_count": 14,
   "metadata": {},
   "outputs": [
    {
     "data": {
      "text/plain": [
       "user_id                int64\n",
       "age                    int64\n",
       "churn_date    datetime64[ns]\n",
       "city                  object\n",
       "first_name            object\n",
       "last_name             object\n",
       "reg_date      datetime64[ns]\n",
       "tariff                object\n",
       "dtype: object"
      ]
     },
     "execution_count": 14,
     "metadata": {},
     "output_type": "execute_result"
    }
   ],
   "source": [
    "# проверяем\n",
    "users.dtypes"
   ]
  },
  {
   "cell_type": "code",
   "execution_count": 15,
   "metadata": {},
   "outputs": [
    {
     "data": {
      "text/html": [
       "<div>\n",
       "<style scoped>\n",
       "    .dataframe tbody tr th:only-of-type {\n",
       "        vertical-align: middle;\n",
       "    }\n",
       "\n",
       "    .dataframe tbody tr th {\n",
       "        vertical-align: top;\n",
       "    }\n",
       "\n",
       "    .dataframe thead th {\n",
       "        text-align: right;\n",
       "    }\n",
       "</style>\n",
       "<table border=\"1\" class=\"dataframe\">\n",
       "  <thead>\n",
       "    <tr style=\"text-align: right;\">\n",
       "      <th></th>\n",
       "      <th>count</th>\n",
       "      <th>mean</th>\n",
       "      <th>std</th>\n",
       "      <th>min</th>\n",
       "      <th>25%</th>\n",
       "      <th>50%</th>\n",
       "      <th>75%</th>\n",
       "      <th>max</th>\n",
       "    </tr>\n",
       "  </thead>\n",
       "  <tbody>\n",
       "    <tr>\n",
       "      <th>duration</th>\n",
       "      <td>202607.0</td>\n",
       "      <td>6.755887</td>\n",
       "      <td>5.843365</td>\n",
       "      <td>0.0</td>\n",
       "      <td>1.3</td>\n",
       "      <td>6.0</td>\n",
       "      <td>10.7</td>\n",
       "      <td>38.0</td>\n",
       "    </tr>\n",
       "    <tr>\n",
       "      <th>user_id</th>\n",
       "      <td>202607.0</td>\n",
       "      <td>1253.940619</td>\n",
       "      <td>144.722751</td>\n",
       "      <td>1000.0</td>\n",
       "      <td>1126.0</td>\n",
       "      <td>1260.0</td>\n",
       "      <td>1379.0</td>\n",
       "      <td>1499.0</td>\n",
       "    </tr>\n",
       "  </tbody>\n",
       "</table>\n",
       "</div>"
      ],
      "text/plain": [
       "             count         mean         std     min     25%     50%     75%  \\\n",
       "duration  202607.0     6.755887    5.843365     0.0     1.3     6.0    10.7   \n",
       "user_id   202607.0  1253.940619  144.722751  1000.0  1126.0  1260.0  1379.0   \n",
       "\n",
       "             max  \n",
       "duration    38.0  \n",
       "user_id   1499.0  "
      ]
     },
     "execution_count": 15,
     "metadata": {},
     "output_type": "execute_result"
    }
   ],
   "source": [
    "calls.describe().T"
   ]
  },
  {
   "cell_type": "code",
   "execution_count": 16,
   "metadata": {},
   "outputs": [
    {
     "data": {
      "text/html": [
       "<div>\n",
       "<style scoped>\n",
       "    .dataframe tbody tr th:only-of-type {\n",
       "        vertical-align: middle;\n",
       "    }\n",
       "\n",
       "    .dataframe tbody tr th {\n",
       "        vertical-align: top;\n",
       "    }\n",
       "\n",
       "    .dataframe thead th {\n",
       "        text-align: right;\n",
       "    }\n",
       "</style>\n",
       "<table border=\"1\" class=\"dataframe\">\n",
       "  <thead>\n",
       "    <tr style=\"text-align: right;\">\n",
       "      <th></th>\n",
       "      <th>count</th>\n",
       "      <th>mean</th>\n",
       "      <th>std</th>\n",
       "      <th>min</th>\n",
       "      <th>25%</th>\n",
       "      <th>50%</th>\n",
       "      <th>75%</th>\n",
       "      <th>max</th>\n",
       "    </tr>\n",
       "  </thead>\n",
       "  <tbody>\n",
       "    <tr>\n",
       "      <th>mb_used</th>\n",
       "      <td>149396.0</td>\n",
       "      <td>370.192426</td>\n",
       "      <td>278.300951</td>\n",
       "      <td>0.0</td>\n",
       "      <td>138.1875</td>\n",
       "      <td>348.015</td>\n",
       "      <td>559.5525</td>\n",
       "      <td>1724.83</td>\n",
       "    </tr>\n",
       "    <tr>\n",
       "      <th>user_id</th>\n",
       "      <td>149396.0</td>\n",
       "      <td>1252.099842</td>\n",
       "      <td>144.050823</td>\n",
       "      <td>1000.0</td>\n",
       "      <td>1130.0000</td>\n",
       "      <td>1251.000</td>\n",
       "      <td>1380.0000</td>\n",
       "      <td>1499.00</td>\n",
       "    </tr>\n",
       "  </tbody>\n",
       "</table>\n",
       "</div>"
      ],
      "text/plain": [
       "            count         mean         std     min        25%       50%  \\\n",
       "mb_used  149396.0   370.192426  278.300951     0.0   138.1875   348.015   \n",
       "user_id  149396.0  1252.099842  144.050823  1000.0  1130.0000  1251.000   \n",
       "\n",
       "               75%      max  \n",
       "mb_used   559.5525  1724.83  \n",
       "user_id  1380.0000  1499.00  "
      ]
     },
     "execution_count": 16,
     "metadata": {},
     "output_type": "execute_result"
    }
   ],
   "source": [
    "internet.describe().T"
   ]
  },
  {
   "cell_type": "code",
   "execution_count": 17,
   "metadata": {},
   "outputs": [
    {
     "data": {
      "text/html": [
       "<div>\n",
       "<style scoped>\n",
       "    .dataframe tbody tr th:only-of-type {\n",
       "        vertical-align: middle;\n",
       "    }\n",
       "\n",
       "    .dataframe tbody tr th {\n",
       "        vertical-align: top;\n",
       "    }\n",
       "\n",
       "    .dataframe thead th {\n",
       "        text-align: right;\n",
       "    }\n",
       "</style>\n",
       "<table border=\"1\" class=\"dataframe\">\n",
       "  <thead>\n",
       "    <tr style=\"text-align: right;\">\n",
       "      <th></th>\n",
       "      <th>count</th>\n",
       "      <th>mean</th>\n",
       "      <th>std</th>\n",
       "      <th>min</th>\n",
       "      <th>25%</th>\n",
       "      <th>50%</th>\n",
       "      <th>75%</th>\n",
       "      <th>max</th>\n",
       "    </tr>\n",
       "  </thead>\n",
       "  <tbody>\n",
       "    <tr>\n",
       "      <th>user_id</th>\n",
       "      <td>123036.0</td>\n",
       "      <td>1256.98941</td>\n",
       "      <td>143.523967</td>\n",
       "      <td>1000.0</td>\n",
       "      <td>1134.0</td>\n",
       "      <td>1271.0</td>\n",
       "      <td>1381.0</td>\n",
       "      <td>1499.0</td>\n",
       "    </tr>\n",
       "  </tbody>\n",
       "</table>\n",
       "</div>"
      ],
      "text/plain": [
       "            count        mean         std     min     25%     50%     75%  \\\n",
       "user_id  123036.0  1256.98941  143.523967  1000.0  1134.0  1271.0  1381.0   \n",
       "\n",
       "            max  \n",
       "user_id  1499.0  "
      ]
     },
     "execution_count": 17,
     "metadata": {},
     "output_type": "execute_result"
    }
   ],
   "source": [
    "messages.describe().T"
   ]
  },
  {
   "cell_type": "code",
   "execution_count": 18,
   "metadata": {},
   "outputs": [
    {
     "data": {
      "text/html": [
       "<div>\n",
       "<style scoped>\n",
       "    .dataframe tbody tr th:only-of-type {\n",
       "        vertical-align: middle;\n",
       "    }\n",
       "\n",
       "    .dataframe tbody tr th {\n",
       "        vertical-align: top;\n",
       "    }\n",
       "\n",
       "    .dataframe thead th {\n",
       "        text-align: right;\n",
       "    }\n",
       "</style>\n",
       "<table border=\"1\" class=\"dataframe\">\n",
       "  <thead>\n",
       "    <tr style=\"text-align: right;\">\n",
       "      <th></th>\n",
       "      <th>count</th>\n",
       "      <th>mean</th>\n",
       "      <th>std</th>\n",
       "      <th>min</th>\n",
       "      <th>25%</th>\n",
       "      <th>50%</th>\n",
       "      <th>75%</th>\n",
       "      <th>max</th>\n",
       "    </tr>\n",
       "  </thead>\n",
       "  <tbody>\n",
       "    <tr>\n",
       "      <th>messages_included</th>\n",
       "      <td>2.0</td>\n",
       "      <td>525.0</td>\n",
       "      <td>671.751442</td>\n",
       "      <td>50.0</td>\n",
       "      <td>287.5</td>\n",
       "      <td>525.0</td>\n",
       "      <td>762.5</td>\n",
       "      <td>1000.0</td>\n",
       "    </tr>\n",
       "    <tr>\n",
       "      <th>mb_per_month_included</th>\n",
       "      <td>2.0</td>\n",
       "      <td>23040.0</td>\n",
       "      <td>10861.160159</td>\n",
       "      <td>15360.0</td>\n",
       "      <td>19200.0</td>\n",
       "      <td>23040.0</td>\n",
       "      <td>26880.0</td>\n",
       "      <td>30720.0</td>\n",
       "    </tr>\n",
       "    <tr>\n",
       "      <th>minutes_included</th>\n",
       "      <td>2.0</td>\n",
       "      <td>1750.0</td>\n",
       "      <td>1767.766953</td>\n",
       "      <td>500.0</td>\n",
       "      <td>1125.0</td>\n",
       "      <td>1750.0</td>\n",
       "      <td>2375.0</td>\n",
       "      <td>3000.0</td>\n",
       "    </tr>\n",
       "    <tr>\n",
       "      <th>rub_monthly_fee</th>\n",
       "      <td>2.0</td>\n",
       "      <td>1250.0</td>\n",
       "      <td>989.949494</td>\n",
       "      <td>550.0</td>\n",
       "      <td>900.0</td>\n",
       "      <td>1250.0</td>\n",
       "      <td>1600.0</td>\n",
       "      <td>1950.0</td>\n",
       "    </tr>\n",
       "    <tr>\n",
       "      <th>rub_per_gb</th>\n",
       "      <td>2.0</td>\n",
       "      <td>175.0</td>\n",
       "      <td>35.355339</td>\n",
       "      <td>150.0</td>\n",
       "      <td>162.5</td>\n",
       "      <td>175.0</td>\n",
       "      <td>187.5</td>\n",
       "      <td>200.0</td>\n",
       "    </tr>\n",
       "    <tr>\n",
       "      <th>rub_per_message</th>\n",
       "      <td>2.0</td>\n",
       "      <td>2.0</td>\n",
       "      <td>1.414214</td>\n",
       "      <td>1.0</td>\n",
       "      <td>1.5</td>\n",
       "      <td>2.0</td>\n",
       "      <td>2.5</td>\n",
       "      <td>3.0</td>\n",
       "    </tr>\n",
       "    <tr>\n",
       "      <th>rub_per_minute</th>\n",
       "      <td>2.0</td>\n",
       "      <td>2.0</td>\n",
       "      <td>1.414214</td>\n",
       "      <td>1.0</td>\n",
       "      <td>1.5</td>\n",
       "      <td>2.0</td>\n",
       "      <td>2.5</td>\n",
       "      <td>3.0</td>\n",
       "    </tr>\n",
       "  </tbody>\n",
       "</table>\n",
       "</div>"
      ],
      "text/plain": [
       "                       count     mean           std      min      25%  \\\n",
       "messages_included        2.0    525.0    671.751442     50.0    287.5   \n",
       "mb_per_month_included    2.0  23040.0  10861.160159  15360.0  19200.0   \n",
       "minutes_included         2.0   1750.0   1767.766953    500.0   1125.0   \n",
       "rub_monthly_fee          2.0   1250.0    989.949494    550.0    900.0   \n",
       "rub_per_gb               2.0    175.0     35.355339    150.0    162.5   \n",
       "rub_per_message          2.0      2.0      1.414214      1.0      1.5   \n",
       "rub_per_minute           2.0      2.0      1.414214      1.0      1.5   \n",
       "\n",
       "                           50%      75%      max  \n",
       "messages_included        525.0    762.5   1000.0  \n",
       "mb_per_month_included  23040.0  26880.0  30720.0  \n",
       "minutes_included        1750.0   2375.0   3000.0  \n",
       "rub_monthly_fee         1250.0   1600.0   1950.0  \n",
       "rub_per_gb               175.0    187.5    200.0  \n",
       "rub_per_message            2.0      2.5      3.0  \n",
       "rub_per_minute             2.0      2.5      3.0  "
      ]
     },
     "execution_count": 18,
     "metadata": {},
     "output_type": "execute_result"
    }
   ],
   "source": [
    "tariffs.describe().T"
   ]
  },
  {
   "cell_type": "code",
   "execution_count": 19,
   "metadata": {
    "scrolled": true
   },
   "outputs": [
    {
     "data": {
      "text/html": [
       "<div>\n",
       "<style scoped>\n",
       "    .dataframe tbody tr th:only-of-type {\n",
       "        vertical-align: middle;\n",
       "    }\n",
       "\n",
       "    .dataframe tbody tr th {\n",
       "        vertical-align: top;\n",
       "    }\n",
       "\n",
       "    .dataframe thead th {\n",
       "        text-align: right;\n",
       "    }\n",
       "</style>\n",
       "<table border=\"1\" class=\"dataframe\">\n",
       "  <thead>\n",
       "    <tr style=\"text-align: right;\">\n",
       "      <th></th>\n",
       "      <th>count</th>\n",
       "      <th>mean</th>\n",
       "      <th>std</th>\n",
       "      <th>min</th>\n",
       "      <th>25%</th>\n",
       "      <th>50%</th>\n",
       "      <th>75%</th>\n",
       "      <th>max</th>\n",
       "    </tr>\n",
       "  </thead>\n",
       "  <tbody>\n",
       "    <tr>\n",
       "      <th>user_id</th>\n",
       "      <td>500.0</td>\n",
       "      <td>1249.500</td>\n",
       "      <td>144.481833</td>\n",
       "      <td>1000.0</td>\n",
       "      <td>1124.75</td>\n",
       "      <td>1249.5</td>\n",
       "      <td>1374.25</td>\n",
       "      <td>1499.0</td>\n",
       "    </tr>\n",
       "    <tr>\n",
       "      <th>age</th>\n",
       "      <td>500.0</td>\n",
       "      <td>46.588</td>\n",
       "      <td>16.667630</td>\n",
       "      <td>18.0</td>\n",
       "      <td>32.00</td>\n",
       "      <td>46.0</td>\n",
       "      <td>62.00</td>\n",
       "      <td>75.0</td>\n",
       "    </tr>\n",
       "  </tbody>\n",
       "</table>\n",
       "</div>"
      ],
      "text/plain": [
       "         count      mean         std     min      25%     50%      75%     max\n",
       "user_id  500.0  1249.500  144.481833  1000.0  1124.75  1249.5  1374.25  1499.0\n",
       "age      500.0    46.588   16.667630    18.0    32.00    46.0    62.00    75.0"
      ]
     },
     "execution_count": 19,
     "metadata": {},
     "output_type": "execute_result"
    }
   ],
   "source": [
    "users.describe().T"
   ]
  },
  {
   "cell_type": "markdown",
   "metadata": {},
   "source": [
    "Аномальных значений не обнаружено. Таблица тарифов соответствует описанию"
   ]
  },
  {
   "cell_type": "markdown",
   "metadata": {},
   "source": [
    "### Количество сделанных звонков и израсходованных минут разговора по месяцам"
   ]
  },
  {
   "cell_type": "code",
   "execution_count": 20,
   "metadata": {},
   "outputs": [
    {
     "data": {
      "text/html": [
       "<div>\n",
       "<style scoped>\n",
       "    .dataframe tbody tr th:only-of-type {\n",
       "        vertical-align: middle;\n",
       "    }\n",
       "\n",
       "    .dataframe tbody tr th {\n",
       "        vertical-align: top;\n",
       "    }\n",
       "\n",
       "    .dataframe thead th {\n",
       "        text-align: right;\n",
       "    }\n",
       "</style>\n",
       "<table border=\"1\" class=\"dataframe\">\n",
       "  <thead>\n",
       "    <tr style=\"text-align: right;\">\n",
       "      <th></th>\n",
       "      <th>id</th>\n",
       "      <th>call_date</th>\n",
       "      <th>duration</th>\n",
       "      <th>user_id</th>\n",
       "    </tr>\n",
       "  </thead>\n",
       "  <tbody>\n",
       "    <tr>\n",
       "      <th>0</th>\n",
       "      <td>1000_0</td>\n",
       "      <td>2018-07-25</td>\n",
       "      <td>0.00</td>\n",
       "      <td>1000</td>\n",
       "    </tr>\n",
       "    <tr>\n",
       "      <th>1</th>\n",
       "      <td>1000_1</td>\n",
       "      <td>2018-08-17</td>\n",
       "      <td>0.00</td>\n",
       "      <td>1000</td>\n",
       "    </tr>\n",
       "    <tr>\n",
       "      <th>2</th>\n",
       "      <td>1000_2</td>\n",
       "      <td>2018-06-11</td>\n",
       "      <td>2.85</td>\n",
       "      <td>1000</td>\n",
       "    </tr>\n",
       "    <tr>\n",
       "      <th>3</th>\n",
       "      <td>1000_3</td>\n",
       "      <td>2018-09-21</td>\n",
       "      <td>13.80</td>\n",
       "      <td>1000</td>\n",
       "    </tr>\n",
       "    <tr>\n",
       "      <th>4</th>\n",
       "      <td>1000_4</td>\n",
       "      <td>2018-12-15</td>\n",
       "      <td>5.18</td>\n",
       "      <td>1000</td>\n",
       "    </tr>\n",
       "  </tbody>\n",
       "</table>\n",
       "</div>"
      ],
      "text/plain": [
       "       id  call_date  duration  user_id\n",
       "0  1000_0 2018-07-25      0.00     1000\n",
       "1  1000_1 2018-08-17      0.00     1000\n",
       "2  1000_2 2018-06-11      2.85     1000\n",
       "3  1000_3 2018-09-21     13.80     1000\n",
       "4  1000_4 2018-12-15      5.18     1000"
      ]
     },
     "execution_count": 20,
     "metadata": {},
     "output_type": "execute_result"
    }
   ],
   "source": [
    "calls.head()"
   ]
  },
  {
   "cell_type": "code",
   "execution_count": 21,
   "metadata": {},
   "outputs": [],
   "source": [
    "calls_info = calls.pivot_table(index=['user_id', calls.call_date.dt.month],\n",
    "                               values='duration',\n",
    "                               aggfunc={'count', 'sum'})\n",
    "calls_info.columns = ['num_calls', 'total_duration']\n",
    "calls_info.index.names = ['user_id', 'month']"
   ]
  },
  {
   "cell_type": "code",
   "execution_count": 22,
   "metadata": {},
   "outputs": [
    {
     "data": {
      "text/html": [
       "<div>\n",
       "<style scoped>\n",
       "    .dataframe tbody tr th:only-of-type {\n",
       "        vertical-align: middle;\n",
       "    }\n",
       "\n",
       "    .dataframe tbody tr th {\n",
       "        vertical-align: top;\n",
       "    }\n",
       "\n",
       "    .dataframe thead th {\n",
       "        text-align: right;\n",
       "    }\n",
       "</style>\n",
       "<table border=\"1\" class=\"dataframe\">\n",
       "  <thead>\n",
       "    <tr style=\"text-align: right;\">\n",
       "      <th></th>\n",
       "      <th></th>\n",
       "      <th>num_calls</th>\n",
       "      <th>total_duration</th>\n",
       "    </tr>\n",
       "    <tr>\n",
       "      <th>user_id</th>\n",
       "      <th>month</th>\n",
       "      <th></th>\n",
       "      <th></th>\n",
       "    </tr>\n",
       "  </thead>\n",
       "  <tbody>\n",
       "    <tr>\n",
       "      <th rowspan=\"5\" valign=\"top\">1000</th>\n",
       "      <th>5</th>\n",
       "      <td>22</td>\n",
       "      <td>150.06</td>\n",
       "    </tr>\n",
       "    <tr>\n",
       "      <th>6</th>\n",
       "      <td>43</td>\n",
       "      <td>158.90</td>\n",
       "    </tr>\n",
       "    <tr>\n",
       "      <th>7</th>\n",
       "      <td>47</td>\n",
       "      <td>318.80</td>\n",
       "    </tr>\n",
       "    <tr>\n",
       "      <th>8</th>\n",
       "      <td>52</td>\n",
       "      <td>389.87</td>\n",
       "    </tr>\n",
       "    <tr>\n",
       "      <th>9</th>\n",
       "      <td>58</td>\n",
       "      <td>440.14</td>\n",
       "    </tr>\n",
       "    <tr>\n",
       "      <th>...</th>\n",
       "      <th>...</th>\n",
       "      <td>...</td>\n",
       "      <td>...</td>\n",
       "    </tr>\n",
       "    <tr>\n",
       "      <th>1498</th>\n",
       "      <th>10</th>\n",
       "      <td>41</td>\n",
       "      <td>232.63</td>\n",
       "    </tr>\n",
       "    <tr>\n",
       "      <th rowspan=\"4\" valign=\"top\">1499</th>\n",
       "      <th>9</th>\n",
       "      <td>9</td>\n",
       "      <td>64.65</td>\n",
       "    </tr>\n",
       "    <tr>\n",
       "      <th>10</th>\n",
       "      <td>68</td>\n",
       "      <td>429.91</td>\n",
       "    </tr>\n",
       "    <tr>\n",
       "      <th>11</th>\n",
       "      <td>74</td>\n",
       "      <td>576.50</td>\n",
       "    </tr>\n",
       "    <tr>\n",
       "      <th>12</th>\n",
       "      <td>69</td>\n",
       "      <td>465.16</td>\n",
       "    </tr>\n",
       "  </tbody>\n",
       "</table>\n",
       "<p>3174 rows × 2 columns</p>\n",
       "</div>"
      ],
      "text/plain": [
       "               num_calls  total_duration\n",
       "user_id month                           \n",
       "1000    5             22          150.06\n",
       "        6             43          158.90\n",
       "        7             47          318.80\n",
       "        8             52          389.87\n",
       "        9             58          440.14\n",
       "...                  ...             ...\n",
       "1498    10            41          232.63\n",
       "1499    9              9           64.65\n",
       "        10            68          429.91\n",
       "        11            74          576.50\n",
       "        12            69          465.16\n",
       "\n",
       "[3174 rows x 2 columns]"
      ]
     },
     "execution_count": 22,
     "metadata": {},
     "output_type": "execute_result"
    }
   ],
   "source": [
    "calls_info"
   ]
  },
  {
   "cell_type": "markdown",
   "metadata": {},
   "source": [
    "### Количество отправленных сообщений по месяцам"
   ]
  },
  {
   "cell_type": "code",
   "execution_count": 23,
   "metadata": {},
   "outputs": [
    {
     "data": {
      "text/html": [
       "<div>\n",
       "<style scoped>\n",
       "    .dataframe tbody tr th:only-of-type {\n",
       "        vertical-align: middle;\n",
       "    }\n",
       "\n",
       "    .dataframe tbody tr th {\n",
       "        vertical-align: top;\n",
       "    }\n",
       "\n",
       "    .dataframe thead th {\n",
       "        text-align: right;\n",
       "    }\n",
       "</style>\n",
       "<table border=\"1\" class=\"dataframe\">\n",
       "  <thead>\n",
       "    <tr style=\"text-align: right;\">\n",
       "      <th></th>\n",
       "      <th>id</th>\n",
       "      <th>message_date</th>\n",
       "      <th>user_id</th>\n",
       "    </tr>\n",
       "  </thead>\n",
       "  <tbody>\n",
       "    <tr>\n",
       "      <th>0</th>\n",
       "      <td>1000_0</td>\n",
       "      <td>2018-06-27</td>\n",
       "      <td>1000</td>\n",
       "    </tr>\n",
       "    <tr>\n",
       "      <th>1</th>\n",
       "      <td>1000_1</td>\n",
       "      <td>2018-10-08</td>\n",
       "      <td>1000</td>\n",
       "    </tr>\n",
       "    <tr>\n",
       "      <th>2</th>\n",
       "      <td>1000_2</td>\n",
       "      <td>2018-08-04</td>\n",
       "      <td>1000</td>\n",
       "    </tr>\n",
       "    <tr>\n",
       "      <th>3</th>\n",
       "      <td>1000_3</td>\n",
       "      <td>2018-06-16</td>\n",
       "      <td>1000</td>\n",
       "    </tr>\n",
       "    <tr>\n",
       "      <th>4</th>\n",
       "      <td>1000_4</td>\n",
       "      <td>2018-12-05</td>\n",
       "      <td>1000</td>\n",
       "    </tr>\n",
       "  </tbody>\n",
       "</table>\n",
       "</div>"
      ],
      "text/plain": [
       "       id message_date  user_id\n",
       "0  1000_0   2018-06-27     1000\n",
       "1  1000_1   2018-10-08     1000\n",
       "2  1000_2   2018-08-04     1000\n",
       "3  1000_3   2018-06-16     1000\n",
       "4  1000_4   2018-12-05     1000"
      ]
     },
     "execution_count": 23,
     "metadata": {},
     "output_type": "execute_result"
    }
   ],
   "source": [
    "messages.head()"
   ]
  },
  {
   "cell_type": "code",
   "execution_count": 24,
   "metadata": {},
   "outputs": [],
   "source": [
    "messages_info = messages.pivot_table(index=['user_id', messages.message_date.dt.month], values='id', aggfunc='count')\n",
    "messages_info.columns = ['total_messages']\n",
    "messages_info.index.names = ['user_id', 'month']"
   ]
  },
  {
   "cell_type": "code",
   "execution_count": 25,
   "metadata": {},
   "outputs": [
    {
     "data": {
      "text/html": [
       "<div>\n",
       "<style scoped>\n",
       "    .dataframe tbody tr th:only-of-type {\n",
       "        vertical-align: middle;\n",
       "    }\n",
       "\n",
       "    .dataframe tbody tr th {\n",
       "        vertical-align: top;\n",
       "    }\n",
       "\n",
       "    .dataframe thead th {\n",
       "        text-align: right;\n",
       "    }\n",
       "</style>\n",
       "<table border=\"1\" class=\"dataframe\">\n",
       "  <thead>\n",
       "    <tr style=\"text-align: right;\">\n",
       "      <th></th>\n",
       "      <th></th>\n",
       "      <th>total_messages</th>\n",
       "    </tr>\n",
       "    <tr>\n",
       "      <th>user_id</th>\n",
       "      <th>month</th>\n",
       "      <th></th>\n",
       "    </tr>\n",
       "  </thead>\n",
       "  <tbody>\n",
       "    <tr>\n",
       "      <th rowspan=\"5\" valign=\"top\">1000</th>\n",
       "      <th>5</th>\n",
       "      <td>22</td>\n",
       "    </tr>\n",
       "    <tr>\n",
       "      <th>6</th>\n",
       "      <td>60</td>\n",
       "    </tr>\n",
       "    <tr>\n",
       "      <th>7</th>\n",
       "      <td>75</td>\n",
       "    </tr>\n",
       "    <tr>\n",
       "      <th>8</th>\n",
       "      <td>81</td>\n",
       "    </tr>\n",
       "    <tr>\n",
       "      <th>9</th>\n",
       "      <td>57</td>\n",
       "    </tr>\n",
       "    <tr>\n",
       "      <th>...</th>\n",
       "      <th>...</th>\n",
       "      <td>...</td>\n",
       "    </tr>\n",
       "    <tr>\n",
       "      <th>1498</th>\n",
       "      <th>10</th>\n",
       "      <td>42</td>\n",
       "    </tr>\n",
       "    <tr>\n",
       "      <th rowspan=\"4\" valign=\"top\">1499</th>\n",
       "      <th>9</th>\n",
       "      <td>11</td>\n",
       "    </tr>\n",
       "    <tr>\n",
       "      <th>10</th>\n",
       "      <td>48</td>\n",
       "    </tr>\n",
       "    <tr>\n",
       "      <th>11</th>\n",
       "      <td>59</td>\n",
       "    </tr>\n",
       "    <tr>\n",
       "      <th>12</th>\n",
       "      <td>66</td>\n",
       "    </tr>\n",
       "  </tbody>\n",
       "</table>\n",
       "<p>2717 rows × 1 columns</p>\n",
       "</div>"
      ],
      "text/plain": [
       "               total_messages\n",
       "user_id month                \n",
       "1000    5                  22\n",
       "        6                  60\n",
       "        7                  75\n",
       "        8                  81\n",
       "        9                  57\n",
       "...                       ...\n",
       "1498    10                 42\n",
       "1499    9                  11\n",
       "        10                 48\n",
       "        11                 59\n",
       "        12                 66\n",
       "\n",
       "[2717 rows x 1 columns]"
      ]
     },
     "execution_count": 25,
     "metadata": {},
     "output_type": "execute_result"
    }
   ],
   "source": [
    "messages_info"
   ]
  },
  {
   "cell_type": "markdown",
   "metadata": {},
   "source": [
    "### Объем израсходованного интернет-трафика по месяцам"
   ]
  },
  {
   "cell_type": "code",
   "execution_count": 26,
   "metadata": {},
   "outputs": [
    {
     "data": {
      "text/html": [
       "<div>\n",
       "<style scoped>\n",
       "    .dataframe tbody tr th:only-of-type {\n",
       "        vertical-align: middle;\n",
       "    }\n",
       "\n",
       "    .dataframe tbody tr th {\n",
       "        vertical-align: top;\n",
       "    }\n",
       "\n",
       "    .dataframe thead th {\n",
       "        text-align: right;\n",
       "    }\n",
       "</style>\n",
       "<table border=\"1\" class=\"dataframe\">\n",
       "  <thead>\n",
       "    <tr style=\"text-align: right;\">\n",
       "      <th></th>\n",
       "      <th>id</th>\n",
       "      <th>mb_used</th>\n",
       "      <th>session_date</th>\n",
       "      <th>user_id</th>\n",
       "    </tr>\n",
       "  </thead>\n",
       "  <tbody>\n",
       "    <tr>\n",
       "      <th>0</th>\n",
       "      <td>1000_0</td>\n",
       "      <td>112.95</td>\n",
       "      <td>2018-11-25</td>\n",
       "      <td>1000</td>\n",
       "    </tr>\n",
       "    <tr>\n",
       "      <th>1</th>\n",
       "      <td>1000_1</td>\n",
       "      <td>1052.81</td>\n",
       "      <td>2018-09-07</td>\n",
       "      <td>1000</td>\n",
       "    </tr>\n",
       "    <tr>\n",
       "      <th>2</th>\n",
       "      <td>1000_2</td>\n",
       "      <td>1197.26</td>\n",
       "      <td>2018-06-25</td>\n",
       "      <td>1000</td>\n",
       "    </tr>\n",
       "    <tr>\n",
       "      <th>3</th>\n",
       "      <td>1000_3</td>\n",
       "      <td>550.27</td>\n",
       "      <td>2018-08-22</td>\n",
       "      <td>1000</td>\n",
       "    </tr>\n",
       "    <tr>\n",
       "      <th>4</th>\n",
       "      <td>1000_4</td>\n",
       "      <td>302.56</td>\n",
       "      <td>2018-09-24</td>\n",
       "      <td>1000</td>\n",
       "    </tr>\n",
       "  </tbody>\n",
       "</table>\n",
       "</div>"
      ],
      "text/plain": [
       "       id  mb_used session_date  user_id\n",
       "0  1000_0   112.95   2018-11-25     1000\n",
       "1  1000_1  1052.81   2018-09-07     1000\n",
       "2  1000_2  1197.26   2018-06-25     1000\n",
       "3  1000_3   550.27   2018-08-22     1000\n",
       "4  1000_4   302.56   2018-09-24     1000"
      ]
     },
     "execution_count": 26,
     "metadata": {},
     "output_type": "execute_result"
    }
   ],
   "source": [
    "internet.head()"
   ]
  },
  {
   "cell_type": "code",
   "execution_count": 27,
   "metadata": {},
   "outputs": [],
   "source": [
    "internet_info = internet.pivot_table(index=['user_id', internet.session_date.dt.month], \n",
    "                                     values='mb_used', \n",
    "                                     aggfunc='sum')\n",
    "internet_info.index.names = ['user_id', 'month']"
   ]
  },
  {
   "cell_type": "code",
   "execution_count": 28,
   "metadata": {},
   "outputs": [
    {
     "data": {
      "text/html": [
       "<div>\n",
       "<style scoped>\n",
       "    .dataframe tbody tr th:only-of-type {\n",
       "        vertical-align: middle;\n",
       "    }\n",
       "\n",
       "    .dataframe tbody tr th {\n",
       "        vertical-align: top;\n",
       "    }\n",
       "\n",
       "    .dataframe thead th {\n",
       "        text-align: right;\n",
       "    }\n",
       "</style>\n",
       "<table border=\"1\" class=\"dataframe\">\n",
       "  <thead>\n",
       "    <tr style=\"text-align: right;\">\n",
       "      <th></th>\n",
       "      <th></th>\n",
       "      <th>mb_used</th>\n",
       "    </tr>\n",
       "    <tr>\n",
       "      <th>user_id</th>\n",
       "      <th>month</th>\n",
       "      <th></th>\n",
       "    </tr>\n",
       "  </thead>\n",
       "  <tbody>\n",
       "    <tr>\n",
       "      <th rowspan=\"5\" valign=\"top\">1000</th>\n",
       "      <th>5</th>\n",
       "      <td>2253.49</td>\n",
       "    </tr>\n",
       "    <tr>\n",
       "      <th>6</th>\n",
       "      <td>23233.77</td>\n",
       "    </tr>\n",
       "    <tr>\n",
       "      <th>7</th>\n",
       "      <td>14003.64</td>\n",
       "    </tr>\n",
       "    <tr>\n",
       "      <th>8</th>\n",
       "      <td>14055.93</td>\n",
       "    </tr>\n",
       "    <tr>\n",
       "      <th>9</th>\n",
       "      <td>14568.91</td>\n",
       "    </tr>\n",
       "    <tr>\n",
       "      <th>...</th>\n",
       "      <th>...</th>\n",
       "      <td>...</td>\n",
       "    </tr>\n",
       "    <tr>\n",
       "      <th>1498</th>\n",
       "      <th>10</th>\n",
       "      <td>20579.36</td>\n",
       "    </tr>\n",
       "    <tr>\n",
       "      <th rowspan=\"4\" valign=\"top\">1499</th>\n",
       "      <th>9</th>\n",
       "      <td>1845.75</td>\n",
       "    </tr>\n",
       "    <tr>\n",
       "      <th>10</th>\n",
       "      <td>17788.51</td>\n",
       "    </tr>\n",
       "    <tr>\n",
       "      <th>11</th>\n",
       "      <td>17963.31</td>\n",
       "    </tr>\n",
       "    <tr>\n",
       "      <th>12</th>\n",
       "      <td>13055.58</td>\n",
       "    </tr>\n",
       "  </tbody>\n",
       "</table>\n",
       "<p>3203 rows × 1 columns</p>\n",
       "</div>"
      ],
      "text/plain": [
       "                mb_used\n",
       "user_id month          \n",
       "1000    5       2253.49\n",
       "        6      23233.77\n",
       "        7      14003.64\n",
       "        8      14055.93\n",
       "        9      14568.91\n",
       "...                 ...\n",
       "1498    10     20579.36\n",
       "1499    9       1845.75\n",
       "        10     17788.51\n",
       "        11     17963.31\n",
       "        12     13055.58\n",
       "\n",
       "[3203 rows x 1 columns]"
      ]
     },
     "execution_count": 28,
     "metadata": {},
     "output_type": "execute_result"
    }
   ],
   "source": [
    "internet_info"
   ]
  },
  {
   "cell_type": "markdown",
   "metadata": {},
   "source": [
    "Теперь соединим все эти таблички вместе. У нас их получилось три: `calls_info`, `messages_info`, `internet_info`"
   ]
  },
  {
   "cell_type": "code",
   "execution_count": 29,
   "metadata": {},
   "outputs": [],
   "source": [
    "# сначала соединяем internet_info с messages_info, а потом еще и calls_info\n",
    "df = internet_info.merge(messages_info, on=['user_id', 'month'], how='left')\n",
    "df = df.merge(calls_info, on=['user_id', 'month'], how='left')"
   ]
  },
  {
   "cell_type": "code",
   "execution_count": 30,
   "metadata": {},
   "outputs": [
    {
     "data": {
      "text/html": [
       "<div>\n",
       "<style scoped>\n",
       "    .dataframe tbody tr th:only-of-type {\n",
       "        vertical-align: middle;\n",
       "    }\n",
       "\n",
       "    .dataframe tbody tr th {\n",
       "        vertical-align: top;\n",
       "    }\n",
       "\n",
       "    .dataframe thead th {\n",
       "        text-align: right;\n",
       "    }\n",
       "</style>\n",
       "<table border=\"1\" class=\"dataframe\">\n",
       "  <thead>\n",
       "    <tr style=\"text-align: right;\">\n",
       "      <th></th>\n",
       "      <th></th>\n",
       "      <th>mb_used</th>\n",
       "      <th>total_messages</th>\n",
       "      <th>num_calls</th>\n",
       "      <th>total_duration</th>\n",
       "    </tr>\n",
       "    <tr>\n",
       "      <th>user_id</th>\n",
       "      <th>month</th>\n",
       "      <th></th>\n",
       "      <th></th>\n",
       "      <th></th>\n",
       "      <th></th>\n",
       "    </tr>\n",
       "  </thead>\n",
       "  <tbody>\n",
       "    <tr>\n",
       "      <th rowspan=\"5\" valign=\"top\">1000</th>\n",
       "      <th>5</th>\n",
       "      <td>2253.49</td>\n",
       "      <td>22.0</td>\n",
       "      <td>22.0</td>\n",
       "      <td>150.06</td>\n",
       "    </tr>\n",
       "    <tr>\n",
       "      <th>6</th>\n",
       "      <td>23233.77</td>\n",
       "      <td>60.0</td>\n",
       "      <td>43.0</td>\n",
       "      <td>158.90</td>\n",
       "    </tr>\n",
       "    <tr>\n",
       "      <th>7</th>\n",
       "      <td>14003.64</td>\n",
       "      <td>75.0</td>\n",
       "      <td>47.0</td>\n",
       "      <td>318.80</td>\n",
       "    </tr>\n",
       "    <tr>\n",
       "      <th>8</th>\n",
       "      <td>14055.93</td>\n",
       "      <td>81.0</td>\n",
       "      <td>52.0</td>\n",
       "      <td>389.87</td>\n",
       "    </tr>\n",
       "    <tr>\n",
       "      <th>9</th>\n",
       "      <td>14568.91</td>\n",
       "      <td>57.0</td>\n",
       "      <td>58.0</td>\n",
       "      <td>440.14</td>\n",
       "    </tr>\n",
       "    <tr>\n",
       "      <th>...</th>\n",
       "      <th>...</th>\n",
       "      <td>...</td>\n",
       "      <td>...</td>\n",
       "      <td>...</td>\n",
       "      <td>...</td>\n",
       "    </tr>\n",
       "    <tr>\n",
       "      <th>1498</th>\n",
       "      <th>10</th>\n",
       "      <td>20579.36</td>\n",
       "      <td>42.0</td>\n",
       "      <td>41.0</td>\n",
       "      <td>232.63</td>\n",
       "    </tr>\n",
       "    <tr>\n",
       "      <th rowspan=\"4\" valign=\"top\">1499</th>\n",
       "      <th>9</th>\n",
       "      <td>1845.75</td>\n",
       "      <td>11.0</td>\n",
       "      <td>9.0</td>\n",
       "      <td>64.65</td>\n",
       "    </tr>\n",
       "    <tr>\n",
       "      <th>10</th>\n",
       "      <td>17788.51</td>\n",
       "      <td>48.0</td>\n",
       "      <td>68.0</td>\n",
       "      <td>429.91</td>\n",
       "    </tr>\n",
       "    <tr>\n",
       "      <th>11</th>\n",
       "      <td>17963.31</td>\n",
       "      <td>59.0</td>\n",
       "      <td>74.0</td>\n",
       "      <td>576.50</td>\n",
       "    </tr>\n",
       "    <tr>\n",
       "      <th>12</th>\n",
       "      <td>13055.58</td>\n",
       "      <td>66.0</td>\n",
       "      <td>69.0</td>\n",
       "      <td>465.16</td>\n",
       "    </tr>\n",
       "  </tbody>\n",
       "</table>\n",
       "<p>3203 rows × 4 columns</p>\n",
       "</div>"
      ],
      "text/plain": [
       "                mb_used  total_messages  num_calls  total_duration\n",
       "user_id month                                                     \n",
       "1000    5       2253.49            22.0       22.0          150.06\n",
       "        6      23233.77            60.0       43.0          158.90\n",
       "        7      14003.64            75.0       47.0          318.80\n",
       "        8      14055.93            81.0       52.0          389.87\n",
       "        9      14568.91            57.0       58.0          440.14\n",
       "...                 ...             ...        ...             ...\n",
       "1498    10     20579.36            42.0       41.0          232.63\n",
       "1499    9       1845.75            11.0        9.0           64.65\n",
       "        10     17788.51            48.0       68.0          429.91\n",
       "        11     17963.31            59.0       74.0          576.50\n",
       "        12     13055.58            66.0       69.0          465.16\n",
       "\n",
       "[3203 rows x 4 columns]"
      ]
     },
     "execution_count": 30,
     "metadata": {},
     "output_type": "execute_result"
    }
   ],
   "source": [
    "df"
   ]
  },
  {
   "cell_type": "markdown",
   "metadata": {},
   "source": [
    "Теперь пристыкуем таблицу тарифов. Чтобы ее пристыковать, нам надо сначала пристыковать таблицу юзеров через `user_id`, а потом через колонку этой таблицы `tariff_name` пристыковать таблицу тарифов."
   ]
  },
  {
   "cell_type": "code",
   "execution_count": 31,
   "metadata": {},
   "outputs": [],
   "source": [
    "tariffs = tariffs.rename(columns={'tariff_name': 'tariff'})"
   ]
  },
  {
   "cell_type": "code",
   "execution_count": 32,
   "metadata": {},
   "outputs": [
    {
     "data": {
      "text/html": [
       "<div>\n",
       "<style scoped>\n",
       "    .dataframe tbody tr th:only-of-type {\n",
       "        vertical-align: middle;\n",
       "    }\n",
       "\n",
       "    .dataframe tbody tr th {\n",
       "        vertical-align: top;\n",
       "    }\n",
       "\n",
       "    .dataframe thead th {\n",
       "        text-align: right;\n",
       "    }\n",
       "</style>\n",
       "<table border=\"1\" class=\"dataframe\">\n",
       "  <thead>\n",
       "    <tr style=\"text-align: right;\">\n",
       "      <th></th>\n",
       "      <th>user_id</th>\n",
       "      <th>age</th>\n",
       "      <th>churn_date</th>\n",
       "      <th>city</th>\n",
       "      <th>first_name</th>\n",
       "      <th>last_name</th>\n",
       "      <th>reg_date</th>\n",
       "      <th>tariff</th>\n",
       "      <th>messages_included</th>\n",
       "      <th>mb_per_month_included</th>\n",
       "      <th>minutes_included</th>\n",
       "      <th>rub_monthly_fee</th>\n",
       "      <th>rub_per_gb</th>\n",
       "      <th>rub_per_message</th>\n",
       "      <th>rub_per_minute</th>\n",
       "    </tr>\n",
       "  </thead>\n",
       "  <tbody>\n",
       "    <tr>\n",
       "      <th>0</th>\n",
       "      <td>1000</td>\n",
       "      <td>52</td>\n",
       "      <td>NaT</td>\n",
       "      <td>Краснодар</td>\n",
       "      <td>Рафаил</td>\n",
       "      <td>Верещагин</td>\n",
       "      <td>2018-05-25</td>\n",
       "      <td>ultra</td>\n",
       "      <td>1000</td>\n",
       "      <td>30720</td>\n",
       "      <td>3000</td>\n",
       "      <td>1950</td>\n",
       "      <td>150</td>\n",
       "      <td>1</td>\n",
       "      <td>1</td>\n",
       "    </tr>\n",
       "    <tr>\n",
       "      <th>1</th>\n",
       "      <td>1001</td>\n",
       "      <td>41</td>\n",
       "      <td>NaT</td>\n",
       "      <td>Москва</td>\n",
       "      <td>Иван</td>\n",
       "      <td>Ежов</td>\n",
       "      <td>2018-11-01</td>\n",
       "      <td>smart</td>\n",
       "      <td>50</td>\n",
       "      <td>15360</td>\n",
       "      <td>500</td>\n",
       "      <td>550</td>\n",
       "      <td>200</td>\n",
       "      <td>3</td>\n",
       "      <td>3</td>\n",
       "    </tr>\n",
       "    <tr>\n",
       "      <th>2</th>\n",
       "      <td>1002</td>\n",
       "      <td>59</td>\n",
       "      <td>NaT</td>\n",
       "      <td>Стерлитамак</td>\n",
       "      <td>Евгений</td>\n",
       "      <td>Абрамович</td>\n",
       "      <td>2018-06-17</td>\n",
       "      <td>smart</td>\n",
       "      <td>50</td>\n",
       "      <td>15360</td>\n",
       "      <td>500</td>\n",
       "      <td>550</td>\n",
       "      <td>200</td>\n",
       "      <td>3</td>\n",
       "      <td>3</td>\n",
       "    </tr>\n",
       "    <tr>\n",
       "      <th>3</th>\n",
       "      <td>1003</td>\n",
       "      <td>23</td>\n",
       "      <td>NaT</td>\n",
       "      <td>Москва</td>\n",
       "      <td>Белла</td>\n",
       "      <td>Белякова</td>\n",
       "      <td>2018-08-17</td>\n",
       "      <td>ultra</td>\n",
       "      <td>1000</td>\n",
       "      <td>30720</td>\n",
       "      <td>3000</td>\n",
       "      <td>1950</td>\n",
       "      <td>150</td>\n",
       "      <td>1</td>\n",
       "      <td>1</td>\n",
       "    </tr>\n",
       "    <tr>\n",
       "      <th>4</th>\n",
       "      <td>1004</td>\n",
       "      <td>68</td>\n",
       "      <td>NaT</td>\n",
       "      <td>Новокузнецк</td>\n",
       "      <td>Татьяна</td>\n",
       "      <td>Авдеенко</td>\n",
       "      <td>2018-05-14</td>\n",
       "      <td>ultra</td>\n",
       "      <td>1000</td>\n",
       "      <td>30720</td>\n",
       "      <td>3000</td>\n",
       "      <td>1950</td>\n",
       "      <td>150</td>\n",
       "      <td>1</td>\n",
       "      <td>1</td>\n",
       "    </tr>\n",
       "    <tr>\n",
       "      <th>...</th>\n",
       "      <td>...</td>\n",
       "      <td>...</td>\n",
       "      <td>...</td>\n",
       "      <td>...</td>\n",
       "      <td>...</td>\n",
       "      <td>...</td>\n",
       "      <td>...</td>\n",
       "      <td>...</td>\n",
       "      <td>...</td>\n",
       "      <td>...</td>\n",
       "      <td>...</td>\n",
       "      <td>...</td>\n",
       "      <td>...</td>\n",
       "      <td>...</td>\n",
       "      <td>...</td>\n",
       "    </tr>\n",
       "    <tr>\n",
       "      <th>495</th>\n",
       "      <td>1495</td>\n",
       "      <td>65</td>\n",
       "      <td>NaT</td>\n",
       "      <td>Иркутск</td>\n",
       "      <td>Авксентий</td>\n",
       "      <td>Фокин</td>\n",
       "      <td>2018-08-28</td>\n",
       "      <td>ultra</td>\n",
       "      <td>1000</td>\n",
       "      <td>30720</td>\n",
       "      <td>3000</td>\n",
       "      <td>1950</td>\n",
       "      <td>150</td>\n",
       "      <td>1</td>\n",
       "      <td>1</td>\n",
       "    </tr>\n",
       "    <tr>\n",
       "      <th>496</th>\n",
       "      <td>1496</td>\n",
       "      <td>36</td>\n",
       "      <td>NaT</td>\n",
       "      <td>Вологда</td>\n",
       "      <td>Трифон</td>\n",
       "      <td>Блохин</td>\n",
       "      <td>2018-01-27</td>\n",
       "      <td>smart</td>\n",
       "      <td>50</td>\n",
       "      <td>15360</td>\n",
       "      <td>500</td>\n",
       "      <td>550</td>\n",
       "      <td>200</td>\n",
       "      <td>3</td>\n",
       "      <td>3</td>\n",
       "    </tr>\n",
       "    <tr>\n",
       "      <th>497</th>\n",
       "      <td>1497</td>\n",
       "      <td>32</td>\n",
       "      <td>NaT</td>\n",
       "      <td>Челябинск</td>\n",
       "      <td>Каролина</td>\n",
       "      <td>Агеева</td>\n",
       "      <td>2018-10-09</td>\n",
       "      <td>smart</td>\n",
       "      <td>50</td>\n",
       "      <td>15360</td>\n",
       "      <td>500</td>\n",
       "      <td>550</td>\n",
       "      <td>200</td>\n",
       "      <td>3</td>\n",
       "      <td>3</td>\n",
       "    </tr>\n",
       "    <tr>\n",
       "      <th>498</th>\n",
       "      <td>1498</td>\n",
       "      <td>68</td>\n",
       "      <td>2018-10-25</td>\n",
       "      <td>Владикавказ</td>\n",
       "      <td>Всеволод</td>\n",
       "      <td>Акимчин</td>\n",
       "      <td>2018-07-19</td>\n",
       "      <td>smart</td>\n",
       "      <td>50</td>\n",
       "      <td>15360</td>\n",
       "      <td>500</td>\n",
       "      <td>550</td>\n",
       "      <td>200</td>\n",
       "      <td>3</td>\n",
       "      <td>3</td>\n",
       "    </tr>\n",
       "    <tr>\n",
       "      <th>499</th>\n",
       "      <td>1499</td>\n",
       "      <td>35</td>\n",
       "      <td>NaT</td>\n",
       "      <td>Пермь</td>\n",
       "      <td>Гектор</td>\n",
       "      <td>Корнилов</td>\n",
       "      <td>2018-09-27</td>\n",
       "      <td>smart</td>\n",
       "      <td>50</td>\n",
       "      <td>15360</td>\n",
       "      <td>500</td>\n",
       "      <td>550</td>\n",
       "      <td>200</td>\n",
       "      <td>3</td>\n",
       "      <td>3</td>\n",
       "    </tr>\n",
       "  </tbody>\n",
       "</table>\n",
       "<p>500 rows × 15 columns</p>\n",
       "</div>"
      ],
      "text/plain": [
       "     user_id  age churn_date         city first_name  last_name   reg_date  \\\n",
       "0       1000   52        NaT    Краснодар     Рафаил  Верещагин 2018-05-25   \n",
       "1       1001   41        NaT       Москва       Иван       Ежов 2018-11-01   \n",
       "2       1002   59        NaT  Стерлитамак    Евгений  Абрамович 2018-06-17   \n",
       "3       1003   23        NaT       Москва      Белла   Белякова 2018-08-17   \n",
       "4       1004   68        NaT  Новокузнецк    Татьяна   Авдеенко 2018-05-14   \n",
       "..       ...  ...        ...          ...        ...        ...        ...   \n",
       "495     1495   65        NaT      Иркутск  Авксентий      Фокин 2018-08-28   \n",
       "496     1496   36        NaT      Вологда     Трифон     Блохин 2018-01-27   \n",
       "497     1497   32        NaT    Челябинск   Каролина     Агеева 2018-10-09   \n",
       "498     1498   68 2018-10-25  Владикавказ   Всеволод    Акимчин 2018-07-19   \n",
       "499     1499   35        NaT        Пермь     Гектор   Корнилов 2018-09-27   \n",
       "\n",
       "    tariff  messages_included  mb_per_month_included  minutes_included  \\\n",
       "0    ultra               1000                  30720              3000   \n",
       "1    smart                 50                  15360               500   \n",
       "2    smart                 50                  15360               500   \n",
       "3    ultra               1000                  30720              3000   \n",
       "4    ultra               1000                  30720              3000   \n",
       "..     ...                ...                    ...               ...   \n",
       "495  ultra               1000                  30720              3000   \n",
       "496  smart                 50                  15360               500   \n",
       "497  smart                 50                  15360               500   \n",
       "498  smart                 50                  15360               500   \n",
       "499  smart                 50                  15360               500   \n",
       "\n",
       "     rub_monthly_fee  rub_per_gb  rub_per_message  rub_per_minute  \n",
       "0               1950         150                1               1  \n",
       "1                550         200                3               3  \n",
       "2                550         200                3               3  \n",
       "3               1950         150                1               1  \n",
       "4               1950         150                1               1  \n",
       "..               ...         ...              ...             ...  \n",
       "495             1950         150                1               1  \n",
       "496              550         200                3               3  \n",
       "497              550         200                3               3  \n",
       "498              550         200                3               3  \n",
       "499              550         200                3               3  \n",
       "\n",
       "[500 rows x 15 columns]"
      ]
     },
     "execution_count": 32,
     "metadata": {},
     "output_type": "execute_result"
    }
   ],
   "source": [
    "tariff_info = users.merge(tariffs, on='tariff', how='left')\n",
    "tariff_info"
   ]
  },
  {
   "cell_type": "code",
   "execution_count": 33,
   "metadata": {},
   "outputs": [
    {
     "data": {
      "text/plain": [
       "Index(['user_id', 'city', 'tariff', 'messages_included',\n",
       "       'mb_per_month_included', 'minutes_included', 'rub_monthly_fee',\n",
       "       'rub_per_gb', 'rub_per_message', 'rub_per_minute'],\n",
       "      dtype='object')"
      ]
     },
     "execution_count": 33,
     "metadata": {},
     "output_type": "execute_result"
    }
   ],
   "source": [
    "tariff_info = tariff_info.drop(columns=['age', 'churn_date', 'first_name', 'last_name', 'reg_date'])\n",
    "tariff_info.columns"
   ]
  },
  {
   "cell_type": "code",
   "execution_count": 34,
   "metadata": {},
   "outputs": [
    {
     "data": {
      "text/plain": [
       "Index(['user_id', 'month', 'mb_used', 'total_messages', 'num_calls',\n",
       "       'total_duration', 'city', 'tariff', 'messages_included',\n",
       "       'mb_per_month_included', 'minutes_included', 'rub_monthly_fee',\n",
       "       'rub_per_gb', 'rub_per_message', 'rub_per_minute'],\n",
       "      dtype='object')"
      ]
     },
     "execution_count": 34,
     "metadata": {},
     "output_type": "execute_result"
    }
   ],
   "source": [
    "df = df.reset_index().merge(tariff_info, on='user_id', how='left')\n",
    "df.columns"
   ]
  },
  {
   "cell_type": "markdown",
   "metadata": {},
   "source": [
    "### Помесячная выручка с каждого пользователя."
   ]
  },
  {
   "cell_type": "markdown",
   "metadata": {},
   "source": [
    "Считаем по месяцам для каждого пользователя отдельно доход по звонкам, месседжам, интернету, а потом складываем это всё вместе и добавляем фиксированную плату. Получаем выручку в столбец `revenue`"
   ]
  },
  {
   "cell_type": "code",
   "execution_count": 35,
   "metadata": {},
   "outputs": [],
   "source": [
    "df.loc[df['total_duration'] > df['minutes_included'], 'revenue_call'] = \\\n",
    "np.ceil(df['total_duration'] - df['minutes_included']) * df['rub_per_minute']\n",
    "df['revenue_call'] = df['revenue_call'].fillna(0)"
   ]
  },
  {
   "cell_type": "code",
   "execution_count": 36,
   "metadata": {},
   "outputs": [],
   "source": [
    "df.loc[df['total_messages'] > df['messages_included'], 'revenue_messages'] = \\\n",
    "np.ceil(df['total_messages'] - df['messages_included']) * df['rub_per_message']\n",
    "df['revenue_messages'] = df['revenue_messages'].fillna(0)"
   ]
  },
  {
   "cell_type": "code",
   "execution_count": 37,
   "metadata": {},
   "outputs": [],
   "source": [
    "df.loc[df['mb_used'] > df['mb_per_month_included'], 'revenue_internet'] = \\\n",
    "np.ceil((df['mb_used'] - df['mb_per_month_included']) / 1024) * df['rub_per_gb']\n",
    "df['revenue_internet'] = df['revenue_internet'].fillna(0)"
   ]
  },
  {
   "cell_type": "code",
   "execution_count": 38,
   "metadata": {},
   "outputs": [],
   "source": [
    "df['revenue'] = df['revenue_call'] + df['revenue_messages'] \\\n",
    "+ df['revenue_internet'] + df['rub_monthly_fee']"
   ]
  },
  {
   "cell_type": "code",
   "execution_count": 39,
   "metadata": {},
   "outputs": [
    {
     "data": {
      "text/html": [
       "<div>\n",
       "<style scoped>\n",
       "    .dataframe tbody tr th:only-of-type {\n",
       "        vertical-align: middle;\n",
       "    }\n",
       "\n",
       "    .dataframe tbody tr th {\n",
       "        vertical-align: top;\n",
       "    }\n",
       "\n",
       "    .dataframe thead th {\n",
       "        text-align: right;\n",
       "    }\n",
       "</style>\n",
       "<table border=\"1\" class=\"dataframe\">\n",
       "  <thead>\n",
       "    <tr style=\"text-align: right;\">\n",
       "      <th></th>\n",
       "      <th>revenue_call</th>\n",
       "      <th>revenue_messages</th>\n",
       "      <th>revenue_internet</th>\n",
       "      <th>revenue</th>\n",
       "    </tr>\n",
       "  </thead>\n",
       "  <tbody>\n",
       "    <tr>\n",
       "      <th>0</th>\n",
       "      <td>0.0</td>\n",
       "      <td>0.0</td>\n",
       "      <td>0.0</td>\n",
       "      <td>1950.0</td>\n",
       "    </tr>\n",
       "    <tr>\n",
       "      <th>1</th>\n",
       "      <td>0.0</td>\n",
       "      <td>0.0</td>\n",
       "      <td>0.0</td>\n",
       "      <td>1950.0</td>\n",
       "    </tr>\n",
       "    <tr>\n",
       "      <th>2</th>\n",
       "      <td>0.0</td>\n",
       "      <td>0.0</td>\n",
       "      <td>0.0</td>\n",
       "      <td>1950.0</td>\n",
       "    </tr>\n",
       "    <tr>\n",
       "      <th>3</th>\n",
       "      <td>0.0</td>\n",
       "      <td>0.0</td>\n",
       "      <td>0.0</td>\n",
       "      <td>1950.0</td>\n",
       "    </tr>\n",
       "    <tr>\n",
       "      <th>4</th>\n",
       "      <td>0.0</td>\n",
       "      <td>0.0</td>\n",
       "      <td>0.0</td>\n",
       "      <td>1950.0</td>\n",
       "    </tr>\n",
       "    <tr>\n",
       "      <th>...</th>\n",
       "      <td>...</td>\n",
       "      <td>...</td>\n",
       "      <td>...</td>\n",
       "      <td>...</td>\n",
       "    </tr>\n",
       "    <tr>\n",
       "      <th>3198</th>\n",
       "      <td>0.0</td>\n",
       "      <td>0.0</td>\n",
       "      <td>1200.0</td>\n",
       "      <td>1750.0</td>\n",
       "    </tr>\n",
       "    <tr>\n",
       "      <th>3199</th>\n",
       "      <td>0.0</td>\n",
       "      <td>0.0</td>\n",
       "      <td>0.0</td>\n",
       "      <td>550.0</td>\n",
       "    </tr>\n",
       "    <tr>\n",
       "      <th>3200</th>\n",
       "      <td>0.0</td>\n",
       "      <td>0.0</td>\n",
       "      <td>600.0</td>\n",
       "      <td>1150.0</td>\n",
       "    </tr>\n",
       "    <tr>\n",
       "      <th>3201</th>\n",
       "      <td>231.0</td>\n",
       "      <td>27.0</td>\n",
       "      <td>600.0</td>\n",
       "      <td>1408.0</td>\n",
       "    </tr>\n",
       "    <tr>\n",
       "      <th>3202</th>\n",
       "      <td>0.0</td>\n",
       "      <td>48.0</td>\n",
       "      <td>0.0</td>\n",
       "      <td>598.0</td>\n",
       "    </tr>\n",
       "  </tbody>\n",
       "</table>\n",
       "<p>3203 rows × 4 columns</p>\n",
       "</div>"
      ],
      "text/plain": [
       "      revenue_call  revenue_messages  revenue_internet  revenue\n",
       "0              0.0               0.0               0.0   1950.0\n",
       "1              0.0               0.0               0.0   1950.0\n",
       "2              0.0               0.0               0.0   1950.0\n",
       "3              0.0               0.0               0.0   1950.0\n",
       "4              0.0               0.0               0.0   1950.0\n",
       "...            ...               ...               ...      ...\n",
       "3198           0.0               0.0            1200.0   1750.0\n",
       "3199           0.0               0.0               0.0    550.0\n",
       "3200           0.0               0.0             600.0   1150.0\n",
       "3201         231.0              27.0             600.0   1408.0\n",
       "3202           0.0              48.0               0.0    598.0\n",
       "\n",
       "[3203 rows x 4 columns]"
      ]
     },
     "execution_count": 39,
     "metadata": {},
     "output_type": "execute_result"
    }
   ],
   "source": [
    "df.loc[:, 'revenue_call':]"
   ]
  },
  {
   "cell_type": "markdown",
   "metadata": {},
   "source": [
    "Теперь можно дропнуть колонки для промежуточных рассчетов `revenue`"
   ]
  },
  {
   "cell_type": "code",
   "execution_count": 40,
   "metadata": {},
   "outputs": [],
   "source": [
    "df = df.drop(columns=['revenue_call', 'revenue_messages', 'revenue_internet'])"
   ]
  },
  {
   "cell_type": "code",
   "execution_count": 41,
   "metadata": {},
   "outputs": [
    {
     "data": {
      "text/html": [
       "<div>\n",
       "<style scoped>\n",
       "    .dataframe tbody tr th:only-of-type {\n",
       "        vertical-align: middle;\n",
       "    }\n",
       "\n",
       "    .dataframe tbody tr th {\n",
       "        vertical-align: top;\n",
       "    }\n",
       "\n",
       "    .dataframe thead th {\n",
       "        text-align: right;\n",
       "    }\n",
       "</style>\n",
       "<table border=\"1\" class=\"dataframe\">\n",
       "  <thead>\n",
       "    <tr style=\"text-align: right;\">\n",
       "      <th></th>\n",
       "      <th>user_id</th>\n",
       "      <th>month</th>\n",
       "      <th>mb_used</th>\n",
       "      <th>total_messages</th>\n",
       "      <th>num_calls</th>\n",
       "      <th>total_duration</th>\n",
       "      <th>city</th>\n",
       "      <th>tariff</th>\n",
       "      <th>messages_included</th>\n",
       "      <th>mb_per_month_included</th>\n",
       "      <th>minutes_included</th>\n",
       "      <th>rub_monthly_fee</th>\n",
       "      <th>rub_per_gb</th>\n",
       "      <th>rub_per_message</th>\n",
       "      <th>rub_per_minute</th>\n",
       "      <th>revenue</th>\n",
       "    </tr>\n",
       "  </thead>\n",
       "  <tbody>\n",
       "    <tr>\n",
       "      <th>0</th>\n",
       "      <td>1000</td>\n",
       "      <td>5</td>\n",
       "      <td>2253.49</td>\n",
       "      <td>22.0</td>\n",
       "      <td>22.0</td>\n",
       "      <td>150.06</td>\n",
       "      <td>Краснодар</td>\n",
       "      <td>ultra</td>\n",
       "      <td>1000</td>\n",
       "      <td>30720</td>\n",
       "      <td>3000</td>\n",
       "      <td>1950</td>\n",
       "      <td>150</td>\n",
       "      <td>1</td>\n",
       "      <td>1</td>\n",
       "      <td>1950.0</td>\n",
       "    </tr>\n",
       "    <tr>\n",
       "      <th>1</th>\n",
       "      <td>1000</td>\n",
       "      <td>6</td>\n",
       "      <td>23233.77</td>\n",
       "      <td>60.0</td>\n",
       "      <td>43.0</td>\n",
       "      <td>158.90</td>\n",
       "      <td>Краснодар</td>\n",
       "      <td>ultra</td>\n",
       "      <td>1000</td>\n",
       "      <td>30720</td>\n",
       "      <td>3000</td>\n",
       "      <td>1950</td>\n",
       "      <td>150</td>\n",
       "      <td>1</td>\n",
       "      <td>1</td>\n",
       "      <td>1950.0</td>\n",
       "    </tr>\n",
       "    <tr>\n",
       "      <th>2</th>\n",
       "      <td>1000</td>\n",
       "      <td>7</td>\n",
       "      <td>14003.64</td>\n",
       "      <td>75.0</td>\n",
       "      <td>47.0</td>\n",
       "      <td>318.80</td>\n",
       "      <td>Краснодар</td>\n",
       "      <td>ultra</td>\n",
       "      <td>1000</td>\n",
       "      <td>30720</td>\n",
       "      <td>3000</td>\n",
       "      <td>1950</td>\n",
       "      <td>150</td>\n",
       "      <td>1</td>\n",
       "      <td>1</td>\n",
       "      <td>1950.0</td>\n",
       "    </tr>\n",
       "    <tr>\n",
       "      <th>3</th>\n",
       "      <td>1000</td>\n",
       "      <td>8</td>\n",
       "      <td>14055.93</td>\n",
       "      <td>81.0</td>\n",
       "      <td>52.0</td>\n",
       "      <td>389.87</td>\n",
       "      <td>Краснодар</td>\n",
       "      <td>ultra</td>\n",
       "      <td>1000</td>\n",
       "      <td>30720</td>\n",
       "      <td>3000</td>\n",
       "      <td>1950</td>\n",
       "      <td>150</td>\n",
       "      <td>1</td>\n",
       "      <td>1</td>\n",
       "      <td>1950.0</td>\n",
       "    </tr>\n",
       "    <tr>\n",
       "      <th>4</th>\n",
       "      <td>1000</td>\n",
       "      <td>9</td>\n",
       "      <td>14568.91</td>\n",
       "      <td>57.0</td>\n",
       "      <td>58.0</td>\n",
       "      <td>440.14</td>\n",
       "      <td>Краснодар</td>\n",
       "      <td>ultra</td>\n",
       "      <td>1000</td>\n",
       "      <td>30720</td>\n",
       "      <td>3000</td>\n",
       "      <td>1950</td>\n",
       "      <td>150</td>\n",
       "      <td>1</td>\n",
       "      <td>1</td>\n",
       "      <td>1950.0</td>\n",
       "    </tr>\n",
       "    <tr>\n",
       "      <th>...</th>\n",
       "      <td>...</td>\n",
       "      <td>...</td>\n",
       "      <td>...</td>\n",
       "      <td>...</td>\n",
       "      <td>...</td>\n",
       "      <td>...</td>\n",
       "      <td>...</td>\n",
       "      <td>...</td>\n",
       "      <td>...</td>\n",
       "      <td>...</td>\n",
       "      <td>...</td>\n",
       "      <td>...</td>\n",
       "      <td>...</td>\n",
       "      <td>...</td>\n",
       "      <td>...</td>\n",
       "      <td>...</td>\n",
       "    </tr>\n",
       "    <tr>\n",
       "      <th>3198</th>\n",
       "      <td>1498</td>\n",
       "      <td>10</td>\n",
       "      <td>20579.36</td>\n",
       "      <td>42.0</td>\n",
       "      <td>41.0</td>\n",
       "      <td>232.63</td>\n",
       "      <td>Владикавказ</td>\n",
       "      <td>smart</td>\n",
       "      <td>50</td>\n",
       "      <td>15360</td>\n",
       "      <td>500</td>\n",
       "      <td>550</td>\n",
       "      <td>200</td>\n",
       "      <td>3</td>\n",
       "      <td>3</td>\n",
       "      <td>1750.0</td>\n",
       "    </tr>\n",
       "    <tr>\n",
       "      <th>3199</th>\n",
       "      <td>1499</td>\n",
       "      <td>9</td>\n",
       "      <td>1845.75</td>\n",
       "      <td>11.0</td>\n",
       "      <td>9.0</td>\n",
       "      <td>64.65</td>\n",
       "      <td>Пермь</td>\n",
       "      <td>smart</td>\n",
       "      <td>50</td>\n",
       "      <td>15360</td>\n",
       "      <td>500</td>\n",
       "      <td>550</td>\n",
       "      <td>200</td>\n",
       "      <td>3</td>\n",
       "      <td>3</td>\n",
       "      <td>550.0</td>\n",
       "    </tr>\n",
       "    <tr>\n",
       "      <th>3200</th>\n",
       "      <td>1499</td>\n",
       "      <td>10</td>\n",
       "      <td>17788.51</td>\n",
       "      <td>48.0</td>\n",
       "      <td>68.0</td>\n",
       "      <td>429.91</td>\n",
       "      <td>Пермь</td>\n",
       "      <td>smart</td>\n",
       "      <td>50</td>\n",
       "      <td>15360</td>\n",
       "      <td>500</td>\n",
       "      <td>550</td>\n",
       "      <td>200</td>\n",
       "      <td>3</td>\n",
       "      <td>3</td>\n",
       "      <td>1150.0</td>\n",
       "    </tr>\n",
       "    <tr>\n",
       "      <th>3201</th>\n",
       "      <td>1499</td>\n",
       "      <td>11</td>\n",
       "      <td>17963.31</td>\n",
       "      <td>59.0</td>\n",
       "      <td>74.0</td>\n",
       "      <td>576.50</td>\n",
       "      <td>Пермь</td>\n",
       "      <td>smart</td>\n",
       "      <td>50</td>\n",
       "      <td>15360</td>\n",
       "      <td>500</td>\n",
       "      <td>550</td>\n",
       "      <td>200</td>\n",
       "      <td>3</td>\n",
       "      <td>3</td>\n",
       "      <td>1408.0</td>\n",
       "    </tr>\n",
       "    <tr>\n",
       "      <th>3202</th>\n",
       "      <td>1499</td>\n",
       "      <td>12</td>\n",
       "      <td>13055.58</td>\n",
       "      <td>66.0</td>\n",
       "      <td>69.0</td>\n",
       "      <td>465.16</td>\n",
       "      <td>Пермь</td>\n",
       "      <td>smart</td>\n",
       "      <td>50</td>\n",
       "      <td>15360</td>\n",
       "      <td>500</td>\n",
       "      <td>550</td>\n",
       "      <td>200</td>\n",
       "      <td>3</td>\n",
       "      <td>3</td>\n",
       "      <td>598.0</td>\n",
       "    </tr>\n",
       "  </tbody>\n",
       "</table>\n",
       "<p>3203 rows × 16 columns</p>\n",
       "</div>"
      ],
      "text/plain": [
       "      user_id  month   mb_used  total_messages  num_calls  total_duration  \\\n",
       "0        1000      5   2253.49            22.0       22.0          150.06   \n",
       "1        1000      6  23233.77            60.0       43.0          158.90   \n",
       "2        1000      7  14003.64            75.0       47.0          318.80   \n",
       "3        1000      8  14055.93            81.0       52.0          389.87   \n",
       "4        1000      9  14568.91            57.0       58.0          440.14   \n",
       "...       ...    ...       ...             ...        ...             ...   \n",
       "3198     1498     10  20579.36            42.0       41.0          232.63   \n",
       "3199     1499      9   1845.75            11.0        9.0           64.65   \n",
       "3200     1499     10  17788.51            48.0       68.0          429.91   \n",
       "3201     1499     11  17963.31            59.0       74.0          576.50   \n",
       "3202     1499     12  13055.58            66.0       69.0          465.16   \n",
       "\n",
       "             city tariff  messages_included  mb_per_month_included  \\\n",
       "0       Краснодар  ultra               1000                  30720   \n",
       "1       Краснодар  ultra               1000                  30720   \n",
       "2       Краснодар  ultra               1000                  30720   \n",
       "3       Краснодар  ultra               1000                  30720   \n",
       "4       Краснодар  ultra               1000                  30720   \n",
       "...           ...    ...                ...                    ...   \n",
       "3198  Владикавказ  smart                 50                  15360   \n",
       "3199        Пермь  smart                 50                  15360   \n",
       "3200        Пермь  smart                 50                  15360   \n",
       "3201        Пермь  smart                 50                  15360   \n",
       "3202        Пермь  smart                 50                  15360   \n",
       "\n",
       "      minutes_included  rub_monthly_fee  rub_per_gb  rub_per_message  \\\n",
       "0                 3000             1950         150                1   \n",
       "1                 3000             1950         150                1   \n",
       "2                 3000             1950         150                1   \n",
       "3                 3000             1950         150                1   \n",
       "4                 3000             1950         150                1   \n",
       "...                ...              ...         ...              ...   \n",
       "3198               500              550         200                3   \n",
       "3199               500              550         200                3   \n",
       "3200               500              550         200                3   \n",
       "3201               500              550         200                3   \n",
       "3202               500              550         200                3   \n",
       "\n",
       "      rub_per_minute  revenue  \n",
       "0                  1   1950.0  \n",
       "1                  1   1950.0  \n",
       "2                  1   1950.0  \n",
       "3                  1   1950.0  \n",
       "4                  1   1950.0  \n",
       "...              ...      ...  \n",
       "3198               3   1750.0  \n",
       "3199               3    550.0  \n",
       "3200               3   1150.0  \n",
       "3201               3   1408.0  \n",
       "3202               3    598.0  \n",
       "\n",
       "[3203 rows x 16 columns]"
      ]
     },
     "execution_count": 41,
     "metadata": {},
     "output_type": "execute_result"
    }
   ],
   "source": [
    "df"
   ]
  },
  {
   "cell_type": "markdown",
   "metadata": {},
   "source": [
    "## Анализ данных"
   ]
  },
  {
   "cell_type": "code",
   "execution_count": 42,
   "metadata": {},
   "outputs": [
    {
     "data": {
      "text/plain": [
       "Index(['user_id', 'month', 'mb_used', 'total_messages', 'num_calls',\n",
       "       'total_duration', 'city', 'tariff', 'messages_included',\n",
       "       'mb_per_month_included', 'minutes_included', 'rub_monthly_fee',\n",
       "       'rub_per_gb', 'rub_per_message', 'rub_per_minute', 'revenue'],\n",
       "      dtype='object')"
      ]
     },
     "execution_count": 42,
     "metadata": {},
     "output_type": "execute_result"
    }
   ],
   "source": [
    "df.columns"
   ]
  },
  {
   "cell_type": "markdown",
   "metadata": {},
   "source": [
    "Графики по тарифам"
   ]
  },
  {
   "cell_type": "code",
   "execution_count": 43,
   "metadata": {},
   "outputs": [
    {
     "data": {
      "image/png": "[encoded data removed]",
      "text/plain": [
       "<Figure size 432x288 with 1 Axes>"
      ]
     },
     "metadata": {},
     "output_type": "display_data"
    },
    {
     "data": {
      "image/png": "[encoded data removed]",
      "text/plain": [
       "<Figure size 432x288 with 1 Axes>"
      ]
     },
     "metadata": {},
     "output_type": "display_data"
    },
    {
     "data": {
      "image/png": "[encoded data removed]",
      "text/plain": [
       "<Figure size 432x288 with 1 Axes>"
      ]
     },
     "metadata": {},
     "output_type": "display_data"
    },
    {
     "data": {
      "image/png": "[encoded data removed]",
      "text/plain": [
       "<Figure size 432x288 with 1 Axes>"
      ]
     },
     "metadata": {},
     "output_type": "display_data"
    },
    {
     "data": {
      "image/png": "[encoded data removed]",
      "text/plain": [
       "<Figure size 432x288 with 1 Axes>"
      ]
     },
     "metadata": {},
     "output_type": "display_data"
    }
   ],
   "source": [
    "cols = ['mb_used', 'total_messages', 'num_calls', 'total_duration', 'revenue']\n",
    "\n",
    "for i in cols:\n",
    "    plt.figure()\n",
    "    sns.histplot(df[df['tariff'] == 'smart'][i]).set(title='smart '+i)"
   ]
  },
  {
   "cell_type": "code",
   "execution_count": 44,
   "metadata": {},
   "outputs": [
    {
     "data": {
      "image/png": "[encoded data removed]",
      "text/plain": [
       "<Figure size 432x288 with 1 Axes>"
      ]
     },
     "metadata": {},
     "output_type": "display_data"
    },
    {
     "data": {
      "image/png": "[encoded data removed]",
      "text/plain": [
       "<Figure size 432x288 with 1 Axes>"
      ]
     },
     "metadata": {},
     "output_type": "display_data"
    },
    {
     "data": {
      "image/png": "[encoded data removed]",
      "text/plain": [
       "<Figure size 432x288 with 1 Axes>"
      ]
     },
     "metadata": {},
     "output_type": "display_data"
    },
    {
     "data": {
      "image/png": "[encoded data removed]",
      "text/plain": [
       "<Figure size 432x288 with 1 Axes>"
      ]
     },
     "metadata": {},
     "output_type": "display_data"
    },
    {
     "data": {
      "image/png": "[encoded data removed]",
      "text/plain": [
       "<Figure size 432x288 with 1 Axes>"
      ]
     },
     "metadata": {},
     "output_type": "display_data"
    }
   ],
   "source": [
    "for i in cols:\n",
    "    plt.figure()\n",
    "    sns.histplot(data=df[df['tariff'] == 'ultra'], x=i).set(title='ultra '+i)"
   ]
  },
  {
   "cell_type": "markdown",
   "metadata": {},
   "source": [
    "Распределения выглядят реальными. По данным можно делать выводы"
   ]
  },
  {
   "cell_type": "markdown",
   "metadata": {},
   "source": [
    "Посчитаем среднее, дисперсию и стандартное отклонение выборки по тарифам за каждый месяц"
   ]
  },
  {
   "cell_type": "code",
   "execution_count": 45,
   "metadata": {},
   "outputs": [
    {
     "name": "stdout",
     "output_type": "stream",
     "text": [
      "mb_used\n"
     ]
    },
    {
     "data": {
      "text/html": [
       "<div>\n",
       "<style scoped>\n",
       "    .dataframe tbody tr th:only-of-type {\n",
       "        vertical-align: middle;\n",
       "    }\n",
       "\n",
       "    .dataframe tbody tr th {\n",
       "        vertical-align: top;\n",
       "    }\n",
       "\n",
       "    .dataframe thead th {\n",
       "        text-align: right;\n",
       "    }\n",
       "</style>\n",
       "<table border=\"1\" class=\"dataframe\">\n",
       "  <thead>\n",
       "    <tr style=\"text-align: right;\">\n",
       "      <th></th>\n",
       "      <th>std</th>\n",
       "      <th>mean</th>\n",
       "      <th>var</th>\n",
       "    </tr>\n",
       "    <tr>\n",
       "      <th>month</th>\n",
       "      <th></th>\n",
       "      <th></th>\n",
       "      <th></th>\n",
       "    </tr>\n",
       "  </thead>\n",
       "  <tbody>\n",
       "    <tr>\n",
       "      <th>1</th>\n",
       "      <td>6444.681014</td>\n",
       "      <td>8513.717647</td>\n",
       "      <td>4.153391e+07</td>\n",
       "    </tr>\n",
       "    <tr>\n",
       "      <th>2</th>\n",
       "      <td>6247.353833</td>\n",
       "      <td>11597.054310</td>\n",
       "      <td>3.902943e+07</td>\n",
       "    </tr>\n",
       "    <tr>\n",
       "      <th>3</th>\n",
       "      <td>5828.237537</td>\n",
       "      <td>15104.159091</td>\n",
       "      <td>3.396835e+07</td>\n",
       "    </tr>\n",
       "    <tr>\n",
       "      <th>4</th>\n",
       "      <td>5698.249092</td>\n",
       "      <td>13462.180625</td>\n",
       "      <td>3.247004e+07</td>\n",
       "    </tr>\n",
       "    <tr>\n",
       "      <th>5</th>\n",
       "      <td>5978.231725</td>\n",
       "      <td>15805.184326</td>\n",
       "      <td>3.573925e+07</td>\n",
       "    </tr>\n",
       "    <tr>\n",
       "      <th>6</th>\n",
       "      <td>5791.155586</td>\n",
       "      <td>15794.647988</td>\n",
       "      <td>3.353748e+07</td>\n",
       "    </tr>\n",
       "    <tr>\n",
       "      <th>7</th>\n",
       "      <td>5897.154446</td>\n",
       "      <td>15743.150348</td>\n",
       "      <td>3.477643e+07</td>\n",
       "    </tr>\n",
       "    <tr>\n",
       "      <th>8</th>\n",
       "      <td>5498.387304</td>\n",
       "      <td>16681.706068</td>\n",
       "      <td>3.023226e+07</td>\n",
       "    </tr>\n",
       "    <tr>\n",
       "      <th>9</th>\n",
       "      <td>5196.115749</td>\n",
       "      <td>16303.578808</td>\n",
       "      <td>2.699962e+07</td>\n",
       "    </tr>\n",
       "    <tr>\n",
       "      <th>10</th>\n",
       "      <td>5859.384492</td>\n",
       "      <td>16757.122891</td>\n",
       "      <td>3.433239e+07</td>\n",
       "    </tr>\n",
       "    <tr>\n",
       "      <th>11</th>\n",
       "      <td>5340.273416</td>\n",
       "      <td>16895.696646</td>\n",
       "      <td>2.851852e+07</td>\n",
       "    </tr>\n",
       "    <tr>\n",
       "      <th>12</th>\n",
       "      <td>5573.682673</td>\n",
       "      <td>18113.662047</td>\n",
       "      <td>3.106594e+07</td>\n",
       "    </tr>\n",
       "  </tbody>\n",
       "</table>\n",
       "</div>"
      ],
      "text/plain": [
       "               std          mean           var\n",
       "month                                         \n",
       "1      6444.681014   8513.717647  4.153391e+07\n",
       "2      6247.353833  11597.054310  3.902943e+07\n",
       "3      5828.237537  15104.159091  3.396835e+07\n",
       "4      5698.249092  13462.180625  3.247004e+07\n",
       "5      5978.231725  15805.184326  3.573925e+07\n",
       "6      5791.155586  15794.647988  3.353748e+07\n",
       "7      5897.154446  15743.150348  3.477643e+07\n",
       "8      5498.387304  16681.706068  3.023226e+07\n",
       "9      5196.115749  16303.578808  2.699962e+07\n",
       "10     5859.384492  16757.122891  3.433239e+07\n",
       "11     5340.273416  16895.696646  2.851852e+07\n",
       "12     5573.682673  18113.662047  3.106594e+07"
      ]
     },
     "metadata": {},
     "output_type": "display_data"
    },
    {
     "name": "stdout",
     "output_type": "stream",
     "text": [
      "total_messages\n"
     ]
    },
    {
     "data": {
      "text/html": [
       "<div>\n",
       "<style scoped>\n",
       "    .dataframe tbody tr th:only-of-type {\n",
       "        vertical-align: middle;\n",
       "    }\n",
       "\n",
       "    .dataframe tbody tr th {\n",
       "        vertical-align: top;\n",
       "    }\n",
       "\n",
       "    .dataframe thead th {\n",
       "        text-align: right;\n",
       "    }\n",
       "</style>\n",
       "<table border=\"1\" class=\"dataframe\">\n",
       "  <thead>\n",
       "    <tr style=\"text-align: right;\">\n",
       "      <th></th>\n",
       "      <th>std</th>\n",
       "      <th>mean</th>\n",
       "      <th>var</th>\n",
       "    </tr>\n",
       "    <tr>\n",
       "      <th>month</th>\n",
       "      <th></th>\n",
       "      <th></th>\n",
       "      <th></th>\n",
       "    </tr>\n",
       "  </thead>\n",
       "  <tbody>\n",
       "    <tr>\n",
       "      <th>1</th>\n",
       "      <td>15.878707</td>\n",
       "      <td>20.000000</td>\n",
       "      <td>252.133333</td>\n",
       "    </tr>\n",
       "    <tr>\n",
       "      <th>2</th>\n",
       "      <td>20.987275</td>\n",
       "      <td>27.940000</td>\n",
       "      <td>440.465714</td>\n",
       "    </tr>\n",
       "    <tr>\n",
       "      <th>3</th>\n",
       "      <td>25.880117</td>\n",
       "      <td>35.550725</td>\n",
       "      <td>669.780477</td>\n",
       "    </tr>\n",
       "    <tr>\n",
       "      <th>4</th>\n",
       "      <td>22.756662</td>\n",
       "      <td>35.864583</td>\n",
       "      <td>517.865680</td>\n",
       "    </tr>\n",
       "    <tr>\n",
       "      <th>5</th>\n",
       "      <td>25.274014</td>\n",
       "      <td>39.032787</td>\n",
       "      <td>638.775776</td>\n",
       "    </tr>\n",
       "    <tr>\n",
       "      <th>6</th>\n",
       "      <td>27.048767</td>\n",
       "      <td>38.577465</td>\n",
       "      <td>731.635801</td>\n",
       "    </tr>\n",
       "    <tr>\n",
       "      <th>7</th>\n",
       "      <td>26.820747</td>\n",
       "      <td>38.988506</td>\n",
       "      <td>719.352468</td>\n",
       "    </tr>\n",
       "    <tr>\n",
       "      <th>8</th>\n",
       "      <td>27.639132</td>\n",
       "      <td>38.935961</td>\n",
       "      <td>763.921621</td>\n",
       "    </tr>\n",
       "    <tr>\n",
       "      <th>9</th>\n",
       "      <td>26.504821</td>\n",
       "      <td>39.219731</td>\n",
       "      <td>702.505555</td>\n",
       "    </tr>\n",
       "    <tr>\n",
       "      <th>10</th>\n",
       "      <td>27.138589</td>\n",
       "      <td>39.082677</td>\n",
       "      <td>736.503019</td>\n",
       "    </tr>\n",
       "    <tr>\n",
       "      <th>11</th>\n",
       "      <td>26.671359</td>\n",
       "      <td>39.881481</td>\n",
       "      <td>711.361366</td>\n",
       "    </tr>\n",
       "    <tr>\n",
       "      <th>12</th>\n",
       "      <td>28.852160</td>\n",
       "      <td>42.264808</td>\n",
       "      <td>832.447114</td>\n",
       "    </tr>\n",
       "  </tbody>\n",
       "</table>\n",
       "</div>"
      ],
      "text/plain": [
       "             std       mean         var\n",
       "month                                  \n",
       "1      15.878707  20.000000  252.133333\n",
       "2      20.987275  27.940000  440.465714\n",
       "3      25.880117  35.550725  669.780477\n",
       "4      22.756662  35.864583  517.865680\n",
       "5      25.274014  39.032787  638.775776\n",
       "6      27.048767  38.577465  731.635801\n",
       "7      26.820747  38.988506  719.352468\n",
       "8      27.639132  38.935961  763.921621\n",
       "9      26.504821  39.219731  702.505555\n",
       "10     27.138589  39.082677  736.503019\n",
       "11     26.671359  39.881481  711.361366\n",
       "12     28.852160  42.264808  832.447114"
      ]
     },
     "metadata": {},
     "output_type": "display_data"
    },
    {
     "name": "stdout",
     "output_type": "stream",
     "text": [
      "num_calls\n"
     ]
    },
    {
     "data": {
      "text/html": [
       "<div>\n",
       "<style scoped>\n",
       "    .dataframe tbody tr th:only-of-type {\n",
       "        vertical-align: middle;\n",
       "    }\n",
       "\n",
       "    .dataframe tbody tr th {\n",
       "        vertical-align: top;\n",
       "    }\n",
       "\n",
       "    .dataframe thead th {\n",
       "        text-align: right;\n",
       "    }\n",
       "</style>\n",
       "<table border=\"1\" class=\"dataframe\">\n",
       "  <thead>\n",
       "    <tr style=\"text-align: right;\">\n",
       "      <th></th>\n",
       "      <th>std</th>\n",
       "      <th>mean</th>\n",
       "      <th>var</th>\n",
       "    </tr>\n",
       "    <tr>\n",
       "      <th>month</th>\n",
       "      <th></th>\n",
       "      <th></th>\n",
       "      <th></th>\n",
       "    </tr>\n",
       "  </thead>\n",
       "  <tbody>\n",
       "    <tr>\n",
       "      <th>1</th>\n",
       "      <td>20.811886</td>\n",
       "      <td>27.676471</td>\n",
       "      <td>433.134581</td>\n",
       "    </tr>\n",
       "    <tr>\n",
       "      <th>2</th>\n",
       "      <td>25.394057</td>\n",
       "      <td>40.189655</td>\n",
       "      <td>644.858137</td>\n",
       "    </tr>\n",
       "    <tr>\n",
       "      <th>3</th>\n",
       "      <td>25.536579</td>\n",
       "      <td>54.324675</td>\n",
       "      <td>652.116883</td>\n",
       "    </tr>\n",
       "    <tr>\n",
       "      <th>4</th>\n",
       "      <td>25.704850</td>\n",
       "      <td>51.312500</td>\n",
       "      <td>660.739302</td>\n",
       "    </tr>\n",
       "    <tr>\n",
       "      <th>5</th>\n",
       "      <td>25.376846</td>\n",
       "      <td>55.241135</td>\n",
       "      <td>643.984296</td>\n",
       "    </tr>\n",
       "    <tr>\n",
       "      <th>6</th>\n",
       "      <td>23.549791</td>\n",
       "      <td>55.889571</td>\n",
       "      <td>554.592668</td>\n",
       "    </tr>\n",
       "    <tr>\n",
       "      <th>7</th>\n",
       "      <td>24.629652</td>\n",
       "      <td>56.726368</td>\n",
       "      <td>606.619751</td>\n",
       "    </tr>\n",
       "    <tr>\n",
       "      <th>8</th>\n",
       "      <td>24.741596</td>\n",
       "      <td>59.467811</td>\n",
       "      <td>612.146589</td>\n",
       "    </tr>\n",
       "    <tr>\n",
       "      <th>9</th>\n",
       "      <td>24.769246</td>\n",
       "      <td>59.776062</td>\n",
       "      <td>613.515549</td>\n",
       "    </tr>\n",
       "    <tr>\n",
       "      <th>10</th>\n",
       "      <td>25.094807</td>\n",
       "      <td>60.167235</td>\n",
       "      <td>629.749334</td>\n",
       "    </tr>\n",
       "    <tr>\n",
       "      <th>11</th>\n",
       "      <td>24.595993</td>\n",
       "      <td>61.698413</td>\n",
       "      <td>604.962896</td>\n",
       "    </tr>\n",
       "    <tr>\n",
       "      <th>12</th>\n",
       "      <td>26.594611</td>\n",
       "      <td>66.684524</td>\n",
       "      <td>707.273312</td>\n",
       "    </tr>\n",
       "  </tbody>\n",
       "</table>\n",
       "</div>"
      ],
      "text/plain": [
       "             std       mean         var\n",
       "month                                  \n",
       "1      20.811886  27.676471  433.134581\n",
       "2      25.394057  40.189655  644.858137\n",
       "3      25.536579  54.324675  652.116883\n",
       "4      25.704850  51.312500  660.739302\n",
       "5      25.376846  55.241135  643.984296\n",
       "6      23.549791  55.889571  554.592668\n",
       "7      24.629652  56.726368  606.619751\n",
       "8      24.741596  59.467811  612.146589\n",
       "9      24.769246  59.776062  613.515549\n",
       "10     25.094807  60.167235  629.749334\n",
       "11     24.595993  61.698413  604.962896\n",
       "12     26.594611  66.684524  707.273312"
      ]
     },
     "metadata": {},
     "output_type": "display_data"
    },
    {
     "name": "stdout",
     "output_type": "stream",
     "text": [
      "total_duration\n"
     ]
    },
    {
     "data": {
      "text/html": [
       "<div>\n",
       "<style scoped>\n",
       "    .dataframe tbody tr th:only-of-type {\n",
       "        vertical-align: middle;\n",
       "    }\n",
       "\n",
       "    .dataframe tbody tr th {\n",
       "        vertical-align: top;\n",
       "    }\n",
       "\n",
       "    .dataframe thead th {\n",
       "        text-align: right;\n",
       "    }\n",
       "</style>\n",
       "<table border=\"1\" class=\"dataframe\">\n",
       "  <thead>\n",
       "    <tr style=\"text-align: right;\">\n",
       "      <th></th>\n",
       "      <th>std</th>\n",
       "      <th>mean</th>\n",
       "      <th>var</th>\n",
       "    </tr>\n",
       "    <tr>\n",
       "      <th>month</th>\n",
       "      <th></th>\n",
       "      <th></th>\n",
       "      <th></th>\n",
       "    </tr>\n",
       "  </thead>\n",
       "  <tbody>\n",
       "    <tr>\n",
       "      <th>1</th>\n",
       "      <td>146.328341</td>\n",
       "      <td>193.042353</td>\n",
       "      <td>21411.983376</td>\n",
       "    </tr>\n",
       "    <tr>\n",
       "      <th>2</th>\n",
       "      <td>180.979000</td>\n",
       "      <td>282.963448</td>\n",
       "      <td>32753.398595</td>\n",
       "    </tr>\n",
       "    <tr>\n",
       "      <th>3</th>\n",
       "      <td>181.537643</td>\n",
       "      <td>367.877143</td>\n",
       "      <td>32955.915700</td>\n",
       "    </tr>\n",
       "    <tr>\n",
       "      <th>4</th>\n",
       "      <td>176.103248</td>\n",
       "      <td>346.222589</td>\n",
       "      <td>31012.354057</td>\n",
       "    </tr>\n",
       "    <tr>\n",
       "      <th>5</th>\n",
       "      <td>176.543314</td>\n",
       "      <td>365.214752</td>\n",
       "      <td>31167.541667</td>\n",
       "    </tr>\n",
       "    <tr>\n",
       "      <th>6</th>\n",
       "      <td>163.555898</td>\n",
       "      <td>375.481595</td>\n",
       "      <td>26750.531795</td>\n",
       "    </tr>\n",
       "    <tr>\n",
       "      <th>7</th>\n",
       "      <td>169.750528</td>\n",
       "      <td>385.498557</td>\n",
       "      <td>28815.241893</td>\n",
       "    </tr>\n",
       "    <tr>\n",
       "      <th>8</th>\n",
       "      <td>173.711891</td>\n",
       "      <td>401.105536</td>\n",
       "      <td>30175.820974</td>\n",
       "    </tr>\n",
       "    <tr>\n",
       "      <th>9</th>\n",
       "      <td>171.774291</td>\n",
       "      <td>406.081081</td>\n",
       "      <td>29506.406953</td>\n",
       "    </tr>\n",
       "    <tr>\n",
       "      <th>10</th>\n",
       "      <td>176.724020</td>\n",
       "      <td>403.646416</td>\n",
       "      <td>31231.379157</td>\n",
       "    </tr>\n",
       "    <tr>\n",
       "      <th>11</th>\n",
       "      <td>166.742576</td>\n",
       "      <td>411.889810</td>\n",
       "      <td>27803.086773</td>\n",
       "    </tr>\n",
       "    <tr>\n",
       "      <th>12</th>\n",
       "      <td>187.115872</td>\n",
       "      <td>453.041071</td>\n",
       "      <td>35012.349414</td>\n",
       "    </tr>\n",
       "  </tbody>\n",
       "</table>\n",
       "</div>"
      ],
      "text/plain": [
       "              std        mean           var\n",
       "month                                      \n",
       "1      146.328341  193.042353  21411.983376\n",
       "2      180.979000  282.963448  32753.398595\n",
       "3      181.537643  367.877143  32955.915700\n",
       "4      176.103248  346.222589  31012.354057\n",
       "5      176.543314  365.214752  31167.541667\n",
       "6      163.555898  375.481595  26750.531795\n",
       "7      169.750528  385.498557  28815.241893\n",
       "8      173.711891  401.105536  30175.820974\n",
       "9      171.774291  406.081081  29506.406953\n",
       "10     176.724020  403.646416  31231.379157\n",
       "11     166.742576  411.889810  27803.086773\n",
       "12     187.115872  453.041071  35012.349414"
      ]
     },
     "metadata": {},
     "output_type": "display_data"
    }
   ],
   "source": [
    "cols = ['mb_used', 'total_messages', 'num_calls', 'total_duration']\n",
    "\n",
    "for i in cols:\n",
    "    print(i)\n",
    "    display(df[df['tariff'] == 'smart'].groupby('month')[i].agg({'mean', 'var', 'std'}))"
   ]
  },
  {
   "cell_type": "code",
   "execution_count": 46,
   "metadata": {
    "scrolled": true
   },
   "outputs": [
    {
     "name": "stdout",
     "output_type": "stream",
     "text": [
      "mb_used\n"
     ]
    },
    {
     "data": {
      "text/html": [
       "<div>\n",
       "<style scoped>\n",
       "    .dataframe tbody tr th:only-of-type {\n",
       "        vertical-align: middle;\n",
       "    }\n",
       "\n",
       "    .dataframe tbody tr th {\n",
       "        vertical-align: top;\n",
       "    }\n",
       "\n",
       "    .dataframe thead th {\n",
       "        text-align: right;\n",
       "    }\n",
       "</style>\n",
       "<table border=\"1\" class=\"dataframe\">\n",
       "  <thead>\n",
       "    <tr style=\"text-align: right;\">\n",
       "      <th></th>\n",
       "      <th>std</th>\n",
       "      <th>mean</th>\n",
       "      <th>var</th>\n",
       "    </tr>\n",
       "    <tr>\n",
       "      <th>month</th>\n",
       "      <th></th>\n",
       "      <th></th>\n",
       "      <th></th>\n",
       "    </tr>\n",
       "  </thead>\n",
       "  <tbody>\n",
       "    <tr>\n",
       "      <th>1</th>\n",
       "      <td>6865.346875</td>\n",
       "      <td>13140.681111</td>\n",
       "      <td>4.713299e+07</td>\n",
       "    </tr>\n",
       "    <tr>\n",
       "      <th>2</th>\n",
       "      <td>10473.403015</td>\n",
       "      <td>12846.477273</td>\n",
       "      <td>1.096922e+08</td>\n",
       "    </tr>\n",
       "    <tr>\n",
       "      <th>3</th>\n",
       "      <td>10951.785885</td>\n",
       "      <td>17535.550270</td>\n",
       "      <td>1.199416e+08</td>\n",
       "    </tr>\n",
       "    <tr>\n",
       "      <th>4</th>\n",
       "      <td>9718.649845</td>\n",
       "      <td>16828.134364</td>\n",
       "      <td>9.445215e+07</td>\n",
       "    </tr>\n",
       "    <tr>\n",
       "      <th>5</th>\n",
       "      <td>9829.620332</td>\n",
       "      <td>19656.534091</td>\n",
       "      <td>9.662144e+07</td>\n",
       "    </tr>\n",
       "    <tr>\n",
       "      <th>6</th>\n",
       "      <td>9109.904861</td>\n",
       "      <td>19152.950602</td>\n",
       "      <td>8.299037e+07</td>\n",
       "    </tr>\n",
       "    <tr>\n",
       "      <th>7</th>\n",
       "      <td>9883.022284</td>\n",
       "      <td>20723.394778</td>\n",
       "      <td>9.767413e+07</td>\n",
       "    </tr>\n",
       "    <tr>\n",
       "      <th>8</th>\n",
       "      <td>10349.849601</td>\n",
       "      <td>19760.734434</td>\n",
       "      <td>1.071194e+08</td>\n",
       "    </tr>\n",
       "    <tr>\n",
       "      <th>9</th>\n",
       "      <td>9353.599420</td>\n",
       "      <td>19372.735702</td>\n",
       "      <td>8.748982e+07</td>\n",
       "    </tr>\n",
       "    <tr>\n",
       "      <th>10</th>\n",
       "      <td>9671.980860</td>\n",
       "      <td>20209.643361</td>\n",
       "      <td>9.354721e+07</td>\n",
       "    </tr>\n",
       "    <tr>\n",
       "      <th>11</th>\n",
       "      <td>9793.580544</td>\n",
       "      <td>19935.585489</td>\n",
       "      <td>9.591422e+07</td>\n",
       "    </tr>\n",
       "    <tr>\n",
       "      <th>12</th>\n",
       "      <td>10247.207641</td>\n",
       "      <td>21951.094130</td>\n",
       "      <td>1.050053e+08</td>\n",
       "    </tr>\n",
       "  </tbody>\n",
       "</table>\n",
       "</div>"
      ],
      "text/plain": [
       "                std          mean           var\n",
       "month                                          \n",
       "1       6865.346875  13140.681111  4.713299e+07\n",
       "2      10473.403015  12846.477273  1.096922e+08\n",
       "3      10951.785885  17535.550270  1.199416e+08\n",
       "4       9718.649845  16828.134364  9.445215e+07\n",
       "5       9829.620332  19656.534091  9.662144e+07\n",
       "6       9109.904861  19152.950602  8.299037e+07\n",
       "7       9883.022284  20723.394778  9.767413e+07\n",
       "8      10349.849601  19760.734434  1.071194e+08\n",
       "9       9353.599420  19372.735702  8.748982e+07\n",
       "10      9671.980860  20209.643361  9.354721e+07\n",
       "11      9793.580544  19935.585489  9.591422e+07\n",
       "12     10247.207641  21951.094130  1.050053e+08"
      ]
     },
     "metadata": {},
     "output_type": "display_data"
    },
    {
     "name": "stdout",
     "output_type": "stream",
     "text": [
      "total_messages\n"
     ]
    },
    {
     "data": {
      "text/html": [
       "<div>\n",
       "<style scoped>\n",
       "    .dataframe tbody tr th:only-of-type {\n",
       "        vertical-align: middle;\n",
       "    }\n",
       "\n",
       "    .dataframe tbody tr th {\n",
       "        vertical-align: top;\n",
       "    }\n",
       "\n",
       "    .dataframe thead th {\n",
       "        text-align: right;\n",
       "    }\n",
       "</style>\n",
       "<table border=\"1\" class=\"dataframe\">\n",
       "  <thead>\n",
       "    <tr style=\"text-align: right;\">\n",
       "      <th></th>\n",
       "      <th>std</th>\n",
       "      <th>mean</th>\n",
       "      <th>var</th>\n",
       "    </tr>\n",
       "    <tr>\n",
       "      <th>month</th>\n",
       "      <th></th>\n",
       "      <th></th>\n",
       "      <th></th>\n",
       "    </tr>\n",
       "  </thead>\n",
       "  <tbody>\n",
       "    <tr>\n",
       "      <th>1</th>\n",
       "      <td>27.663798</td>\n",
       "      <td>43.428571</td>\n",
       "      <td>765.285714</td>\n",
       "    </tr>\n",
       "    <tr>\n",
       "      <th>2</th>\n",
       "      <td>25.694742</td>\n",
       "      <td>37.285714</td>\n",
       "      <td>660.219780</td>\n",
       "    </tr>\n",
       "    <tr>\n",
       "      <th>3</th>\n",
       "      <td>42.739521</td>\n",
       "      <td>47.800000</td>\n",
       "      <td>1826.666667</td>\n",
       "    </tr>\n",
       "    <tr>\n",
       "      <th>4</th>\n",
       "      <td>37.526743</td>\n",
       "      <td>44.512821</td>\n",
       "      <td>1408.256410</td>\n",
       "    </tr>\n",
       "    <tr>\n",
       "      <th>5</th>\n",
       "      <td>39.686517</td>\n",
       "      <td>49.313725</td>\n",
       "      <td>1575.019608</td>\n",
       "    </tr>\n",
       "    <tr>\n",
       "      <th>6</th>\n",
       "      <td>44.297324</td>\n",
       "      <td>52.530303</td>\n",
       "      <td>1962.252914</td>\n",
       "    </tr>\n",
       "    <tr>\n",
       "      <th>7</th>\n",
       "      <td>47.037891</td>\n",
       "      <td>62.486111</td>\n",
       "      <td>2212.563185</td>\n",
       "    </tr>\n",
       "    <tr>\n",
       "      <th>8</th>\n",
       "      <td>45.196479</td>\n",
       "      <td>59.103448</td>\n",
       "      <td>2042.721732</td>\n",
       "    </tr>\n",
       "    <tr>\n",
       "      <th>9</th>\n",
       "      <td>43.779257</td>\n",
       "      <td>63.627660</td>\n",
       "      <td>1916.623313</td>\n",
       "    </tr>\n",
       "    <tr>\n",
       "      <th>10</th>\n",
       "      <td>49.381580</td>\n",
       "      <td>70.117647</td>\n",
       "      <td>2438.540478</td>\n",
       "    </tr>\n",
       "    <tr>\n",
       "      <th>11</th>\n",
       "      <td>47.507988</td>\n",
       "      <td>66.491071</td>\n",
       "      <td>2257.008929</td>\n",
       "    </tr>\n",
       "    <tr>\n",
       "      <th>12</th>\n",
       "      <td>48.722286</td>\n",
       "      <td>72.293103</td>\n",
       "      <td>2373.861169</td>\n",
       "    </tr>\n",
       "  </tbody>\n",
       "</table>\n",
       "</div>"
      ],
      "text/plain": [
       "             std       mean          var\n",
       "month                                   \n",
       "1      27.663798  43.428571   765.285714\n",
       "2      25.694742  37.285714   660.219780\n",
       "3      42.739521  47.800000  1826.666667\n",
       "4      37.526743  44.512821  1408.256410\n",
       "5      39.686517  49.313725  1575.019608\n",
       "6      44.297324  52.530303  1962.252914\n",
       "7      47.037891  62.486111  2212.563185\n",
       "8      45.196479  59.103448  2042.721732\n",
       "9      43.779257  63.627660  1916.623313\n",
       "10     49.381580  70.117647  2438.540478\n",
       "11     47.507988  66.491071  2257.008929\n",
       "12     48.722286  72.293103  2373.861169"
      ]
     },
     "metadata": {},
     "output_type": "display_data"
    },
    {
     "name": "stdout",
     "output_type": "stream",
     "text": [
      "num_calls\n"
     ]
    },
    {
     "data": {
      "text/html": [
       "<div>\n",
       "<style scoped>\n",
       "    .dataframe tbody tr th:only-of-type {\n",
       "        vertical-align: middle;\n",
       "    }\n",
       "\n",
       "    .dataframe tbody tr th {\n",
       "        vertical-align: top;\n",
       "    }\n",
       "\n",
       "    .dataframe thead th {\n",
       "        text-align: right;\n",
       "    }\n",
       "</style>\n",
       "<table border=\"1\" class=\"dataframe\">\n",
       "  <thead>\n",
       "    <tr style=\"text-align: right;\">\n",
       "      <th></th>\n",
       "      <th>std</th>\n",
       "      <th>mean</th>\n",
       "      <th>var</th>\n",
       "    </tr>\n",
       "    <tr>\n",
       "      <th>month</th>\n",
       "      <th></th>\n",
       "      <th></th>\n",
       "      <th></th>\n",
       "    </tr>\n",
       "  </thead>\n",
       "  <tbody>\n",
       "    <tr>\n",
       "      <th>1</th>\n",
       "      <td>41.638657</td>\n",
       "      <td>59.444444</td>\n",
       "      <td>1733.777778</td>\n",
       "    </tr>\n",
       "    <tr>\n",
       "      <th>2</th>\n",
       "      <td>41.718600</td>\n",
       "      <td>44.181818</td>\n",
       "      <td>1740.441558</td>\n",
       "    </tr>\n",
       "    <tr>\n",
       "      <th>3</th>\n",
       "      <td>44.838013</td>\n",
       "      <td>67.675676</td>\n",
       "      <td>2010.447447</td>\n",
       "    </tr>\n",
       "    <tr>\n",
       "      <th>4</th>\n",
       "      <td>34.674100</td>\n",
       "      <td>66.509434</td>\n",
       "      <td>1202.293179</td>\n",
       "    </tr>\n",
       "    <tr>\n",
       "      <th>5</th>\n",
       "      <td>38.549594</td>\n",
       "      <td>76.730159</td>\n",
       "      <td>1486.071173</td>\n",
       "    </tr>\n",
       "    <tr>\n",
       "      <th>6</th>\n",
       "      <td>38.447655</td>\n",
       "      <td>69.575000</td>\n",
       "      <td>1478.222152</td>\n",
       "    </tr>\n",
       "    <tr>\n",
       "      <th>7</th>\n",
       "      <td>41.283750</td>\n",
       "      <td>78.758621</td>\n",
       "      <td>1704.348035</td>\n",
       "    </tr>\n",
       "    <tr>\n",
       "      <th>8</th>\n",
       "      <td>42.138839</td>\n",
       "      <td>74.264706</td>\n",
       "      <td>1775.681712</td>\n",
       "    </tr>\n",
       "    <tr>\n",
       "      <th>9</th>\n",
       "      <td>42.778445</td>\n",
       "      <td>77.690909</td>\n",
       "      <td>1829.995329</td>\n",
       "    </tr>\n",
       "    <tr>\n",
       "      <th>10</th>\n",
       "      <td>43.566635</td>\n",
       "      <td>81.000000</td>\n",
       "      <td>1898.051724</td>\n",
       "    </tr>\n",
       "    <tr>\n",
       "      <th>11</th>\n",
       "      <td>40.738102</td>\n",
       "      <td>78.289062</td>\n",
       "      <td>1659.592950</td>\n",
       "    </tr>\n",
       "    <tr>\n",
       "      <th>12</th>\n",
       "      <td>46.278290</td>\n",
       "      <td>86.766917</td>\n",
       "      <td>2141.680109</td>\n",
       "    </tr>\n",
       "  </tbody>\n",
       "</table>\n",
       "</div>"
      ],
      "text/plain": [
       "             std       mean          var\n",
       "month                                   \n",
       "1      41.638657  59.444444  1733.777778\n",
       "2      41.718600  44.181818  1740.441558\n",
       "3      44.838013  67.675676  2010.447447\n",
       "4      34.674100  66.509434  1202.293179\n",
       "5      38.549594  76.730159  1486.071173\n",
       "6      38.447655  69.575000  1478.222152\n",
       "7      41.283750  78.758621  1704.348035\n",
       "8      42.138839  74.264706  1775.681712\n",
       "9      42.778445  77.690909  1829.995329\n",
       "10     43.566635  81.000000  1898.051724\n",
       "11     40.738102  78.289062  1659.592950\n",
       "12     46.278290  86.766917  2141.680109"
      ]
     },
     "metadata": {},
     "output_type": "display_data"
    },
    {
     "name": "stdout",
     "output_type": "stream",
     "text": [
      "total_duration\n"
     ]
    },
    {
     "data": {
      "text/html": [
       "<div>\n",
       "<style scoped>\n",
       "    .dataframe tbody tr th:only-of-type {\n",
       "        vertical-align: middle;\n",
       "    }\n",
       "\n",
       "    .dataframe tbody tr th {\n",
       "        vertical-align: top;\n",
       "    }\n",
       "\n",
       "    .dataframe thead th {\n",
       "        text-align: right;\n",
       "    }\n",
       "</style>\n",
       "<table border=\"1\" class=\"dataframe\">\n",
       "  <thead>\n",
       "    <tr style=\"text-align: right;\">\n",
       "      <th></th>\n",
       "      <th>std</th>\n",
       "      <th>mean</th>\n",
       "      <th>var</th>\n",
       "    </tr>\n",
       "    <tr>\n",
       "      <th>month</th>\n",
       "      <th></th>\n",
       "      <th></th>\n",
       "      <th></th>\n",
       "    </tr>\n",
       "  </thead>\n",
       "  <tbody>\n",
       "    <tr>\n",
       "      <th>1</th>\n",
       "      <td>254.624034</td>\n",
       "      <td>404.777778</td>\n",
       "      <td>64833.398744</td>\n",
       "    </tr>\n",
       "    <tr>\n",
       "      <th>2</th>\n",
       "      <td>286.523987</td>\n",
       "      <td>297.872273</td>\n",
       "      <td>82095.994866</td>\n",
       "    </tr>\n",
       "    <tr>\n",
       "      <th>3</th>\n",
       "      <td>315.684713</td>\n",
       "      <td>462.359730</td>\n",
       "      <td>99656.837903</td>\n",
       "    </tr>\n",
       "    <tr>\n",
       "      <th>4</th>\n",
       "      <td>242.972410</td>\n",
       "      <td>448.188491</td>\n",
       "      <td>59035.591921</td>\n",
       "    </tr>\n",
       "    <tr>\n",
       "      <th>5</th>\n",
       "      <td>257.724131</td>\n",
       "      <td>508.995714</td>\n",
       "      <td>66421.727454</td>\n",
       "    </tr>\n",
       "    <tr>\n",
       "      <th>6</th>\n",
       "      <td>278.089169</td>\n",
       "      <td>472.879000</td>\n",
       "      <td>77333.585898</td>\n",
       "    </tr>\n",
       "    <tr>\n",
       "      <th>7</th>\n",
       "      <td>278.341276</td>\n",
       "      <td>536.229310</td>\n",
       "      <td>77473.865737</td>\n",
       "    </tr>\n",
       "    <tr>\n",
       "      <th>8</th>\n",
       "      <td>284.980479</td>\n",
       "      <td>503.304706</td>\n",
       "      <td>81213.873530</td>\n",
       "    </tr>\n",
       "    <tr>\n",
       "      <th>9</th>\n",
       "      <td>295.994269</td>\n",
       "      <td>530.340818</td>\n",
       "      <td>87612.607576</td>\n",
       "    </tr>\n",
       "    <tr>\n",
       "      <th>10</th>\n",
       "      <td>294.549008</td>\n",
       "      <td>551.323761</td>\n",
       "      <td>86759.117822</td>\n",
       "    </tr>\n",
       "    <tr>\n",
       "      <th>11</th>\n",
       "      <td>280.953981</td>\n",
       "      <td>532.850000</td>\n",
       "      <td>78935.139501</td>\n",
       "    </tr>\n",
       "    <tr>\n",
       "      <th>12</th>\n",
       "      <td>309.602464</td>\n",
       "      <td>583.058271</td>\n",
       "      <td>95853.686011</td>\n",
       "    </tr>\n",
       "  </tbody>\n",
       "</table>\n",
       "</div>"
      ],
      "text/plain": [
       "              std        mean           var\n",
       "month                                      \n",
       "1      254.624034  404.777778  64833.398744\n",
       "2      286.523987  297.872273  82095.994866\n",
       "3      315.684713  462.359730  99656.837903\n",
       "4      242.972410  448.188491  59035.591921\n",
       "5      257.724131  508.995714  66421.727454\n",
       "6      278.089169  472.879000  77333.585898\n",
       "7      278.341276  536.229310  77473.865737\n",
       "8      284.980479  503.304706  81213.873530\n",
       "9      295.994269  530.340818  87612.607576\n",
       "10     294.549008  551.323761  86759.117822\n",
       "11     280.953981  532.850000  78935.139501\n",
       "12     309.602464  583.058271  95853.686011"
      ]
     },
     "metadata": {},
     "output_type": "display_data"
    }
   ],
   "source": [
    "for i in cols:\n",
    "    print(i)\n",
    "    display(df[df['tariff'] == 'ultra'].groupby('month')[i].agg({'mean', 'var', 'std'}))"
   ]
  },
  {
   "cell_type": "code",
   "execution_count": 47,
   "metadata": {},
   "outputs": [],
   "source": [
    "smart = df[df['tariff'] == 'smart']\n",
    "ultra = df[df['tariff'] == 'ultra']"
   ]
  },
  {
   "cell_type": "markdown",
   "metadata": {},
   "source": [
    "Графики по тарифам и месяцам:"
   ]
  },
  {
   "cell_type": "code",
   "execution_count": 48,
   "metadata": {},
   "outputs": [
    {
     "data": {
      "image/png": "[encoded data removed]",
      "text/plain": [
       "<Figure size 432x288 with 1 Axes>"
      ]
     },
     "metadata": {},
     "output_type": "display_data"
    },
    {
     "data": {
      "image/png": "[encoded data removed]",
      "text/plain": [
       "<Figure size 432x288 with 1 Axes>"
      ]
     },
     "metadata": {},
     "output_type": "display_data"
    },
    {
     "data": {
      "image/png": "[encoded data removed]",
      "text/plain": [
       "<Figure size 432x288 with 1 Axes>"
      ]
     },
     "metadata": {},
     "output_type": "display_data"
    },
    {
     "data": {
      "image/png": "[encoded data removed]",
      "text/plain": [
       "<Figure size 432x288 with 1 Axes>"
      ]
     },
     "metadata": {},
     "output_type": "display_data"
    }
   ],
   "source": [
    "for i in cols:\n",
    "    plt.figure(i)\n",
    "    smart.groupby('month')[i].mean().plot(kind='bar', title=f'smart {i}')"
   ]
  },
  {
   "cell_type": "code",
   "execution_count": 49,
   "metadata": {
    "scrolled": false
   },
   "outputs": [
    {
     "data": {
      "image/png": "[encoded data removed]",
      "text/plain": [
       "<Figure size 432x288 with 1 Axes>"
      ]
     },
     "metadata": {},
     "output_type": "display_data"
    },
    {
     "data": {
      "image/png": "[encoded data removed]",
      "text/plain": [
       "<Figure size 432x288 with 1 Axes>"
      ]
     },
     "metadata": {},
     "output_type": "display_data"
    },
    {
     "data": {
      "image/png": "[encoded data removed]",
      "text/plain": [
       "<Figure size 432x288 with 1 Axes>"
      ]
     },
     "metadata": {},
     "output_type": "display_data"
    },
    {
     "data": {
      "image/png": "[encoded data removed]",
      "text/plain": [
       "<Figure size 432x288 with 1 Axes>"
      ]
     },
     "metadata": {},
     "output_type": "display_data"
    }
   ],
   "source": [
    "for i in cols:\n",
    "    plt.figure(i)\n",
    "    ultra.groupby('month')[i].mean().plot(kind='bar', title=f'ultra {i}')"
   ]
  },
  {
   "cell_type": "code",
   "execution_count": 50,
   "metadata": {},
   "outputs": [
    {
     "data": {
      "image/png": "[encoded data removed]",
      "text/plain": [
       "<Figure size 432x288 with 1 Axes>"
      ]
     },
     "metadata": {},
     "output_type": "display_data"
    },
    {
     "data": {
      "image/png": "[encoded data removed]",
      "text/plain": [
       "<Figure size 432x288 with 1 Axes>"
      ]
     },
     "metadata": {},
     "output_type": "display_data"
    },
    {
     "data": {
      "image/png": "[encoded data removed]",
      "text/plain": [
       "<Figure size 432x288 with 1 Axes>"
      ]
     },
     "metadata": {},
     "output_type": "display_data"
    },
    {
     "data": {
      "image/png": "[encoded data removed]",
      "text/plain": [
       "<Figure size 432x288 with 1 Axes>"
      ]
     },
     "metadata": {},
     "output_type": "display_data"
    }
   ],
   "source": [
    "for i in cols:\n",
    "    plt.figure(i)\n",
    "    dots = df.groupby(['tariff', 'month'])[i].mean().reset_index()\n",
    "    sns.barplot(data=dots, x='month', y=i, hue='tariff')"
   ]
  },
  {
   "cell_type": "code",
   "execution_count": 51,
   "metadata": {
    "scrolled": false
   },
   "outputs": [
    {
     "data": {
      "text/plain": [
       "<AxesSubplot:xlabel='month', ylabel='revenue'>"
      ]
     },
     "execution_count": 51,
     "metadata": {},
     "output_type": "execute_result"
    },
    {
     "data": {
      "image/png": "[encoded data removed]",
      "text/plain": [
       "<Figure size 432x288 with 1 Axes>"
      ]
     },
     "metadata": {},
     "output_type": "display_data"
    }
   ],
   "source": [
    "rev_tariff_month = df.groupby(['tariff', 'month'])['revenue'].mean().reset_index()\n",
    "sns.barplot(data=rev_tariff_month, x='month', y='revenue', hue='tariff')"
   ]
  },
  {
   "cell_type": "code",
   "execution_count": 52,
   "metadata": {},
   "outputs": [
    {
     "data": {
      "text/plain": [
       "<AxesSubplot:xlabel='tariff', ylabel='revenue'>"
      ]
     },
     "execution_count": 52,
     "metadata": {},
     "output_type": "execute_result"
    },
    {
     "data": {
      "image/png": "[encoded data removed]",
      "text/plain": [
       "<Figure size 432x288 with 1 Axes>"
      ]
     },
     "metadata": {},
     "output_type": "display_data"
    }
   ],
   "source": [
    "sns.barplot(data=rev_tariff_month, y='revenue', x='tariff')"
   ]
  },
  {
   "cell_type": "markdown",
   "metadata": {},
   "source": [
    "Из графиков видно, что от начала года к его концу потребление всех видов связи растет. В какие то месяцы бывают провалы, но в целом к концу года показатели увеличиваются.\n",
    "\n",
    "Средние показатели по каждому тарифу в месяц различны, значения больше у более дорогого тарифа, потому как тарифных звонков, месседжей и интернета там больше.\n",
    "\n",
    "\n",
    "upd\n",
    "По финальному графику доходов тарифов в каждый месяц видно, что тариф `ultra` приносит в среднем каждый месяц примерно в два раза больше денег, чем `smart`. Так же тратят связи больше на тарифе `ultra`."
   ]
  },
  {
   "cell_type": "markdown",
   "metadata": {},
   "source": [
    "## Проверка гипотез"
   ]
  },
  {
   "cell_type": "markdown",
   "metadata": {},
   "source": [
    "У нас есть две гипотезы, которые необходимо проверить:\n",
    "* средняя выручка пользователей тарифов «Ультра» и «Смарт» различаются\n",
    "* средняя выручка пользователей из Москвы отличается от выручки пользователей из других регионов\n",
    "\n",
    "Пороговое значение уровня значимости alpha обозначим в 5%."
   ]
  },
  {
   "cell_type": "markdown",
   "metadata": {},
   "source": [
    "Первая гипотеза: \n",
    "\n",
    "средняя выручка пользователей тарифов «Ультра» и «Смарт» различаются\n",
    "\n",
    "Тогда **H0** будет звучать так:\n",
    "\n",
    "_Средние значение выручки тарифов Ультра и Смарт имеют значимые различия_\n",
    "\n",
    "**H1** - _Средние значение выручки тарифов Ультра и Смарт не имеют значимых различий_"
   ]
  },
  {
   "cell_type": "markdown",
   "metadata": {},
   "source": [
    "Чтобы это проверить, нужно выбрать тест, который будем использовать.\n",
    "\n",
    "Это будет t-test для двух независимых выборок. Выбираем именно его, потому что выборки у нас независимые(не парные) и их две. Так же нужно учесть, что дисперсия будет разной и размеры выборок тоже, поэтому нужно указать параметр `equal_var = False`"
   ]
  },
  {
   "cell_type": "code",
   "execution_count": 53,
   "metadata": {},
   "outputs": [
    {
     "name": "stdout",
     "output_type": "stream",
     "text": [
      "p-value: 1.2504272593344577e-08\n",
      "Есть значимые различия, отвергаем H0\n"
     ]
    }
   ],
   "source": [
    "alpha = 0.05\n",
    "\n",
    "res = st.ttest_ind(\n",
    "    smart.groupby('month')['revenue'].mean(),\n",
    "    ultra.groupby('month')['revenue'].mean(),\n",
    "    equal_var=False)\n",
    "\n",
    "print(f'p-value: {res.pvalue}')\n",
    "if res.pvalue < alpha:\n",
    "    print('Есть значимые различия, отвергаем H0')\n",
    "else:\n",
    "    print('Нет значимых различий, отвергаем H1')"
   ]
  },
  {
   "cell_type": "markdown",
   "metadata": {},
   "source": [
    "Проверим вторую гипотезу: средняя выручка пользователей из Москвы отличается от выручки пользователей из других регионов.\n",
    "\n",
    "**H0** - _Средняя выручка пользователей Москвы имеет значимые различия сравнимо с пользователями других регионов_\n",
    "\n",
    "**H1** - _Средняя выручка пользователей Москвы не имеет значимых различий сравнимо с пользователями других регионов_\n",
    "\n",
    "Тест будем применять такой же как и в первый раз."
   ]
  },
  {
   "cell_type": "code",
   "execution_count": 54,
   "metadata": {},
   "outputs": [
    {
     "data": {
      "text/plain": [
       "array(['Краснодар', 'Москва', 'Стерлитамак', 'Новокузнецк',\n",
       "       'Набережные Челны', 'Ульяновск', 'Челябинск', 'Пермь', 'Тюмень',\n",
       "       'Самара', 'Санкт-Петербург', 'Иваново', 'Чебоксары', 'Омск', 'Уфа',\n",
       "       'Томск', 'Чита', 'Мурманск', 'Петрозаводск', 'Тверь',\n",
       "       'Екатеринбург', 'Махачкала', 'Вологда', 'Череповец', 'Ярославль',\n",
       "       'Сочи', 'Хабаровск', 'Ставрополь', 'Рязань', 'Улан-Удэ', 'Тула',\n",
       "       'Саратов', 'Ростов-на-Дону', 'Казань', 'Иркутск', 'Курск',\n",
       "       'Калуга', 'Якутск', 'Астрахань', 'Химки', 'Владикавказ',\n",
       "       'Волгоград', 'Саранск', 'Ижевск', 'Новосибирск', 'Брянск',\n",
       "       'Тольятти', 'Нижний Тагил', 'Орёл', 'Белгород', 'Воронеж',\n",
       "       'Курган', 'Барнаул', 'Красноярск', 'Архангельск', 'Липецк',\n",
       "       'Кемерово', 'Киров', 'Сургут', 'Пенза', 'Волжский', 'Магнитогорск',\n",
       "       'Нижний Новгород', 'Кострома', 'Владивосток', 'Тамбов', 'Балашиха',\n",
       "       'Севастополь', 'Калининград', 'Оренбург', 'Смоленск',\n",
       "       'Нижневартовск', 'Владимир', 'Новороссийск', 'Грозный', 'Подольск'],\n",
       "      dtype=object)"
      ]
     },
     "execution_count": 54,
     "metadata": {},
     "output_type": "execute_result"
    }
   ],
   "source": [
    "# Проверили значения, чтобы убедиться, что Москва тут только одна\n",
    "df['city'].unique()"
   ]
  },
  {
   "cell_type": "code",
   "execution_count": 55,
   "metadata": {},
   "outputs": [
    {
     "name": "stdout",
     "output_type": "stream",
     "text": [
      "pvalue: 0.22685366511333724\n",
      "Нет значимых различий, отвергаем H1\n"
     ]
    }
   ],
   "source": [
    "moscow = df[df['city'] == 'Москва']\n",
    "others = df[df['city'] != 'Москва']\n",
    "\n",
    "alpha = .05\n",
    "\n",
    "res = st.ttest_ind(moscow.groupby('month')['revenue'].mean(), \n",
    "                   others.groupby('month')['revenue'].mean(),\n",
    "                   equal_var=False)\n",
    "\n",
    "print(f'pvalue: {res.pvalue}')\n",
    "if res.pvalue < alpha:\n",
    "    print('Есть значимые различия, отвергаем H0')\n",
    "else:\n",
    "    print('Нет значимых различий, отвергаем H1')"
   ]
  },
  {
   "cell_type": "markdown",
   "metadata": {},
   "source": [
    "## Вывод"
   ]
  },
  {
   "cell_type": "markdown",
   "metadata": {},
   "source": [
    "Были изучены данные по 500 пользователям компании \"Мегалайн\". В данных не было обнаружено пропусков.\n",
    "\n",
    "Анализ данных показал, что помесячно за год в среднем потребление услуг увеличивалось.\n",
    "\n",
    "Так же были рассмотрены и проверены две гипотезы. По результатам тестов можно утверждать, что по данной выборке средние значения выручки у двух тарифов имеют существенные различия и, что Московская выручка и выручка с остальных регионов не отличается.\n",
    "\n",
    "Графики общей выручки по месяцам и за год показывают, что тариф `ultra` приносит значительно больше денег. Гипотеза о существенном различии выручки это так же подтверждает(максимальная выручка в месяц у тарифа `smart` примерно 1500, у тарифа `ultra` около 2000). Я бы рекомендовал увеличить рекламный бюджет в пользу тарифа `ultra`. \n",
    "\n",
    "Так же было бы хорошо провести новое исследование - проанализировать ценовую политику менее доходного тарифа `smart` и понять, как можно увеличить его показатели выручки."
   ]
  }
 ],
 "metadata": {
  "ExecuteTimeLog": [
   {
    "duration": 46,
    "start_time": "2022-05-13T08:40:44.585Z"
   },
   {
    "duration": 1433,
    "start_time": "2022-05-13T08:40:51.003Z"
   },
   {
    "duration": 173,
    "start_time": "2022-05-13T08:40:52.438Z"
   },
   {
    "duration": 0,
    "start_time": "2022-05-13T08:40:52.615Z"
   },
   {
    "duration": 0,
    "start_time": "2022-05-13T08:40:52.617Z"
   },
   {
    "duration": 0,
    "start_time": "2022-05-13T08:40:52.618Z"
   },
   {
    "duration": 0,
    "start_time": "2022-05-13T08:40:52.619Z"
   },
   {
    "duration": 0,
    "start_time": "2022-05-13T08:40:52.621Z"
   },
   {
    "duration": 0,
    "start_time": "2022-05-13T08:40:52.622Z"
   },
   {
    "duration": 0,
    "start_time": "2022-05-13T08:40:52.623Z"
   },
   {
    "duration": 0,
    "start_time": "2022-05-13T08:40:52.624Z"
   },
   {
    "duration": 0,
    "start_time": "2022-05-13T08:40:52.626Z"
   },
   {
    "duration": 0,
    "start_time": "2022-05-13T08:40:52.627Z"
   },
   {
    "duration": 0,
    "start_time": "2022-05-13T08:40:52.628Z"
   },
   {
    "duration": 0,
    "start_time": "2022-05-13T08:40:52.630Z"
   },
   {
    "duration": 0,
    "start_time": "2022-05-13T08:40:52.631Z"
   },
   {
    "duration": 0,
    "start_time": "2022-05-13T08:40:52.632Z"
   },
   {
    "duration": 1,
    "start_time": "2022-05-13T08:40:52.633Z"
   },
   {
    "duration": 0,
    "start_time": "2022-05-13T08:40:52.635Z"
   },
   {
    "duration": 0,
    "start_time": "2022-05-13T08:40:52.637Z"
   },
   {
    "duration": 0,
    "start_time": "2022-05-13T08:40:52.639Z"
   },
   {
    "duration": 0,
    "start_time": "2022-05-13T08:40:52.640Z"
   },
   {
    "duration": 0,
    "start_time": "2022-05-13T08:40:52.641Z"
   },
   {
    "duration": 0,
    "start_time": "2022-05-13T08:40:52.642Z"
   },
   {
    "duration": 0,
    "start_time": "2022-05-13T08:40:52.644Z"
   },
   {
    "duration": 0,
    "start_time": "2022-05-13T08:40:52.645Z"
   },
   {
    "duration": 0,
    "start_time": "2022-05-13T08:40:52.646Z"
   },
   {
    "duration": 0,
    "start_time": "2022-05-13T08:40:52.647Z"
   },
   {
    "duration": 0,
    "start_time": "2022-05-13T08:40:52.648Z"
   },
   {
    "duration": 0,
    "start_time": "2022-05-13T08:40:52.649Z"
   },
   {
    "duration": 0,
    "start_time": "2022-05-13T08:40:52.650Z"
   },
   {
    "duration": 0,
    "start_time": "2022-05-13T08:40:52.700Z"
   },
   {
    "duration": 0,
    "start_time": "2022-05-13T08:40:52.701Z"
   },
   {
    "duration": 0,
    "start_time": "2022-05-13T08:40:52.702Z"
   },
   {
    "duration": 0,
    "start_time": "2022-05-13T08:40:52.703Z"
   },
   {
    "duration": 0,
    "start_time": "2022-05-13T08:40:52.704Z"
   },
   {
    "duration": 0,
    "start_time": "2022-05-13T08:40:52.706Z"
   },
   {
    "duration": 0,
    "start_time": "2022-05-13T08:40:52.706Z"
   },
   {
    "duration": 0,
    "start_time": "2022-05-13T08:40:52.707Z"
   },
   {
    "duration": 0,
    "start_time": "2022-05-13T08:40:52.708Z"
   },
   {
    "duration": 0,
    "start_time": "2022-05-13T08:40:52.709Z"
   },
   {
    "duration": 0,
    "start_time": "2022-05-13T08:40:52.710Z"
   },
   {
    "duration": 0,
    "start_time": "2022-05-13T08:40:52.711Z"
   },
   {
    "duration": 0,
    "start_time": "2022-05-13T08:40:52.712Z"
   },
   {
    "duration": 0,
    "start_time": "2022-05-13T08:40:52.713Z"
   },
   {
    "duration": 0,
    "start_time": "2022-05-13T08:40:52.714Z"
   },
   {
    "duration": 0,
    "start_time": "2022-05-13T08:40:52.714Z"
   },
   {
    "duration": 0,
    "start_time": "2022-05-13T08:40:52.716Z"
   },
   {
    "duration": 1,
    "start_time": "2022-05-13T08:40:52.716Z"
   },
   {
    "duration": 0,
    "start_time": "2022-05-13T08:40:52.718Z"
   },
   {
    "duration": 0,
    "start_time": "2022-05-13T08:40:52.719Z"
   },
   {
    "duration": 0,
    "start_time": "2022-05-13T08:40:52.720Z"
   },
   {
    "duration": 0,
    "start_time": "2022-05-13T08:40:52.721Z"
   },
   {
    "duration": 3,
    "start_time": "2022-05-13T08:41:13.609Z"
   },
   {
    "duration": 549,
    "start_time": "2022-05-13T08:41:13.615Z"
   },
   {
    "duration": 19,
    "start_time": "2022-05-13T08:41:14.166Z"
   },
   {
    "duration": 39,
    "start_time": "2022-05-13T08:41:14.188Z"
   },
   {
    "duration": 16,
    "start_time": "2022-05-13T08:41:14.229Z"
   },
   {
    "duration": 33,
    "start_time": "2022-05-13T08:41:14.246Z"
   },
   {
    "duration": 13,
    "start_time": "2022-05-13T08:41:14.301Z"
   },
   {
    "duration": 32,
    "start_time": "2022-05-13T08:41:14.315Z"
   },
   {
    "duration": 11,
    "start_time": "2022-05-13T08:41:14.349Z"
   },
   {
    "duration": 13,
    "start_time": "2022-05-13T08:41:14.363Z"
   },
   {
    "duration": 38,
    "start_time": "2022-05-13T08:41:14.378Z"
   },
   {
    "duration": 13,
    "start_time": "2022-05-13T08:41:14.418Z"
   },
   {
    "duration": 136,
    "start_time": "2022-05-13T08:41:14.433Z"
   },
   {
    "duration": 5,
    "start_time": "2022-05-13T08:41:14.571Z"
   },
   {
    "duration": 50,
    "start_time": "2022-05-13T08:41:14.578Z"
   },
   {
    "duration": 34,
    "start_time": "2022-05-13T08:41:14.630Z"
   },
   {
    "duration": 39,
    "start_time": "2022-05-13T08:41:14.666Z"
   },
   {
    "duration": 40,
    "start_time": "2022-05-13T08:41:14.707Z"
   },
   {
    "duration": 24,
    "start_time": "2022-05-13T08:41:14.749Z"
   },
   {
    "duration": 30,
    "start_time": "2022-05-13T08:41:14.774Z"
   },
   {
    "duration": 51,
    "start_time": "2022-05-13T08:41:14.806Z"
   },
   {
    "duration": 11,
    "start_time": "2022-05-13T08:41:14.859Z"
   },
   {
    "duration": 9,
    "start_time": "2022-05-13T08:41:14.871Z"
   },
   {
    "duration": 34,
    "start_time": "2022-05-13T08:41:14.900Z"
   },
   {
    "duration": 10,
    "start_time": "2022-05-13T08:41:14.936Z"
   },
   {
    "duration": 10,
    "start_time": "2022-05-13T08:41:14.948Z"
   },
   {
    "duration": 61,
    "start_time": "2022-05-13T08:41:14.959Z"
   },
   {
    "duration": 12,
    "start_time": "2022-05-13T08:41:15.024Z"
   },
   {
    "duration": 18,
    "start_time": "2022-05-13T08:41:15.038Z"
   },
   {
    "duration": 15,
    "start_time": "2022-05-13T08:41:15.058Z"
   },
   {
    "duration": 25,
    "start_time": "2022-05-13T08:41:15.075Z"
   },
   {
    "duration": 24,
    "start_time": "2022-05-13T08:41:15.102Z"
   },
   {
    "duration": 6,
    "start_time": "2022-05-13T08:41:15.128Z"
   },
   {
    "duration": 18,
    "start_time": "2022-05-13T08:41:15.136Z"
   },
   {
    "duration": 7,
    "start_time": "2022-05-13T08:41:15.156Z"
   },
   {
    "duration": 37,
    "start_time": "2022-05-13T08:41:15.165Z"
   },
   {
    "duration": 6,
    "start_time": "2022-05-13T08:41:15.203Z"
   },
   {
    "duration": 12,
    "start_time": "2022-05-13T08:41:15.210Z"
   },
   {
    "duration": 14,
    "start_time": "2022-05-13T08:41:15.223Z"
   },
   {
    "duration": 5,
    "start_time": "2022-05-13T08:41:15.238Z"
   },
   {
    "duration": 19,
    "start_time": "2022-05-13T08:41:15.245Z"
   },
   {
    "duration": 4,
    "start_time": "2022-05-13T08:41:15.265Z"
   },
   {
    "duration": 40,
    "start_time": "2022-05-13T08:41:15.271Z"
   },
   {
    "duration": 0,
    "start_time": "2022-05-13T08:41:15.313Z"
   },
   {
    "duration": 0,
    "start_time": "2022-05-13T08:41:15.314Z"
   },
   {
    "duration": 0,
    "start_time": "2022-05-13T08:41:15.315Z"
   },
   {
    "duration": 0,
    "start_time": "2022-05-13T08:41:15.316Z"
   },
   {
    "duration": 0,
    "start_time": "2022-05-13T08:41:15.317Z"
   },
   {
    "duration": 0,
    "start_time": "2022-05-13T08:41:15.318Z"
   },
   {
    "duration": 0,
    "start_time": "2022-05-13T08:41:15.319Z"
   },
   {
    "duration": 0,
    "start_time": "2022-05-13T08:41:15.320Z"
   },
   {
    "duration": 0,
    "start_time": "2022-05-13T08:41:15.321Z"
   },
   {
    "duration": 781,
    "start_time": "2022-05-13T08:41:49.913Z"
   },
   {
    "duration": 3,
    "start_time": "2022-05-13T08:44:52.146Z"
   },
   {
    "duration": 415,
    "start_time": "2022-05-13T08:44:52.151Z"
   },
   {
    "duration": 10,
    "start_time": "2022-05-13T08:44:52.568Z"
   },
   {
    "duration": 33,
    "start_time": "2022-05-13T08:44:52.580Z"
   },
   {
    "duration": 13,
    "start_time": "2022-05-13T08:44:52.614Z"
   },
   {
    "duration": 37,
    "start_time": "2022-05-13T08:44:52.629Z"
   },
   {
    "duration": 19,
    "start_time": "2022-05-13T08:44:52.669Z"
   },
   {
    "duration": 28,
    "start_time": "2022-05-13T08:44:52.690Z"
   },
   {
    "duration": 22,
    "start_time": "2022-05-13T08:44:52.720Z"
   },
   {
    "duration": 30,
    "start_time": "2022-05-13T08:44:52.744Z"
   },
   {
    "duration": 28,
    "start_time": "2022-05-13T08:44:52.776Z"
   },
   {
    "duration": 26,
    "start_time": "2022-05-13T08:44:52.806Z"
   },
   {
    "duration": 92,
    "start_time": "2022-05-13T08:44:52.834Z"
   },
   {
    "duration": 5,
    "start_time": "2022-05-13T08:44:52.928Z"
   },
   {
    "duration": 49,
    "start_time": "2022-05-13T08:44:52.934Z"
   },
   {
    "duration": 23,
    "start_time": "2022-05-13T08:44:52.984Z"
   },
   {
    "duration": 15,
    "start_time": "2022-05-13T08:44:53.009Z"
   },
   {
    "duration": 37,
    "start_time": "2022-05-13T08:44:53.026Z"
   },
   {
    "duration": 17,
    "start_time": "2022-05-13T08:44:53.065Z"
   },
   {
    "duration": 29,
    "start_time": "2022-05-13T08:44:53.084Z"
   },
   {
    "duration": 54,
    "start_time": "2022-05-13T08:44:53.115Z"
   },
   {
    "duration": 14,
    "start_time": "2022-05-13T08:44:53.171Z"
   },
   {
    "duration": 22,
    "start_time": "2022-05-13T08:44:53.187Z"
   },
   {
    "duration": 56,
    "start_time": "2022-05-13T08:44:53.214Z"
   },
   {
    "duration": 12,
    "start_time": "2022-05-13T08:44:53.272Z"
   },
   {
    "duration": 8,
    "start_time": "2022-05-13T08:44:53.286Z"
   },
   {
    "duration": 57,
    "start_time": "2022-05-13T08:44:53.295Z"
   },
   {
    "duration": 12,
    "start_time": "2022-05-13T08:44:53.353Z"
   },
   {
    "duration": 32,
    "start_time": "2022-05-13T08:44:53.367Z"
   },
   {
    "duration": 25,
    "start_time": "2022-05-13T08:44:53.401Z"
   },
   {
    "duration": 23,
    "start_time": "2022-05-13T08:44:53.427Z"
   },
   {
    "duration": 41,
    "start_time": "2022-05-13T08:44:53.452Z"
   },
   {
    "duration": 24,
    "start_time": "2022-05-13T08:44:53.495Z"
   },
   {
    "duration": 18,
    "start_time": "2022-05-13T08:44:53.521Z"
   },
   {
    "duration": 15,
    "start_time": "2022-05-13T08:44:53.541Z"
   },
   {
    "duration": 21,
    "start_time": "2022-05-13T08:44:53.558Z"
   },
   {
    "duration": 15,
    "start_time": "2022-05-13T08:44:53.581Z"
   },
   {
    "duration": 22,
    "start_time": "2022-05-13T08:44:53.597Z"
   },
   {
    "duration": 25,
    "start_time": "2022-05-13T08:44:53.621Z"
   },
   {
    "duration": 10,
    "start_time": "2022-05-13T08:44:53.648Z"
   },
   {
    "duration": 32,
    "start_time": "2022-05-13T08:44:53.660Z"
   },
   {
    "duration": 22,
    "start_time": "2022-05-13T08:44:53.694Z"
   },
   {
    "duration": 891,
    "start_time": "2022-05-13T08:44:53.718Z"
   },
   {
    "duration": 666,
    "start_time": "2022-05-13T08:44:54.611Z"
   },
   {
    "duration": 47,
    "start_time": "2022-05-13T08:44:55.279Z"
   },
   {
    "duration": 38,
    "start_time": "2022-05-13T08:44:55.328Z"
   },
   {
    "duration": 35,
    "start_time": "2022-05-13T08:44:55.368Z"
   },
   {
    "duration": 532,
    "start_time": "2022-05-13T08:44:55.405Z"
   },
   {
    "duration": 715,
    "start_time": "2022-05-13T08:44:55.938Z"
   },
   {
    "duration": 8,
    "start_time": "2022-05-13T08:44:56.655Z"
   },
   {
    "duration": 15,
    "start_time": "2022-05-13T08:44:56.665Z"
   },
   {
    "duration": 22,
    "start_time": "2022-05-13T08:44:56.682Z"
   },
   {
    "duration": 3,
    "start_time": "2022-05-13T08:49:20.412Z"
   },
   {
    "duration": 414,
    "start_time": "2022-05-13T08:49:20.417Z"
   },
   {
    "duration": 11,
    "start_time": "2022-05-13T08:49:20.833Z"
   },
   {
    "duration": 27,
    "start_time": "2022-05-13T08:49:20.847Z"
   },
   {
    "duration": 11,
    "start_time": "2022-05-13T08:49:20.876Z"
   },
   {
    "duration": 24,
    "start_time": "2022-05-13T08:49:20.889Z"
   },
   {
    "duration": 9,
    "start_time": "2022-05-13T08:49:20.915Z"
   },
   {
    "duration": 19,
    "start_time": "2022-05-13T08:49:20.927Z"
   },
   {
    "duration": 8,
    "start_time": "2022-05-13T08:49:20.948Z"
   },
   {
    "duration": 12,
    "start_time": "2022-05-13T08:49:20.957Z"
   },
   {
    "duration": 38,
    "start_time": "2022-05-13T08:49:20.971Z"
   },
   {
    "duration": 21,
    "start_time": "2022-05-13T08:49:21.011Z"
   },
   {
    "duration": 80,
    "start_time": "2022-05-13T08:49:21.033Z"
   },
   {
    "duration": 4,
    "start_time": "2022-05-13T08:49:21.115Z"
   },
   {
    "duration": 30,
    "start_time": "2022-05-13T08:49:21.121Z"
   },
   {
    "duration": 25,
    "start_time": "2022-05-13T08:49:21.152Z"
   },
   {
    "duration": 42,
    "start_time": "2022-05-13T08:49:21.179Z"
   },
   {
    "duration": 28,
    "start_time": "2022-05-13T08:49:21.223Z"
   },
   {
    "duration": 18,
    "start_time": "2022-05-13T08:49:21.253Z"
   },
   {
    "duration": 37,
    "start_time": "2022-05-13T08:49:21.272Z"
   },
   {
    "duration": 52,
    "start_time": "2022-05-13T08:49:21.310Z"
   },
   {
    "duration": 12,
    "start_time": "2022-05-13T08:49:21.364Z"
   },
   {
    "duration": 23,
    "start_time": "2022-05-13T08:49:21.377Z"
   },
   {
    "duration": 34,
    "start_time": "2022-05-13T08:49:21.402Z"
   },
   {
    "duration": 11,
    "start_time": "2022-05-13T08:49:21.437Z"
   },
   {
    "duration": 8,
    "start_time": "2022-05-13T08:49:21.451Z"
   },
   {
    "duration": 55,
    "start_time": "2022-05-13T08:49:21.461Z"
   },
   {
    "duration": 11,
    "start_time": "2022-05-13T08:49:21.518Z"
   },
   {
    "duration": 16,
    "start_time": "2022-05-13T08:49:21.531Z"
   },
   {
    "duration": 15,
    "start_time": "2022-05-13T08:49:21.548Z"
   },
   {
    "duration": 3,
    "start_time": "2022-05-13T08:49:21.565Z"
   },
   {
    "duration": 52,
    "start_time": "2022-05-13T08:49:21.569Z"
   },
   {
    "duration": 8,
    "start_time": "2022-05-13T08:49:21.623Z"
   },
   {
    "duration": 12,
    "start_time": "2022-05-13T08:49:21.632Z"
   },
   {
    "duration": 7,
    "start_time": "2022-05-13T08:49:21.646Z"
   },
   {
    "duration": 8,
    "start_time": "2022-05-13T08:49:21.654Z"
   },
   {
    "duration": 6,
    "start_time": "2022-05-13T08:49:21.663Z"
   },
   {
    "duration": 30,
    "start_time": "2022-05-13T08:49:21.671Z"
   },
   {
    "duration": 21,
    "start_time": "2022-05-13T08:49:21.702Z"
   },
   {
    "duration": 11,
    "start_time": "2022-05-13T08:49:21.725Z"
   },
   {
    "duration": 26,
    "start_time": "2022-05-13T08:49:21.738Z"
   },
   {
    "duration": 13,
    "start_time": "2022-05-13T08:49:21.766Z"
   },
   {
    "duration": 90588,
    "start_time": "2022-05-13T08:49:21.781Z"
   },
   {
    "duration": 669,
    "start_time": "2022-05-13T08:50:52.371Z"
   },
   {
    "duration": 36,
    "start_time": "2022-05-13T08:50:53.042Z"
   },
   {
    "duration": 54,
    "start_time": "2022-05-13T08:50:53.079Z"
   },
   {
    "duration": 5,
    "start_time": "2022-05-13T08:50:53.135Z"
   },
   {
    "duration": 562,
    "start_time": "2022-05-13T08:50:53.142Z"
   },
   {
    "duration": 501,
    "start_time": "2022-05-13T08:50:53.705Z"
   },
   {
    "duration": 6,
    "start_time": "2022-05-13T08:50:54.208Z"
   },
   {
    "duration": 11,
    "start_time": "2022-05-13T08:50:54.215Z"
   },
   {
    "duration": 18,
    "start_time": "2022-05-13T08:50:54.227Z"
   },
   {
    "duration": 22,
    "start_time": "2022-05-13T11:35:15.244Z"
   },
   {
    "duration": 18,
    "start_time": "2022-05-13T11:35:41.723Z"
   },
   {
    "duration": 979,
    "start_time": "2022-05-13T11:38:00.869Z"
   },
   {
    "duration": 263,
    "start_time": "2022-05-13T11:38:41.057Z"
   },
   {
    "duration": 16,
    "start_time": "2022-05-13T11:39:12.379Z"
   },
   {
    "duration": 159,
    "start_time": "2022-05-13T11:39:16.395Z"
   },
   {
    "duration": 17,
    "start_time": "2022-05-13T11:39:19.554Z"
   },
   {
    "duration": 17,
    "start_time": "2022-05-13T11:39:24.395Z"
   },
   {
    "duration": 15,
    "start_time": "2022-05-13T11:39:28.218Z"
   },
   {
    "duration": 6,
    "start_time": "2022-05-13T12:03:17.621Z"
   },
   {
    "duration": 7,
    "start_time": "2022-05-13T12:03:38.677Z"
   },
   {
    "duration": 174,
    "start_time": "2022-05-13T12:04:43.389Z"
   },
   {
    "duration": 16,
    "start_time": "2022-05-13T12:04:51.588Z"
   },
   {
    "duration": 16,
    "start_time": "2022-05-13T12:05:00.757Z"
   },
   {
    "duration": 125,
    "start_time": "2022-05-13T12:05:11.026Z"
   },
   {
    "duration": 151,
    "start_time": "2022-05-13T12:05:18.315Z"
   },
   {
    "duration": 11,
    "start_time": "2022-05-13T12:05:34.732Z"
   },
   {
    "duration": 164,
    "start_time": "2022-05-13T12:06:05.770Z"
   },
   {
    "duration": 185,
    "start_time": "2022-05-13T12:32:48.155Z"
   },
   {
    "duration": 14,
    "start_time": "2022-05-13T12:33:06.448Z"
   },
   {
    "duration": 278,
    "start_time": "2022-05-13T12:33:31.007Z"
   },
   {
    "duration": 342,
    "start_time": "2022-05-13T12:33:39.041Z"
   },
   {
    "duration": 349,
    "start_time": "2022-05-13T12:33:46.422Z"
   },
   {
    "duration": 342,
    "start_time": "2022-05-13T12:33:52.178Z"
   },
   {
    "duration": 288,
    "start_time": "2022-05-13T12:33:58.976Z"
   },
   {
    "duration": 199,
    "start_time": "2022-05-13T12:35:11.621Z"
   },
   {
    "duration": 190,
    "start_time": "2022-05-13T12:35:14.084Z"
   },
   {
    "duration": 196,
    "start_time": "2022-05-13T12:35:21.041Z"
   },
   {
    "duration": 166,
    "start_time": "2022-05-13T12:36:07.274Z"
   },
   {
    "duration": 116,
    "start_time": "2022-05-13T12:36:11.522Z"
   },
   {
    "duration": 266,
    "start_time": "2022-05-13T12:36:24.651Z"
   },
   {
    "duration": 271,
    "start_time": "2022-05-13T12:36:26.602Z"
   },
   {
    "duration": 9,
    "start_time": "2022-05-13T12:47:27.794Z"
   },
   {
    "duration": 5,
    "start_time": "2022-05-13T12:47:32.586Z"
   },
   {
    "duration": 4,
    "start_time": "2022-05-13T12:47:35.365Z"
   },
   {
    "duration": 475,
    "start_time": "2022-05-13T12:47:35.371Z"
   },
   {
    "duration": 14,
    "start_time": "2022-05-13T12:47:35.848Z"
   },
   {
    "duration": 41,
    "start_time": "2022-05-13T12:47:35.865Z"
   },
   {
    "duration": 15,
    "start_time": "2022-05-13T12:47:35.908Z"
   },
   {
    "duration": 39,
    "start_time": "2022-05-13T12:47:35.925Z"
   },
   {
    "duration": 11,
    "start_time": "2022-05-13T12:47:35.966Z"
   },
   {
    "duration": 19,
    "start_time": "2022-05-13T12:47:36.001Z"
   },
   {
    "duration": 11,
    "start_time": "2022-05-13T12:47:36.024Z"
   },
   {
    "duration": 20,
    "start_time": "2022-05-13T12:47:36.037Z"
   },
   {
    "duration": 23,
    "start_time": "2022-05-13T12:47:36.059Z"
   },
   {
    "duration": 26,
    "start_time": "2022-05-13T12:47:36.087Z"
   },
   {
    "duration": 80,
    "start_time": "2022-05-13T12:47:36.114Z"
   },
   {
    "duration": 7,
    "start_time": "2022-05-13T12:47:36.196Z"
   },
   {
    "duration": 48,
    "start_time": "2022-05-13T12:47:36.205Z"
   },
   {
    "duration": 51,
    "start_time": "2022-05-13T12:47:36.256Z"
   },
   {
    "duration": 21,
    "start_time": "2022-05-13T12:47:36.309Z"
   },
   {
    "duration": 29,
    "start_time": "2022-05-13T12:47:36.332Z"
   },
   {
    "duration": 42,
    "start_time": "2022-05-13T12:47:36.363Z"
   },
   {
    "duration": 12,
    "start_time": "2022-05-13T12:47:36.407Z"
   },
   {
    "duration": 90,
    "start_time": "2022-05-13T12:47:36.421Z"
   },
   {
    "duration": 18,
    "start_time": "2022-05-13T12:47:36.513Z"
   },
   {
    "duration": 15,
    "start_time": "2022-05-13T12:47:36.534Z"
   },
   {
    "duration": 48,
    "start_time": "2022-05-13T12:47:36.552Z"
   },
   {
    "duration": 11,
    "start_time": "2022-05-13T12:47:36.602Z"
   },
   {
    "duration": 16,
    "start_time": "2022-05-13T12:47:36.614Z"
   },
   {
    "duration": 41,
    "start_time": "2022-05-13T12:47:36.632Z"
   },
   {
    "duration": 32,
    "start_time": "2022-05-13T12:47:36.674Z"
   },
   {
    "duration": 16,
    "start_time": "2022-05-13T12:47:36.708Z"
   },
   {
    "duration": 15,
    "start_time": "2022-05-13T12:47:36.726Z"
   },
   {
    "duration": 3,
    "start_time": "2022-05-13T12:47:36.743Z"
   },
   {
    "duration": 58,
    "start_time": "2022-05-13T12:47:36.748Z"
   },
   {
    "duration": 7,
    "start_time": "2022-05-13T12:47:36.808Z"
   },
   {
    "duration": 16,
    "start_time": "2022-05-13T12:47:36.817Z"
   },
   {
    "duration": 9,
    "start_time": "2022-05-13T12:47:36.834Z"
   },
   {
    "duration": 7,
    "start_time": "2022-05-13T12:47:36.845Z"
   },
   {
    "duration": 10,
    "start_time": "2022-05-13T12:47:36.854Z"
   },
   {
    "duration": 39,
    "start_time": "2022-05-13T12:47:36.866Z"
   },
   {
    "duration": 22,
    "start_time": "2022-05-13T12:47:36.907Z"
   },
   {
    "duration": 7,
    "start_time": "2022-05-13T12:47:36.930Z"
   },
   {
    "duration": 28,
    "start_time": "2022-05-13T12:47:36.939Z"
   },
   {
    "duration": 4,
    "start_time": "2022-05-13T12:47:36.969Z"
   },
   {
    "duration": 947,
    "start_time": "2022-05-13T12:47:36.975Z"
   },
   {
    "duration": 771,
    "start_time": "2022-05-13T12:47:37.924Z"
   },
   {
    "duration": 54,
    "start_time": "2022-05-13T12:47:38.696Z"
   },
   {
    "duration": 74,
    "start_time": "2022-05-13T12:47:38.753Z"
   },
   {
    "duration": 5,
    "start_time": "2022-05-13T12:47:38.829Z"
   },
   {
    "duration": 636,
    "start_time": "2022-05-13T12:47:38.836Z"
   },
   {
    "duration": 717,
    "start_time": "2022-05-13T12:47:39.473Z"
   },
   {
    "duration": 273,
    "start_time": "2022-05-13T12:47:40.193Z"
   },
   {
    "duration": 7,
    "start_time": "2022-05-13T12:47:40.468Z"
   },
   {
    "duration": 11,
    "start_time": "2022-05-13T12:47:40.477Z"
   },
   {
    "duration": 11,
    "start_time": "2022-05-13T12:47:40.500Z"
   },
   {
    "duration": 5,
    "start_time": "2022-05-13T12:48:58.023Z"
   },
   {
    "duration": 4,
    "start_time": "2022-05-13T12:49:00.125Z"
   },
   {
    "duration": 436,
    "start_time": "2022-05-13T12:49:00.131Z"
   },
   {
    "duration": 11,
    "start_time": "2022-05-13T12:49:00.568Z"
   },
   {
    "duration": 31,
    "start_time": "2022-05-13T12:49:00.581Z"
   },
   {
    "duration": 12,
    "start_time": "2022-05-13T12:49:00.613Z"
   },
   {
    "duration": 24,
    "start_time": "2022-05-13T12:49:00.626Z"
   },
   {
    "duration": 12,
    "start_time": "2022-05-13T12:49:00.652Z"
   },
   {
    "duration": 40,
    "start_time": "2022-05-13T12:49:00.665Z"
   },
   {
    "duration": 9,
    "start_time": "2022-05-13T12:49:00.707Z"
   },
   {
    "duration": 18,
    "start_time": "2022-05-13T12:49:00.719Z"
   },
   {
    "duration": 22,
    "start_time": "2022-05-13T12:49:00.739Z"
   },
   {
    "duration": 33,
    "start_time": "2022-05-13T12:49:00.763Z"
   },
   {
    "duration": 83,
    "start_time": "2022-05-13T12:49:00.798Z"
   },
   {
    "duration": 5,
    "start_time": "2022-05-13T12:49:00.883Z"
   },
   {
    "duration": 30,
    "start_time": "2022-05-13T12:49:00.890Z"
   },
   {
    "duration": 25,
    "start_time": "2022-05-13T12:49:00.922Z"
   },
   {
    "duration": 15,
    "start_time": "2022-05-13T12:49:00.949Z"
   },
   {
    "duration": 49,
    "start_time": "2022-05-13T12:49:00.965Z"
   },
   {
    "duration": 18,
    "start_time": "2022-05-13T12:49:01.016Z"
   },
   {
    "duration": 17,
    "start_time": "2022-05-13T12:49:01.036Z"
   },
   {
    "duration": 65,
    "start_time": "2022-05-13T12:49:01.055Z"
   },
   {
    "duration": 11,
    "start_time": "2022-05-13T12:49:01.122Z"
   },
   {
    "duration": 23,
    "start_time": "2022-05-13T12:49:01.135Z"
   },
   {
    "duration": 47,
    "start_time": "2022-05-13T12:49:01.160Z"
   },
   {
    "duration": 10,
    "start_time": "2022-05-13T12:49:01.209Z"
   },
   {
    "duration": 16,
    "start_time": "2022-05-13T12:49:01.220Z"
   },
   {
    "duration": 37,
    "start_time": "2022-05-13T12:49:01.237Z"
   },
   {
    "duration": 24,
    "start_time": "2022-05-13T12:49:01.278Z"
   },
   {
    "duration": 22,
    "start_time": "2022-05-13T12:49:01.303Z"
   },
   {
    "duration": 37,
    "start_time": "2022-05-13T12:49:01.326Z"
   },
   {
    "duration": 9,
    "start_time": "2022-05-13T12:49:01.365Z"
   },
   {
    "duration": 28,
    "start_time": "2022-05-13T12:49:01.376Z"
   },
   {
    "duration": 6,
    "start_time": "2022-05-13T12:49:01.406Z"
   },
   {
    "duration": 18,
    "start_time": "2022-05-13T12:49:01.414Z"
   },
   {
    "duration": 11,
    "start_time": "2022-05-13T12:49:01.434Z"
   },
   {
    "duration": 12,
    "start_time": "2022-05-13T12:49:01.446Z"
   },
   {
    "duration": 12,
    "start_time": "2022-05-13T12:49:01.459Z"
   },
   {
    "duration": 6,
    "start_time": "2022-05-13T12:49:01.472Z"
   },
   {
    "duration": 24,
    "start_time": "2022-05-13T12:49:01.479Z"
   },
   {
    "duration": 7,
    "start_time": "2022-05-13T12:49:01.505Z"
   },
   {
    "duration": 33,
    "start_time": "2022-05-13T12:49:01.514Z"
   },
   {
    "duration": 11,
    "start_time": "2022-05-13T12:49:01.549Z"
   },
   {
    "duration": 797,
    "start_time": "2022-05-13T12:49:01.562Z"
   },
   {
    "duration": 666,
    "start_time": "2022-05-13T12:49:02.361Z"
   },
   {
    "duration": 37,
    "start_time": "2022-05-13T12:49:03.029Z"
   },
   {
    "duration": 58,
    "start_time": "2022-05-13T12:49:03.068Z"
   },
   {
    "duration": 5,
    "start_time": "2022-05-13T12:49:03.127Z"
   },
   {
    "duration": 542,
    "start_time": "2022-05-13T12:49:03.134Z"
   },
   {
    "duration": 514,
    "start_time": "2022-05-13T12:49:03.677Z"
   },
   {
    "duration": 278,
    "start_time": "2022-05-13T12:49:04.193Z"
   },
   {
    "duration": 9,
    "start_time": "2022-05-13T12:49:04.473Z"
   },
   {
    "duration": 17,
    "start_time": "2022-05-13T12:49:04.484Z"
   },
   {
    "duration": 10,
    "start_time": "2022-05-13T12:49:04.502Z"
   },
   {
    "duration": 4,
    "start_time": "2022-05-13T12:49:43.761Z"
   },
   {
    "duration": 467,
    "start_time": "2022-05-13T12:49:43.767Z"
   },
   {
    "duration": 11,
    "start_time": "2022-05-13T12:49:44.236Z"
   },
   {
    "duration": 29,
    "start_time": "2022-05-13T12:49:44.249Z"
   },
   {
    "duration": 11,
    "start_time": "2022-05-13T12:49:44.280Z"
   },
   {
    "duration": 24,
    "start_time": "2022-05-13T12:49:44.293Z"
   },
   {
    "duration": 10,
    "start_time": "2022-05-13T12:49:44.319Z"
   },
   {
    "duration": 18,
    "start_time": "2022-05-13T12:49:44.331Z"
   },
   {
    "duration": 9,
    "start_time": "2022-05-13T12:49:44.351Z"
   },
   {
    "duration": 14,
    "start_time": "2022-05-13T12:49:44.363Z"
   },
   {
    "duration": 13,
    "start_time": "2022-05-13T12:49:44.399Z"
   },
   {
    "duration": 11,
    "start_time": "2022-05-13T12:49:44.414Z"
   },
   {
    "duration": 92,
    "start_time": "2022-05-13T12:49:44.427Z"
   },
   {
    "duration": 4,
    "start_time": "2022-05-13T12:49:44.521Z"
   },
   {
    "duration": 30,
    "start_time": "2022-05-13T12:49:44.527Z"
   },
   {
    "duration": 42,
    "start_time": "2022-05-13T12:49:44.559Z"
   },
   {
    "duration": 16,
    "start_time": "2022-05-13T12:49:44.603Z"
   },
   {
    "duration": 26,
    "start_time": "2022-05-13T12:49:44.621Z"
   },
   {
    "duration": 16,
    "start_time": "2022-05-13T12:49:44.648Z"
   },
   {
    "duration": 36,
    "start_time": "2022-05-13T12:49:44.665Z"
   },
   {
    "duration": 51,
    "start_time": "2022-05-13T12:49:44.703Z"
   },
   {
    "duration": 14,
    "start_time": "2022-05-13T12:49:44.756Z"
   },
   {
    "duration": 8,
    "start_time": "2022-05-13T12:49:44.772Z"
   },
   {
    "duration": 41,
    "start_time": "2022-05-13T12:49:44.801Z"
   },
   {
    "duration": 11,
    "start_time": "2022-05-13T12:49:44.844Z"
   },
   {
    "duration": 11,
    "start_time": "2022-05-13T12:49:44.857Z"
   },
   {
    "duration": 61,
    "start_time": "2022-05-13T12:49:44.870Z"
   },
   {
    "duration": 12,
    "start_time": "2022-05-13T12:49:44.935Z"
   },
   {
    "duration": 25,
    "start_time": "2022-05-13T12:49:44.948Z"
   },
   {
    "duration": 26,
    "start_time": "2022-05-13T12:49:44.975Z"
   },
   {
    "duration": 6,
    "start_time": "2022-05-13T12:49:45.003Z"
   },
   {
    "duration": 43,
    "start_time": "2022-05-13T12:49:45.011Z"
   },
   {
    "duration": 7,
    "start_time": "2022-05-13T12:49:45.056Z"
   },
   {
    "duration": 13,
    "start_time": "2022-05-13T12:49:45.065Z"
   },
   {
    "duration": 20,
    "start_time": "2022-05-13T12:49:45.080Z"
   },
   {
    "duration": 8,
    "start_time": "2022-05-13T12:49:45.102Z"
   },
   {
    "duration": 9,
    "start_time": "2022-05-13T12:49:45.111Z"
   },
   {
    "duration": 5,
    "start_time": "2022-05-13T12:49:45.122Z"
   },
   {
    "duration": 15,
    "start_time": "2022-05-13T12:49:45.128Z"
   },
   {
    "duration": 21,
    "start_time": "2022-05-13T12:49:45.144Z"
   },
   {
    "duration": 24,
    "start_time": "2022-05-13T12:49:45.166Z"
   },
   {
    "duration": 18,
    "start_time": "2022-05-13T12:49:45.191Z"
   },
   {
    "duration": 6295,
    "start_time": "2022-05-13T12:49:45.211Z"
   },
   {
    "duration": 685,
    "start_time": "2022-05-13T12:49:51.507Z"
   },
   {
    "duration": 43,
    "start_time": "2022-05-13T12:49:52.200Z"
   },
   {
    "duration": 70,
    "start_time": "2022-05-13T12:49:52.245Z"
   },
   {
    "duration": 6,
    "start_time": "2022-05-13T12:49:52.317Z"
   },
   {
    "duration": 572,
    "start_time": "2022-05-13T12:49:52.325Z"
   },
   {
    "duration": 717,
    "start_time": "2022-05-13T12:49:52.901Z"
   },
   {
    "duration": 278,
    "start_time": "2022-05-13T12:49:53.620Z"
   },
   {
    "duration": 8,
    "start_time": "2022-05-13T12:49:53.900Z"
   },
   {
    "duration": 11,
    "start_time": "2022-05-13T12:49:53.910Z"
   },
   {
    "duration": 15,
    "start_time": "2022-05-13T12:49:53.922Z"
   },
   {
    "duration": 216,
    "start_time": "2022-05-13T12:52:32.786Z"
   },
   {
    "duration": 385,
    "start_time": "2022-05-13T12:52:59.938Z"
   },
   {
    "duration": 14,
    "start_time": "2022-05-13T12:53:12.434Z"
   },
   {
    "duration": 7,
    "start_time": "2022-05-13T12:53:16.207Z"
   },
   {
    "duration": 7,
    "start_time": "2022-05-13T12:53:25.967Z"
   },
   {
    "duration": 10,
    "start_time": "2022-05-13T12:53:33.710Z"
   },
   {
    "duration": 17,
    "start_time": "2022-05-13T12:54:12.429Z"
   },
   {
    "duration": 23,
    "start_time": "2022-05-13T12:54:23.316Z"
   },
   {
    "duration": 394,
    "start_time": "2022-05-13T12:54:27.645Z"
   },
   {
    "duration": 19,
    "start_time": "2022-05-13T12:54:42.860Z"
   },
   {
    "duration": 18,
    "start_time": "2022-05-13T12:54:54.092Z"
   },
   {
    "duration": 371,
    "start_time": "2022-05-13T12:55:14.396Z"
   },
   {
    "duration": 483,
    "start_time": "2022-05-13T12:55:22.020Z"
   },
   {
    "duration": 11,
    "start_time": "2022-05-13T12:55:46.106Z"
   },
   {
    "duration": 5,
    "start_time": "2022-05-13T12:57:08.810Z"
   },
   {
    "duration": 4,
    "start_time": "2022-05-13T12:57:11.206Z"
   },
   {
    "duration": 402,
    "start_time": "2022-05-13T12:57:11.213Z"
   },
   {
    "duration": 12,
    "start_time": "2022-05-13T12:57:11.617Z"
   },
   {
    "duration": 32,
    "start_time": "2022-05-13T12:57:11.631Z"
   },
   {
    "duration": 164,
    "start_time": "2022-05-13T12:57:11.665Z"
   },
   {
    "duration": 29,
    "start_time": "2022-05-13T12:57:11.831Z"
   },
   {
    "duration": 15,
    "start_time": "2022-05-13T12:57:11.862Z"
   },
   {
    "duration": 39,
    "start_time": "2022-05-13T12:57:11.878Z"
   },
   {
    "duration": 8,
    "start_time": "2022-05-13T12:57:11.919Z"
   },
   {
    "duration": 15,
    "start_time": "2022-05-13T12:57:11.929Z"
   },
   {
    "duration": 19,
    "start_time": "2022-05-13T12:57:11.946Z"
   },
   {
    "duration": 38,
    "start_time": "2022-05-13T12:57:11.967Z"
   },
   {
    "duration": 73,
    "start_time": "2022-05-13T12:57:12.007Z"
   },
   {
    "duration": 17,
    "start_time": "2022-05-13T12:57:12.083Z"
   },
   {
    "duration": 29,
    "start_time": "2022-05-13T12:57:12.102Z"
   },
   {
    "duration": 27,
    "start_time": "2022-05-13T12:57:12.133Z"
   },
   {
    "duration": 47,
    "start_time": "2022-05-13T12:57:12.161Z"
   },
   {
    "duration": 29,
    "start_time": "2022-05-13T12:57:12.209Z"
   },
   {
    "duration": 17,
    "start_time": "2022-05-13T12:57:12.240Z"
   },
   {
    "duration": 12,
    "start_time": "2022-05-13T12:57:12.258Z"
   },
   {
    "duration": 75,
    "start_time": "2022-05-13T12:57:12.271Z"
   },
   {
    "duration": 13,
    "start_time": "2022-05-13T12:57:12.348Z"
   },
   {
    "duration": 10,
    "start_time": "2022-05-13T12:57:12.362Z"
   },
   {
    "duration": 59,
    "start_time": "2022-05-13T12:57:12.373Z"
   },
   {
    "duration": 13,
    "start_time": "2022-05-13T12:57:12.433Z"
   },
   {
    "duration": 10,
    "start_time": "2022-05-13T12:57:12.447Z"
   },
   {
    "duration": 59,
    "start_time": "2022-05-13T12:57:12.459Z"
   },
   {
    "duration": 12,
    "start_time": "2022-05-13T12:57:12.520Z"
   },
   {
    "duration": 20,
    "start_time": "2022-05-13T12:57:12.534Z"
   },
   {
    "duration": 17,
    "start_time": "2022-05-13T12:57:12.555Z"
   },
   {
    "duration": 26,
    "start_time": "2022-05-13T12:57:12.574Z"
   },
   {
    "duration": 30,
    "start_time": "2022-05-13T12:57:12.602Z"
   },
   {
    "duration": 8,
    "start_time": "2022-05-13T12:57:12.634Z"
   },
   {
    "duration": 21,
    "start_time": "2022-05-13T12:57:12.644Z"
   },
   {
    "duration": 9,
    "start_time": "2022-05-13T12:57:12.667Z"
   },
   {
    "duration": 27,
    "start_time": "2022-05-13T12:57:12.678Z"
   },
   {
    "duration": 10,
    "start_time": "2022-05-13T12:57:12.707Z"
   },
   {
    "duration": 6,
    "start_time": "2022-05-13T12:57:12.719Z"
   },
   {
    "duration": 21,
    "start_time": "2022-05-13T12:57:12.727Z"
   },
   {
    "duration": 12,
    "start_time": "2022-05-13T12:57:12.750Z"
   },
   {
    "duration": 56,
    "start_time": "2022-05-13T12:57:12.769Z"
   },
   {
    "duration": 12,
    "start_time": "2022-05-13T12:57:12.827Z"
   },
   {
    "duration": 974,
    "start_time": "2022-05-13T12:57:12.842Z"
   },
   {
    "duration": 926,
    "start_time": "2022-05-13T12:57:13.818Z"
   },
   {
    "duration": 56,
    "start_time": "2022-05-13T12:57:14.746Z"
   },
   {
    "duration": 61,
    "start_time": "2022-05-13T12:57:14.804Z"
   },
   {
    "duration": 6,
    "start_time": "2022-05-13T12:57:14.867Z"
   },
   {
    "duration": 655,
    "start_time": "2022-05-13T12:57:14.875Z"
   },
   {
    "duration": 659,
    "start_time": "2022-05-13T12:57:15.532Z"
   },
   {
    "duration": 14,
    "start_time": "2022-05-13T12:57:16.193Z"
   },
   {
    "duration": 294,
    "start_time": "2022-05-13T12:57:16.209Z"
   },
   {
    "duration": 7,
    "start_time": "2022-05-13T12:57:16.504Z"
   },
   {
    "duration": 10,
    "start_time": "2022-05-13T12:57:16.513Z"
   },
   {
    "duration": 12,
    "start_time": "2022-05-13T12:57:16.524Z"
   },
   {
    "duration": 840,
    "start_time": "2022-05-13T12:57:27.703Z"
   },
   {
    "duration": 838,
    "start_time": "2022-05-13T12:57:33.199Z"
   },
   {
    "duration": 1198,
    "start_time": "2022-05-13T12:59:08.939Z"
   }
  ],
  "kernelspec": {
   "display_name": "Python 3 (ipykernel)",
   "language": "python",
   "name": "python3"
  },
  "language_info": {
   "codemirror_mode": {
    "name": "ipython",
    "version": 3
   },
   "file_extension": ".py",
   "mimetype": "text/x-python",
   "name": "python",
   "nbconvert_exporter": "python",
   "pygments_lexer": "ipython3",
   "version": "3.9.7"
  },
  "latex_envs": {
   "LaTeX_envs_menu_present": true,
   "autoclose": false,
   "autocomplete": true,
   "bibliofile": "biblio.bib",
   "cite_by": "apalike",
   "current_citInitial": 1,
   "eqLabelWithNumbers": true,
   "eqNumInitial": 1,
   "hotkeys": {
    "equation": "Ctrl-E",
    "itemize": "Ctrl-I"
   },
   "labels_anchors": false,
   "latex_user_defs": false,
   "report_style_numbering": false,
   "user_envs_cfg": false
  },
  "toc": {
   "base_numbering": 1,
   "nav_menu": {},
   "number_sections": true,
   "sideBar": true,
   "skip_h1_title": true,
   "title_cell": "Table of Contents",
   "title_sidebar": "Contents",
   "toc_cell": false,
   "toc_position": {
    "height": "calc(100% - 180px)",
    "left": "10px",
    "top": "150px",
    "width": "230.594px"
   },
   "toc_section_display": true,
   "toc_window_display": true
  },
  "varInspector": {
   "cols": {
    "lenName": 16,
    "lenType": 16,
    "lenVar": 40
   },
   "kernels_config": {
    "python": {
     "delete_cmd_postfix": "",
     "delete_cmd_prefix": "del ",
     "library": "var_list.py",
     "varRefreshCmd": "print(var_dic_list())"
    },
    "r": {
     "delete_cmd_postfix": ") ",
     "delete_cmd_prefix": "rm(",
     "library": "var_list.r",
     "varRefreshCmd": "cat(var_dic_list()) "
    }
   },
   "types_to_exclude": [
    "module",
    "function",
    "builtin_function_or_method",
    "instance",
    "_Feature"
   ],
   "window_display": false
  }
 },
 "nbformat": 4,
 "nbformat_minor": 2
}
